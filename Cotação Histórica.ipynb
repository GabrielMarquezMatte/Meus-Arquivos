{
 "cells": [
  {
   "cell_type": "code",
   "execution_count": 1,
   "metadata": {},
   "outputs": [],
   "source": [
    "ler_cota_hist <- function(data){\n",
    "  stopifnot(is(data, \"Date\"), length(data) == 1)\n",
    "  url <- format(data,\n",
    "                \"http://bvmf.bmfbovespa.com.br/InstDados/SerHist/COTAHIST_D%d%m%Y.ZIP\")\n",
    "  filename <- format(data, \"Gabriel André/Estudo R/COTAHIST_D%d%m%Y.ZIP\")\n",
    "  download.file(url = url, destfile = filename, mode = 'wb')\n",
    "  file <- unzip(filename, exdir = \"Gabriel André/Estudo R\")\n",
    "  file.remove(filename)\n",
    "  layout <- read.csv2(\"Gabriel André/Estudo R/layout_cotahist.csv\",\n",
    "                      stringsAsFactors = F)\n",
    "  dados <- read.fwf(file = file, widths = layout$tamanho, header = F,\n",
    "                    col.names = layout$campo, skip = 1,\n",
    "                    stringsAsFactors = F)\n",
    "  file.remove(file)\n",
    "  dados <- dados[-nrow(dados),]\n",
    "  dados$DATA_PREGAO <- as.Date(dados$DATA_PREGAO, \"%Y%m%d\")\n",
    "  dados$DATVEN <- as.Date(as.character(dados$DATVEN), \"%Y%m%d\")\n",
    "  cols <- c(\"PREABE\", \"PREMAX\", \"PREMIN\", \"PREMED\", \"PREULT\", \n",
    "            \"PREOFC\", \"PREOFV\", \"PREEXE\")\n",
    "  for(nome_coluna in cols){\n",
    "    dados[,nome_coluna] <- dados[,nome_coluna]/100\n",
    "  }\n",
    "  return(View(dados))\n",
    "}"
   ]
  },
  {
   "cell_type": "code",
   "execution_count": null,
   "metadata": {},
   "outputs": [],
   "source": []
  }
 ],
 "metadata": {
  "kernelspec": {
   "display_name": "R",
   "language": "R",
   "name": "ir"
  },
  "language_info": {
   "codemirror_mode": "r",
   "file_extension": ".r",
   "mimetype": "text/x-r-source",
   "name": "R",
   "pygments_lexer": "r",
   "version": "3.6.1"
  }
 },
 "nbformat": 4,
 "nbformat_minor": 4
}
