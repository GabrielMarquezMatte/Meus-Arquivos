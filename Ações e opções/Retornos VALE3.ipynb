{
 "cells": [
  {
   "cell_type": "code",
   "execution_count": 2,
   "metadata": {},
   "outputs": [
    {
     "name": "stderr",
     "output_type": "stream",
     "text": [
      "Warning message:\n",
      "\"VALE3.SA contains missing values. Some functions will not work if objects contain missing values in the middle of the series. Consider using na.omit(), na.approx(), na.fill(), etc to remove or replace them.\"Warning message:\n",
      "\"Removed 30 rows containing non-finite values (stat_bin).\"Warning message:\n",
      "\"Removed 30 rows containing non-finite values (stat_density).\"Warning message:\n",
      "\"Removed 20 rows containing missing values (geom_bar).\""
     ]
    },
    {
     "data": {
      "image/png": "[encoded data removed]",
      "text/plain": [
       "plot without title"
      ]
     },
     "metadata": {},
     "output_type": "display_data"
    }
   ],
   "source": [
    "library(quantmod)\n",
    "library(ggplot2)\n",
    "petr <- getSymbols(\"VALE3.SA\", src = \"yahoo\", from = \"1998-02-01\", to = \"2020-06-12\",\n",
    "                   auto.assign = T)\n",
    "petr <- na.omit(VALE3.SA)\n",
    "var <- (diff(petr$VALE3.SA.Close,1)/petr$VALE3.SA.Close[1:length(petr$VALE3.SA.Close)-1])*100\n",
    "var <- data.frame(VAR = var)\n",
    "var <- var[-which(var == 0),]\n",
    "var <- data.frame(var)\n",
    "var <- na.omit(var)\n",
    "ggplot(var,aes(var, after_stat(density)))+\n",
    "  geom_histogram(binwidth = 0.01, fill = \"blue\",\n",
    "                 colour = \"black\", breaks = c(-20:20))+\n",
    "  labs(x = \"Variação Diária %\", y = \"Densidade\", title = \"Variação diária VALE3\",\n",
    "        caption = \"Fonte:Yahoo Finance\",\n",
    "       subtitle = paste(\"Média =\",round(mean(var$var),3),\"%\"))+\n",
    "  geom_vline(xintercept = mean(var$var), colour = \"red\")+\n",
    "  geom_density()+\n",
    "  xlim(c(-10,10))"
   ]
  },
  {
   "cell_type": "code",
   "execution_count": 3,
   "metadata": {},
   "outputs": [
    {
     "data": {
      "text/html": [
       "<strong>5%:</strong> -4.095"
      ],
      "text/latex": [
       "\\textbf{5\\textbackslash{}\\%:} -4.095"
      ],
      "text/markdown": [
       "**5%:** -4.095"
      ],
      "text/plain": [
       "    5% \n",
       "-4.095 "
      ]
     },
     "metadata": {},
     "output_type": "display_data"
    }
   ],
   "source": [
    "round(quantile(var$var, probs = 0.05), 3)"
   ]
  },
  {
   "cell_type": "code",
   "execution_count": null,
   "metadata": {},
   "outputs": [],
   "source": []
  }
 ],
 "metadata": {
  "kernelspec": {
   "display_name": "R",
   "language": "R",
   "name": "ir"
  },
  "language_info": {
   "codemirror_mode": "r",
   "file_extension": ".r",
   "mimetype": "text/x-r-source",
   "name": "R",
   "pygments_lexer": "r",
   "version": "3.6.1"
  }
 },
 "nbformat": 4,
 "nbformat_minor": 4
}
