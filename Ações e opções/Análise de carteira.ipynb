{
 "cells": [
  {
   "cell_type": "code",
   "execution_count": 1,
   "metadata": {},
   "outputs": [],
   "source": [
    "portfolio_sd_t <- function(sd, cov, weight){\n",
    "  stopifnot(length(sd) > 1, is.matrix(cov), length(sd) == length(weight))\n",
    "  for(i in 1:(length(sd)-1)){\n",
    "    for(j in (i+1):length(sd)){\n",
    "      n <- sum(weight[i:length(sd)]^2*sd[i:length(sd)]^2)\n",
    "      m <- sum(2*weight[i]*weight[j]*cov[i,j])\n",
    "      sd <- sqrt(sum(weight[i:length(sd)]^2*sd[i:length(sd)]^2+\n",
    "                       2*weight[i]*weight[j]*cov[i,j]))\n",
    "      return(sd)\n",
    "    }\n",
    "  }\n",
    "}\n",
    "portfolio_return <- function(returns, weight){\n",
    "  if(!is.vector(returns) > 1){\n",
    "    mean <- apply(returns,2, mean)\n",
    "    }else{\n",
    "    if(is.vector(returns)){\n",
    "      mean <- returns\n",
    "    }\n",
    "  }\n",
    "  total_return <- sum(weight*mean)\n",
    "  return(total_return)\n",
    "}"
   ]
  },
  {
   "cell_type": "code",
   "execution_count": 2,
   "metadata": {},
   "outputs": [],
   "source": [
    "pacotes <- c(\"tidyquant\", \"tidyr\", \"dplyr\",\"stats\")\n",
    "options(warn = -1)\n",
    "for(i in pacotes){\n",
    "    suppressPackageStartupMessages(library(i, character.only = T))\n",
    "}"
   ]
  },
  {
   "cell_type": "code",
   "execution_count": 3,
   "metadata": {},
   "outputs": [
    {
     "name": "stderr",
     "output_type": "stream",
     "text": [
      "`summarise()` regrouping output by 'year' (override with `.groups` argument)\n",
      "\n"
     ]
    }
   ],
   "source": [
    "acoes <- c(\"TRPL4.SA\",\"ITSA4.SA\",\"ITUB4.SA\",\"EGIE3.SA\",\"CPLE3.SA\",\n",
    "           \"LREN3.SA\",\"HYPE3.SA\",\"B3SA3.SA\",\"VVAR3.SA\",\"ABCB4.SA\",\n",
    "          \"SUZB3.SA\",\"BEES3.SA\",\"ABEV3.SA\",\"FLRY3.SA\")\n",
    "retornos_d <- tq_get(acoes, from = Sys.Date()-365) %>%\n",
    "  group_by(symbol) %>%\n",
    "  tq_transmute(select = close, mutate_fun= periodReturn, period = \"daily\")\n",
    "retornos_a <- tq_get(acoes, from = Sys.Date()-365*5) %>%\n",
    "  group_by(symbol) %>%\n",
    "  tq_transmute(select = close, mutate_fun= periodReturn, period = \"yearly\") %>%\n",
    "  mutate(year = year(date)) %>%\n",
    "  group_by(year,symbol) %>%\n",
    "  summarise(yearly.returns) %>%\n",
    "  spread(key = \"symbol\", value = \"yearly.returns\")"
   ]
  },
  {
   "cell_type": "code",
   "execution_count": 4,
   "metadata": {},
   "outputs": [
    {
     "name": "stderr",
     "output_type": "stream",
     "text": [
      "`summarise()` ungrouping output (override with `.groups` argument)\n",
      "\n"
     ]
    }
   ],
   "source": [
    "sd_d <- retornos_d %>%\n",
    "  group_by(symbol) %>%\n",
    "  summarise(sd = sd(daily.returns)) %>%\n",
    "  spread(key = \"symbol\", value = sd)\n",
    "cov <- retornos_d %>%\n",
    "  spread(key = \"symbol\", value = daily.returns)\n",
    "cov$date <- NULL\n",
    "cov <- cov(cov)"
   ]
  },
  {
   "cell_type": "code",
   "execution_count": 6,
   "metadata": {},
   "outputs": [],
   "source": [
    "pesos <- c(0.06,0.02,0.06,0.04,0.12,0.13,0.02,0.07,0.13,0.03,0.12,0.04,0.1,0.06)"
   ]
  },
  {
   "cell_type": "code",
   "execution_count": 7,
   "metadata": {},
   "outputs": [
    {
     "data": {
      "text/html": [
       "<span style=white-space:pre-wrap>'Desvio-Anual =30.702%  Retorno Esperado =23.704%'</span>"
      ],
      "text/latex": [
       "'Desvio-Anual =30.702\\%  Retorno Esperado =23.704\\%'"
      ],
      "text/markdown": [
       "<span style=white-space:pre-wrap>'Desvio-Anual =30.702%  Retorno Esperado =23.704%'</span>"
      ],
      "text/plain": [
       "[1] \"Desvio-Anual =30.702%  Retorno Esperado =23.704%\""
      ]
     },
     "metadata": {},
     "output_type": "display_data"
    },
    {
     "data": {
      "text/html": [
       "<strong>Sharpe da Carteira:</strong> 0.699"
      ],
      "text/latex": [
       "\\textbf{Sharpe da Carteira:} 0.699"
      ],
      "text/markdown": [
       "**Sharpe da Carteira:** 0.699"
      ],
      "text/plain": [
       "Sharpe da Carteira \n",
       "             0.699 "
      ]
     },
     "metadata": {},
     "output_type": "display_data"
    }
   ],
   "source": [
    "sd_cart <- portfolio_sd_t(sd = sd_d, cov = cov, weight = pesos)*sqrt(252)\n",
    "retorno_esp <- portfolio_return(returns = retornos_a[2:ncol(retornos_a)], weight = pesos)\n",
    "paste0(\"Desvio-Anual =\", round(sd_cart*100,3), \"%  Retorno Esperado =\", round(retorno_esp*100,3),\"%\")\n",
    "sharpe <- (retorno_esp-0.0225)/sd_cart\n",
    "names(sharpe) <- \"Sharpe da Carteira\"\n",
    "round(sharpe,3)"
   ]
  },
  {
   "cell_type": "code",
   "execution_count": 8,
   "metadata": {},
   "outputs": [
    {
     "data": {
      "text/html": [
       "0.307017080869431"
      ],
      "text/latex": [
       "0.307017080869431"
      ],
      "text/markdown": [
       "0.307017080869431"
      ],
      "text/plain": [
       "[1] 0.3070171"
      ]
     },
     "metadata": {},
     "output_type": "display_data"
    },
    {
     "data": {
      "text/html": [
       "0.237038467111828"
      ],
      "text/latex": [
       "0.237038467111828"
      ],
      "text/markdown": [
       "0.237038467111828"
      ],
      "text/plain": [
       "[1] 0.2370385"
      ]
     },
     "metadata": {},
     "output_type": "display_data"
    }
   ],
   "source": [
    "sd_cart\n",
    "retorno_esp"
   ]
  },
  {
   "cell_type": "code",
   "execution_count": 9,
   "metadata": {},
   "outputs": [],
   "source": [
    "#Minha carteira tem beta de 0.8239262828"
   ]
  },
  {
   "cell_type": "code",
   "execution_count": 5,
   "metadata": {},
   "outputs": [
    {
     "data": {
      "text/html": [
       "<style>\n",
       ".list-inline {list-style: none; margin:0; padding: 0}\n",
       ".list-inline>li {display: inline-block}\n",
       ".list-inline>li:not(:last-child)::after {content: \"\\00b7\"; padding: 0 .5ex}\n",
       "</style>\n",
       "<ol class=list-inline><li>'ABEV3.SA'</li><li>'B3SA3.SA'</li><li>'ENAT3.SA'</li><li>'ITSA4.SA'</li><li>'SEER3.SA'</li><li>'TRPL4.SA'</li><li>'VVAR3.SA'</li></ol>\n"
      ],
      "text/latex": [
       "\\begin{enumerate*}\n",
       "\\item 'ABEV3.SA'\n",
       "\\item 'B3SA3.SA'\n",
       "\\item 'ENAT3.SA'\n",
       "\\item 'ITSA4.SA'\n",
       "\\item 'SEER3.SA'\n",
       "\\item 'TRPL4.SA'\n",
       "\\item 'VVAR3.SA'\n",
       "\\end{enumerate*}\n"
      ],
      "text/markdown": [
       "1. 'ABEV3.SA'\n",
       "2. 'B3SA3.SA'\n",
       "3. 'ENAT3.SA'\n",
       "4. 'ITSA4.SA'\n",
       "5. 'SEER3.SA'\n",
       "6. 'TRPL4.SA'\n",
       "7. 'VVAR3.SA'\n",
       "\n",
       "\n"
      ],
      "text/plain": [
       "[1] \"ABEV3.SA\" \"B3SA3.SA\" \"ENAT3.SA\" \"ITSA4.SA\" \"SEER3.SA\" \"TRPL4.SA\" \"VVAR3.SA\""
      ]
     },
     "metadata": {},
     "output_type": "display_data"
    }
   ],
   "source": [
    "sort(acoes)"
   ]
  },
  {
   "cell_type": "code",
   "execution_count": null,
   "metadata": {},
   "outputs": [],
   "source": []
  }
 ],
 "metadata": {
  "kernelspec": {
   "display_name": "R",
   "language": "R",
   "name": "ir"
  },
  "language_info": {
   "codemirror_mode": "r",
   "file_extension": ".r",
   "mimetype": "text/x-r-source",
   "name": "R",
   "pygments_lexer": "r",
   "version": "4.0.2"
  }
 },
 "nbformat": 4,
 "nbformat_minor": 4
}
