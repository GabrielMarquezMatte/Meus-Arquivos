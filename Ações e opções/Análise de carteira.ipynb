{
 "cells": [
  {
   "cell_type": "code",
   "execution_count": 22,
   "metadata": {},
   "outputs": [],
   "source": [
    "portfolio_sd_t <- function(pesos, cov){\n",
    "  pesos <- as.vector(pesos)\n",
    "  cov <- as.matrix(cov)\n",
    "  sd_t <- sqrt(pesos %*% cov %*% pesos)\n",
    "  return(sd_t)\n",
    "}\n",
    "portfolio_return <- function(returns, weight){\n",
    "  stopifnot(is.vector(returns))\n",
    "  total_return <- sum(weight*returns)\n",
    "  return(total_return)\n",
    "}"
   ]
  },
  {
   "cell_type": "code",
   "execution_count": 2,
   "metadata": {},
   "outputs": [],
   "source": [
    "pacotes <- c(\"tidyquant\", \"tidyr\", \"dplyr\",\"stats\")\n",
    "options(warn = -1)\n",
    "for(i in pacotes){\n",
    "    suppressPackageStartupMessages(library(i, character.only = T))\n",
    "}"
   ]
  },
  {
   "cell_type": "code",
   "execution_count": 35,
   "metadata": {},
   "outputs": [],
   "source": [
    "acoes <- c(\"TRPL4.SA\",\"ENAT3.SA\",\"SEER3.SA\",\"ITSA4.SA\",\"VVAR3.SA\",\"B3SA3.SA\",\"ABEV3.SA\",\"AGRO3.SA\")\n",
    "retornos_d <- tq_get(acoes, from = \"2013-01-01\") %>%\n",
    "  group_by(symbol) %>%\n",
    "  tq_transmute(select = close, mutate_fun= periodReturn, period = \"daily\") %>%\n",
    "  spread(key = symbol, value = daily.returns) %>%\n",
    "  na.omit"
   ]
  },
  {
   "cell_type": "code",
   "execution_count": 36,
   "metadata": {},
   "outputs": [],
   "source": [
    "retornos_d <- retornos_d[,-1]\n",
    "cova <- cov(retornos_d)\n",
    "media <- colMeans(retornos_d,na.rm = T)*252"
   ]
  },
  {
   "cell_type": "code",
   "execution_count": 37,
   "metadata": {},
   "outputs": [],
   "source": [
    "pesos <- c(0.1031,0.0847, 0.2231, 0.0798, 0.1098, 0.06, 0.2627,0.0768)"
   ]
  },
  {
   "cell_type": "code",
   "execution_count": 38,
   "metadata": {},
   "outputs": [
    {
     "data": {
      "text/html": [
       "<span style=white-space:pre-wrap>'Desvio-Anual =23.46%  Retorno Esperado =19.175%'</span>"
      ],
      "text/latex": [
       "'Desvio-Anual =23.46\\%  Retorno Esperado =19.175\\%'"
      ],
      "text/markdown": [
       "<span style=white-space:pre-wrap>'Desvio-Anual =23.46%  Retorno Esperado =19.175%'</span>"
      ],
      "text/plain": [
       "[1] \"Desvio-Anual =23.46%  Retorno Esperado =19.175%\""
      ]
     },
     "metadata": {},
     "output_type": "display_data"
    },
    {
     "data": {
      "text/html": [
       "<strong>Sharpe da Carteira:</strong> 0.732"
      ],
      "text/latex": [
       "\\textbf{Sharpe da Carteira:} 0.732"
      ],
      "text/markdown": [
       "**Sharpe da Carteira:** 0.732"
      ],
      "text/plain": [
       "Sharpe da Carteira \n",
       "             0.732 "
      ]
     },
     "metadata": {},
     "output_type": "display_data"
    }
   ],
   "source": [
    "sd_cart <- portfolio_sd_t(pesos, cova)*sqrt(252)\n",
    "retorno_esp <- portfolio_return(returns = media, weight = pesos)\n",
    "paste0(\"Desvio-Anual =\", round(sd_cart*100,3), \"%  Retorno Esperado =\", round(retorno_esp*100,3),\"%\")\n",
    "sharpe <- as.numeric((retorno_esp-0.02)/sd_cart)\n",
    "names(sharpe) <- \"Sharpe da Carteira\"\n",
    "round(sharpe,3)"
   ]
  },
  {
   "cell_type": "code",
   "execution_count": null,
   "metadata": {},
   "outputs": [],
   "source": []
  }
 ],
 "metadata": {
  "kernelspec": {
   "display_name": "R",
   "language": "R",
   "name": "ir"
  },
  "language_info": {
   "codemirror_mode": "r",
   "file_extension": ".r",
   "mimetype": "text/x-r-source",
   "name": "R",
   "pygments_lexer": "r",
   "version": "4.0.2"
  }
 },
 "nbformat": 4,
 "nbformat_minor": 4
}
