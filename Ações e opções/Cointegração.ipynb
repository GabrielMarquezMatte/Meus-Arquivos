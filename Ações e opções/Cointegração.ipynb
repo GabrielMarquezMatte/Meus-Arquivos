{
 "cells": [
  {
   "cell_type": "code",
   "execution_count": 1,
   "metadata": {},
   "outputs": [],
   "source": [
    "setwd(\"C:/Users/User/OneDrive/Documentos\")\n",
    "options(warn = -1)"
   ]
  },
  {
   "cell_type": "code",
   "execution_count": 2,
   "metadata": {},
   "outputs": [],
   "source": [
    "pacotes <- c(\"tidyverse\",\"tidyquant\",\"tseries\",\"BatchGetSymbols\",\"forecast\")\n",
    "for(i in pacotes){\n",
    "  suppressPackageStartupMessages(library(i, character.only = T))\n",
    "}"
   ]
  },
  {
   "cell_type": "code",
   "execution_count": 3,
   "metadata": {},
   "outputs": [],
   "source": [
    "acao <- \"PETR4.SA\"\n",
    "n_acoes <- 80\n",
    "brasil <- T\n",
    "aleatorio <- T\n",
    "data_inicio <- Sys.Date()-2*365\n",
    "if(brasil){\n",
    "  acoes1 <- GetIbovStocks(F)$tickers\n",
    "  if(isTRUE(aleatorio)){\n",
    "    s <- sample(1:length(acoes1),length(acoes1))\n",
    "    acoes1 <- acoes1[s]\n",
    "  }\n",
    "  acoes <- acoes1[1:n_acoes]\n",
    "  acoes <- paste0(acoes,\".SA\")\n",
    "}else{\n",
    "  acoes1 <- GetSP500Stocks(F)$Tickers\n",
    "  if(aleatorio){\n",
    "    s <- sample(1:length(acoes1),length(acoes1))\n",
    "    acoes1 <- acoes1[s]\n",
    "  }\n",
    "  acoes <- acoes1[1:n_acoes]\n",
    "}\n",
    "acoes <- acoes[which(acoes != acao)]\n",
    "p_val <- numeric(length(acoes))"
   ]
  },
  {
   "cell_type": "code",
   "execution_count": 4,
   "metadata": {},
   "outputs": [],
   "source": [
    "suppressMessages(for(i in 1:length(acoes)){\n",
    "  precos <- tq_get(c(acao,acoes[i]), from = data_inicio) %>%\n",
    "    select(date, symbol, adjusted) %>%\n",
    "    group_by(symbol) %>%\n",
    "    summarise(date,adjusted = abs(adjusted)) %>%\n",
    "    spread(key = symbol, value = adjusted) %>%\n",
    "    na.omit\n",
    "  precos_acao <- as.matrix(precos[acao]) %>% as.numeric\n",
    "  p_val[i] <- NA\n",
    "  try({preco_a <- as.matrix(precos[acoes[i]]) %>% as.numeric\n",
    "  reg <- lm(preco_a ~ precos_acao)\n",
    "  stationary <- adf.test(reg$residuals)\n",
    "  p_val[i] <- stationary$p.value},silent = T)\n",
    "})"
   ]
  },
  {
   "cell_type": "code",
   "execution_count": 26,
   "metadata": {},
   "outputs": [],
   "source": [
    "names(p_val) <- acoes\n",
    "cointegrado <- names(p_val[which(p_val <= 0.05)])\n",
    "indexa <- 5"
   ]
  },
  {
   "cell_type": "code",
   "execution_count": 27,
   "metadata": {},
   "outputs": [
    {
     "name": "stdout",
     "output_type": "stream",
     "text": [
      "  PCAR3.SA   BBDC4.SA   MRFG3.SA   UGPA3.SA   ABEV3.SA   BBDC3.SA   PETR3.SA \n",
      "0.03240963 0.01821653 0.01884495 0.04754583 0.03444451 0.03559510 0.01000000 \n"
     ]
    }
   ],
   "source": [
    "print(p_val[which(p_val <= 0.05)])"
   ]
  },
  {
   "cell_type": "code",
   "execution_count": 28,
   "metadata": {},
   "outputs": [
    {
     "name": "stdout",
     "output_type": "stream",
     "text": [
      "[1] \"PCAR3.SA\" \"BBDC4.SA\" \"MRFG3.SA\" \"UGPA3.SA\" \"ABEV3.SA\" \"BBDC3.SA\" \"PETR3.SA\"\n"
     ]
    }
   ],
   "source": [
    "print(cointegrado)"
   ]
  },
  {
   "cell_type": "code",
   "execution_count": 29,
   "metadata": {},
   "outputs": [
    {
     "name": "stderr",
     "output_type": "stream",
     "text": [
      "`summarise()` has grouped output by 'symbol'. You can override using the `.groups` argument.\n",
      "\n"
     ]
    }
   ],
   "source": [
    "precos <- tq_get(c(acao,cointegrado[indexa]), from = data_inicio) %>%\n",
    "  select(date, symbol, adjusted) %>%\n",
    "  group_by(symbol) %>%\n",
    "  summarise(date,adjusted = abs(adjusted)) %>%\n",
    "  spread(key = symbol, value = adjusted) %>%\n",
    "  na.omit\n",
    "datas <- precos$date"
   ]
  },
  {
   "cell_type": "code",
   "execution_count": 30,
   "metadata": {},
   "outputs": [],
   "source": [
    "dife <- apply(precos[,-1],2,function(x)c(0,diff(x)/x[2:length(x)-1]))\n",
    "preco1 <- as.matrix(precos[cointegrado[indexa]]) %>% as.numeric\n",
    "preco2 <- as.matrix(precos[acao]) %>% as.numeric\n",
    "regr <- lm(preco1 ~ preco2)\n",
    "base1 <- quantile(regr$residuals,0.85)\n",
    "base2 <- quantile(regr$residuals,0.15)\n",
    "res <- numeric(nrow(precos))\n",
    "dados <- character(nrow(precos))\n",
    "data_i <- xts::first(datas)\n",
    "peso <- 1"
   ]
  },
  {
   "cell_type": "code",
   "execution_count": 31,
   "metadata": {},
   "outputs": [],
   "source": [
    "for(i in 1:length(res)){\n",
    "  if(regr$residuals[i] >= base1){\n",
    "    res[i] <- peso*dife[i,cointegrado[indexa]]+(1-peso)*dife[i,acao]\n",
    "    dados[i] <- paste(\"Compra de\",cointegrado[indexa],\"e venda de\",acao)\n",
    "  }else if(regr$residuals[i] <= base2){\n",
    "    res[i] <- peso*dife[i,acao]+(1-peso)*dife[i,cointegrado[indexa]]\n",
    "    dados[i] <- paste(\"Compra de\",acao,\"e venda de\",cointegrado[indexa])\n",
    "  }else{\n",
    "    res[i] <- 0.5*dife[i,cointegrado[indexa]]+0.5*dife[i,acao]\n",
    "    dados[i] <- \"Neutro\"\n",
    "  }\n",
    "}"
   ]
  },
  {
   "cell_type": "code",
   "execution_count": 32,
   "metadata": {},
   "outputs": [],
   "source": [
    "resultado <- cumprod(res+1)\n",
    "resultado_acoes <- apply(dife+1,2,cumprod)"
   ]
  },
  {
   "cell_type": "code",
   "execution_count": 33,
   "metadata": {},
   "outputs": [],
   "source": [
    "resultado_tot <- data.frame(date = datas, Sinal = dados,\n",
    "                            Operações = resultado,\n",
    "                            resultado_acoes)\n",
    "resultado_tot_g <- resultado_tot %>%\n",
    "  gather(key = \"key\", value = \"Resultado\", -c(date,Sinal))"
   ]
  },
  {
   "cell_type": "code",
   "execution_count": 34,
   "metadata": {},
   "outputs": [
    {
     "data": {
      "image/png": "[encoded data removed]",
      "text/plain": [
       "plot without title"
      ]
     },
     "metadata": {
      "image/png": {
       "height": 420,
       "width": 420
      }
     },
     "output_type": "display_data"
    }
   ],
   "source": [
    "ggplot(resultado_tot_g, aes(x = date, y = Resultado-1, col = key))+\n",
    "  geom_line()+\n",
    "  scale_y_continuous(labels = scales::percent)+\n",
    "  labs(x = \"\", y = \"\", title = \"Cointegração\",\n",
    "       caption = \"Dados:Yahoo Finance \\n Elaboração:Gabriel Matte\")+\n",
    "  scale_color_manual(\"\", values = c(\"red\",\"blue\",\"green\"))"
   ]
  },
  {
   "cell_type": "code",
   "execution_count": 35,
   "metadata": {},
   "outputs": [
    {
     "data": {
      "text/html": [
       "<table class=\"dataframe\">\n",
       "<caption>A data.frame: 4 × 5</caption>\n",
       "<thead>\n",
       "\t<tr><th></th><th scope=col>date</th><th scope=col>Sinal</th><th scope=col>Operações</th><th scope=col>ABEV3.SA</th><th scope=col>PETR4.SA</th></tr>\n",
       "\t<tr><th></th><th scope=col>&lt;date&gt;</th><th scope=col>&lt;chr&gt;</th><th scope=col>&lt;dbl&gt;</th><th scope=col>&lt;dbl&gt;</th><th scope=col>&lt;dbl&gt;</th></tr>\n",
       "</thead>\n",
       "<tbody>\n",
       "\t<tr><th scope=row>490</th><td>2021-01-28</td><td>Neutro                                </td><td>1.501675</td><td>0.8914821</td><td>1.101967</td></tr>\n",
       "\t<tr><th scope=row>491</th><td>2021-01-29</td><td>Neutro                                </td><td>1.471146</td><td>0.8777140</td><td>1.074180</td></tr>\n",
       "\t<tr><th scope=row>492</th><td>2021-02-01</td><td>Neutro                                </td><td>1.498345</td><td>0.8949241</td><td>1.092837</td></tr>\n",
       "\t<tr><th scope=row>493</th><td>2021-02-02</td><td>Compra de PETR4.SA e venda de ABEV3.SA</td><td>1.559846</td><td>0.8954978</td><td>1.137694</td></tr>\n",
       "</tbody>\n",
       "</table>\n"
      ],
      "text/latex": [
       "A data.frame: 4 × 5\n",
       "\\begin{tabular}{r|lllll}\n",
       "  & date & Sinal & Operações & ABEV3.SA & PETR4.SA\\\\\n",
       "  & <date> & <chr> & <dbl> & <dbl> & <dbl>\\\\\n",
       "\\hline\n",
       "\t490 & 2021-01-28 & Neutro                                 & 1.501675 & 0.8914821 & 1.101967\\\\\n",
       "\t491 & 2021-01-29 & Neutro                                 & 1.471146 & 0.8777140 & 1.074180\\\\\n",
       "\t492 & 2021-02-01 & Neutro                                 & 1.498345 & 0.8949241 & 1.092837\\\\\n",
       "\t493 & 2021-02-02 & Compra de PETR4.SA e venda de ABEV3.SA & 1.559846 & 0.8954978 & 1.137694\\\\\n",
       "\\end{tabular}\n"
      ],
      "text/markdown": [
       "\n",
       "A data.frame: 4 × 5\n",
       "\n",
       "| <!--/--> | date &lt;date&gt; | Sinal &lt;chr&gt; | Operações &lt;dbl&gt; | ABEV3.SA &lt;dbl&gt; | PETR4.SA &lt;dbl&gt; |\n",
       "|---|---|---|---|---|---|\n",
       "| 490 | 2021-01-28 | Neutro                                 | 1.501675 | 0.8914821 | 1.101967 |\n",
       "| 491 | 2021-01-29 | Neutro                                 | 1.471146 | 0.8777140 | 1.074180 |\n",
       "| 492 | 2021-02-01 | Neutro                                 | 1.498345 | 0.8949241 | 1.092837 |\n",
       "| 493 | 2021-02-02 | Compra de PETR4.SA e venda de ABEV3.SA | 1.559846 | 0.8954978 | 1.137694 |\n",
       "\n"
      ],
      "text/plain": [
       "    date       Sinal                                  Operações ABEV3.SA \n",
       "490 2021-01-28 Neutro                                 1.501675  0.8914821\n",
       "491 2021-01-29 Neutro                                 1.471146  0.8777140\n",
       "492 2021-02-01 Neutro                                 1.498345  0.8949241\n",
       "493 2021-02-02 Compra de PETR4.SA e venda de ABEV3.SA 1.559846  0.8954978\n",
       "    PETR4.SA\n",
       "490 1.101967\n",
       "491 1.074180\n",
       "492 1.092837\n",
       "493 1.137694"
      ]
     },
     "metadata": {},
     "output_type": "display_data"
    }
   ],
   "source": [
    "tail(resultado_tot,4)"
   ]
  },
  {
   "cell_type": "code",
   "execution_count": 36,
   "metadata": {},
   "outputs": [
    {
     "name": "stdout",
     "output_type": "stream",
     "text": [
      "(Intercept)    PETR4.SA \n",
      "  4.2515362   0.4515074 \n"
     ]
    }
   ],
   "source": [
    "coeficientes <- coef(regr)\n",
    "names(coeficientes) <- c(\"(Intercept)\",acao)\n",
    "print(coeficientes)"
   ]
  },
  {
   "cell_type": "code",
   "execution_count": 37,
   "metadata": {},
   "outputs": [
    {
     "data": {
      "image/png": "[encoded data removed]",
      "text/plain": [
       "plot without title"
      ]
     },
     "metadata": {
      "image/png": {
       "height": 420,
       "width": 420
      }
     },
     "output_type": "display_data"
    }
   ],
   "source": [
    "residuos <- ts(regr$residuals, \n",
    "               start = c(year(data_i), month(data_i), day(data_i)),\n",
    "               frequency = 252)\n",
    "ar <- auto.arima(residuos, stationary = T)\n",
    "n_f <- 3\n",
    "fore <- forecast(ar,h = n_f)\n",
    "autoplot(fore)"
   ]
  },
  {
   "cell_type": "code",
   "execution_count": 38,
   "metadata": {},
   "outputs": [
    {
     "data": {
      "image/png": "[encoded data removed]",
      "text/plain": [
       "plot without title"
      ]
     },
     "metadata": {
      "image/png": {
       "height": 420,
       "width": 420
      }
     },
     "output_type": "display_data"
    }
   ],
   "source": [
    "plot(c(datas,xts::last(datas)+1:n_f),c(regr$residuals,fore$mean), type = \"l\", xlab = \"\", ylab = \"Resíduos\")\n",
    "abline(h = c(base1,base2), lty = 2)\n",
    "text(datas[70], y = base2, labels = paste(\"Compra\",acao))\n",
    "text(datas[70], y = base1, labels = paste(\"Compra\",cointegrado[indexa]))"
   ]
  },
  {
   "cell_type": "code",
   "execution_count": 39,
   "metadata": {},
   "outputs": [
    {
     "data": {
      "image/png": "[encoded data removed]",
      "text/plain": [
       "Plot with title \"Histogram of res\""
      ]
     },
     "metadata": {
      "image/png": {
       "height": 420,
       "width": 420
      }
     },
     "output_type": "display_data"
    },
    {
     "data": {
      "image/png": "[encoded data removed]",
      "text/plain": [
       "Plot with title \"Histogram of dife\""
      ]
     },
     "metadata": {
      "image/png": {
       "height": 420,
       "width": 420
      }
     },
     "output_type": "display_data"
    }
   ],
   "source": [
    "hist(res, breaks = 30)\n",
    "hist(dife, breaks = 30)"
   ]
  },
  {
   "cell_type": "code",
   "execution_count": 24,
   "metadata": {},
   "outputs": [
    {
     "data": {
      "text/html": [
       "0.251270351673852"
      ],
      "text/latex": [
       "0.251270351673852"
      ],
      "text/markdown": [
       "0.251270351673852"
      ],
      "text/plain": [
       "[1] 0.2512704"
      ]
     },
     "metadata": {},
     "output_type": "display_data"
    },
    {
     "data": {
      "text/html": [
       "0.543400789027385"
      ],
      "text/latex": [
       "0.543400789027385"
      ],
      "text/markdown": [
       "0.543400789027385"
      ],
      "text/plain": [
       "[1] 0.5434008"
      ]
     },
     "metadata": {},
     "output_type": "display_data"
    }
   ],
   "source": [
    "mean(res)*252\n",
    "sd(res)*sqrt(252)"
   ]
  },
  {
   "cell_type": "code",
   "execution_count": null,
   "metadata": {},
   "outputs": [],
   "source": []
  }
 ],
 "metadata": {
  "kernelspec": {
   "display_name": "R",
   "language": "R",
   "name": "ir"
  },
  "language_info": {
   "codemirror_mode": "r",
   "file_extension": ".r",
   "mimetype": "text/x-r-source",
   "name": "R",
   "pygments_lexer": "r",
   "version": "4.0.3"
  }
 },
 "nbformat": 4,
 "nbformat_minor": 4
}
