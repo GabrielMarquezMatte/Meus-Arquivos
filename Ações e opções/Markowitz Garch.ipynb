{
 "cells": [
  {
   "cell_type": "markdown",
   "metadata": {},
   "source": [
    "## Modelo GARCH\n",
    "$\\varepsilon_t \\sim \\mathcal{N}(0,\\sigma_t)$\n",
    "\n",
    "$\\sigma_t = \\sqrt{\\omega+\\alpha_1\\sigma_{t-1}^2+\\alpha_2\\sigma_{t-2}^2...\\alpha_q\\sigma_{t-p}^2+\\beta_1\\varepsilon_{t-1}^2+\\beta_2\\varepsilon_{t-2}^2...+\\beta_p\\varepsilon_{t-q}^2} = \\sqrt{\\omega+\\sum_{i = 1}^{p}\\alpha_i\\sigma_{t-i}^2+\\sum_{i = 1}^{q}\\beta_{t-i}^2}$"
   ]
  },
  {
   "cell_type": "code",
   "execution_count": 1,
   "metadata": {},
   "outputs": [],
   "source": [
    "find_best_arch_model <- function(x, \n",
    "                                 type_models = \"sGARCH\", \n",
    "                                 dist_to_use = \"norm\",\n",
    "                                 max_lag_AR = 2,\n",
    "                                 max_lag_MA = 2,\n",
    "                                 max_lag_ARCH = 2,\n",
    "                                 max_lag_GARCH = 2){\n",
    "  \n",
    "  require(tidyr)\n",
    "  \n",
    "  df_grid <- expand_grid(type_models = type_models,\n",
    "                         dist_to_use = dist_to_use,\n",
    "                         arma_lag = 0:max_lag_AR,\n",
    "                         ma_lag = 0:max_lag_MA,\n",
    "                         arch_lag = 1:max_lag_ARCH,\n",
    "                         garch_lag = 1:max_lag_GARCH)\n",
    "  \n",
    "  \n",
    "  l_out <- pmap(.l = list(x = rep(list(x), nrow(df_grid)), \n",
    "                          type_model = df_grid$type_models,\n",
    "                          type_dist = df_grid$dist_to_use,\n",
    "                          lag_ar = df_grid$arma_lag,\n",
    "                          lag_ma = df_grid$ma_lag,\n",
    "                          lag_arch = df_grid$arch_lag,\n",
    "                          lag_garch  = df_grid$garch_lag),\n",
    "                do_single_garch)\n",
    "  \n",
    "  tab_out <- bind_rows(l_out)\n",
    "  \n",
    "  # find by AIC\n",
    "  idx <- which.min(tab_out$AIC)\n",
    "  best_aic <- tab_out[idx, ]\n",
    "  \n",
    "  # find by BIC\n",
    "  idx <- which.min(tab_out$BIC)\n",
    "  best_bic <- tab_out[idx, ]\n",
    "  \n",
    "  l_out <- list(best_aic = best_aic,\n",
    "                best_bic = best_bic,\n",
    "                tab_out = tab_out,\n",
    "                ugspec_b = ugarchspec(variance.model = \n",
    "                                      list(model = best_bic$type_model,\n",
    "                                           garchOrder = c(best_bic$lag_arch, best_bic$lag_garch)),\n",
    "                                    mean.model = \n",
    "                                      list(armaOrder = c(best_bic$lag_ar, best_bic$lag_ma)),\n",
    "                                    distribution.model = best_bic$type_dist))\n",
    "  \n",
    "  return(l_out)\n",
    "}"
   ]
  },
  {
   "cell_type": "code",
   "execution_count": 2,
   "metadata": {},
   "outputs": [],
   "source": [
    "do_single_garch <- function(x, \n",
    "                            type_model, \n",
    "                            type_dist, \n",
    "                            lag_ar, \n",
    "                            lag_ma, \n",
    "                            lag_arch, \n",
    "                            lag_garch) {\n",
    "  require(rugarch)\n",
    "  \n",
    "  \n",
    "  spec = ugarchspec(variance.model = list(model =  type_model, \n",
    "                                          garchOrder = c(lag_arch, lag_garch)),\n",
    "                    mean.model = list(armaOrder = c(lag_ar, lag_ma)),\n",
    "                    distribution = type_dist)\n",
    "  \n",
    "  message('Estimating ARMA(',lag_ar, ',', lag_ma,')-',\n",
    "          type_model, '(', lag_arch, ',', lag_garch, ')', \n",
    "          ' dist = ', type_dist,\n",
    "          appendLF = FALSE)\n",
    "  \n",
    "  try({\n",
    "    my_rugarch <- list()\n",
    "    my_rugarch <- ugarchfit(spec = spec, data = x)\n",
    "  })\n",
    "  \n",
    "  if (!is.null(coef(my_rugarch))) {\n",
    "    message('\\tDone')\n",
    "    \n",
    "    AIC <- rugarch::infocriteria(my_rugarch)[1]\n",
    "    BIC <- rugarch::infocriteria(my_rugarch)[2]\n",
    "  } else {\n",
    "    message('\\tEstimation failed..')\n",
    "    \n",
    "    AIC <- NA\n",
    "    BIC <- NA\n",
    "  }\n",
    "\n",
    "  est_tab <- tibble(lag_ar, \n",
    "                    lag_ma,\n",
    "                    lag_arch,\n",
    "                    lag_garch,\n",
    "                    AIC =  AIC,\n",
    "                    BIC = BIC,\n",
    "                    type_model = type_model,\n",
    "                    type_dist,\n",
    "                    model_name = paste0('ARMA(', lag_ar, ',', lag_ma, ')+',\n",
    "                                        type_model, '(', lag_arch, ',', lag_garch, ') ',\n",
    "                                        type_dist) ) \n",
    "  \n",
    "  return(est_tab)\n",
    "}"
   ]
  },
  {
   "cell_type": "code",
   "execution_count": 3,
   "metadata": {},
   "outputs": [],
   "source": [
    "do_single_dcc <- function(x, uspec, \n",
    "                            type_model = \"DCC\", \n",
    "                            type_dist = \"mvnorm\", \n",
    "                            order1, \n",
    "                            order2){\n",
    "  require(rmgarch)\n",
    "  \n",
    "  \n",
    "  spec = dccspec(uspec, dccOrder = c(order1, order2),\n",
    "                 model = type_model, distribution = type_dist)\n",
    "  \n",
    "  message('Estimating DCC(',order1, ',', order2,')-',\n",
    "          type_model,' dist = ', type_dist,\n",
    "          appendLF = FALSE)\n",
    "  \n",
    "  try({my_rugarch <- list()\n",
    "    my_rugarch <- dccfit(spec = spec, data = x)})\n",
    "  if (!is.null(coef(my_rugarch))) {\n",
    "    message('\\tDone')\n",
    "    AIC <- rugarch::infocriteria(my_rugarch)[1]\n",
    "    BIC <- rugarch::infocriteria(my_rugarch)[2]\n",
    "  }else{\n",
    "    message('\\tEstimation failed..')\n",
    "    AIC <- NA\n",
    "    BIC <- NA\n",
    "  }\n",
    "  est_tab <- tibble(order1 = order1,\n",
    "                    order2 = order2,\n",
    "                    AIC =  AIC,\n",
    "                    BIC = BIC,\n",
    "                    type_model = type_model,\n",
    "                    type_dist = type_dist)\n",
    "  return(est_tab)\n",
    "}"
   ]
  },
  {
   "cell_type": "code",
   "execution_count": 4,
   "metadata": {},
   "outputs": [],
   "source": [
    "find_best_dcc_model <- function(x,uspec, \n",
    "                                 type_models = \"DCC\", \n",
    "                                 dist_to_use = \"mvnorm\",\n",
    "                                 max_order1 = 2,\n",
    "                                 max_order2 = 2){\n",
    "  \n",
    "  require(tidyr)\n",
    "  \n",
    "  df_grid <- expand_grid(type_models = type_models,\n",
    "                         dist_to_use = dist_to_use,\n",
    "                         order1 = 1:max_order1,\n",
    "                         order2 = 0:max_order2)\n",
    "  \n",
    "  \n",
    "  l_out <- pmap(.l = list(x = rep(list(x), nrow(df_grid)),\n",
    "                          uspec = rep(list(uspec), nrow(df_grid)),\n",
    "                          type_model = df_grid$type_models,\n",
    "                          type_dist = df_grid$dist_to_use,\n",
    "                          order1 = df_grid$order1,\n",
    "                          order2 = df_grid$order2),\n",
    "                do_single_dcc)\n",
    "  \n",
    "  tab_out <- bind_rows(l_out)\n",
    "  \n",
    "  # find by AIC\n",
    "  idx <- which.min(tab_out$AIC)\n",
    "  best_aic <- tab_out[idx,]\n",
    "  \n",
    "  # find by BIC\n",
    "  idx <- which.min(tab_out$BIC)\n",
    "  best_bic <- tab_out[idx, ]\n",
    "  \n",
    "  l_out <- list(best_aic = best_aic,\n",
    "                best_bic = best_bic,\n",
    "                tab_out = tab_out,\n",
    "                dccspec_b = dccspec(uspec,\n",
    "                                    dccOrder = c(best_bic$order1, best_bic$order2),\n",
    "                                    distribution = best_bic$type_dist,\n",
    "                                    model = best_bic$type_model))\n",
    "  \n",
    "  return(l_out)\n",
    "}"
   ]
  },
  {
   "cell_type": "code",
   "execution_count": 5,
   "metadata": {},
   "outputs": [],
   "source": [
    "#Funções de risco e de retorno de carteiras\n",
    "portfolio_sd_t <- function(pesos, cov){\n",
    "  sd_t <- sqrt(pesos %*% cov %*% pesos)\n",
    "  return(sd_t)\n",
    "}\n",
    "portfolio_return <- function(returns, weight){\n",
    "  stopifnot(is.vector(returns))\n",
    "  total_return <- sum(weight*returns)\n",
    "  return(total_return)\n",
    "}"
   ]
  },
  {
   "cell_type": "code",
   "execution_count": 6,
   "metadata": {},
   "outputs": [],
   "source": [
    "#Função de pesos de carteiras\n",
    "pesos_carteira <- function(n_acoes, n_sim, short = F){\n",
    "  pesos <- matrix(0,n_acoes,n_sim)\n",
    "  if(isFALSE(short)){\n",
    "    pesos <- apply(pesos,2,rexp,0.01)\n",
    "  }else{\n",
    "    pesos <- apply(pesos,2,rnorm)\n",
    "    \n",
    "  }\n",
    "  pesos <- apply(pesos,2,function(x)x/sum(x))\n",
    "  colsub <- apply(pesos,2,function(x)!any(x >= 2| x <= -2))\n",
    "  pesos <- pesos[,colsub]\n",
    "  return(pesos)\n",
    "}"
   ]
  },
  {
   "cell_type": "code",
   "execution_count": 8,
   "metadata": {},
   "outputs": [],
   "source": [
    "options(warn = -1, scipen = 999)\n",
    "pacotes <- c(\"tidyquant\",\"pracma\",\"rmgarch\", \"tidyverse\")\n",
    "for(i in pacotes){\n",
    "    suppressPackageStartupMessages({\n",
    "        library(i, character.only = T)\n",
    "    })\n",
    "}"
   ]
  },
  {
   "cell_type": "code",
   "execution_count": 9,
   "metadata": {},
   "outputs": [],
   "source": [
    "#Ações escolhidas\n",
    "acoes <- c(\"VALE3.SA\",\"MRFG3.SA\",\"GGBR4.SA\",\"BBDC4.SA\",\"BBAS3.SA\", \"B3SA3.SA\")\n",
    "reta <- tq_get(acoes, from = \"2000-01-01\") %>%\n",
    "  group_by(symbol) %>%\n",
    "  tq_transmute(select = adjusted, mutate_fun = dailyReturn) %>%\n",
    "  spread(key = symbol, value = daily.returns) %>%\n",
    "  na.omit\n",
    "datas <- reta$date"
   ]
  },
  {
   "cell_type": "code",
   "execution_count": 10,
   "metadata": {},
   "outputs": [],
   "source": [
    "#Transformando em série temporal\n",
    "reta_ts <- xts(reta[,2:ncol(reta)], order.by = datas)"
   ]
  },
  {
   "cell_type": "code",
   "execution_count": 11,
   "metadata": {},
   "outputs": [],
   "source": [
    "lista <- suppressMessages(apply(reta_ts,2,find_best_arch_model,c(\"sGARCH\"),c(\"norm\"),1,1,2,2))\n",
    "multi <- replicate(ncol(reta_ts),list())"
   ]
  },
  {
   "cell_type": "code",
   "execution_count": 12,
   "metadata": {},
   "outputs": [],
   "source": [
    "for(i in 1:length(lista)){\n",
    "  multi[[i]] <- lista[[i]]$ugspec_b\n",
    "}"
   ]
  },
  {
   "cell_type": "code",
   "execution_count": 13,
   "metadata": {},
   "outputs": [],
   "source": [
    "multspec <- multispec(multi)\n",
    "multf <- multifit(multispec = multspec, data = reta_ts)\n",
    "multfor <- multiforecast(multf, n.ahead = 2)"
   ]
  },
  {
   "cell_type": "code",
   "execution_count": 14,
   "metadata": {},
   "outputs": [],
   "source": [
    "best <- suppressMessages(find_best_dcc_model(reta_ts, uspec = multspec, dist_to_use = c(\"mvnorm\",\"mvt\")))\n",
    "spec1 <- best$dccspec_b"
   ]
  },
  {
   "cell_type": "code",
   "execution_count": 15,
   "metadata": {},
   "outputs": [],
   "source": [
    "fit1 <- dccfit(spec1, data = reta_ts, fit = multf, fit.control = list(eval.se = T))\n",
    "fore <- dccforecast(fit = fit1, n.ahead = 2)"
   ]
  },
  {
   "cell_type": "code",
   "execution_count": 16,
   "metadata": {},
   "outputs": [],
   "source": [
    "#Usando o µ como retorno esperado\n",
    "coefs <- numeric(length = ncol(reta_ts))\n",
    "for(i in 1:length(coefs)){\n",
    "  coefs[i] <- multf@fit[[i]]@fit$coef[\"mu\"]*252\n",
    "}"
   ]
  },
  {
   "cell_type": "code",
   "execution_count": 17,
   "metadata": {},
   "outputs": [],
   "source": [
    "#Matriz de covariância\n",
    "cov1 <- rcov(fit1)\n",
    "cov <- cov1[,,dim(cov1)[3]]\n",
    "cov_f <- rcov(fore)\n",
    "cov_f <- cov_f[[1]]\n",
    "cov_f1 <- cov_f[1:ncol(reta_ts),1:ncol(reta_ts),1]\n",
    "cov_f2 <- cov_f[1:ncol(reta_ts),1:ncol(reta_ts),2]"
   ]
  },
  {
   "cell_type": "code",
   "execution_count": 18,
   "metadata": {},
   "outputs": [],
   "source": [
    "#Desvio das ações\n",
    "sd <- sqrt(diag(cov))\n",
    "sd_f1 <- sqrt(diag(cov_f1))\n",
    "sd_f2 <- sqrt(diag(cov_f2))\n",
    "sd_a <- sd*sqrt(252)\n",
    "sd_a_f1 <- sd_f1*sqrt(252)\n",
    "sd_a_f2 <- sd_f2*sqrt(252)"
   ]
  },
  {
   "cell_type": "code",
   "execution_count": 19,
   "metadata": {},
   "outputs": [
    {
     "name": "stderr",
     "output_type": "stream",
     "text": [
      "`summarise()` regrouping output by 'year' (override with `.groups` argument)\n",
      "\n"
     ]
    }
   ],
   "source": [
    "#Retorno médio das ações\n",
    "retornos_a <- tq_get(acoes, from = Sys.Date()-10) %>%\n",
    "  group_by(symbol) %>%\n",
    "  tq_transmute(select = close, mutate_fun= periodReturn, period = \"yearly\", fill = 0) %>%\n",
    "  mutate(year = year(date)) %>%\n",
    "  group_by(year,symbol) %>%\n",
    "  summarise(yearly.returns) %>%\n",
    "  spread(key = \"symbol\", value = \"yearly.returns\") %>%\n",
    "  na.fill(fill = 0)"
   ]
  },
  {
   "cell_type": "code",
   "execution_count": 20,
   "metadata": {},
   "outputs": [
    {
     "name": "stderr",
     "output_type": "stream",
     "text": [
      "`summarise()` ungrouping output (override with `.groups` argument)\n",
      "\n"
     ]
    }
   ],
   "source": [
    "retorno_med <- retornos_a %>%\n",
    "  data.frame %>%\n",
    "  gather(key = \"symbol\", value = \"return\", -year) %>%\n",
    "  group_by(symbol) %>%\n",
    "  summarise(media = mean(return)) %>%\n",
    "  spread(key = \"symbol\", value = \"media\") %>%\n",
    "  as.matrix() %>%\n",
    "  t() %>%\n",
    "  as.data.frame() %>%\n",
    "  mutate(Riscos = sd_a_f2)\n",
    "colnames(retorno_med) <- c(\"Retorno\",\"Risco\")\n",
    "rownames(retorno_med) <- colnames(reta_ts)\n",
    "retorno_med$Retorno <- coefs"
   ]
  },
  {
   "cell_type": "code",
   "execution_count": 21,
   "metadata": {},
   "outputs": [],
   "source": [
    "#Nº de simulações de carteiras a se fazer\n",
    "n_sim <- 500000\n",
    "pesos <- pesos_carteira(n_acoes = ncol(reta_ts), n_sim = n_sim, short = F)"
   ]
  },
  {
   "cell_type": "markdown",
   "metadata": {},
   "source": [
    "## Risco e retorno de uma carteira\n",
    "$\\sigma_c = \\begin{vmatrix}\\sum_{i}\\omega_i = 1 \\end{vmatrix} * \\begin{vmatrix}x_{1,1} & \\cdots & x_{1,n} \\\\ \\vdots & \\ddots & \\vdots \\\\ x_{n,1} & \\cdots & x_{n,n} \\end{vmatrix} * \\begin{vmatrix}\\sum_{i}\\omega_i = 1 \\end{vmatrix}$\n",
    "\n",
    "$\\varepsilon_c = \\sum_{i}\\omega_i\\varepsilon_i$"
   ]
  },
  {
   "cell_type": "code",
   "execution_count": 22,
   "metadata": {},
   "outputs": [
    {
     "data": {
      "text/plain": [
       "Time difference of 18.7253 secs"
      ]
     },
     "metadata": {},
     "output_type": "display_data"
    }
   ],
   "source": [
    "#Escolha se prefere o risco atual ou a previsão de risco para 1 período (sd ou sd_f)\n",
    "start <- Sys.time()\n",
    "riscos <- apply(pesos, 2, portfolio_sd_t, cov = cov_f2)*sqrt(252)\n",
    "riscos <- riscos %>% as.matrix\n",
    "retornos <- apply(pesos, 2, portfolio_return, returns = retorno_med$Retorno) %>% as.matrix\n",
    "colsub <- apply(riscos,1,function(x)!is.nan(x))\n",
    "riscos <- riscos[colsub]\n",
    "retornos <- retornos[colsub]\n",
    "end <- Sys.time()\n",
    "end-start"
   ]
  },
  {
   "cell_type": "markdown",
   "metadata": {},
   "source": [
    "## Sharpe\n",
    "$S = \\frac{\\mu_c-\\mu_r}{\\sigma_c}$ onde $\\mu_c$ é o retorno da carteira, $\\mu_r$ o retorno do ativo livre de risco e $\\sigma_c$ é o desvio-padrão da carteira"
   ]
  },
  {
   "cell_type": "code",
   "execution_count": 23,
   "metadata": {},
   "outputs": [],
   "source": [
    "#Sharpe\n",
    "tx_livre_risco <- 0.02\n",
    "data <- matrix(0, nrow = 3, ncol = length(riscos))\n",
    "data[1,] <- retornos\n",
    "data[2,] <- riscos\n",
    "data[3,] <- (retornos-tx_livre_risco)/riscos\n",
    "rownames(data) <- c(\"Retornos\", \"Riscos\",\"Sharpe\")\n",
    "pesos <- pesos[,colsub]\n",
    "data_d <- as.data.frame(t(data))"
   ]
  },
  {
   "cell_type": "code",
   "execution_count": 24,
   "metadata": {},
   "outputs": [],
   "source": [
    "#Melhor carteira\n",
    "inversa <- solve(cov_f2)\n",
    "pesos_otimo <- inversa %*% (coefs-tx_livre_risco)/sum(inversa %*% (coefs-tx_livre_risco))\n",
    "ret_otimo <- portfolio_return(coefs,pesos_otimo)\n",
    "sd_otimo <- portfolio_sd_t(pesos_otimo[,1], cov_f2)*sqrt(252)\n",
    "sharpe_otimo <- (ret_otimo-tx_livre_risco)/sd_otimo\n",
    "data_otimo <- data.frame(Retorno = ret_otimo, Risco = sd_otimo, Sharpe = sharpe_otimo)"
   ]
  },
  {
   "cell_type": "code",
   "execution_count": 25,
   "metadata": {},
   "outputs": [],
   "source": [
    "#Menor Risco\n",
    "A <- 2*cov_f2\n",
    "A <- rbind(A, rep(1, ncol(A)))\n",
    "A <- cbind(A, c(rep(1, nrow(A)-1),0))\n",
    "b <- c(rep(0,nrow(A)-1),1)\n",
    "inv_a <- solve(A)\n",
    "menor_risco <- inv_a %*% b\n",
    "menor_risco <- menor_risco[-nrow(menor_risco),]\n",
    "ret_men_risco <- portfolio_return(coefs,menor_risco)\n",
    "sd_men_risco <- portfolio_sd_t(menor_risco, cov_f2)*sqrt(252)\n",
    "sharpe_men_risco <- (ret_men_risco-tx_livre_risco)/sd_men_risco\n",
    "data_men <- data.frame(Retorno = ret_men_risco, Risco = sd_men_risco, Sharpe = sharpe_men_risco)"
   ]
  },
  {
   "cell_type": "code",
   "execution_count": 26,
   "metadata": {},
   "outputs": [],
   "source": [
    "#Fronteira eficiente (com venda a descoberto)\n",
    "A1 <- 2*cov_f2\n",
    "A1 <- rbind(rbind(A1,coefs),rep(1,ncol(A1)))\n",
    "A1 <- cbind(cbind(A1,c(coefs,rep(0,2))),c(rep(1,nrow(cov_f2)), 0,0))\n",
    "ymin <- min(coefs,retornos)-0.1\n",
    "ymax <- max(data_otimo$Retorno,coefs,retornos)+0.1\n",
    "psb <- c()\n",
    "dsb <- c()\n",
    "rsb <- seq(ymin,ymax,l = 2000)\n",
    "for(i in rsb){\n",
    "  b <- c(rep(0,ncol(reta_ts)),i,1)\n",
    "  zb <- solve(A1) %*% b\n",
    "  w <- zb[1:ncol(reta_ts)]\n",
    "  psb <- rbind(psb,w)\n",
    "  dsb <- c(dsb,sqrt(w %*% cov_f2 %*% w)*sqrt(252))\n",
    "}\n",
    "fronteira <- data.frame(Retorno = rsb, Risco = dsb)"
   ]
  },
  {
   "cell_type": "code",
   "execution_count": 27,
   "metadata": {},
   "outputs": [
    {
     "data": {
      "text/html": [
       "<strong>Sharpe Máximo:</strong> 0.93349142016723"
      ],
      "text/latex": [
       "\\textbf{Sharpe Máximo:} 0.93349142016723"
      ],
      "text/markdown": [
       "**Sharpe Máximo:** 0.93349142016723"
      ],
      "text/plain": [
       "Sharpe Máximo \n",
       "    0.9334914 "
      ]
     },
     "metadata": {},
     "output_type": "display_data"
    },
    {
     "data": {
      "text/html": [
       "<strong>Retorno Máximo:</strong> 0.299648131114812"
      ],
      "text/latex": [
       "\\textbf{Retorno Máximo:} 0.299648131114812"
      ],
      "text/markdown": [
       "**Retorno Máximo:** 0.299648131114812"
      ],
      "text/plain": [
       "Retorno Máximo \n",
       "     0.2996481 "
      ]
     },
     "metadata": {},
     "output_type": "display_data"
    },
    {
     "data": {
      "text/html": [
       "<strong>Risco Mínimo:</strong> 0.220250940773619"
      ],
      "text/latex": [
       "\\textbf{Risco Mínimo:} 0.220250940773619"
      ],
      "text/markdown": [
       "**Risco Mínimo:** 0.220250940773619"
      ],
      "text/plain": [
       "Risco Mínimo \n",
       "   0.2202509 "
      ]
     },
     "metadata": {},
     "output_type": "display_data"
    }
   ],
   "source": [
    "#Dados Simulados\n",
    "sharpe <- max(data[3,])\n",
    "names(sharpe) <- \"Sharpe Máximo\"\n",
    "Ret_max <- max(data[1,])\n",
    "names(Ret_max) <- \"Retorno Máximo\"\n",
    "sd_min <- min(data[2,])\n",
    "names(sd_min) <- \"Risco Mínimo\"\n",
    "sharpe\n",
    "Ret_max\n",
    "sd_min"
   ]
  },
  {
   "cell_type": "code",
   "execution_count": 28,
   "metadata": {
    "scrolled": true
   },
   "outputs": [
    {
     "name": "stdout",
     "output_type": "stream",
     "text": [
      " Retornos    Riscos    Sharpe \n",
      "0.2621152 0.2593652 0.9334914 \n",
      "B3SA3.SA BBAS3.SA BBDC4.SA GGBR4.SA MRFG3.SA VALE3.SA \n",
      "   0.215    0.625    0.003    0.022    0.131    0.004 \n"
     ]
    }
   ],
   "source": [
    "#Melhor carteira simulada\n",
    "positivo <- data[3,] == sharpe\n",
    "show(data[,positivo])\n",
    "pesos_efi <- round(pesos[,positivo],3)\n",
    "names(pesos_efi) <- colnames(reta_ts)\n",
    "print(pesos_efi)"
   ]
  },
  {
   "cell_type": "code",
   "execution_count": 29,
   "metadata": {},
   "outputs": [
    {
     "name": "stdout",
     "output_type": "stream",
     "text": [
      " Retornos    Riscos    Sharpe \n",
      "0.1703653 0.2202509 0.6827001 \n",
      "B3SA3.SA BBAS3.SA BBDC4.SA GGBR4.SA MRFG3.SA VALE3.SA \n",
      "   0.005    0.228    0.276    0.027    0.201    0.263 \n"
     ]
    }
   ],
   "source": [
    "#Carteira com menor risco simulado\n",
    "me <- which.min(data[2,])\n",
    "show(data[,me])\n",
    "pesos_m <- round(pesos[,me],3)\n",
    "names(pesos_m) <- colnames(reta_ts)\n",
    "print(pesos_m)"
   ]
  },
  {
   "cell_type": "code",
   "execution_count": 30,
   "metadata": {},
   "outputs": [
    {
     "data": {
      "text/html": [
       "<table>\n",
       "<caption>A data.frame: 6 × 2</caption>\n",
       "<thead>\n",
       "\t<tr><th></th><th scope=col>Retorno</th><th scope=col>Risco</th></tr>\n",
       "\t<tr><th></th><th scope=col>&lt;dbl&gt;</th><th scope=col>&lt;dbl&gt;</th></tr>\n",
       "</thead>\n",
       "<tbody>\n",
       "\t<tr><th scope=row>B3SA3.SA</th><td>0.31095692</td><td>0.4051589</td></tr>\n",
       "\t<tr><th scope=row>BBAS3.SA</th><td>0.27010362</td><td>0.2877586</td></tr>\n",
       "\t<tr><th scope=row>BBDC4.SA</th><td>0.16513318</td><td>0.2800693</td></tr>\n",
       "\t<tr><th scope=row>GGBR4.SA</th><td>0.10930692</td><td>0.3595782</td></tr>\n",
       "\t<tr><th scope=row>MRFG3.SA</th><td>0.17688096</td><td>0.3990147</td></tr>\n",
       "\t<tr><th scope=row>VALE3.SA</th><td>0.08801501</td><td>0.3283714</td></tr>\n",
       "</tbody>\n",
       "</table>\n"
      ],
      "text/latex": [
       "A data.frame: 6 × 2\n",
       "\\begin{tabular}{r|ll}\n",
       "  & Retorno & Risco\\\\\n",
       "  & <dbl> & <dbl>\\\\\n",
       "\\hline\n",
       "\tB3SA3.SA & 0.31095692 & 0.4051589\\\\\n",
       "\tBBAS3.SA & 0.27010362 & 0.2877586\\\\\n",
       "\tBBDC4.SA & 0.16513318 & 0.2800693\\\\\n",
       "\tGGBR4.SA & 0.10930692 & 0.3595782\\\\\n",
       "\tMRFG3.SA & 0.17688096 & 0.3990147\\\\\n",
       "\tVALE3.SA & 0.08801501 & 0.3283714\\\\\n",
       "\\end{tabular}\n"
      ],
      "text/markdown": [
       "\n",
       "A data.frame: 6 × 2\n",
       "\n",
       "| <!--/--> | Retorno &lt;dbl&gt; | Risco &lt;dbl&gt; |\n",
       "|---|---|---|\n",
       "| B3SA3.SA | 0.31095692 | 0.4051589 |\n",
       "| BBAS3.SA | 0.27010362 | 0.2877586 |\n",
       "| BBDC4.SA | 0.16513318 | 0.2800693 |\n",
       "| GGBR4.SA | 0.10930692 | 0.3595782 |\n",
       "| MRFG3.SA | 0.17688096 | 0.3990147 |\n",
       "| VALE3.SA | 0.08801501 | 0.3283714 |\n",
       "\n"
      ],
      "text/plain": [
       "         Retorno    Risco    \n",
       "B3SA3.SA 0.31095692 0.4051589\n",
       "BBAS3.SA 0.27010362 0.2877586\n",
       "BBDC4.SA 0.16513318 0.2800693\n",
       "GGBR4.SA 0.10930692 0.3595782\n",
       "MRFG3.SA 0.17688096 0.3990147\n",
       "VALE3.SA 0.08801501 0.3283714"
      ]
     },
     "metadata": {},
     "output_type": "display_data"
    }
   ],
   "source": [
    "retorno_med"
   ]
  },
  {
   "cell_type": "code",
   "execution_count": 31,
   "metadata": {},
   "outputs": [
    {
     "data": {
      "text/html": [
       "<table>\n",
       "<caption>A data.frame: 1 × 3</caption>\n",
       "<thead>\n",
       "\t<tr><th scope=col>Retorno</th><th scope=col>Risco</th><th scope=col>Sharpe</th></tr>\n",
       "\t<tr><th scope=col>&lt;dbl&gt;</th><th scope=col>&lt;dbl&gt;</th><th scope=col>&lt;dbl&gt;</th></tr>\n",
       "</thead>\n",
       "<tbody>\n",
       "\t<tr><td>0.3701092</td><td>0.3437958</td><td>1.018364</td></tr>\n",
       "</tbody>\n",
       "</table>\n"
      ],
      "text/latex": [
       "A data.frame: 1 × 3\n",
       "\\begin{tabular}{lll}\n",
       " Retorno & Risco & Sharpe\\\\\n",
       " <dbl> & <dbl> & <dbl>\\\\\n",
       "\\hline\n",
       "\t 0.3701092 & 0.3437958 & 1.018364\\\\\n",
       "\\end{tabular}\n"
      ],
      "text/markdown": [
       "\n",
       "A data.frame: 1 × 3\n",
       "\n",
       "| Retorno &lt;dbl&gt; | Risco &lt;dbl&gt; | Sharpe &lt;dbl&gt; |\n",
       "|---|---|---|\n",
       "| 0.3701092 | 0.3437958 | 1.018364 |\n",
       "\n"
      ],
      "text/plain": [
       "  Retorno   Risco     Sharpe  \n",
       "1 0.3701092 0.3437958 1.018364"
      ]
     },
     "metadata": {},
     "output_type": "display_data"
    },
    {
     "data": {
      "text/html": [
       "<table>\n",
       "<caption>A matrix: 6 × 1 of type dbl</caption>\n",
       "<tbody>\n",
       "\t<tr><th scope=row>B3SA3.SA</th><td> 0.408</td></tr>\n",
       "\t<tr><th scope=row>BBAS3.SA</th><td> 1.273</td></tr>\n",
       "\t<tr><th scope=row>BBDC4.SA</th><td>-0.691</td></tr>\n",
       "\t<tr><th scope=row>GGBR4.SA</th><td>-0.141</td></tr>\n",
       "\t<tr><th scope=row>MRFG3.SA</th><td> 0.177</td></tr>\n",
       "\t<tr><th scope=row>VALE3.SA</th><td>-0.026</td></tr>\n",
       "</tbody>\n",
       "</table>\n"
      ],
      "text/latex": [
       "A matrix: 6 × 1 of type dbl\n",
       "\\begin{tabular}{r|l}\n",
       "\tB3SA3.SA &  0.408\\\\\n",
       "\tBBAS3.SA &  1.273\\\\\n",
       "\tBBDC4.SA & -0.691\\\\\n",
       "\tGGBR4.SA & -0.141\\\\\n",
       "\tMRFG3.SA &  0.177\\\\\n",
       "\tVALE3.SA & -0.026\\\\\n",
       "\\end{tabular}\n"
      ],
      "text/markdown": [
       "\n",
       "A matrix: 6 × 1 of type dbl\n",
       "\n",
       "| B3SA3.SA |  0.408 |\n",
       "| BBAS3.SA |  1.273 |\n",
       "| BBDC4.SA | -0.691 |\n",
       "| GGBR4.SA | -0.141 |\n",
       "| MRFG3.SA |  0.177 |\n",
       "| VALE3.SA | -0.026 |\n",
       "\n"
      ],
      "text/plain": [
       "         [,1]  \n",
       "B3SA3.SA  0.408\n",
       "BBAS3.SA  1.273\n",
       "BBDC4.SA -0.691\n",
       "GGBR4.SA -0.141\n",
       "MRFG3.SA  0.177\n",
       "VALE3.SA -0.026"
      ]
     },
     "metadata": {},
     "output_type": "display_data"
    }
   ],
   "source": [
    "#Valores da carteira eficiente com short (ou não)\n",
    "data_otimo\n",
    "round(pesos_otimo,3)"
   ]
  },
  {
   "cell_type": "code",
   "execution_count": 32,
   "metadata": {},
   "outputs": [
    {
     "data": {
      "text/html": [
       "<table>\n",
       "<caption>A data.frame: 1 × 3</caption>\n",
       "<thead>\n",
       "\t<tr><th scope=col>Retorno</th><th scope=col>Risco</th><th scope=col>Sharpe</th></tr>\n",
       "\t<tr><th scope=col>&lt;dbl&gt;</th><th scope=col>&lt;dbl&gt;</th><th scope=col>&lt;dbl&gt;</th></tr>\n",
       "</thead>\n",
       "<tbody>\n",
       "\t<tr><td>0.1630245</td><td>0.2197374</td><td>0.6508882</td></tr>\n",
       "</tbody>\n",
       "</table>\n"
      ],
      "text/latex": [
       "A data.frame: 1 × 3\n",
       "\\begin{tabular}{lll}\n",
       " Retorno & Risco & Sharpe\\\\\n",
       " <dbl> & <dbl> & <dbl>\\\\\n",
       "\\hline\n",
       "\t 0.1630245 & 0.2197374 & 0.6508882\\\\\n",
       "\\end{tabular}\n"
      ],
      "text/markdown": [
       "\n",
       "A data.frame: 1 × 3\n",
       "\n",
       "| Retorno &lt;dbl&gt; | Risco &lt;dbl&gt; | Sharpe &lt;dbl&gt; |\n",
       "|---|---|---|\n",
       "| 0.1630245 | 0.2197374 | 0.6508882 |\n",
       "\n"
      ],
      "text/plain": [
       "  Retorno   Risco     Sharpe   \n",
       "1 0.1630245 0.2197374 0.6508882"
      ]
     },
     "metadata": {},
     "output_type": "display_data"
    },
    {
     "name": "stdout",
     "output_type": "stream",
     "text": [
      "   B3SA3.SA    BBAS3.SA    BBDC4.SA    GGBR4.SA    MRFG3.SA    VALE3.SA \n",
      "-0.04126635  0.22842377  0.30036863  0.04083883  0.20910957  0.26252556 \n"
     ]
    }
   ],
   "source": [
    "#Menor risco calculado (com short (ou não))\n",
    "data_men\n",
    "print(menor_risco)"
   ]
  },
  {
   "cell_type": "code",
   "execution_count": 33,
   "metadata": {},
   "outputs": [
    {
     "data": {
      "text/html": [
       "<table>\n",
       "<caption>A matrix: 1 × 1 of type dbl</caption>\n",
       "<thead>\n",
       "\t<tr><th scope=col>Correlação</th></tr>\n",
       "</thead>\n",
       "<tbody>\n",
       "\t<tr><td>0.9165784</td></tr>\n",
       "</tbody>\n",
       "</table>\n"
      ],
      "text/latex": [
       "A matrix: 1 × 1 of type dbl\n",
       "\\begin{tabular}{l}\n",
       " Correlação\\\\\n",
       "\\hline\n",
       "\t 0.9165784\\\\\n",
       "\\end{tabular}\n"
      ],
      "text/markdown": [
       "\n",
       "A matrix: 1 × 1 of type dbl\n",
       "\n",
       "| Correlação |\n",
       "|---|\n",
       "| 0.9165784 |\n",
       "\n"
      ],
      "text/plain": [
       "     Correlação\n",
       "[1,] 0.9165784 "
      ]
     },
     "metadata": {},
     "output_type": "display_data"
    }
   ],
   "source": [
    "#Correlação entre a melhor carteira calculada e a melhor carteira simulada\n",
    "corre_s <- (t(pesos_otimo) %*% cov_f2 %*% pesos_efi)/(data[2,positivo]*sd_otimo/252)\n",
    "colnames(corre_s) <- \"Correlação\"\n",
    "corre_s"
   ]
  },
  {
   "cell_type": "code",
   "execution_count": 34,
   "metadata": {},
   "outputs": [
    {
     "data": {
      "text/html": [
       "<table>\n",
       "<caption>A matrix: 1 × 1 of type dbl</caption>\n",
       "<thead>\n",
       "\t<tr><th scope=col>Correlação</th></tr>\n",
       "</thead>\n",
       "<tbody>\n",
       "\t<tr><td>0.9976686</td></tr>\n",
       "</tbody>\n",
       "</table>\n"
      ],
      "text/latex": [
       "A matrix: 1 × 1 of type dbl\n",
       "\\begin{tabular}{l}\n",
       " Correlação\\\\\n",
       "\\hline\n",
       "\t 0.9976686\\\\\n",
       "\\end{tabular}\n"
      ],
      "text/markdown": [
       "\n",
       "A matrix: 1 × 1 of type dbl\n",
       "\n",
       "| Correlação |\n",
       "|---|\n",
       "| 0.9976686 |\n",
       "\n"
      ],
      "text/plain": [
       "     Correlação\n",
       "[1,] 0.9976686 "
      ]
     },
     "metadata": {},
     "output_type": "display_data"
    }
   ],
   "source": [
    "#Correlação entre as carteiras de menor risco simulada e calculada\n",
    "corre_m <- (menor_risco %*% cov_f2 %*% pesos_m)/(data_men$Risco*sd_min/252)\n",
    "colnames(corre_m) <- \"Correlação\"\n",
    "corre_m"
   ]
  },
  {
   "cell_type": "code",
   "execution_count": 35,
   "metadata": {},
   "outputs": [
    {
     "data": {
      "text/html": [
       "<table>\n",
       "<caption>A matrix: 2 × 1 of type dbl</caption>\n",
       "<thead>\n",
       "\t<tr><th></th><th scope=col>Distribuição das carteiras</th></tr>\n",
       "</thead>\n",
       "<tbody>\n",
       "\t<tr><th scope=row>Simulado</th><td>0.0006617828</td></tr>\n",
       "\t<tr><th scope=row>Calculado</th><td>0.9993382172</td></tr>\n",
       "</tbody>\n",
       "</table>\n"
      ],
      "text/latex": [
       "A matrix: 2 × 1 of type dbl\n",
       "\\begin{tabular}{r|l}\n",
       "  & Distribuição das carteiras\\\\\n",
       "\\hline\n",
       "\tSimulado & 0.0006617828\\\\\n",
       "\tCalculado & 0.9993382172\\\\\n",
       "\\end{tabular}\n"
      ],
      "text/markdown": [
       "\n",
       "A matrix: 2 × 1 of type dbl\n",
       "\n",
       "| <!--/--> | Distribuição das carteiras |\n",
       "|---|---|\n",
       "| Simulado | 0.0006617828 |\n",
       "| Calculado | 0.9993382172 |\n",
       "\n"
      ],
      "text/plain": [
       "          Distribuição das carteiras\n",
       "Simulado  0.0006617828              \n",
       "Calculado 0.9993382172              "
      ]
     },
     "metadata": {},
     "output_type": "display_data"
    }
   ],
   "source": [
    "#Pesos nas melhores carteiras\n",
    "cov_m <- matrix(c(data[2,positivo]^2/252, t(pesos_otimo) %*% cov_f2 %*% pesos_efi,\n",
    "                  t(pesos_otimo) %*% cov_f2 %*% pesos_efi, sd_otimo^2/252), byrow = T,\n",
    "                nrow = 2)\n",
    "inve <- solve(cov_m)\n",
    "p <- inve %*% (c(data[1,positivo], data_otimo$Retorno)-tx_livre_risco)/\n",
    "  sum(inve %*% (c(data[1,positivo], data_otimo$Retorno)-tx_livre_risco))\n",
    "rownames(p) <- c(\"Simulado\", \"Calculado\")\n",
    "colnames(p) <- \"Distribuição das carteiras\"\n",
    "p    "
   ]
  },
  {
   "cell_type": "code",
   "execution_count": 36,
   "metadata": {},
   "outputs": [
    {
     "data": {
      "image/png": "[encoded data removed]",
      "text/plain": [
       "plot without title"
      ]
     },
     "metadata": {
      "image/png": {
       "height": 420,
       "width": 420
      }
     },
     "output_type": "display_data"
    }
   ],
   "source": [
    "ggplot()+\n",
    "  geom_point(data = fronteira, aes(x = Risco, y = Retorno), col = \"red\")+\n",
    "  geom_point(data = data_d, mapping = aes(x = Riscos, y = Retornos, col = Sharpe), size = 0.7, alpha = 0.4)+\n",
    "  geom_point(data = retorno_med, aes(x = Risco, Retorno), col = 1:nrow(retorno_med), size = 2.5)+\n",
    "  geom_text(data = retorno_med, aes(x = Risco, Retorno, label = colnames(reta_ts)),\n",
    "            size = 3.5)+\n",
    "  geom_point(data = data_otimo, aes(x = Risco, y = Retorno), col = \"green\", size = 4)+\n",
    "  geom_text(data = data_otimo, aes(x = Risco+0.015, Retorno, label = \"Carteira Ótima\"))+\n",
    "  geom_point(data = data_men, aes(x = Risco, y = Retorno), col = \"blue\", size = 4)+\n",
    "  geom_text(data = data_men, aes(x = Risco+0.015, Retorno, label = \"Menor Risco\"))+\n",
    "  geom_abline(slope = max(data[3,]), intercept = tx_livre_risco, col = \"red\")+\n",
    "  scale_colour_gradient2(low = \"red\", high = \"forestgreen\", mid = \"darkorange\")+\n",
    "  labs(x = expression(sigma), y = expression(mu), title = \"Fronteira eficiente por modelos GARCH\",\n",
    "       subtitle = paste(\"Número de simulações =\",ncol(pesos)), caption = \"Elaboraçãoo: Gabriel André Marquez Matte\")+\n",
    "  scale_y_continuous(labels = scales::percent,\n",
    "                     limits = c(min(fronteira$Retorno,retornos,coefs), max(fronteira$Retorno,coefs,retornos)))+\n",
    "  scale_x_continuous(labels = scales::percent,\n",
    "                     limits = c(min(fronteira[,2],riscos,sd_a_f2), max(sd_a_f2,fronteira[,2],riscos)))\n"
   ]
  },
  {
   "cell_type": "code",
   "execution_count": null,
   "metadata": {},
   "outputs": [],
   "source": []
  }
 ],
 "metadata": {
  "kernelspec": {
   "display_name": "R",
   "language": "R",
   "name": "ir"
  },
  "language_info": {
   "codemirror_mode": "r",
   "file_extension": ".r",
   "mimetype": "text/x-r-source",
   "name": "R",
   "pygments_lexer": "r",
   "version": "4.0.2"
  }
 },
 "nbformat": 4,
 "nbformat_minor": 4
}
