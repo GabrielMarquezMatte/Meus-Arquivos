{
 "cells": [
  {
   "cell_type": "markdown",
   "metadata": {},
   "source": [
    "## Modelo GARCH\n",
    "$\\varepsilon_t \\sim \\mathcal{N}\\left(0,\\sigma_t \\right)$\n",
    "\n",
    "$\\sigma_t = \\sqrt{\\omega+\\alpha_1\\sigma_{t-1}^2+\\alpha_2\\sigma_{t-2}^2...\\alpha_q\\sigma_{t-p}^2+\\beta_1\\varepsilon_{t-1}^2+\\beta_2\\varepsilon_{t-2}^2...+\\beta_p\\varepsilon_{t-q}^2} = \\sqrt{\\omega+\\sum_{i = 1}^{p}\\alpha_i\\sigma_{t-i}^2+\\sum_{i = 1}^{q}\\beta_{t-i}^2}$"
   ]
  },
  {
   "cell_type": "code",
   "execution_count": 1,
   "metadata": {},
   "outputs": [],
   "source": [
    "setwd(\"C:/Users/User/Documents/Meus Arquivos/Códigos\")\n",
    "source(\"Funções.R\")"
   ]
  },
  {
   "cell_type": "code",
   "execution_count": 2,
   "metadata": {},
   "outputs": [],
   "source": [
    "options(warn = -1, scipen = 999)\n",
    "pacotes <- c(\"tidyquant\", \"tidyverse\",\"corrplot\",\"wesanderson\")\n",
    "for(i in pacotes){\n",
    "    suppressPackageStartupMessages({\n",
    "        library(i, character.only = T)\n",
    "    })\n",
    "}"
   ]
  },
  {
   "cell_type": "code",
   "execution_count": 3,
   "metadata": {},
   "outputs": [],
   "source": [
    "#Ações escolhidas\n",
    "acoes <- acoes <- c(\"TRPL4.SA\",\"ITSA4.SA\",\"ABEV3.SA\",\"ENAT3.SA\",\"B3SA3.SA\")\n",
    "reta <- tq_get(acoes, from = \"2010-01-01\") %>%\n",
    "  mutate(adjusted = abs(adjusted)) %>%\n",
    "  group_by(symbol) %>%\n",
    "  tq_transmute(select = adjusted, mutate_fun = dailyReturn) %>%\n",
    "  spread(key = symbol, value = daily.returns) %>%\n",
    "  na.omit\n",
    "datas <- reta$date"
   ]
  },
  {
   "cell_type": "code",
   "execution_count": 4,
   "metadata": {},
   "outputs": [],
   "source": [
    "#Transformando em série temporal\n",
    "reta_ts <- xts(reta[,2:ncol(reta)], order.by = datas)"
   ]
  },
  {
   "cell_type": "code",
   "execution_count": 5,
   "metadata": {},
   "outputs": [],
   "source": [
    "lista <- suppressMessages(apply(reta_ts,2,find_best_arch_model,c(\"sGARCH\"),\n",
    "                                c(\"snorm\",\"std\"),max_lag_MA = 1,max_lag_AR = 1,2,2,\n",
    "                                min_GARCH = 1,\n",
    "                               min_ARCH = 1))\n",
    "multi <- replicate(ncol(reta_ts),list())"
   ]
  },
  {
   "cell_type": "code",
   "execution_count": 6,
   "metadata": {},
   "outputs": [],
   "source": [
    "for(i in 1:length(lista)){\n",
    "  multi[[i]] <- lista[[i]]$ugspec_b\n",
    "}"
   ]
  },
  {
   "cell_type": "code",
   "execution_count": 7,
   "metadata": {},
   "outputs": [],
   "source": [
    "multspec <- multispec(multi)\n",
    "multf <- multifit(multispec = multspec, data = reta_ts)\n",
    "multfor <- multiforecast(multf, n.ahead = 2)"
   ]
  },
  {
   "cell_type": "code",
   "execution_count": 8,
   "metadata": {},
   "outputs": [],
   "source": [
    "best <- suppressMessages(find_best_dcc_model(reta_ts, uspec = multspec, dist_to_use = c(\"mvnorm\",\"mvt\")))\n",
    "spec1 <- best$dccspec_b"
   ]
  },
  {
   "cell_type": "code",
   "execution_count": 9,
   "metadata": {},
   "outputs": [],
   "source": [
    "fit1 <- dccfit(spec1, data = reta_ts, fit = multf, fit.control = list(eval.se = T))\n",
    "fore <- dccforecast(fit = fit1, n.ahead = 2)"
   ]
  },
  {
   "cell_type": "code",
   "execution_count": 10,
   "metadata": {},
   "outputs": [],
   "source": [
    "#Usando o µ como retorno esperado\n",
    "coefs <- numeric(length = ncol(reta_ts))\n",
    "for(i in 1:length(coefs)){\n",
    "  coefs[i] <- multf@fit[[i]]@fit$coef[\"mu\"]*252\n",
    "}"
   ]
  },
  {
   "cell_type": "code",
   "execution_count": 11,
   "metadata": {},
   "outputs": [],
   "source": [
    "#Matriz de covariância\n",
    "cov1 <- rcov(fit1)\n",
    "cov <- cov1[,,dim(cov1)[3]]\n",
    "cov_f <- rcov(fore)\n",
    "cov_f <- cov_f[[1]]\n",
    "cov_f1 <- cov_f[1:ncol(reta_ts),1:ncol(reta_ts),1]\n",
    "cov_f2 <- cov_f[1:ncol(reta_ts),1:ncol(reta_ts),2]"
   ]
  },
  {
   "cell_type": "code",
   "execution_count": 12,
   "metadata": {},
   "outputs": [
    {
     "data": {
      "image/png": "[encoded data removed]",
      "text/plain": [
       "Plot with title \"\""
      ]
     },
     "metadata": {
      "image/png": {
       "height": 420,
       "width": 420
      }
     },
     "output_type": "display_data"
    }
   ],
   "source": [
    "correlacao <- rcor(fore)[[1]][,,2]\n",
    "corrplot(correlacao)"
   ]
  },
  {
   "cell_type": "code",
   "execution_count": 13,
   "metadata": {},
   "outputs": [],
   "source": [
    "#Desvio das ações\n",
    "sd <- sqrt(diag(cov))\n",
    "sd_f1 <- sqrt(diag(cov_f1))\n",
    "sd_f2 <- sqrt(diag(cov_f2))\n",
    "sd_a <- sd*sqrt(252)\n",
    "sd_a_f1 <- sd_f1*sqrt(252)\n",
    "sd_a_f2 <- sd_f2*sqrt(252)"
   ]
  },
  {
   "cell_type": "code",
   "execution_count": 14,
   "metadata": {},
   "outputs": [],
   "source": [
    "#Data.frame\n",
    "retorno_med <- data.frame(coefs, sd_a_f2)\n",
    "colnames(retorno_med) <- c(\"Retorno\",\"Risco\")\n",
    "rownames(retorno_med) <- colnames(reta_ts)\n",
    "retorno_med$Retorno <- coefs"
   ]
  },
  {
   "cell_type": "code",
   "execution_count": 15,
   "metadata": {},
   "outputs": [],
   "source": [
    "#Nº de simulações de carteiras a se fazer\n",
    "n_sim <- 500000\n",
    "pesos <- pesos_carteira(n_acoes = ncol(reta_ts), n_sim = n_sim, short = F)"
   ]
  },
  {
   "cell_type": "markdown",
   "metadata": {},
   "source": [
    "## Risco e retorno de uma carteira\n",
    "$\\sigma_c = \\sqrt{\\begin{vmatrix}\\omega_1 & \\omega_2 & \\cdots \\end{vmatrix} * \\begin{vmatrix}\\sigma^2_{1} & \\cdots & \\sigma_{1,n} \\\\ \\vdots & \\ddots & \\vdots \\\\ \\sigma_{n,1} & \\cdots & \\sigma^2_{n} \\end{vmatrix} * \\begin{vmatrix}\\omega_1 \\\\ \\omega_2 \\\\ \\vdots \\end{vmatrix}}$\n",
    "\n",
    "$\\mu_c = \\sum_{i}\\omega_i\\mu_i$"
   ]
  },
  {
   "cell_type": "code",
   "execution_count": 16,
   "metadata": {},
   "outputs": [
    {
     "data": {
      "text/plain": [
       "Time difference of 24.63826 secs"
      ]
     },
     "metadata": {},
     "output_type": "display_data"
    }
   ],
   "source": [
    "#Escolha se prefere o risco atual ou a previsão de risco para 1 período (sd ou sd_f)\n",
    "start <- Sys.time()\n",
    "riscos <- apply(pesos, 2, portfolio_sd_t, cov = cov_f2)*sqrt(252)\n",
    "riscos <- riscos %>% as.matrix\n",
    "retornos <- apply(pesos, 2, portfolio_return, returns = retorno_med$Retorno) %>% as.matrix\n",
    "colsub <- apply(riscos,1,function(x)!is.nan(x))\n",
    "riscos <- riscos[colsub]\n",
    "retornos <- retornos[colsub]\n",
    "end <- Sys.time()\n",
    "end-start"
   ]
  },
  {
   "cell_type": "markdown",
   "metadata": {},
   "source": [
    "## Sharpe\n",
    "$S = \\frac{\\mu_c-\\mu_r}{\\sigma_c}$ onde $\\mu_c$ é o retorno da carteira, $\\mu_r$ o retorno do ativo livre de risco e $\\sigma_c$ é o desvio-padrão da carteira"
   ]
  },
  {
   "cell_type": "code",
   "execution_count": 17,
   "metadata": {},
   "outputs": [],
   "source": [
    "#Sharpe\n",
    "tx_livre_risco <- 0.0025\n",
    "data <- matrix(0, nrow = 3, ncol = length(riscos))\n",
    "data[1,] <- retornos\n",
    "data[2,] <- riscos\n",
    "data[3,] <- (retornos-tx_livre_risco)/riscos\n",
    "rownames(data) <- c(\"Retornos\", \"Riscos\",\"Sharpe\")\n",
    "pesos <- pesos[,colsub]\n",
    "data_d <- as.data.frame(t(data))"
   ]
  },
  {
   "cell_type": "code",
   "execution_count": 18,
   "metadata": {},
   "outputs": [
    {
     "data": {
      "text/html": [
       "<strong>Sharpe Máximo:</strong> 1.95305400466952"
      ],
      "text/latex": [
       "\\textbf{Sharpe Máximo:} 1.95305400466952"
      ],
      "text/markdown": [
       "**Sharpe Máximo:** 1.95305400466952"
      ],
      "text/plain": [
       "Sharpe Máximo \n",
       "     1.953054 "
      ]
     },
     "metadata": {},
     "output_type": "display_data"
    },
    {
     "data": {
      "text/html": [
       "<strong>Retorno Máximo:</strong> 0.696209952104001"
      ],
      "text/latex": [
       "\\textbf{Retorno Máximo:} 0.696209952104001"
      ],
      "text/markdown": [
       "**Retorno Máximo:** 0.696209952104001"
      ],
      "text/plain": [
       "Retorno Máximo \n",
       "       0.69621 "
      ]
     },
     "metadata": {},
     "output_type": "display_data"
    },
    {
     "data": {
      "text/html": [
       "<strong>Risco Mínimo:</strong> 0.21499951746911"
      ],
      "text/latex": [
       "\\textbf{Risco Mínimo:} 0.21499951746911"
      ],
      "text/markdown": [
       "**Risco Mínimo:** 0.21499951746911"
      ],
      "text/plain": [
       "Risco Mínimo \n",
       "   0.2149995 "
      ]
     },
     "metadata": {},
     "output_type": "display_data"
    }
   ],
   "source": [
    "#Dados Simulados\n",
    "sharpe <- max(data[3,])\n",
    "names(sharpe) <- \"Sharpe Máximo\"\n",
    "Ret_max <- max(data[1,])\n",
    "names(Ret_max) <- \"Retorno Máximo\"\n",
    "sd_min <- min(data[2,])\n",
    "names(sd_min) <- \"Risco Mínimo\"\n",
    "sharpe\n",
    "Ret_max\n",
    "sd_min"
   ]
  },
  {
   "cell_type": "code",
   "execution_count": 19,
   "metadata": {},
   "outputs": [
    {
     "data": {
      "text/html": [
       "<dl>\n",
       "\t<dt>$Marginal</dt>\n",
       "\t\t<dd><table>\n",
       "<caption>A matrix: 1 × 9 of type dbl</caption>\n",
       "<thead>\n",
       "\t<tr><th scope=col>ABEV3.SA</th><th scope=col>BIDI4.SA</th><th scope=col>ENBR3.SA</th><th scope=col>FLRY3.SA</th><th scope=col>GRND3.SA</th><th scope=col>ITSA4.SA</th><th scope=col>LREN3.SA</th><th scope=col>RADL3.SA</th><th scope=col>WEGE3.SA</th></tr>\n",
       "</thead>\n",
       "<tbody>\n",
       "\t<tr><td>-0.004368056</td><td>0.0105238</td><td>0.006870529</td><td>0.007739246</td><td>0.001947197</td><td>0.004780857</td><td>0.009337643</td><td>0.007288702</td><td>0.0185563</td></tr>\n",
       "</tbody>\n",
       "</table>\n",
       "</dd>\n",
       "\t<dt>$Contribution</dt>\n",
       "\t\t<dd><table>\n",
       "<caption>A matrix: 1 × 9 of type dbl</caption>\n",
       "<thead>\n",
       "\t<tr><th scope=col>ABEV3.SA</th><th scope=col>BIDI4.SA</th><th scope=col>ENBR3.SA</th><th scope=col>FLRY3.SA</th><th scope=col>GRND3.SA</th><th scope=col>ITSA4.SA</th><th scope=col>LREN3.SA</th><th scope=col>RADL3.SA</th><th scope=col>WEGE3.SA</th></tr>\n",
       "</thead>\n",
       "<tbody>\n",
       "\t<tr><td>0.001772805</td><td>0.001309307</td><td>0.003660054</td><td>0.0007719615</td><td>-0.0005137251</td><td>-0.0002432275</td><td>0.0000748004</td><td>0.0007819722</td><td>0.0157429</td></tr>\n",
       "</tbody>\n",
       "</table>\n",
       "</dd>\n",
       "\t<dt>$Return_contribution</dt>\n",
       "\t\t<dd><table>\n",
       "<caption>A matrix: 9 × 1 of type dbl</caption>\n",
       "<tbody>\n",
       "\t<tr><th scope=row>ABEV3.SA</th><td> 0.065262196</td></tr>\n",
       "\t<tr><th scope=row>BIDI4.SA</th><td> 0.049259859</td></tr>\n",
       "\t<tr><th scope=row>ENBR3.SA</th><td> 0.138163970</td></tr>\n",
       "\t<tr><th scope=row>FLRY3.SA</th><td> 0.029109369</td></tr>\n",
       "\t<tr><th scope=row>GRND3.SA</th><td>-0.019865330</td></tr>\n",
       "\t<tr><th scope=row>ITSA4.SA</th><td>-0.009220317</td></tr>\n",
       "\t<tr><th scope=row>LREN3.SA</th><td> 0.002816461</td></tr>\n",
       "\t<tr><th scope=row>RADL3.SA</th><td> 0.029502471</td></tr>\n",
       "\t<tr><th scope=row>WEGE3.SA</th><td> 0.590673933</td></tr>\n",
       "</tbody>\n",
       "</table>\n",
       "</dd>\n",
       "</dl>\n"
      ],
      "text/latex": [
       "\\begin{description}\n",
       "\\item[\\$Marginal] A matrix: 1 × 9 of type dbl\n",
       "\\begin{tabular}{lllllllll}\n",
       " ABEV3.SA & BIDI4.SA & ENBR3.SA & FLRY3.SA & GRND3.SA & ITSA4.SA & LREN3.SA & RADL3.SA & WEGE3.SA\\\\\n",
       "\\hline\n",
       "\t -0.004368056 & 0.0105238 & 0.006870529 & 0.007739246 & 0.001947197 & 0.004780857 & 0.009337643 & 0.007288702 & 0.0185563\\\\\n",
       "\\end{tabular}\n",
       "\n",
       "\\item[\\$Contribution] A matrix: 1 × 9 of type dbl\n",
       "\\begin{tabular}{lllllllll}\n",
       " ABEV3.SA & BIDI4.SA & ENBR3.SA & FLRY3.SA & GRND3.SA & ITSA4.SA & LREN3.SA & RADL3.SA & WEGE3.SA\\\\\n",
       "\\hline\n",
       "\t 0.001772805 & 0.001309307 & 0.003660054 & 0.0007719615 & -0.0005137251 & -0.0002432275 & 0.0000748004 & 0.0007819722 & 0.0157429\\\\\n",
       "\\end{tabular}\n",
       "\n",
       "\\item[\\$Return\\_contribution] A matrix: 9 × 1 of type dbl\n",
       "\\begin{tabular}{r|l}\n",
       "\tABEV3.SA &  0.065262196\\\\\n",
       "\tBIDI4.SA &  0.049259859\\\\\n",
       "\tENBR3.SA &  0.138163970\\\\\n",
       "\tFLRY3.SA &  0.029109369\\\\\n",
       "\tGRND3.SA & -0.019865330\\\\\n",
       "\tITSA4.SA & -0.009220317\\\\\n",
       "\tLREN3.SA &  0.002816461\\\\\n",
       "\tRADL3.SA &  0.029502471\\\\\n",
       "\tWEGE3.SA &  0.590673933\\\\\n",
       "\\end{tabular}\n",
       "\n",
       "\\end{description}\n"
      ],
      "text/markdown": [
       "$Marginal\n",
       ":   \n",
       "A matrix: 1 × 9 of type dbl\n",
       "\n",
       "| ABEV3.SA | BIDI4.SA | ENBR3.SA | FLRY3.SA | GRND3.SA | ITSA4.SA | LREN3.SA | RADL3.SA | WEGE3.SA |\n",
       "|---|---|---|---|---|---|---|---|---|\n",
       "| -0.004368056 | 0.0105238 | 0.006870529 | 0.007739246 | 0.001947197 | 0.004780857 | 0.009337643 | 0.007288702 | 0.0185563 |\n",
       "\n",
       "\n",
       "$Contribution\n",
       ":   \n",
       "A matrix: 1 × 9 of type dbl\n",
       "\n",
       "| ABEV3.SA | BIDI4.SA | ENBR3.SA | FLRY3.SA | GRND3.SA | ITSA4.SA | LREN3.SA | RADL3.SA | WEGE3.SA |\n",
       "|---|---|---|---|---|---|---|---|---|\n",
       "| 0.001772805 | 0.001309307 | 0.003660054 | 0.0007719615 | -0.0005137251 | -0.0002432275 | 0.0000748004 | 0.0007819722 | 0.0157429 |\n",
       "\n",
       "\n",
       "$Return_contribution\n",
       ":   \n",
       "A matrix: 9 × 1 of type dbl\n",
       "\n",
       "| ABEV3.SA |  0.065262196 |\n",
       "| BIDI4.SA |  0.049259859 |\n",
       "| ENBR3.SA |  0.138163970 |\n",
       "| FLRY3.SA |  0.029109369 |\n",
       "| GRND3.SA | -0.019865330 |\n",
       "| ITSA4.SA | -0.009220317 |\n",
       "| LREN3.SA |  0.002816461 |\n",
       "| RADL3.SA |  0.029502471 |\n",
       "| WEGE3.SA |  0.590673933 |\n",
       "\n",
       "\n",
       "\n",
       "\n"
      ],
      "text/plain": [
       "$Marginal\n",
       "         ABEV3.SA  BIDI4.SA    ENBR3.SA    FLRY3.SA    GRND3.SA    ITSA4.SA\n",
       "[1,] -0.004368056 0.0105238 0.006870529 0.007739246 0.001947197 0.004780857\n",
       "        LREN3.SA    RADL3.SA  WEGE3.SA\n",
       "[1,] 0.009337643 0.007288702 0.0185563\n",
       "\n",
       "$Contribution\n",
       "        ABEV3.SA    BIDI4.SA    ENBR3.SA     FLRY3.SA      GRND3.SA\n",
       "[1,] 0.001772805 0.001309307 0.003660054 0.0007719615 -0.0005137251\n",
       "          ITSA4.SA     LREN3.SA     RADL3.SA  WEGE3.SA\n",
       "[1,] -0.0002432275 0.0000748004 0.0007819722 0.0157429\n",
       "\n",
       "$Return_contribution\n",
       "                 [,1]\n",
       "ABEV3.SA  0.065262196\n",
       "BIDI4.SA  0.049259859\n",
       "ENBR3.SA  0.138163970\n",
       "FLRY3.SA  0.029109369\n",
       "GRND3.SA -0.019865330\n",
       "ITSA4.SA -0.009220317\n",
       "LREN3.SA  0.002816461\n",
       "RADL3.SA  0.029502471\n",
       "WEGE3.SA  0.590673933\n"
      ]
     },
     "metadata": {},
     "output_type": "display_data"
    }
   ],
   "source": [
    "#Melhor carteira (Venda a descoberto)\n",
    "otimo <- otimizacao(coefs, cov_f2, tx_livre_risco, short = T)\n",
    "pesos_otimo <- otimo$Weights\n",
    "ret_otimo <- otimo$Return\n",
    "sd_otimo <- otimo$Sd*sqrt(252)\n",
    "sharpe_otimo <- (ret_otimo-tx_livre_risco)/sd_otimo\n",
    "data_otimo <- data.frame(Retorno = ret_otimo, Risco = sd_otimo, Sharpe = sharpe_otimo)\n",
    "componente_m_o <- componente_risco(ret = coefs,cov = cov_f2, weights = pesos_otimo, percent = F)\n",
    "componente_m_o"
   ]
  },
  {
   "cell_type": "code",
   "execution_count": 20,
   "metadata": {},
   "outputs": [
    {
     "data": {
      "text/html": [
       "<table>\n",
       "<caption>A data.frame: 1 × 3</caption>\n",
       "<thead>\n",
       "\t<tr><th scope=col>Retorno</th><th scope=col>Risco</th><th scope=col>Sharpe</th></tr>\n",
       "\t<tr><th scope=col>&lt;dbl&gt;</th><th scope=col>&lt;dbl&gt;</th><th scope=col>&lt;dbl&gt;</th></tr>\n",
       "</thead>\n",
       "<tbody>\n",
       "\t<tr><td>0.8757026</td><td>0.3707785</td><td>2.355052</td></tr>\n",
       "</tbody>\n",
       "</table>\n"
      ],
      "text/latex": [
       "A data.frame: 1 × 3\n",
       "\\begin{tabular}{lll}\n",
       " Retorno & Risco & Sharpe\\\\\n",
       " <dbl> & <dbl> & <dbl>\\\\\n",
       "\\hline\n",
       "\t 0.8757026 & 0.3707785 & 2.355052\\\\\n",
       "\\end{tabular}\n"
      ],
      "text/markdown": [
       "\n",
       "A data.frame: 1 × 3\n",
       "\n",
       "| Retorno &lt;dbl&gt; | Risco &lt;dbl&gt; | Sharpe &lt;dbl&gt; |\n",
       "|---|---|---|\n",
       "| 0.8757026 | 0.3707785 | 2.355052 |\n",
       "\n"
      ],
      "text/plain": [
       "  Retorno   Risco     Sharpe  \n",
       "1 0.8757026 0.3707785 2.355052"
      ]
     },
     "metadata": {},
     "output_type": "display_data"
    },
    {
     "name": "stdout",
     "output_type": "stream",
     "text": [
      "ABEV3.SA BIDI4.SA ENBR3.SA FLRY3.SA GRND3.SA ITSA4.SA LREN3.SA RADL3.SA \n",
      "-0.40586  0.12441  0.53272  0.09975 -0.26383 -0.05088  0.00801  0.10729 \n",
      "WEGE3.SA \n",
      " 0.84839 \n"
     ]
    }
   ],
   "source": [
    "#Dados da carteira ótima (com possível venda a descoberto)\n",
    "data_otimo\n",
    "print(pesos_otimo, 3)"
   ]
  },
  {
   "cell_type": "code",
   "execution_count": 21,
   "metadata": {},
   "outputs": [
    {
     "data": {
      "text/html": [
       "<dl>\n",
       "\t<dt>$Marginal</dt>\n",
       "\t\t<dd><table>\n",
       "<caption>A matrix: 1 × 9 of type dbl</caption>\n",
       "<thead>\n",
       "\t<tr><th scope=col>ABEV3.SA</th><th scope=col>BIDI4.SA</th><th scope=col>ENBR3.SA</th><th scope=col>FLRY3.SA</th><th scope=col>GRND3.SA</th><th scope=col>ITSA4.SA</th><th scope=col>LREN3.SA</th><th scope=col>RADL3.SA</th><th scope=col>WEGE3.SA</th></tr>\n",
       "</thead>\n",
       "<tbody>\n",
       "\t<tr><td>0.01109881</td><td>0.0125507</td><td>0.008193793</td><td>0.009931224</td><td>0.00837524</td><td>0.01065364</td><td>0.01887491</td><td>0.0092997</td><td>0.02213025</td></tr>\n",
       "</tbody>\n",
       "</table>\n",
       "</dd>\n",
       "\t<dt>$Contribution</dt>\n",
       "\t\t<dd><table>\n",
       "<caption>A matrix: 1 × 9 of type dbl</caption>\n",
       "<thead>\n",
       "\t<tr><th scope=col>ABEV3.SA</th><th scope=col>BIDI4.SA</th><th scope=col>ENBR3.SA</th><th scope=col>FLRY3.SA</th><th scope=col>GRND3.SA</th><th scope=col>ITSA4.SA</th><th scope=col>LREN3.SA</th><th scope=col>RADL3.SA</th><th scope=col>WEGE3.SA</th></tr>\n",
       "</thead>\n",
       "<tbody>\n",
       "\t<tr><td>0</td><td>0.0009445528</td><td>0.002047662</td><td>0</td><td>0</td><td>0</td><td>0</td><td>0</td><td>0.01493433</td></tr>\n",
       "</tbody>\n",
       "</table>\n",
       "</dd>\n",
       "\t<dt>$Return_contribution</dt>\n",
       "\t\t<dd><table>\n",
       "<caption>A matrix: 9 × 1 of type dbl</caption>\n",
       "<tbody>\n",
       "\t<tr><th scope=row>ABEV3.SA</th><td>0.00000000</td></tr>\n",
       "\t<tr><th scope=row>BIDI4.SA</th><td>0.02979768</td></tr>\n",
       "\t<tr><th scope=row>ENBR3.SA</th><td>0.06481428</td></tr>\n",
       "\t<tr><th scope=row>FLRY3.SA</th><td>0.00000000</td></tr>\n",
       "\t<tr><th scope=row>GRND3.SA</th><td>0.00000000</td></tr>\n",
       "\t<tr><th scope=row>ITSA4.SA</th><td>0.00000000</td></tr>\n",
       "\t<tr><th scope=row>LREN3.SA</th><td>0.00000000</td></tr>\n",
       "\t<tr><th scope=row>RADL3.SA</th><td>0.00000000</td></tr>\n",
       "\t<tr><th scope=row>WEGE3.SA</th><td>0.46984434</td></tr>\n",
       "</tbody>\n",
       "</table>\n",
       "</dd>\n",
       "</dl>\n"
      ],
      "text/latex": [
       "\\begin{description}\n",
       "\\item[\\$Marginal] A matrix: 1 × 9 of type dbl\n",
       "\\begin{tabular}{lllllllll}\n",
       " ABEV3.SA & BIDI4.SA & ENBR3.SA & FLRY3.SA & GRND3.SA & ITSA4.SA & LREN3.SA & RADL3.SA & WEGE3.SA\\\\\n",
       "\\hline\n",
       "\t 0.01109881 & 0.0125507 & 0.008193793 & 0.009931224 & 0.00837524 & 0.01065364 & 0.01887491 & 0.0092997 & 0.02213025\\\\\n",
       "\\end{tabular}\n",
       "\n",
       "\\item[\\$Contribution] A matrix: 1 × 9 of type dbl\n",
       "\\begin{tabular}{lllllllll}\n",
       " ABEV3.SA & BIDI4.SA & ENBR3.SA & FLRY3.SA & GRND3.SA & ITSA4.SA & LREN3.SA & RADL3.SA & WEGE3.SA\\\\\n",
       "\\hline\n",
       "\t 0 & 0.0009445528 & 0.002047662 & 0 & 0 & 0 & 0 & 0 & 0.01493433\\\\\n",
       "\\end{tabular}\n",
       "\n",
       "\\item[\\$Return\\_contribution] A matrix: 9 × 1 of type dbl\n",
       "\\begin{tabular}{r|l}\n",
       "\tABEV3.SA & 0.00000000\\\\\n",
       "\tBIDI4.SA & 0.02979768\\\\\n",
       "\tENBR3.SA & 0.06481428\\\\\n",
       "\tFLRY3.SA & 0.00000000\\\\\n",
       "\tGRND3.SA & 0.00000000\\\\\n",
       "\tITSA4.SA & 0.00000000\\\\\n",
       "\tLREN3.SA & 0.00000000\\\\\n",
       "\tRADL3.SA & 0.00000000\\\\\n",
       "\tWEGE3.SA & 0.46984434\\\\\n",
       "\\end{tabular}\n",
       "\n",
       "\\end{description}\n"
      ],
      "text/markdown": [
       "$Marginal\n",
       ":   \n",
       "A matrix: 1 × 9 of type dbl\n",
       "\n",
       "| ABEV3.SA | BIDI4.SA | ENBR3.SA | FLRY3.SA | GRND3.SA | ITSA4.SA | LREN3.SA | RADL3.SA | WEGE3.SA |\n",
       "|---|---|---|---|---|---|---|---|---|\n",
       "| 0.01109881 | 0.0125507 | 0.008193793 | 0.009931224 | 0.00837524 | 0.01065364 | 0.01887491 | 0.0092997 | 0.02213025 |\n",
       "\n",
       "\n",
       "$Contribution\n",
       ":   \n",
       "A matrix: 1 × 9 of type dbl\n",
       "\n",
       "| ABEV3.SA | BIDI4.SA | ENBR3.SA | FLRY3.SA | GRND3.SA | ITSA4.SA | LREN3.SA | RADL3.SA | WEGE3.SA |\n",
       "|---|---|---|---|---|---|---|---|---|\n",
       "| 0 | 0.0009445528 | 0.002047662 | 0 | 0 | 0 | 0 | 0 | 0.01493433 |\n",
       "\n",
       "\n",
       "$Return_contribution\n",
       ":   \n",
       "A matrix: 9 × 1 of type dbl\n",
       "\n",
       "| ABEV3.SA | 0.00000000 |\n",
       "| BIDI4.SA | 0.02979768 |\n",
       "| ENBR3.SA | 0.06481428 |\n",
       "| FLRY3.SA | 0.00000000 |\n",
       "| GRND3.SA | 0.00000000 |\n",
       "| ITSA4.SA | 0.00000000 |\n",
       "| LREN3.SA | 0.00000000 |\n",
       "| RADL3.SA | 0.00000000 |\n",
       "| WEGE3.SA | 0.46984434 |\n",
       "\n",
       "\n",
       "\n",
       "\n"
      ],
      "text/plain": [
       "$Marginal\n",
       "       ABEV3.SA  BIDI4.SA    ENBR3.SA    FLRY3.SA   GRND3.SA   ITSA4.SA\n",
       "[1,] 0.01109881 0.0125507 0.008193793 0.009931224 0.00837524 0.01065364\n",
       "       LREN3.SA  RADL3.SA   WEGE3.SA\n",
       "[1,] 0.01887491 0.0092997 0.02213025\n",
       "\n",
       "$Contribution\n",
       "     ABEV3.SA     BIDI4.SA    ENBR3.SA FLRY3.SA GRND3.SA ITSA4.SA LREN3.SA\n",
       "[1,]        0 0.0009445528 0.002047662        0        0        0        0\n",
       "     RADL3.SA   WEGE3.SA\n",
       "[1,]        0 0.01493433\n",
       "\n",
       "$Return_contribution\n",
       "               [,1]\n",
       "ABEV3.SA 0.00000000\n",
       "BIDI4.SA 0.02979768\n",
       "ENBR3.SA 0.06481428\n",
       "FLRY3.SA 0.00000000\n",
       "GRND3.SA 0.00000000\n",
       "ITSA4.SA 0.00000000\n",
       "LREN3.SA 0.00000000\n",
       "RADL3.SA 0.00000000\n",
       "WEGE3.SA 0.46984434\n"
      ]
     },
     "metadata": {},
     "output_type": "display_data"
    }
   ],
   "source": [
    "#Melhor carteira \n",
    "otimo_s <- otimizacao(coefs, cov_f2, tx_livre_risco, short = F)\n",
    "pesos_otimo_s <- otimo_s$Weights\n",
    "ret_otimo_s <- otimo_s$Return\n",
    "sd_otimo_s <- otimo_s$Sd*sqrt(252)\n",
    "sharpe_otimo_s <- (ret_otimo_s-tx_livre_risco)/sd_otimo_s\n",
    "data_otimo_s <- data.frame(Retorno = ret_otimo_s, Risco = sd_otimo_s, Sharpe = sharpe_otimo_s)\n",
    "#Contribuição dos ativos em % para o risco\n",
    "componente_m_s <- componente_risco(ret = coefs,cov = cov_f2, weights = pesos_otimo_s, percent = F)\n",
    "componente_m_s"
   ]
  },
  {
   "cell_type": "code",
   "execution_count": 22,
   "metadata": {},
   "outputs": [
    {
     "data": {
      "text/html": [
       "<table>\n",
       "<caption>A data.frame: 1 × 3</caption>\n",
       "<thead>\n",
       "\t<tr><th scope=col>Retorno</th><th scope=col>Risco</th><th scope=col>Sharpe</th></tr>\n",
       "\t<tr><th scope=col>&lt;dbl&gt;</th><th scope=col>&lt;dbl&gt;</th><th scope=col>&lt;dbl&gt;</th></tr>\n",
       "</thead>\n",
       "<tbody>\n",
       "\t<tr><td>0.5644563</td><td>0.2845751</td><td>1.974721</td></tr>\n",
       "</tbody>\n",
       "</table>\n"
      ],
      "text/latex": [
       "A data.frame: 1 × 3\n",
       "\\begin{tabular}{lll}\n",
       " Retorno & Risco & Sharpe\\\\\n",
       " <dbl> & <dbl> & <dbl>\\\\\n",
       "\\hline\n",
       "\t 0.5644563 & 0.2845751 & 1.974721\\\\\n",
       "\\end{tabular}\n"
      ],
      "text/markdown": [
       "\n",
       "A data.frame: 1 × 3\n",
       "\n",
       "| Retorno &lt;dbl&gt; | Risco &lt;dbl&gt; | Sharpe &lt;dbl&gt; |\n",
       "|---|---|---|\n",
       "| 0.5644563 | 0.2845751 | 1.974721 |\n",
       "\n"
      ],
      "text/plain": [
       "  Retorno   Risco     Sharpe  \n",
       "1 0.5644563 0.2845751 1.974721"
      ]
     },
     "metadata": {},
     "output_type": "display_data"
    },
    {
     "name": "stdout",
     "output_type": "stream",
     "text": [
      "ABEV3.SA BIDI4.SA ENBR3.SA FLRY3.SA GRND3.SA ITSA4.SA LREN3.SA RADL3.SA \n",
      "  0.0000   0.0753   0.2499   0.0000   0.0000   0.0000   0.0000   0.0000 \n",
      "WEGE3.SA \n",
      "  0.6748 \n"
     ]
    }
   ],
   "source": [
    "#Dados da melhor carteira (sem possível venda)\n",
    "data_otimo_s\n",
    "print(pesos_otimo_s, digits = 3)"
   ]
  },
  {
   "cell_type": "code",
   "execution_count": 23,
   "metadata": {
    "scrolled": true
   },
   "outputs": [
    {
     "name": "stdout",
     "output_type": "stream",
     "text": [
      " Retornos    Riscos    Sharpe \n",
      "0.5889488 0.3002727 1.9530540 \n",
      "ABEV3.SA BIDI4.SA ENBR3.SA FLRY3.SA GRND3.SA ITSA4.SA LREN3.SA RADL3.SA \n",
      "   0.001    0.080    0.135    0.006    0.012    0.000    0.003    0.031 \n",
      "WEGE3.SA \n",
      "   0.733 \n"
     ]
    }
   ],
   "source": [
    "#Melhor carteira simulada\n",
    "positivo <- data[3,] == sharpe\n",
    "show(data[,positivo])\n",
    "pesos_efi <- round(pesos[,positivo],3)\n",
    "names(pesos_efi) <- colnames(reta_ts)\n",
    "print(pesos_efi)"
   ]
  },
  {
   "cell_type": "code",
   "execution_count": 24,
   "metadata": {},
   "outputs": [
    {
     "data": {
      "text/html": [
       "<dl>\n",
       "\t<dt>$Marginal</dt>\n",
       "\t\t<dd><table>\n",
       "<caption>A matrix: 1 × 9 of type dbl</caption>\n",
       "<thead>\n",
       "\t<tr><th scope=col>ABEV3.SA</th><th scope=col>BIDI4.SA</th><th scope=col>ENBR3.SA</th><th scope=col>FLRY3.SA</th><th scope=col>GRND3.SA</th><th scope=col>ITSA4.SA</th><th scope=col>LREN3.SA</th><th scope=col>RADL3.SA</th><th scope=col>WEGE3.SA</th></tr>\n",
       "</thead>\n",
       "<tbody>\n",
       "\t<tr><td>0.01270482</td><td>0.01270482</td><td>0.01270482</td><td>0.01270482</td><td>0.01270482</td><td>0.01270482</td><td>0.01270482</td><td>0.01270482</td><td>0.01270482</td></tr>\n",
       "</tbody>\n",
       "</table>\n",
       "</dd>\n",
       "\t<dt>$Contribution</dt>\n",
       "\t\t<dd><table>\n",
       "<caption>A matrix: 1 × 9 of type dbl</caption>\n",
       "<thead>\n",
       "\t<tr><th scope=col>ABEV3.SA</th><th scope=col>BIDI4.SA</th><th scope=col>ENBR3.SA</th><th scope=col>FLRY3.SA</th><th scope=col>GRND3.SA</th><th scope=col>ITSA4.SA</th><th scope=col>LREN3.SA</th><th scope=col>RADL3.SA</th><th scope=col>WEGE3.SA</th></tr>\n",
       "</thead>\n",
       "<tbody>\n",
       "\t<tr><td>0.0003490219</td><td>0.00112944</td><td>0.006936918</td><td>0.0007495819</td><td>0.001682946</td><td>0.001205063</td><td>-0.00173055</td><td>0.001163612</td><td>0.001218792</td></tr>\n",
       "</tbody>\n",
       "</table>\n",
       "</dd>\n",
       "\t<dt>$Return_contribution</dt>\n",
       "\t\t<dd><table>\n",
       "<caption>A matrix: 9 × 1 of type dbl</caption>\n",
       "<tbody>\n",
       "\t<tr><th scope=row>ABEV3.SA</th><td>-0.004417463</td></tr>\n",
       "\t<tr><th scope=row>BIDI4.SA</th><td> 0.035198040</td></tr>\n",
       "\t<tr><th scope=row>ENBR3.SA</th><td> 0.141610474</td></tr>\n",
       "\t<tr><th scope=row>FLRY3.SA</th><td> 0.017218140</td></tr>\n",
       "\t<tr><th scope=row>GRND3.SA</th><td> 0.009974158</td></tr>\n",
       "\t<tr><th scope=row>ITSA4.SA</th><td> 0.017190171</td></tr>\n",
       "\t<tr><th scope=row>LREN3.SA</th><td>-0.047890852</td></tr>\n",
       "\t<tr><th scope=row>RADL3.SA</th><td> 0.025185858</td></tr>\n",
       "\t<tr><th scope=row>WEGE3.SA</th><td> 0.066790582</td></tr>\n",
       "</tbody>\n",
       "</table>\n",
       "</dd>\n",
       "</dl>\n"
      ],
      "text/latex": [
       "\\begin{description}\n",
       "\\item[\\$Marginal] A matrix: 1 × 9 of type dbl\n",
       "\\begin{tabular}{lllllllll}\n",
       " ABEV3.SA & BIDI4.SA & ENBR3.SA & FLRY3.SA & GRND3.SA & ITSA4.SA & LREN3.SA & RADL3.SA & WEGE3.SA\\\\\n",
       "\\hline\n",
       "\t 0.01270482 & 0.01270482 & 0.01270482 & 0.01270482 & 0.01270482 & 0.01270482 & 0.01270482 & 0.01270482 & 0.01270482\\\\\n",
       "\\end{tabular}\n",
       "\n",
       "\\item[\\$Contribution] A matrix: 1 × 9 of type dbl\n",
       "\\begin{tabular}{lllllllll}\n",
       " ABEV3.SA & BIDI4.SA & ENBR3.SA & FLRY3.SA & GRND3.SA & ITSA4.SA & LREN3.SA & RADL3.SA & WEGE3.SA\\\\\n",
       "\\hline\n",
       "\t 0.0003490219 & 0.00112944 & 0.006936918 & 0.0007495819 & 0.001682946 & 0.001205063 & -0.00173055 & 0.001163612 & 0.001218792\\\\\n",
       "\\end{tabular}\n",
       "\n",
       "\\item[\\$Return\\_contribution] A matrix: 9 × 1 of type dbl\n",
       "\\begin{tabular}{r|l}\n",
       "\tABEV3.SA & -0.004417463\\\\\n",
       "\tBIDI4.SA &  0.035198040\\\\\n",
       "\tENBR3.SA &  0.141610474\\\\\n",
       "\tFLRY3.SA &  0.017218140\\\\\n",
       "\tGRND3.SA &  0.009974158\\\\\n",
       "\tITSA4.SA &  0.017190171\\\\\n",
       "\tLREN3.SA & -0.047890852\\\\\n",
       "\tRADL3.SA &  0.025185858\\\\\n",
       "\tWEGE3.SA &  0.066790582\\\\\n",
       "\\end{tabular}\n",
       "\n",
       "\\end{description}\n"
      ],
      "text/markdown": [
       "$Marginal\n",
       ":   \n",
       "A matrix: 1 × 9 of type dbl\n",
       "\n",
       "| ABEV3.SA | BIDI4.SA | ENBR3.SA | FLRY3.SA | GRND3.SA | ITSA4.SA | LREN3.SA | RADL3.SA | WEGE3.SA |\n",
       "|---|---|---|---|---|---|---|---|---|\n",
       "| 0.01270482 | 0.01270482 | 0.01270482 | 0.01270482 | 0.01270482 | 0.01270482 | 0.01270482 | 0.01270482 | 0.01270482 |\n",
       "\n",
       "\n",
       "$Contribution\n",
       ":   \n",
       "A matrix: 1 × 9 of type dbl\n",
       "\n",
       "| ABEV3.SA | BIDI4.SA | ENBR3.SA | FLRY3.SA | GRND3.SA | ITSA4.SA | LREN3.SA | RADL3.SA | WEGE3.SA |\n",
       "|---|---|---|---|---|---|---|---|---|\n",
       "| 0.0003490219 | 0.00112944 | 0.006936918 | 0.0007495819 | 0.001682946 | 0.001205063 | -0.00173055 | 0.001163612 | 0.001218792 |\n",
       "\n",
       "\n",
       "$Return_contribution\n",
       ":   \n",
       "A matrix: 9 × 1 of type dbl\n",
       "\n",
       "| ABEV3.SA | -0.004417463 |\n",
       "| BIDI4.SA |  0.035198040 |\n",
       "| ENBR3.SA |  0.141610474 |\n",
       "| FLRY3.SA |  0.017218140 |\n",
       "| GRND3.SA |  0.009974158 |\n",
       "| ITSA4.SA |  0.017190171 |\n",
       "| LREN3.SA | -0.047890852 |\n",
       "| RADL3.SA |  0.025185858 |\n",
       "| WEGE3.SA |  0.066790582 |\n",
       "\n",
       "\n",
       "\n",
       "\n"
      ],
      "text/plain": [
       "$Marginal\n",
       "       ABEV3.SA   BIDI4.SA   ENBR3.SA   FLRY3.SA   GRND3.SA   ITSA4.SA\n",
       "[1,] 0.01270482 0.01270482 0.01270482 0.01270482 0.01270482 0.01270482\n",
       "       LREN3.SA   RADL3.SA   WEGE3.SA\n",
       "[1,] 0.01270482 0.01270482 0.01270482\n",
       "\n",
       "$Contribution\n",
       "         ABEV3.SA   BIDI4.SA    ENBR3.SA     FLRY3.SA    GRND3.SA    ITSA4.SA\n",
       "[1,] 0.0003490219 0.00112944 0.006936918 0.0007495819 0.001682946 0.001205063\n",
       "        LREN3.SA    RADL3.SA    WEGE3.SA\n",
       "[1,] -0.00173055 0.001163612 0.001218792\n",
       "\n",
       "$Return_contribution\n",
       "                 [,1]\n",
       "ABEV3.SA -0.004417463\n",
       "BIDI4.SA  0.035198040\n",
       "ENBR3.SA  0.141610474\n",
       "FLRY3.SA  0.017218140\n",
       "GRND3.SA  0.009974158\n",
       "ITSA4.SA  0.017190171\n",
       "LREN3.SA -0.047890852\n",
       "RADL3.SA  0.025185858\n",
       "WEGE3.SA  0.066790582\n"
      ]
     },
     "metadata": {},
     "output_type": "display_data"
    }
   ],
   "source": [
    "#Menor Risco\n",
    "menor <- port_min_risk(coefs, cov_f2)\n",
    "menor_risco <- menor$Weights\n",
    "ret_men_risco <- menor$Return\n",
    "sd_men_risco <- menor$Sd*sqrt(252)\n",
    "sharpe_men_risco <- (ret_men_risco-tx_livre_risco)/sd_men_risco\n",
    "data_men <- data.frame(Retorno = ret_men_risco, Risco = sd_men_risco, Sharpe = sharpe_men_risco)\n",
    "compo_m <- componente_risco(ret = coefs,cov = cov_f2, weights = menor_risco, percent = F)\n",
    "compo_m"
   ]
  },
  {
   "cell_type": "code",
   "execution_count": 25,
   "metadata": {
    "scrolled": false
   },
   "outputs": [
    {
     "data": {
      "text/html": [
       "<table>\n",
       "<caption>A data.frame: 1 × 3</caption>\n",
       "<thead>\n",
       "\t<tr><th scope=col>Retorno</th><th scope=col>Risco</th><th scope=col>Sharpe</th></tr>\n",
       "\t<tr><th scope=col>&lt;dbl&gt;</th><th scope=col>&lt;dbl&gt;</th><th scope=col>&lt;dbl&gt;</th></tr>\n",
       "</thead>\n",
       "<tbody>\n",
       "\t<tr><td>0.2608591</td><td>0.2016828</td><td>1.281017</td></tr>\n",
       "</tbody>\n",
       "</table>\n"
      ],
      "text/latex": [
       "A data.frame: 1 × 3\n",
       "\\begin{tabular}{lll}\n",
       " Retorno & Risco & Sharpe\\\\\n",
       " <dbl> & <dbl> & <dbl>\\\\\n",
       "\\hline\n",
       "\t 0.2608591 & 0.2016828 & 1.281017\\\\\n",
       "\\end{tabular}\n"
      ],
      "text/markdown": [
       "\n",
       "A data.frame: 1 × 3\n",
       "\n",
       "| Retorno &lt;dbl&gt; | Risco &lt;dbl&gt; | Sharpe &lt;dbl&gt; |\n",
       "|---|---|---|\n",
       "| 0.2608591 | 0.2016828 | 1.281017 |\n",
       "\n"
      ],
      "text/plain": [
       "  Retorno   Risco     Sharpe  \n",
       "1 0.2608591 0.2016828 1.281017"
      ]
     },
     "metadata": {},
     "output_type": "display_data"
    },
    {
     "name": "stdout",
     "output_type": "stream",
     "text": [
      "ABEV3.SA BIDI4.SA ENBR3.SA FLRY3.SA GRND3.SA ITSA4.SA LREN3.SA RADL3.SA \n",
      "  0.0275   0.0889   0.5460   0.0590   0.1325   0.0949  -0.1362   0.0916 \n",
      "WEGE3.SA \n",
      "  0.0959 \n"
     ]
    }
   ],
   "source": [
    "#Menor risco calculado (com short)\n",
    "data_men\n",
    "print(menor_risco, digits = 3)"
   ]
  },
  {
   "cell_type": "code",
   "execution_count": 26,
   "metadata": {},
   "outputs": [],
   "source": [
    "#Fronteira eficiente (com venda a descoberto)\n",
    "ymin <- min(coefs,retornos)-0.1\n",
    "ymax <- max(data_otimo$Retorno,coefs,retornos)+0.1\n",
    "rsb <- seq(ymin,ymax,l = 2000)\n",
    "fronteira <- matrix(0, nrow = length(rsb), ncol = 2)\n",
    "for(i in 1:length(rsb)){\n",
    "  oti <- portfront(coefs, cov_f2, rsb[i])\n",
    "  fronteira[i,1] <- rsb[i]\n",
    "  fronteira[i,2] <- oti$Sd*sqrt(252)\n",
    "}\n",
    "fronteira <- data.frame(Retorno = fronteira[,1], Risco = fronteira[,2])"
   ]
  },
  {
   "cell_type": "code",
   "execution_count": 27,
   "metadata": {},
   "outputs": [
    {
     "name": "stdout",
     "output_type": "stream",
     "text": [
      " Retornos    Riscos    Sharpe \n",
      "0.2989044 0.2149995 1.3786281 \n",
      "ABEV3.SA BIDI4.SA ENBR3.SA FLRY3.SA GRND3.SA ITSA4.SA LREN3.SA RADL3.SA \n",
      "   0.004    0.091    0.613    0.017    0.055    0.015    0.002    0.118 \n",
      "WEGE3.SA \n",
      "   0.086 \n"
     ]
    }
   ],
   "source": [
    "#Carteira com menor risco simulado\n",
    "me <- which.min(data[2,])\n",
    "pesos_m <- round(pesos[,me],3)\n",
    "names(pesos_m) <- colnames(reta_ts)\n",
    "show(data[,me])\n",
    "print(pesos_m)"
   ]
  },
  {
   "cell_type": "code",
   "execution_count": 28,
   "metadata": {},
   "outputs": [
    {
     "data": {
      "text/html": [
       "<table>\n",
       "<caption>A data.frame: 9 × 2</caption>\n",
       "<thead>\n",
       "\t<tr><th></th><th scope=col>Retorno</th><th scope=col>Risco</th></tr>\n",
       "\t<tr><th></th><th scope=col>&lt;dbl&gt;</th><th scope=col>&lt;dbl&gt;</th></tr>\n",
       "</thead>\n",
       "<tbody>\n",
       "\t<tr><th scope=row>ABEV3.SA</th><td>-0.16080105</td><td>0.4785006</td></tr>\n",
       "\t<tr><th scope=row>BIDI4.SA</th><td> 0.39593511</td><td>0.6591115</td></tr>\n",
       "\t<tr><th scope=row>ENBR3.SA</th><td> 0.25935670</td><td>0.2468939</td></tr>\n",
       "\t<tr><th scope=row>FLRY3.SA</th><td> 0.29183396</td><td>0.3480611</td></tr>\n",
       "\t<tr><th scope=row>GRND3.SA</th><td> 0.07529651</td><td>0.3403674</td></tr>\n",
       "\t<tr><th scope=row>ITSA4.SA</th><td> 0.18123370</td><td>0.3557768</td></tr>\n",
       "\t<tr><th scope=row>LREN3.SA</th><td> 0.35159047</td><td>0.6693364</td></tr>\n",
       "\t<tr><th scope=row>RADL3.SA</th><td> 0.27499024</td><td>0.3652962</td></tr>\n",
       "\t<tr><th scope=row>WEGE3.SA</th><td> 0.69623278</td><td>0.3626738</td></tr>\n",
       "</tbody>\n",
       "</table>\n"
      ],
      "text/latex": [
       "A data.frame: 9 × 2\n",
       "\\begin{tabular}{r|ll}\n",
       "  & Retorno & Risco\\\\\n",
       "  & <dbl> & <dbl>\\\\\n",
       "\\hline\n",
       "\tABEV3.SA & -0.16080105 & 0.4785006\\\\\n",
       "\tBIDI4.SA &  0.39593511 & 0.6591115\\\\\n",
       "\tENBR3.SA &  0.25935670 & 0.2468939\\\\\n",
       "\tFLRY3.SA &  0.29183396 & 0.3480611\\\\\n",
       "\tGRND3.SA &  0.07529651 & 0.3403674\\\\\n",
       "\tITSA4.SA &  0.18123370 & 0.3557768\\\\\n",
       "\tLREN3.SA &  0.35159047 & 0.6693364\\\\\n",
       "\tRADL3.SA &  0.27499024 & 0.3652962\\\\\n",
       "\tWEGE3.SA &  0.69623278 & 0.3626738\\\\\n",
       "\\end{tabular}\n"
      ],
      "text/markdown": [
       "\n",
       "A data.frame: 9 × 2\n",
       "\n",
       "| <!--/--> | Retorno &lt;dbl&gt; | Risco &lt;dbl&gt; |\n",
       "|---|---|---|\n",
       "| ABEV3.SA | -0.16080105 | 0.4785006 |\n",
       "| BIDI4.SA |  0.39593511 | 0.6591115 |\n",
       "| ENBR3.SA |  0.25935670 | 0.2468939 |\n",
       "| FLRY3.SA |  0.29183396 | 0.3480611 |\n",
       "| GRND3.SA |  0.07529651 | 0.3403674 |\n",
       "| ITSA4.SA |  0.18123370 | 0.3557768 |\n",
       "| LREN3.SA |  0.35159047 | 0.6693364 |\n",
       "| RADL3.SA |  0.27499024 | 0.3652962 |\n",
       "| WEGE3.SA |  0.69623278 | 0.3626738 |\n",
       "\n"
      ],
      "text/plain": [
       "         Retorno     Risco    \n",
       "ABEV3.SA -0.16080105 0.4785006\n",
       "BIDI4.SA  0.39593511 0.6591115\n",
       "ENBR3.SA  0.25935670 0.2468939\n",
       "FLRY3.SA  0.29183396 0.3480611\n",
       "GRND3.SA  0.07529651 0.3403674\n",
       "ITSA4.SA  0.18123370 0.3557768\n",
       "LREN3.SA  0.35159047 0.6693364\n",
       "RADL3.SA  0.27499024 0.3652962\n",
       "WEGE3.SA  0.69623278 0.3626738"
      ]
     },
     "metadata": {},
     "output_type": "display_data"
    }
   ],
   "source": [
    "retorno_med"
   ]
  },
  {
   "cell_type": "code",
   "execution_count": 29,
   "metadata": {},
   "outputs": [
    {
     "data": {
      "text/html": [
       "<table>\n",
       "<caption>A matrix: 1 × 1 of type dbl</caption>\n",
       "<thead>\n",
       "\t<tr><th scope=col>Correlação</th></tr>\n",
       "</thead>\n",
       "<tbody>\n",
       "\t<tr><td>0.829514</td></tr>\n",
       "</tbody>\n",
       "</table>\n"
      ],
      "text/latex": [
       "A matrix: 1 × 1 of type dbl\n",
       "\\begin{tabular}{l}\n",
       " Correlação\\\\\n",
       "\\hline\n",
       "\t 0.829514\\\\\n",
       "\\end{tabular}\n"
      ],
      "text/markdown": [
       "\n",
       "A matrix: 1 × 1 of type dbl\n",
       "\n",
       "| Correlação |\n",
       "|---|\n",
       "| 0.829514 |\n",
       "\n"
      ],
      "text/plain": [
       "     Correlação\n",
       "[1,] 0.829514  "
      ]
     },
     "metadata": {},
     "output_type": "display_data"
    }
   ],
   "source": [
    "#Correlação entre a melhor carteira calculada e a melhor carteira simulada\n",
    "corre_s <- (t(pesos_otimo) %*% cov_f2 %*% pesos_efi)/(data[2,positivo]*sd_otimo/252)\n",
    "colnames(corre_s) <- \"Correlação\"\n",
    "corre_s"
   ]
  },
  {
   "cell_type": "code",
   "execution_count": 30,
   "metadata": {},
   "outputs": [
    {
     "data": {
      "text/html": [
       "<table>\n",
       "<caption>A matrix: 2 × 1 of type dbl</caption>\n",
       "<thead>\n",
       "\t<tr><th></th><th scope=col>Distribuição das carteiras</th></tr>\n",
       "</thead>\n",
       "<tbody>\n",
       "\t<tr><th scope=row>Simulado</th><td>-0.0008314208</td></tr>\n",
       "\t<tr><th scope=row>Calculado</th><td> 1.0008314208</td></tr>\n",
       "</tbody>\n",
       "</table>\n"
      ],
      "text/latex": [
       "A matrix: 2 × 1 of type dbl\n",
       "\\begin{tabular}{r|l}\n",
       "  & Distribuição das carteiras\\\\\n",
       "\\hline\n",
       "\tSimulado & -0.0008314208\\\\\n",
       "\tCalculado &  1.0008314208\\\\\n",
       "\\end{tabular}\n"
      ],
      "text/markdown": [
       "\n",
       "A matrix: 2 × 1 of type dbl\n",
       "\n",
       "| <!--/--> | Distribuição das carteiras |\n",
       "|---|---|\n",
       "| Simulado | -0.0008314208 |\n",
       "| Calculado |  1.0008314208 |\n",
       "\n"
      ],
      "text/plain": [
       "          Distribuição das carteiras\n",
       "Simulado  -0.0008314208             \n",
       "Calculado  1.0008314208             "
      ]
     },
     "metadata": {},
     "output_type": "display_data"
    }
   ],
   "source": [
    "#Pesos nas melhores carteiras\n",
    "cov_m <- matrix(c(data[2,positivo]^2/252, t(pesos_otimo) %*% cov_f2 %*% pesos_efi,\n",
    "                  t(pesos_otimo) %*% cov_f2 %*% pesos_efi, sd_otimo^2/252), byrow = T,\n",
    "                nrow = 2)\n",
    "inve <- solve(cov_m)\n",
    "p <- inve %*% (c(data[1,positivo], data_otimo$Retorno)-tx_livre_risco)/\n",
    "  sum(inve %*% (c(data[1,positivo], data_otimo$Retorno)-tx_livre_risco))\n",
    "rownames(p) <- c(\"Simulado\", \"Calculado\")\n",
    "colnames(p) <- \"Distribuição das carteiras\"\n",
    "p    "
   ]
  },
  {
   "cell_type": "code",
   "execution_count": 31,
   "metadata": {},
   "outputs": [
    {
     "data": {
      "image/png": "[encoded data removed]",
      "text/plain": [
       "plot without title"
      ]
     },
     "metadata": {
      "image/png": {
       "height": 420,
       "width": 420
      }
     },
     "output_type": "display_data"
    }
   ],
   "source": [
    "ggplot()+\n",
    "  geom_point(data = fronteira, aes(x = Risco, y = Retorno), col = \"red\")+\n",
    "  geom_point(data = data_d, mapping = aes(x = Riscos, y = Retornos, col = Sharpe), size = 0.7, alpha = 0.4)+\n",
    "  geom_point(data = retorno_med, aes(x = Risco, Retorno), col = 1:nrow(retorno_med), size = 2.5)+\n",
    "  geom_text(data = retorno_med, aes(x = Risco, Retorno, label = colnames(reta_ts)),\n",
    "            size = 3.5)+\n",
    "  geom_point(data = data_otimo, aes(x = Risco, y = Retorno), col = \"green\", size = 4)+\n",
    "  geom_text(data = data_otimo, aes(x = Risco+0.015, Retorno, label = \"Carteira Ótima\"))+\n",
    "  geom_abline(slope = max(data[3,]), intercept = tx_livre_risco, col = \"red\", size = 1)+\n",
    "  geom_abline(slope = data_otimo[1,3], intercept = tx_livre_risco, col = \"green\", size = 1)+\n",
    "  scale_colour_gradient2(low = \"red\", high = \"forestgreen\", mid = \"darkorange\")+\n",
    "  labs(x = expression(sigma), y = expression(mu), title = \"Fronteira eficiente por modelos GARCH\",\n",
    "       subtitle = paste(\"Número de simulações =\",ncol(pesos)),\n",
    "       caption = \"Dados: Yahoo Finance \\nElaboração: Gabriel André Marquez Matte\")+\n",
    "  scale_y_continuous(labels = scales::percent,\n",
    "                     limits = c(min(fronteira$Retorno,retornos,coefs), max(fronteira$Retorno,coefs,retornos)))+\n",
    "  scale_x_continuous(labels = scales::percent,\n",
    "                     limits = c(min(fronteira[,2],riscos,sd_a_f2), max(sd_a_f2,fronteira[,2],riscos)))"
   ]
  }
 ],
 "metadata": {
  "kernelspec": {
   "display_name": "R",
   "language": "R",
   "name": "ir"
  },
  "language_info": {
   "codemirror_mode": "r",
   "file_extension": ".r",
   "mimetype": "text/x-r-source",
   "name": "R",
   "pygments_lexer": "r",
   "version": "4.0.2"
  }
 },
 "nbformat": 4,
 "nbformat_minor": 4
}
