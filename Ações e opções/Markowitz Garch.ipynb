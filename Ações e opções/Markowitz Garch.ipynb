{
 "cells": [
  {
   "cell_type": "code",
   "execution_count": 1,
   "metadata": {},
   "outputs": [],
   "source": [
    "#Funções de risco e de retorno de carteiras\n",
    "portfolio_sd_t <- function(sd, cov, weight){\n",
    "  stopifnot(length(sd) > 1, is.matrix(cov), length(sd) == length(weight))\n",
    "  for(i in 1:(length(sd)-1)){\n",
    "    for(j in (i+1):length(sd)){\n",
    "      n <- sum(weight[i:length(sd)]^2*sd[i:length(sd)]^2)\n",
    "      m <- sum(2*weight[i]*weight[j]*cov[i,j])\n",
    "      sd <- sqrt(sum(weight[i:length(sd)]^2*sd[i:length(sd)]^2+\n",
    "                       2*weight[i]*weight[j]*cov[i,j]))\n",
    "      return(sd)\n",
    "    }\n",
    "  }\n",
    "}\n",
    "portfolio_return <- function(returns, weight){\n",
    "  if(!is.vector(returns)){\n",
    "    mean <- apply(returns,2,mean, na.rm = T)\n",
    "  } else{\n",
    "    if(is.vector(returns)){\n",
    "      mean <- returns\n",
    "    }\n",
    "  }\n",
    "  total_return <- sum(weight*mean)\n",
    "  return(total_return)\n",
    "}"
   ]
  },
  {
   "cell_type": "code",
   "execution_count": 2,
   "metadata": {},
   "outputs": [],
   "source": [
    "#Função de pesos de carteiras\n",
    "pesos_carteira <- function(n_acoes, n_sim, short = F){\n",
    "  pesos <- matrix(0,n_acoes,n_sim)\n",
    "  if(isFALSE(short)){\n",
    "    pesos <- apply(pesos,2,rexp,0.001)\n",
    "  }else{\n",
    "    pesos <- apply(pesos,2,rnorm)\n",
    "    \n",
    "  }\n",
    "  pesos <- apply(pesos,2,function(x)x/sum(x))\n",
    "  colsub <- apply(pesos,2,function(x)!any(x >= 1| x <= -1))\n",
    "  pesos <- pesos[,colsub]\n",
    "  return(pesos)\n",
    "}"
   ]
  },
  {
   "cell_type": "code",
   "execution_count": 3,
   "metadata": {},
   "outputs": [],
   "source": [
    "options(warn = -1, scipen = 999)\n",
    "pacotes <- c(\"dplyr\", \"tidyr\",\"ggplot2\",\"tidyquant\",\"pracma\",\"rmgarch\",\"rugarch\")\n",
    "for(i in pacotes){\n",
    "    suppressPackageStartupMessages({\n",
    "        library(i, character.only = T)\n",
    "    })\n",
    "}"
   ]
  },
  {
   "cell_type": "code",
   "execution_count": 4,
   "metadata": {},
   "outputs": [],
   "source": [
    "#Ações escolhidas\n",
    "acoes <- c(\"MGLU3.SA\",\"WEGE3.SA\",\"B3SA3.SA\",\"PRIO3.SA\",\"TRPL4.SA\",\"BRML3.SA\",\"CIEL3.SA\")\n",
    "reta <- tq_get(acoes, from = \"2013-01-04\") %>%\n",
    "  group_by(symbol) %>%\n",
    "  tq_transmute(select = close, mutate_fun = dailyReturn) %>%\n",
    "  spread(key = symbol, value = daily.returns) %>%\n",
    "  na.omit"
   ]
  },
  {
   "cell_type": "code",
   "execution_count": 5,
   "metadata": {},
   "outputs": [],
   "source": [
    "#Pegando o ano, mês e dia da primeira observação\n",
    "year <- lubridate::year(dplyr::first(reta$date))\n",
    "month <- lubridate::month(dplyr::first(reta$date))\n",
    "day <- lubridate::day(dplyr::first(reta$date))"
   ]
  },
  {
   "cell_type": "code",
   "execution_count": 6,
   "metadata": {},
   "outputs": [],
   "source": [
    "#Transformando em série temporal\n",
    "reta_ts <- ts(reta[,2:ncol(reta)], start = c(year,month,day), frequency = 252)"
   ]
  },
  {
   "cell_type": "code",
   "execution_count": 7,
   "metadata": {},
   "outputs": [],
   "source": [
    "multspec <- multispec(replicate(length(acoes),\n",
    "                                ugarchspec()))\n",
    "multf <- multifit(multispec = multspec, data = reta_ts)\n",
    "multfor <- multiforecast(multf, n.ahead = 2)\n",
    "spec1 <- dccspec(uspec = multspec, dccOrder = c(1,1), distribution = \"mvnorm\")\n",
    "fit1 <- dccfit(spec1, data = reta_ts, fit = multf, fit.control = list(eval.se = T))\n",
    "fore <- dccforecast(fit = fit1, n.ahead = 2)"
   ]
  },
  {
   "cell_type": "code",
   "execution_count": 8,
   "metadata": {},
   "outputs": [],
   "source": [
    "#Matriz de covariância\n",
    "cov1 <- rcov(fit1)\n",
    "cov <- cov1[,,dim(cov1)[3]]\n",
    "cov_f <- rcov(fore)\n",
    "cov_f <- cov_f[[1]]\n",
    "cov_f1 <- cov_f[1:length(acoes),1:length(acoes),1]\n",
    "cov_f2 <- cov_f[1:length(acoes),1:length(acoes),2]"
   ]
  },
  {
   "cell_type": "code",
   "execution_count": 9,
   "metadata": {},
   "outputs": [],
   "source": [
    "#Desvio das ações\n",
    "sd <- matrix(0, nrow = length(acoes))\n",
    "sd_f1 <- matrix(0, nrow = length(acoes))\n",
    "sd_f2 <- matrix(0, nrow = length(acoes))\n",
    "for(i in 1:nrow(sd)){\n",
    "  sd[[i]] <- dplyr::last(multf@fit[[i]]@fit[[\"sigma\"]])\n",
    "  sd_f1[[i]] <- multfor@forecast[[i]]@forecast[[\"sigmaFor\"]][1]\n",
    "  sd_f2[[i]] <- multfor@forecast[[i]]@forecast[[\"sigmaFor\"]][2]\n",
    "}\n",
    "rownames(sd) <- sort(acoes)\n",
    "rownames(sd_f1) <- sort(acoes)\n",
    "rownames(sd_f2) <- sort(acoes)\n",
    "sd_a <- sd*sqrt(252)\n",
    "sd_a_f1 <- sd_f1*sqrt(252)\n",
    "sd_a_f2 <- sd_f2*sqrt(252)"
   ]
  },
  {
   "cell_type": "code",
   "execution_count": 10,
   "metadata": {},
   "outputs": [
    {
     "name": "stderr",
     "output_type": "stream",
     "text": [
      "`summarise()` regrouping output by 'year' (override with `.groups` argument)\n",
      "\n"
     ]
    }
   ],
   "source": [
    "#Calculando o retorno esperado\n",
    "retornos_a <- tq_get(acoes, from = Sys.Date()-365*5) %>%\n",
    "  group_by(symbol) %>%\n",
    "  tq_transmute(select = close, mutate_fun= periodReturn, period = \"yearly\", fill = 0) %>%\n",
    "  mutate(year = year(date)) %>%\n",
    "  group_by(year,symbol) %>%\n",
    "  summarise(yearly.returns) %>%\n",
    "  spread(key = \"symbol\", value = \"yearly.returns\") %>%\n",
    "  na.fill(fill = 0)"
   ]
  },
  {
   "cell_type": "code",
   "execution_count": 11,
   "metadata": {},
   "outputs": [],
   "source": [
    "#Nº de simulações de carteiras a se fazer\n",
    "n_sim <- 100000\n",
    "pesos <- pesos_carteira(n_acoes = length(acoes), n_sim = n_sim, short = F)"
   ]
  },
  {
   "cell_type": "code",
   "execution_count": 12,
   "metadata": {},
   "outputs": [
    {
     "data": {
      "text/plain": [
       "Time difference of 36.82801 secs"
      ]
     },
     "metadata": {},
     "output_type": "display_data"
    }
   ],
   "source": [
    "#Escolha se prefere o risco atual ou a previsão de risco para 1 período (sd ou sd_f)\n",
    "start <- Sys.time()\n",
    "riscos <- apply(pesos, 2, portfolio_sd_t, sd = sd_f2, cov = cov_f2)*sqrt(252)\n",
    "riscos <- riscos %>% as.matrix\n",
    "retornos <- apply(pesos, 2, portfolio_return, returns = retornos_a[,2:ncol(retornos_a)]) %>% as.matrix\n",
    "colsub <- apply(riscos,1,function(x)!is.nan(x))\n",
    "riscos <- riscos[colsub]\n",
    "retornos <- retornos[colsub]\n",
    "end <- Sys.time()\n",
    "end-start"
   ]
  },
  {
   "cell_type": "code",
   "execution_count": 49,
   "metadata": {},
   "outputs": [
    {
     "name": "stderr",
     "output_type": "stream",
     "text": [
      "`summarise()` ungrouping output (override with `.groups` argument)\n",
      "\n"
     ]
    }
   ],
   "source": [
    "#Sharpe\n",
    "tx_livre_risco <- 0.02\n",
    "data <- matrix(0, nrow = 3, ncol = length(riscos))\n",
    "data[1,] <- retornos\n",
    "data[2,] <- riscos\n",
    "data[3,] <- (retornos-tx_livre_risco)/riscos\n",
    "rownames(data) <- c(\"Retornos\", \"Riscos\",\"Sharpe\")\n",
    "pesos <- pesos[,colsub]\n",
    "d <- data[2,which(data[1,] <= max(data[1,]))]\n",
    "data_t <- t(data) %>%\n",
    "  as.data.frame() %>%\n",
    "  mutate(Riscos = round(Riscos,3)) %>%\n",
    "  filter(Riscos < d) %>%\n",
    "  group_by(Riscos) %>%\n",
    "  summarise(Retornos = max(Retornos))"
   ]
  },
  {
   "cell_type": "code",
   "execution_count": 50,
   "metadata": {},
   "outputs": [
    {
     "name": "stderr",
     "output_type": "stream",
     "text": [
      "`summarise()` ungrouping output (override with `.groups` argument)\n",
      "\n"
     ]
    }
   ],
   "source": [
    "#Retorno médio das ações\n",
    "retorno_med <- retornos_a %>%\n",
    "  data.frame %>%\n",
    "  gather(key = \"symbol\", value = \"return\", -year) %>%\n",
    "  group_by(symbol) %>%\n",
    "  summarise(media = mean(return)) %>%\n",
    "  spread(key = \"symbol\", value = \"media\")"
   ]
  },
  {
   "cell_type": "code",
   "execution_count": 51,
   "metadata": {},
   "outputs": [
    {
     "data": {
      "image/png": "[encoded data removed]",
      "text/plain": [
       "Plot with title \"Simulações de carteiras\""
      ]
     },
     "metadata": {
      "image/png": {
       "height": 420,
       "width": 420
      }
     },
     "output_type": "display_data"
    }
   ],
   "source": [
    "plot(data[2,], data[1,], pch = 16, col = \"lightblue\",xlim = c(min(data[2,]), max(sd_a_f2)),\n",
    "    ylim = c(min(retorno_med), max(retorno_med)), main = \"Simulações de carteiras\",\n",
    "    xlab = expression(sigma), ylab = expression(mu))\n",
    "points(x = sd_a_f2, y = retorno_med, col = 1:ncol(retorno_med), pch = 16)\n",
    "text(x = sd_a_f2, y = retorno_med, labels = colnames(retorno_med), pos = 2)\n",
    "points(x = data_t$Riscos, y = data_t$Retornos, pch = 16, cex = 0.5)\n",
    "abline(a = tx_livre_risco, b = max(data[3,]), col = \"red\")\n",
    "abline(h = 0,v = 0, lty = 2)"
   ]
  },
  {
   "cell_type": "code",
   "execution_count": 16,
   "metadata": {},
   "outputs": [
    {
     "data": {
      "text/html": [
       "<strong>Sharpe Máximo:</strong> 4.73411770221002"
      ],
      "text/latex": [
       "\\textbf{Sharpe Máximo:} 4.73411770221002"
      ],
      "text/markdown": [
       "**Sharpe Máximo:** 4.73411770221002"
      ],
      "text/plain": [
       "Sharpe Máximo \n",
       "     4.734118 "
      ]
     },
     "metadata": {},
     "output_type": "display_data"
    },
    {
     "data": {
      "text/html": [
       "<strong>Retorno Máximo:</strong> 1.88353801323533"
      ],
      "text/latex": [
       "\\textbf{Retorno Máximo:} 1.88353801323533"
      ],
      "text/markdown": [
       "**Retorno Máximo:** 1.88353801323533"
      ],
      "text/plain": [
       "Retorno Máximo \n",
       "      1.883538 "
      ]
     },
     "metadata": {},
     "output_type": "display_data"
    },
    {
     "data": {
      "text/html": [
       "<strong>Risco Mínimo:</strong> 0.147755960209829"
      ],
      "text/latex": [
       "\\textbf{Risco Mínimo:} 0.147755960209829"
      ],
      "text/markdown": [
       "**Risco Mínimo:** 0.147755960209829"
      ],
      "text/plain": [
       "Risco Mínimo \n",
       "    0.147756 "
      ]
     },
     "metadata": {},
     "output_type": "display_data"
    }
   ],
   "source": [
    "sharpe <- max(data[3,])\n",
    "names(sharpe) <- \"Sharpe Máximo\"\n",
    "Ret_max <- max(data[1,])\n",
    "names(Ret_max) <- \"Retorno Máximo\"\n",
    "sd_min <- min(data[2,])\n",
    "names(sd_min) <- \"Risco Mínimo\"\n",
    "sharpe\n",
    "Ret_max\n",
    "sd_min"
   ]
  },
  {
   "cell_type": "code",
   "execution_count": 17,
   "metadata": {
    "scrolled": true
   },
   "outputs": [
    {
     "name": "stdout",
     "output_type": "stream",
     "text": [
      " Retornos    Riscos    Sharpe \n",
      "1.2278398 0.2551351 4.7341177 \n"
     ]
    }
   ],
   "source": [
    "#Somente ver a linha que tem o maior sharpe\n",
    "positivo <- data[3,] == sharpe\n",
    "show(data[,positivo])"
   ]
  },
  {
   "cell_type": "code",
   "execution_count": 18,
   "metadata": {},
   "outputs": [
    {
     "name": "stdout",
     "output_type": "stream",
     "text": [
      "B3SA3.SA BRML3.SA CIEL3.SA MGLU3.SA PRIO3.SA TRPL4.SA WEGE3.SA \n",
      "   0.085    0.003    0.003    0.441    0.153    0.204    0.111 \n"
     ]
    }
   ],
   "source": [
    "#Pesos em % da melhor carteira\n",
    "pesos_efi <- round(pesos[,positivo],3)\n",
    "names(pesos_efi) <- sort(acoes)\n",
    "print(pesos_efi)"
   ]
  },
  {
   "cell_type": "code",
   "execution_count": 19,
   "metadata": {},
   "outputs": [
    {
     "data": {
      "text/html": [
       "<table>\n",
       "<caption>A data.frame: 1 × 3</caption>\n",
       "<thead>\n",
       "\t<tr><th scope=col>Risco</th><th scope=col>Retorno</th><th scope=col>Sharpe</th></tr>\n",
       "\t<tr><th scope=col>&lt;dbl&gt;</th><th scope=col>&lt;dbl&gt;</th><th scope=col>&lt;dbl&gt;</th></tr>\n",
       "</thead>\n",
       "<tbody>\n",
       "\t<tr><td>0.2552896</td><td>1.228161</td><td>4.732512</td></tr>\n",
       "</tbody>\n",
       "</table>\n"
      ],
      "text/latex": [
       "A data.frame: 1 × 3\n",
       "\\begin{tabular}{lll}\n",
       " Risco & Retorno & Sharpe\\\\\n",
       " <dbl> & <dbl> & <dbl>\\\\\n",
       "\\hline\n",
       "\t 0.2552896 & 1.228161 & 4.732512\\\\\n",
       "\\end{tabular}\n"
      ],
      "text/markdown": [
       "\n",
       "A data.frame: 1 × 3\n",
       "\n",
       "| Risco &lt;dbl&gt; | Retorno &lt;dbl&gt; | Sharpe &lt;dbl&gt; |\n",
       "|---|---|---|\n",
       "| 0.2552896 | 1.228161 | 4.732512 |\n",
       "\n"
      ],
      "text/plain": [
       "  Risco     Retorno  Sharpe  \n",
       "1 0.2552896 1.228161 4.732512"
      ]
     },
     "metadata": {},
     "output_type": "display_data"
    }
   ],
   "source": [
    "#Carteira eficiente com arredondamento de 3 casas decimais\n",
    "pesos_ef <- round(pesos[,positivo],3)\n",
    "risco_ef <- portfolio_sd_t(sd = sd_f2, cov = cov_f2, weight = pesos_ef)*sqrt(252)\n",
    "ret_ef <- portfolio_return(returns = retornos_a[,2:ncol(retornos_a)], weight = pesos_ef)\n",
    "cart_ef <- data.frame(Risco = risco_ef, Retorno = ret_ef, Sharpe = (ret_ef-tx_livre_risco)/risco_ef)\n",
    "cart_ef"
   ]
  }
 ],
 "metadata": {
  "kernelspec": {
   "display_name": "R",
   "language": "R",
   "name": "ir"
  },
  "language_info": {
   "codemirror_mode": "r",
   "file_extension": ".r",
   "mimetype": "text/x-r-source",
   "name": "R",
   "pygments_lexer": "r",
   "version": "4.0.2"
  }
 },
 "nbformat": 4,
 "nbformat_minor": 4
}
