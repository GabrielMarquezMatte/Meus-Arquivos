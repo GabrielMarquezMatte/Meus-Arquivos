{
 "cells": [
  {
   "cell_type": "code",
   "execution_count": 1,
   "metadata": {},
   "outputs": [],
   "source": [
    "dist <- rnorm(255, 0, 1)"
   ]
  },
  {
   "cell_type": "code",
   "execution_count": 2,
   "metadata": {},
   "outputs": [],
   "source": [
    "u <- 0.33\n",
    "\n",
    "sd <- 0.17"
   ]
  },
  {
   "cell_type": "code",
   "execution_count": 3,
   "metadata": {},
   "outputs": [],
   "source": [
    "p <- 100\n",
    "preco <- c(p)\n",
    "aux <- 2\n",
    "periodo <- 1:256"
   ]
  },
  {
   "cell_type": "code",
   "execution_count": 4,
   "metadata": {},
   "outputs": [],
   "source": [
    "for(i in dist)\n",
    "{\n",
    "    P = p + p*(u/255 + sd/sqrt(255)* i)\n",
    "    preco[aux] <- P\n",
    "    p = P\n",
    "    aux = aux +1\n",
    "}"
   ]
  },
  {
   "cell_type": "code",
   "execution_count": 5,
   "metadata": {},
   "outputs": [
    {
     "data": {
      "text/plain": [
       "   Min. 1st Qu.  Median    Mean 3rd Qu.    Max. \n",
       "  98.92  103.72  109.84  113.31  124.78  132.16 "
      ]
     },
     "metadata": {},
     "output_type": "display_data"
    },
    {
     "data": {
      "image/png": "[encoded data removed]",
      "text/plain": [
       "Plot with title \"Simulação\""
      ]
     },
     "metadata": {},
     "output_type": "display_data"
    }
   ],
   "source": [
    "plot(periodo,preco,main=\"Simulação\",xlab=\"Tempo\",ylab=\"Preço\",col=\"blue\",type=\"l\")\n",
    "summary(preco)"
   ]
  },
  {
   "cell_type": "code",
   "execution_count": 6,
   "metadata": {},
   "outputs": [
    {
     "name": "stdout",
     "output_type": "stream",
     "text": [
      "Volatilidade        Média      Retorno \n",
      "    10.79943    113.31252     25.36607 \n"
     ]
    }
   ],
   "source": [
    "estatisticas <- c(sd(preco), mean(preco), (preco[256]-preco[1])/preco[1]*100)\n",
    "names(estatisticas) <- c(\"Volatilidade\", \"Média\", \"Retorno\")\n",
    "print(estatisticas)"
   ]
  },
  {
   "cell_type": "code",
   "execution_count": null,
   "metadata": {},
   "outputs": [],
   "source": []
  }
 ],
 "metadata": {
  "kernelspec": {
   "display_name": "R",
   "language": "R",
   "name": "ir"
  },
  "language_info": {
   "codemirror_mode": "r",
   "file_extension": ".r",
   "mimetype": "text/x-r-source",
   "name": "R",
   "pygments_lexer": "r",
   "version": "3.6.1"
  }
 },
 "nbformat": 4,
 "nbformat_minor": 4
}
