{
 "cells": [
  {
   "cell_type": "code",
   "execution_count": 186,
   "metadata": {},
   "outputs": [],
   "source": [
    "portfolio_sd_t <- function(sd, cov, weight){\n",
    "  stopifnot(length(sd) > 1, is.matrix(cov), length(sd) == length(weight))\n",
    "  for(i in 1:(length(sd)-1)){\n",
    "    for(j in (i+1):length(sd)){\n",
    "      n <- sum(weight[i:length(sd)]^2*sd[i:length(sd)]^2)\n",
    "      m <- sum(2*weight[i]*weight[j]*cov[i,j])\n",
    "      sd <- sqrt(sum(weight[i:length(sd)]^2*sd[i:length(sd)]^2+\n",
    "                       2*weight[i]*weight[j]*cov[i,j]))\n",
    "      return(sd)\n",
    "    }\n",
    "  }\n",
    "}\n",
    "portfolio_return <- function(returns, weight){\n",
    "  if(!is.vector(returns) > 1){\n",
    "    mean <- matrix(0, nrow = ncol(returns), ncol = 1)\n",
    "    for(i in 1:ncol(returns)){\n",
    "      mean[i] <- mean(as.matrix(returns[,i]), na.rm = T)\n",
    "    }\n",
    "  } else{\n",
    "    if(is.vector(returns)){\n",
    "      mean <- returns\n",
    "    }\n",
    "  }\n",
    "  total_return <- sum(weight*mean)\n",
    "  return(total_return)\n",
    "}"
   ]
  },
  {
   "cell_type": "code",
   "execution_count": 187,
   "metadata": {},
   "outputs": [],
   "source": [
    "options(warn = -1)\n",
    "library(dplyr)\n",
    "library(tidyr)\n",
    "library(ggplot2)\n",
    "library(tidyquant)\n",
    "library(pracma)"
   ]
  },
  {
   "cell_type": "code",
   "execution_count": 188,
   "metadata": {},
   "outputs": [
    {
     "name": "stderr",
     "output_type": "stream",
     "text": [
      "`summarise()` regrouping output by 'year' (override with `.groups` argument)\n",
      "\n",
      "`summarise()` ungrouping output (override with `.groups` argument)\n",
      "\n"
     ]
    }
   ],
   "source": [
    "#Estipule os parâmetros para calcular os desvios-padrão e os retornos médios (diários e anuais)\n",
    "acoes <- c(\"BEEF3.SA\",\"MGLU3.SA\", \"JHSF3.SA\",\"TRPL4.SA\",\"ITSA4.SA\")\n",
    "retornos_d <- tq_get(acoes, from = \"2019-07-27\", to = \"2020-07-27\") %>%\n",
    "  group_by(symbol) %>%\n",
    "  tq_transmute(select = close, mutate_fun= periodReturn, period = \"daily\")\n",
    "retornos_a <- tq_get(acoes, from = \"2014-07-27\", to = \"2020-07-27\") %>%\n",
    "  group_by(symbol) %>%\n",
    "  tq_transmute(select = close, mutate_fun= periodReturn, period = \"yearly\") %>%\n",
    "  mutate(year = year(date)) %>%\n",
    "  group_by(year,symbol) %>%\n",
    "  summarise(yearly.returns) %>%\n",
    "  spread(key = \"symbol\", value = \"yearly.returns\")\n",
    "sd_d <- retornos_d %>%\n",
    "  group_by(symbol) %>%\n",
    "  summarise(sd = sd(daily.returns)) %>%\n",
    "  spread(key = \"symbol\", value = sd)\n",
    "cov <- retornos_d %>%\n",
    "  spread(key = \"symbol\", value = daily.returns)\n",
    "cov$date <- NULL\n",
    "cov <- cov(cov)"
   ]
  },
  {
   "cell_type": "code",
   "execution_count": 195,
   "metadata": {},
   "outputs": [],
   "source": [
    "#Nº de simulações de carteiras a se fazer\n",
    "n_sim <- 5000\n",
    "pesos <- rand(length(acoes), n_sim)\n",
    "for(i in 1:ncol(pesos)){\n",
    "    pesos[,i] <- pesos[,i]/sum(pesos[,i])\n",
    "}"
   ]
  },
  {
   "cell_type": "code",
   "execution_count": 196,
   "metadata": {},
   "outputs": [],
   "source": [
    "riscos <- matrix(0,nrow = nrow(pesos), ncol = 1)\n",
    "retornos <- matrix(0, nrow = nrow(pesos), ncol = 1)\n",
    "for(i in 1:ncol(pesos)){\n",
    "  riscos[i] <- portfolio_sd_t(sd = sd_d, cov = cov, weight = c(pesos[,i]))*sqrt(252)\n",
    "  retornos[i] <- portfolio_return(retornos_a[,2:ncol(retornos_a)],\n",
    "                                  weight = c(pesos[,i]))\n",
    "}"
   ]
  },
  {
   "cell_type": "code",
   "execution_count": 197,
   "metadata": {},
   "outputs": [],
   "source": [
    "#Sharpe\n",
    "tx_livre_risco <- 0.0225\n",
    "data <- data.frame(riscos = riscos, retornos = retornos, sharpe = (retornos-tx_livre_risco)/riscos)"
   ]
  },
  {
   "cell_type": "code",
   "execution_count": 198,
   "metadata": {},
   "outputs": [
    {
     "name": "stderr",
     "output_type": "stream",
     "text": [
      "`summarise()` ungrouping output (override with `.groups` argument)\n",
      "\n"
     ]
    }
   ],
   "source": [
    "#Retorno médio das ações\n",
    "retorno_med <- retornos_a %>%\n",
    "  gather(key = \"symbol\", value = \"return\", -year) %>%\n",
    "  group_by(symbol) %>%\n",
    "  summarise(media = mean(return)) %>%\n",
    "  spread(key = \"symbol\", value = \"media\")"
   ]
  },
  {
   "cell_type": "code",
   "execution_count": 202,
   "metadata": {},
   "outputs": [
    {
     "data": {
      "image/png": "[encoded data removed]",
      "text/plain": [
       "plot without title"
      ]
     },
     "metadata": {
      "image/png": {
       "height": 420,
       "width": 420
      }
     },
     "output_type": "display_data"
    }
   ],
   "source": [
    "plot(riscos, retornos, pch = 16, col = \"lightblue\",xlim = c(min(riscos), max(sd_d*sqrt(252))),\n",
    "    ylim = c(min(retorno_med), max(retorno_med)))\n",
    "points(x = sd_d*sqrt(252), y = retorno_med, col = 1:ncol(retorno_med), pch = 16)\n",
    "text(x = sd_d*sqrt(252), y = retorno_med, labels = colnames(retorno_med), pos = 2)"
   ]
  },
  {
   "cell_type": "code",
   "execution_count": 203,
   "metadata": {},
   "outputs": [
    {
     "data": {
      "text/html": [
       "2.53366020344897"
      ],
      "text/latex": [
       "2.53366020344897"
      ],
      "text/markdown": [
       "2.53366020344897"
      ],
      "text/plain": [
       "[1] 2.53366"
      ]
     },
     "metadata": {},
     "output_type": "display_data"
    }
   ],
   "source": [
    "max(data$sharpe)"
   ]
  },
  {
   "cell_type": "code",
   "execution_count": null,
   "metadata": {},
   "outputs": [],
   "source": []
  }
 ],
 "metadata": {
  "kernelspec": {
   "display_name": "R",
   "language": "R",
   "name": "ir"
  },
  "language_info": {
   "codemirror_mode": "r",
   "file_extension": ".r",
   "mimetype": "text/x-r-source",
   "name": "R",
   "pygments_lexer": "r",
   "version": "4.0.2"
  }
 },
 "nbformat": 4,
 "nbformat_minor": 4
}
