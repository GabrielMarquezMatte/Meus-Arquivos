{
 "cells": [
  {
   "cell_type": "code",
   "execution_count": 128,
   "metadata": {},
   "outputs": [],
   "source": [
    "setwd(\"C:/Users/User/Documents\")\n",
    "source(\"Meus Arquivos/Códigos/Funções.r\")"
   ]
  },
  {
   "cell_type": "code",
   "execution_count": 107,
   "metadata": {},
   "outputs": [],
   "source": [
    "options(warn = -1, scipen = 999)\n",
    "suppressPackageStartupMessages({\n",
    "    library(dplyr)\n",
    "    library(tidyr)\n",
    "    library(ggplot2)\n",
    "    library(tidyquant)\n",
    "    library(pracma)\n",
    "    library(BatchGetSymbols)\n",
    "})"
   ]
  },
  {
   "cell_type": "code",
   "execution_count": 150,
   "metadata": {},
   "outputs": [],
   "source": [
    "#Estipule os parâmetros para calcular os desvios-padrão e os retornos médios (diários e anuais)\n",
    "acoes <- c(\"^BVSP\",\"ITUB4.SA\",\"MULT3.SA\",\n",
    "           \"VALE3.SA\",\"BBDC4.SA\",\"ABEV3.SA\",\n",
    "           \"TRPL4.SA\",\"WEGE3.SA\",\"SUZB3.SA\",\n",
    "           \"JBSS3.SA\")\n",
    "retornos_d <- tq_get(acoes, from = \"2013-01-01\") %>%\n",
    "  group_by(symbol) %>%\n",
    "  tq_transmute(select = close, mutate_fun= periodReturn, period = \"daily\") %>%\n",
    "  spread(key = symbol, value = daily.returns) %>%\n",
    "  na.omit"
   ]
  },
  {
   "cell_type": "code",
   "execution_count": 151,
   "metadata": {},
   "outputs": [
    {
     "data": {
      "text/html": [
       "<table>\n",
       "<caption>A tibble: 6 × 11</caption>\n",
       "<thead>\n",
       "\t<tr><th scope=col>date</th><th scope=col>^BVSP</th><th scope=col>ABEV3.SA</th><th scope=col>BBDC4.SA</th><th scope=col>ITUB4.SA</th><th scope=col>JBSS3.SA</th><th scope=col>MULT3.SA</th><th scope=col>SUZB3.SA</th><th scope=col>TRPL4.SA</th><th scope=col>VALE3.SA</th><th scope=col>WEGE3.SA</th></tr>\n",
       "\t<tr><th scope=col>&lt;date&gt;</th><th scope=col>&lt;dbl&gt;</th><th scope=col>&lt;dbl&gt;</th><th scope=col>&lt;dbl&gt;</th><th scope=col>&lt;dbl&gt;</th><th scope=col>&lt;dbl&gt;</th><th scope=col>&lt;dbl&gt;</th><th scope=col>&lt;dbl&gt;</th><th scope=col>&lt;dbl&gt;</th><th scope=col>&lt;dbl&gt;</th><th scope=col>&lt;dbl&gt;</th></tr>\n",
       "</thead>\n",
       "<tbody>\n",
       "\t<tr><td>2013-01-02</td><td> 0.000000000</td><td> 0.000000000</td><td> 0.000000000</td><td> 0.000000000</td><td> 0.000000000</td><td> 0.000000000</td><td>0</td><td> 0.000000000</td><td> 0.000000000</td><td> 0.00000000</td></tr>\n",
       "\t<tr><td>2013-01-03</td><td> 0.012182254</td><td> 0.017731507</td><td> 0.059183564</td><td> 0.029872295</td><td> 0.009771987</td><td>-0.006166437</td><td>0</td><td> 0.005970300</td><td>-0.017006803</td><td> 0.04477601</td></tr>\n",
       "\t<tr><td>2013-01-04</td><td>-0.012462092</td><td>-0.016487082</td><td>-0.016791200</td><td>-0.005912475</td><td> 0.030645161</td><td> 0.004866145</td><td>0</td><td> 0.050445175</td><td>-0.015455549</td><td>-0.01190473</td></tr>\n",
       "\t<tr><td>2013-01-07</td><td>-0.009436527</td><td> 0.011532311</td><td>-0.005068205</td><td>-0.016996876</td><td>-0.043818466</td><td>-0.015193625</td><td>0</td><td>-0.005932466</td><td>-0.019681350</td><td>-0.01204816</td></tr>\n",
       "\t<tr><td>2013-01-08</td><td>-0.012997917</td><td>-0.001175344</td><td> 0.003488285</td><td> 0.004031544</td><td> 0.000000000</td><td> 0.000000000</td><td>0</td><td>-0.043762853</td><td>-0.007887237</td><td>-0.04006892</td></tr>\n",
       "\t<tr><td>2013-01-09</td><td> 0.007377961</td><td> 0.015409236</td><td> 0.012823387</td><td> 0.016074092</td><td> 0.018003273</td><td> 0.005084945</td><td>0</td><td> 0.010402056</td><td> 0.004577283</td><td> 0.00762248</td></tr>\n",
       "</tbody>\n",
       "</table>\n"
      ],
      "text/latex": [
       "A tibble: 6 × 11\n",
       "\\begin{tabular}{lllllllllll}\n",
       " date & \\textasciicircum{}BVSP & ABEV3.SA & BBDC4.SA & ITUB4.SA & JBSS3.SA & MULT3.SA & SUZB3.SA & TRPL4.SA & VALE3.SA & WEGE3.SA\\\\\n",
       " <date> & <dbl> & <dbl> & <dbl> & <dbl> & <dbl> & <dbl> & <dbl> & <dbl> & <dbl> & <dbl>\\\\\n",
       "\\hline\n",
       "\t 2013-01-02 &  0.000000000 &  0.000000000 &  0.000000000 &  0.000000000 &  0.000000000 &  0.000000000 & 0 &  0.000000000 &  0.000000000 &  0.00000000\\\\\n",
       "\t 2013-01-03 &  0.012182254 &  0.017731507 &  0.059183564 &  0.029872295 &  0.009771987 & -0.006166437 & 0 &  0.005970300 & -0.017006803 &  0.04477601\\\\\n",
       "\t 2013-01-04 & -0.012462092 & -0.016487082 & -0.016791200 & -0.005912475 &  0.030645161 &  0.004866145 & 0 &  0.050445175 & -0.015455549 & -0.01190473\\\\\n",
       "\t 2013-01-07 & -0.009436527 &  0.011532311 & -0.005068205 & -0.016996876 & -0.043818466 & -0.015193625 & 0 & -0.005932466 & -0.019681350 & -0.01204816\\\\\n",
       "\t 2013-01-08 & -0.012997917 & -0.001175344 &  0.003488285 &  0.004031544 &  0.000000000 &  0.000000000 & 0 & -0.043762853 & -0.007887237 & -0.04006892\\\\\n",
       "\t 2013-01-09 &  0.007377961 &  0.015409236 &  0.012823387 &  0.016074092 &  0.018003273 &  0.005084945 & 0 &  0.010402056 &  0.004577283 &  0.00762248\\\\\n",
       "\\end{tabular}\n"
      ],
      "text/markdown": [
       "\n",
       "A tibble: 6 × 11\n",
       "\n",
       "| date &lt;date&gt; | ^BVSP &lt;dbl&gt; | ABEV3.SA &lt;dbl&gt; | BBDC4.SA &lt;dbl&gt; | ITUB4.SA &lt;dbl&gt; | JBSS3.SA &lt;dbl&gt; | MULT3.SA &lt;dbl&gt; | SUZB3.SA &lt;dbl&gt; | TRPL4.SA &lt;dbl&gt; | VALE3.SA &lt;dbl&gt; | WEGE3.SA &lt;dbl&gt; |\n",
       "|---|---|---|---|---|---|---|---|---|---|---|\n",
       "| 2013-01-02 |  0.000000000 |  0.000000000 |  0.000000000 |  0.000000000 |  0.000000000 |  0.000000000 | 0 |  0.000000000 |  0.000000000 |  0.00000000 |\n",
       "| 2013-01-03 |  0.012182254 |  0.017731507 |  0.059183564 |  0.029872295 |  0.009771987 | -0.006166437 | 0 |  0.005970300 | -0.017006803 |  0.04477601 |\n",
       "| 2013-01-04 | -0.012462092 | -0.016487082 | -0.016791200 | -0.005912475 |  0.030645161 |  0.004866145 | 0 |  0.050445175 | -0.015455549 | -0.01190473 |\n",
       "| 2013-01-07 | -0.009436527 |  0.011532311 | -0.005068205 | -0.016996876 | -0.043818466 | -0.015193625 | 0 | -0.005932466 | -0.019681350 | -0.01204816 |\n",
       "| 2013-01-08 | -0.012997917 | -0.001175344 |  0.003488285 |  0.004031544 |  0.000000000 |  0.000000000 | 0 | -0.043762853 | -0.007887237 | -0.04006892 |\n",
       "| 2013-01-09 |  0.007377961 |  0.015409236 |  0.012823387 |  0.016074092 |  0.018003273 |  0.005084945 | 0 |  0.010402056 |  0.004577283 |  0.00762248 |\n",
       "\n"
      ],
      "text/plain": [
       "  date       ^BVSP        ABEV3.SA     BBDC4.SA     ITUB4.SA     JBSS3.SA    \n",
       "1 2013-01-02  0.000000000  0.000000000  0.000000000  0.000000000  0.000000000\n",
       "2 2013-01-03  0.012182254  0.017731507  0.059183564  0.029872295  0.009771987\n",
       "3 2013-01-04 -0.012462092 -0.016487082 -0.016791200 -0.005912475  0.030645161\n",
       "4 2013-01-07 -0.009436527  0.011532311 -0.005068205 -0.016996876 -0.043818466\n",
       "5 2013-01-08 -0.012997917 -0.001175344  0.003488285  0.004031544  0.000000000\n",
       "6 2013-01-09  0.007377961  0.015409236  0.012823387  0.016074092  0.018003273\n",
       "  MULT3.SA     SUZB3.SA TRPL4.SA     VALE3.SA     WEGE3.SA   \n",
       "1  0.000000000 0         0.000000000  0.000000000  0.00000000\n",
       "2 -0.006166437 0         0.005970300 -0.017006803  0.04477601\n",
       "3  0.004866145 0         0.050445175 -0.015455549 -0.01190473\n",
       "4 -0.015193625 0        -0.005932466 -0.019681350 -0.01204816\n",
       "5  0.000000000 0        -0.043762853 -0.007887237 -0.04006892\n",
       "6  0.005084945 0         0.010402056  0.004577283  0.00762248"
      ]
     },
     "metadata": {},
     "output_type": "display_data"
    }
   ],
   "source": [
    "head(retornos_d)"
   ]
  },
  {
   "cell_type": "code",
   "execution_count": 152,
   "metadata": {},
   "outputs": [],
   "source": [
    "cova <- cov(retornos_d[,-1])*252\n",
    "media <- colMeans(retornos_d[,-1])*252\n",
    "sd_d <- sqrt(diag(cova))"
   ]
  },
  {
   "cell_type": "code",
   "execution_count": 154,
   "metadata": {},
   "outputs": [],
   "source": [
    "#Nº de simulações de carteiras a se fazer\n",
    "n_sim <- 400000\n",
    "pesos <- pesos_carteira(n_acoes = length(acoes), n_sim = n_sim, short = F)"
   ]
  },
  {
   "cell_type": "code",
   "execution_count": 155,
   "metadata": {},
   "outputs": [
    {
     "data": {
      "text/plain": [
       "Time difference of 17.87196 secs"
      ]
     },
     "metadata": {},
     "output_type": "display_data"
    }
   ],
   "source": [
    "start <- Sys.time()\n",
    "riscos <- apply(pesos, 2, portfolio_sd_t, cov = cova)\n",
    "retornos <- apply(pesos, 2, portfolio_return, returns = media)\n",
    "end <- Sys.time()\n",
    "end-start"
   ]
  },
  {
   "cell_type": "code",
   "execution_count": 156,
   "metadata": {},
   "outputs": [],
   "source": [
    "#Sharpe\n",
    "tx_livre_risco <- 0.02\n",
    "data <- matrix(0, nrow = 3, ncol = n_sim)\n",
    "data[1,] <- retornos\n",
    "data[2,] <- riscos\n",
    "data[3,] <- (retornos-tx_livre_risco)/riscos\n",
    "rownames(data) <- c(\"Retornos\", \"Riscos\",\"Sharpe\")"
   ]
  },
  {
   "cell_type": "code",
   "execution_count": 157,
   "metadata": {},
   "outputs": [
    {
     "data": {
      "image/png": "[encoded data removed]",
      "text/plain": [
       "Plot with title \"Simulações de carteiras\""
      ]
     },
     "metadata": {
      "image/png": {
       "height": 420,
       "width": 420
      }
     },
     "output_type": "display_data"
    }
   ],
   "source": [
    "plot(riscos, retornos, pch = 16, col = \"lightblue\",xlim = c(min(riscos)-0.05, max(sd_d)+0.05),\n",
    "    ylim = c(min(c(media, retornos))-0.05, max(c(media, retornos))+0.05), main = \"Simulações de carteiras\")\n",
    "points(x = sd_d, y = media, col = 1:length(acoes), pch = 16)\n",
    "text(x = sd_d, y = media, labels = sort(acoes), pos = 1)\n",
    "abline(a = tx_livre_risco, b = max(data[3,]), col = \"red\")\n",
    "abline(h = 0,v = 0, lty = 2)"
   ]
  },
  {
   "cell_type": "code",
   "execution_count": 158,
   "metadata": {},
   "outputs": [
    {
     "data": {
      "text/html": [
       "<strong>Sharpe Máximo:</strong> 1.11600470196661"
      ],
      "text/latex": [
       "\\textbf{Sharpe Máximo:} 1.11600470196661"
      ],
      "text/markdown": [
       "**Sharpe Máximo:** 1.11600470196661"
      ],
      "text/plain": [
       "Sharpe Máximo \n",
       "     1.116005 "
      ]
     },
     "metadata": {},
     "output_type": "display_data"
    },
    {
     "data": {
      "text/html": [
       "<strong>Retorno Máximo:</strong> 0.345356485269322"
      ],
      "text/latex": [
       "\\textbf{Retorno Máximo:} 0.345356485269322"
      ],
      "text/markdown": [
       "**Retorno Máximo:** 0.345356485269322"
      ],
      "text/plain": [
       "Retorno Máximo \n",
       "     0.3453565 "
      ]
     },
     "metadata": {},
     "output_type": "display_data"
    },
    {
     "data": {
      "text/html": [
       "<strong>Risco Mínimo:</strong> 0.176846707529241"
      ],
      "text/latex": [
       "\\textbf{Risco Mínimo:} 0.176846707529241"
      ],
      "text/markdown": [
       "**Risco Mínimo:** 0.176846707529241"
      ],
      "text/plain": [
       "Risco Mínimo \n",
       "   0.1768467 "
      ]
     },
     "metadata": {},
     "output_type": "display_data"
    }
   ],
   "source": [
    "sharpe <- max(data[3,])\n",
    "names(sharpe) <- \"Sharpe Máximo\"\n",
    "Ret_max <- max(data[1,])\n",
    "names(Ret_max) <- \"Retorno Máximo\"\n",
    "sd_min <- min(data[2,])\n",
    "names(sd_min) <- \"Risco Mínimo\"\n",
    "sharpe\n",
    "Ret_max\n",
    "sd_min"
   ]
  },
  {
   "cell_type": "code",
   "execution_count": 159,
   "metadata": {
    "scrolled": true
   },
   "outputs": [
    {
     "name": "stdout",
     "output_type": "stream",
     "text": [
      " Retornos    Riscos    Sharpe \n",
      "0.2778627 0.2310588 1.1160047 \n"
     ]
    }
   ],
   "source": [
    "#Somente ver a linha que tem o maior sharpe\n",
    "positivo <- data[3,] == sharpe\n",
    "show(data[,positivo])"
   ]
  },
  {
   "cell_type": "code",
   "execution_count": 160,
   "metadata": {},
   "outputs": [
    {
     "name": "stdout",
     "output_type": "stream",
     "text": [
      "   ^BVSP ABEV3.SA BBDC4.SA ITUB4.SA JBSS3.SA MULT3.SA SUZB3.SA TRPL4.SA \n",
      "   0.003    0.000    0.023    0.007    0.066    0.001    0.104    0.226 \n",
      "VALE3.SA WEGE3.SA \n",
      "   0.001    0.570 \n"
     ]
    }
   ],
   "source": [
    "#Pesos em % da melhor carteira\n",
    "pesos_efi <- round(pesos[,positivo],3)\n",
    "names(pesos_efi) <- sort(acoes)\n",
    "print(pesos_efi)"
   ]
  },
  {
   "cell_type": "code",
   "execution_count": 161,
   "metadata": {},
   "outputs": [
    {
     "data": {
      "text/html": [
       "<table>\n",
       "<caption>A data.frame: 1 × 3</caption>\n",
       "<thead>\n",
       "\t<tr><th scope=col>Risco</th><th scope=col>Retorno</th><th scope=col>Sharpe</th></tr>\n",
       "\t<tr><th scope=col>&lt;dbl&gt;</th><th scope=col>&lt;dbl&gt;</th><th scope=col>&lt;dbl&gt;</th></tr>\n",
       "</thead>\n",
       "<tbody>\n",
       "\t<tr><td>0.2313002</td><td>0.2780032</td><td>1.115447</td></tr>\n",
       "</tbody>\n",
       "</table>\n"
      ],
      "text/latex": [
       "A data.frame: 1 × 3\n",
       "\\begin{tabular}{lll}\n",
       " Risco & Retorno & Sharpe\\\\\n",
       " <dbl> & <dbl> & <dbl>\\\\\n",
       "\\hline\n",
       "\t 0.2313002 & 0.2780032 & 1.115447\\\\\n",
       "\\end{tabular}\n"
      ],
      "text/markdown": [
       "\n",
       "A data.frame: 1 × 3\n",
       "\n",
       "| Risco &lt;dbl&gt; | Retorno &lt;dbl&gt; | Sharpe &lt;dbl&gt; |\n",
       "|---|---|---|\n",
       "| 0.2313002 | 0.2780032 | 1.115447 |\n",
       "\n"
      ],
      "text/plain": [
       "  Risco     Retorno   Sharpe  \n",
       "1 0.2313002 0.2780032 1.115447"
      ]
     },
     "metadata": {},
     "output_type": "display_data"
    }
   ],
   "source": [
    "#Carteira eficiente com arredondamento de 3 casas decimais\n",
    "pesos_ef <- round(pesos[,positivo],3)\n",
    "risco_ef <- portfolio_sd_t(cov = cova, pesos = pesos_ef)\n",
    "ret_ef <- portfolio_return(returns = media, weight = pesos_ef)\n",
    "cart_ef <- data.frame(Risco = risco_ef, Retorno = ret_ef, Sharpe = (ret_ef-tx_livre_risco)/risco_ef)\n",
    "cart_ef"
   ]
  }
 ],
 "metadata": {
  "kernelspec": {
   "display_name": "R",
   "language": "R",
   "name": "ir"
  },
  "language_info": {
   "codemirror_mode": "r",
   "file_extension": ".r",
   "mimetype": "text/x-r-source",
   "name": "R",
   "pygments_lexer": "r",
   "version": "4.0.2"
  }
 },
 "nbformat": 4,
 "nbformat_minor": 4
}
