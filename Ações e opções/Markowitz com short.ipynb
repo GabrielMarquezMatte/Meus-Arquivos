{
 "cells": [
  {
   "cell_type": "code",
   "execution_count": 1,
   "metadata": {},
   "outputs": [],
   "source": [
    "portfolio_sd_t <- function(sd, cov, weight){\n",
    "  stopifnot(length(sd) > 1, is.matrix(cov), length(sd) == length(weight))\n",
    "  for(i in 1:(length(sd)-1)){\n",
    "    for(j in (i+1):length(sd)){\n",
    "      n <- sum(weight[i:length(sd)]^2*sd[i:length(sd)]^2)\n",
    "      m <- sum(2*weight[i]*weight[j]*cov[i,j])\n",
    "      sd <- sqrt(sum(weight[i:length(sd)]^2*sd[i:length(sd)]^2+\n",
    "                       2*weight[i]*weight[j]*cov[i,j]))\n",
    "      return(sd)\n",
    "    }\n",
    "  }\n",
    "}\n",
    "portfolio_return <- function(returns, weight){\n",
    "  if(!is.vector(returns) > 1){\n",
    "    mean <- apply(returns,2,mean, na.rm = T)\n",
    "  } else{\n",
    "    if(is.vector(returns)){\n",
    "      mean <- returns\n",
    "    }\n",
    "  }\n",
    "  total_return <- sum(weight*mean)\n",
    "  return(total_return)\n",
    "}"
   ]
  },
  {
   "cell_type": "code",
   "execution_count": 2,
   "metadata": {},
   "outputs": [],
   "source": [
    "options(warn = -1, scipen = 999)\n",
    "suppressPackageStartupMessages({\n",
    "    library(dplyr)\n",
    "    library(tidyr)\n",
    "    library(ggplot2)\n",
    "    library(tidyquant)\n",
    "    library(pracma)\n",
    "})"
   ]
  },
  {
   "cell_type": "code",
   "execution_count": 3,
   "metadata": {},
   "outputs": [
    {
     "name": "stderr",
     "output_type": "stream",
     "text": [
      "`summarise()` regrouping output by 'year' (override with `.groups` argument)\n",
      "\n",
      "`summarise()` ungrouping output (override with `.groups` argument)\n",
      "\n"
     ]
    }
   ],
   "source": [
    "#Estipule os parâmetros para calcular os desvios-padrão e os retornos médios (diários e anuais)\n",
    "acoes <- c(\"TRPL4.SA\",\"ENAT3.SA\",\"MGLU3.SA\")\n",
    "retornos_d <- tq_get(acoes, from = Sys.Date()-365) %>%\n",
    "  group_by(symbol) %>%\n",
    "  tq_transmute(select = close, mutate_fun= periodReturn, period = \"daily\")\n",
    "retornos_a <- tq_get(acoes, from = Sys.Date()-365*4) %>%\n",
    "  group_by(symbol) %>%\n",
    "  tq_transmute(select = close, mutate_fun= periodReturn, period = \"yearly\", fill = 0) %>%\n",
    "  mutate(year = year(date)) %>%\n",
    "  group_by(year,symbol) %>%\n",
    "  summarise(yearly.returns) %>%\n",
    "  spread(key = \"symbol\", value = \"yearly.returns\") %>%\n",
    "  na.fill(fill = 0)\n",
    "sd_d <- retornos_d %>%\n",
    "  group_by(symbol) %>%\n",
    "  summarise(sd = sd(daily.returns)) %>%\n",
    "  spread(key = \"symbol\", value = sd)\n",
    "cov <- retornos_d %>%\n",
    "  spread(key = \"symbol\", value = daily.returns)\n",
    "cov$date <- NULL\n",
    "cov <- cov(cov)"
   ]
  },
  {
   "cell_type": "code",
   "execution_count": 4,
   "metadata": {},
   "outputs": [],
   "source": [
    "#Nº de simulações de carteiras a se fazer\n",
    "n_sim <- 1000\n",
    "pesos <- matrix(0,length(acoes),n_sim)\n",
    "pesos <- apply(pesos,2,rnorm)\n",
    "pesos <- apply(pesos,2,function(x)x/sum(x))\n",
    "for(i in 1:ncol(pesos)){\n",
    "  if(any(pesos[,i] < -0.5| pesos[,i] >= 1)){\n",
    "    pesos[,i] <- 0\n",
    "  }\n",
    "}\n",
    "col_sub <- apply(pesos,2,function(col)all(col != 0))\n",
    "pesos <- pesos[,col_sub]"
   ]
  },
  {
   "cell_type": "code",
   "execution_count": 5,
   "metadata": {},
   "outputs": [
    {
     "data": {
      "text/html": [
       "483"
      ],
      "text/latex": [
       "483"
      ],
      "text/markdown": [
       "483"
      ],
      "text/plain": [
       "[1] 483"
      ]
     },
     "metadata": {},
     "output_type": "display_data"
    }
   ],
   "source": [
    "ncol(pesos)"
   ]
  },
  {
   "cell_type": "code",
   "execution_count": 6,
   "metadata": {},
   "outputs": [
    {
     "data": {
      "text/plain": [
       "Time difference of 1.7859 secs"
      ]
     },
     "metadata": {},
     "output_type": "display_data"
    }
   ],
   "source": [
    "start <- Sys.time()\n",
    "riscos <- apply(pesos, 2, portfolio_sd_t, sd = sd_d, cov = cov)*sqrt(252)\n",
    "retornos <- apply(pesos, 2, portfolio_return, returns = retornos_a[,2:ncol(retornos_a)])\n",
    "end <- Sys.time()\n",
    "end-start"
   ]
  },
  {
   "cell_type": "code",
   "execution_count": 7,
   "metadata": {},
   "outputs": [],
   "source": [
    "#Sharpe\n",
    "tx_livre_risco <- 0.02\n",
    "data <- data.frame(riscos = riscos, retornos = retornos, sharpe = (retornos-tx_livre_risco)/riscos)\n",
    "data <- na.omit(data)"
   ]
  },
  {
   "cell_type": "code",
   "execution_count": 8,
   "metadata": {},
   "outputs": [
    {
     "name": "stderr",
     "output_type": "stream",
     "text": [
      "`summarise()` ungrouping output (override with `.groups` argument)\n",
      "\n"
     ]
    }
   ],
   "source": [
    "#Retorno médio das ações\n",
    "retorno_med <- retornos_a %>%\n",
    "  data.frame %>%\n",
    "  gather(key = \"symbol\", value = \"return\", -year) %>%\n",
    "  group_by(symbol) %>%\n",
    "  summarise(media = mean(return)) %>%\n",
    "  spread(key = \"symbol\", value = \"media\")"
   ]
  },
  {
   "cell_type": "code",
   "execution_count": 9,
   "metadata": {},
   "outputs": [
    {
     "data": {
      "image/png": "[encoded data removed]",
      "text/plain": [
       "Plot with title \"Simulações de carteiras\""
      ]
     },
     "metadata": {
      "image/png": {
       "height": 420,
       "width": 420
      }
     },
     "output_type": "display_data"
    }
   ],
   "source": [
    "plot(data$riscos, data$retornos, pch = 16, col = \"lightblue\",\n",
    "     xlim = c(min(data$riscos),max(data$riscos)),\n",
    "    ylim = c(min(data$retornos), max(data$retornos)), main = \"Simulações de carteiras\")\n",
    "points(x = sd_d*sqrt(252), y = retorno_med, col = 1:ncol(retorno_med), pch = 16)\n",
    "text(x = sd_d*sqrt(252), y = retorno_med, labels = colnames(retorno_med), pos = 2)\n",
    "abline(a = tx_livre_risco, b = max(data$sharpe), col = \"red\")\n",
    "abline(h = 0.02, v = 0, lty  = 2)"
   ]
  },
  {
   "cell_type": "code",
   "execution_count": 10,
   "metadata": {},
   "outputs": [
    {
     "data": {
      "text/html": [
       "<strong>Sharpe Máximo:</strong> 14.4527152657633"
      ],
      "text/latex": [
       "\\textbf{Sharpe Máximo:} 14.4527152657633"
      ],
      "text/markdown": [
       "**Sharpe Máximo:** 14.4527152657633"
      ],
      "text/plain": [
       "Sharpe Máximo \n",
       "     14.45272 "
      ]
     },
     "metadata": {},
     "output_type": "display_data"
    },
    {
     "data": {
      "text/html": [
       "<strong>Retorno Máximo:</strong> 1.80244307368922"
      ],
      "text/latex": [
       "\\textbf{Retorno Máximo:} 1.80244307368922"
      ],
      "text/markdown": [
       "**Retorno Máximo:** 1.80244307368922"
      ],
      "text/plain": [
       "Retorno Máximo \n",
       "      1.802443 "
      ]
     },
     "metadata": {},
     "output_type": "display_data"
    },
    {
     "data": {
      "text/html": [
       "<strong>Risco Mínimo:</strong> 0.0240499781968038"
      ],
      "text/latex": [
       "\\textbf{Risco Mínimo:} 0.0240499781968038"
      ],
      "text/markdown": [
       "**Risco Mínimo:** 0.0240499781968038"
      ],
      "text/plain": [
       "Risco Mínimo \n",
       "  0.02404998 "
      ]
     },
     "metadata": {},
     "output_type": "display_data"
    }
   ],
   "source": [
    "sharpe <- max(data$sharpe)\n",
    "names(sharpe) <- \"Sharpe Máximo\"\n",
    "Ret_max <- max(data$retornos)\n",
    "names(Ret_max) <- \"Retorno Máximo\"\n",
    "sd_min <- min(data$riscos)\n",
    "names(sd_min) <- \"Risco Mínimo\"\n",
    "sharpe\n",
    "Ret_max\n",
    "sd_min"
   ]
  },
  {
   "cell_type": "code",
   "execution_count": 11,
   "metadata": {},
   "outputs": [
    {
     "name": "stdout",
     "output_type": "stream",
     "text": [
      "        riscos  retornos   sharpe\n",
      "254 0.06622625 0.9771492 14.45272\n"
     ]
    }
   ],
   "source": [
    "#Somente ver a linha que tem o maior sharpe\n",
    "positivo <- data$sharpe == sharpe\n",
    "show(data[positivo,])"
   ]
  },
  {
   "cell_type": "markdown",
   "metadata": {},
   "source": [
    "## A linha do data.frame \"data\" equivale a coluna da matriz de pesos"
   ]
  },
  {
   "cell_type": "code",
   "execution_count": 12,
   "metadata": {},
   "outputs": [
    {
     "name": "stdout",
     "output_type": "stream",
     "text": [
      "ENAT3.SA MGLU3.SA TRPL4.SA \n",
      "  -35.43    57.22    78.21 \n"
     ]
    }
   ],
   "source": [
    "pesos_efi <- round(pesos[,254]*100,2)\n",
    "names(pesos_efi) <- sort(acoes)\n",
    "print(pesos_efi)"
   ]
  },
  {
   "cell_type": "code",
   "execution_count": 14,
   "metadata": {},
   "outputs": [
    {
     "data": {
      "text/html": [
       "<table>\n",
       "<caption>A data.frame: 1 × 3</caption>\n",
       "<thead>\n",
       "\t<tr><th scope=col>Risco</th><th scope=col>Retorno</th><th scope=col>Sharpe</th></tr>\n",
       "\t<tr><th scope=col>&lt;dbl&gt;</th><th scope=col>&lt;dbl&gt;</th><th scope=col>&lt;dbl&gt;</th></tr>\n",
       "</thead>\n",
       "<tbody>\n",
       "\t<tr><td>0.06685589</td><td>0.9768909</td><td>14.31274</td></tr>\n",
       "</tbody>\n",
       "</table>\n"
      ],
      "text/latex": [
       "A data.frame: 1 × 3\n",
       "\\begin{tabular}{lll}\n",
       " Risco & Retorno & Sharpe\\\\\n",
       " <dbl> & <dbl> & <dbl>\\\\\n",
       "\\hline\n",
       "\t 0.06685589 & 0.9768909 & 14.31274\\\\\n",
       "\\end{tabular}\n"
      ],
      "text/markdown": [
       "\n",
       "A data.frame: 1 × 3\n",
       "\n",
       "| Risco &lt;dbl&gt; | Retorno &lt;dbl&gt; | Sharpe &lt;dbl&gt; |\n",
       "|---|---|---|\n",
       "| 0.06685589 | 0.9768909 | 14.31274 |\n",
       "\n"
      ],
      "text/plain": [
       "  Risco      Retorno   Sharpe  \n",
       "1 0.06685589 0.9768909 14.31274"
      ]
     },
     "metadata": {},
     "output_type": "display_data"
    }
   ],
   "source": [
    "#Carteira eficiente com arredondamento de 3 casas decimais\n",
    "pesos_ef <- round(pesos[,254],3)\n",
    "risco_ef <- portfolio_sd_t(sd = sd_d, cov = cov, weight = pesos_ef)*sqrt(252)\n",
    "ret_ef <- portfolio_return(returns = retornos_a[,2:ncol(retornos_a)], weight = pesos_ef)\n",
    "cart_ef <- data.frame(Risco = risco_ef, Retorno = ret_ef, Sharpe = (ret_ef-tx_livre_risco)/risco_ef)\n",
    "cart_ef"
   ]
  },
  {
   "cell_type": "code",
   "execution_count": null,
   "metadata": {},
   "outputs": [],
   "source": []
  }
 ],
 "metadata": {
  "kernelspec": {
   "display_name": "R",
   "language": "R",
   "name": "ir"
  },
  "language_info": {
   "codemirror_mode": "r",
   "file_extension": ".r",
   "mimetype": "text/x-r-source",
   "name": "R",
   "pygments_lexer": "r",
   "version": "4.0.2"
  }
 },
 "nbformat": 4,
 "nbformat_minor": 4
}
