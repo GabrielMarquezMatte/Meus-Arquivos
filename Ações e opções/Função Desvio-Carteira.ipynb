{
 "cells": [
  {
   "cell_type": "code",
   "execution_count": 10,
   "metadata": {},
   "outputs": [],
   "source": [
    "portfolio_sd_t <- function(sd, cov, weight){\n",
    "  stopifnot(length(sd) > 1, is.matrix(cov), length(sd) == length(weight),\n",
    "            sum(weight) == 1)\n",
    "  for(i in 1:(length(sd)-1)){\n",
    "    for(j in (i+1):length(sd)){\n",
    "      n <- sum(weight[i:length(sd)]^2*sd[i:length(sd)]^2)\n",
    "      m <- sum(2*weight[i]*weight[j]*cov[i,j])\n",
    "      sd <- sqrt(sum(weight[i:length(sd)]^2*sd[i:length(sd)]^2+\n",
    "                       2*weight[i]*weight[j]*cov[i,j]))\n",
    "      return(sd)\n",
    "    }\n",
    "  }\n",
    "}"
   ]
  },
  {
   "cell_type": "code",
   "execution_count": 33,
   "metadata": {},
   "outputs": [],
   "source": [
    "portfolio_return <- function(returns, weight){\n",
    "  stopifnot(sum(weight) == 1)\n",
    "  if(!is.vector(returns) > 1){\n",
    "    mean <- matrix(0, nrow = ncol(returns), ncol = 1)\n",
    "    for(i in 1:ncol(returns)){\n",
    "      mean[i] <- mean(as.matrix(returns[,i]), na.rm = T)\n",
    "    }\n",
    "  } else{\n",
    "    if(is.vector(returns)){\n",
    "      mean <- returns\n",
    "    }\n",
    "  }\n",
    "  total_return <- sum(weight*mean)\n",
    "  return(total_return)\n",
    "}"
   ]
  }
 ],
 "metadata": {
  "kernelspec": {
   "display_name": "R",
   "language": "R",
   "name": "ir"
  },
  "language_info": {
   "codemirror_mode": "r",
   "file_extension": ".r",
   "mimetype": "text/x-r-source",
   "name": "R",
   "pygments_lexer": "r",
   "version": "4.0.1"
  }
 },
 "nbformat": 4,
 "nbformat_minor": 4
}
