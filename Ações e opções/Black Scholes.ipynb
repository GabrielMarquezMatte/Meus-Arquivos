{
 "cells": [
  {
   "cell_type": "code",
   "execution_count": 2,
   "metadata": {},
   "outputs": [],
   "source": [
    "S <- 10\n",
    "K <- 9.8\n",
    "r <- 0.0225\n",
    "T <- 43/252\n",
    "desv <- 0.9216\n",
    "d1 <- (log(S/K)+(r+(desv^2)/2)*T)/(desv*sqrt(T))\n",
    "d2 <- d1 - desv*sqrt(T)"
   ]
  },
  {
   "cell_type": "code",
   "execution_count": 5,
   "metadata": {},
   "outputs": [
    {
     "data": {
      "text/html": [
       "<strong>Preço Call:</strong> 'R$1.613'"
      ],
      "text/latex": [
       "\\textbf{Preço Call:} 'R\\$1.613'"
      ],
      "text/markdown": [
       "**Preço Call:** 'R$1.613'"
      ],
      "text/plain": [
       "Preço Call \n",
       " \"R$1.613\" "
      ]
     },
     "metadata": {},
     "output_type": "display_data"
    },
    {
     "data": {
      "text/html": [
       "<strong>Preço Put:</strong> 'R$1.376'"
      ],
      "text/latex": [
       "\\textbf{Preço Put:} 'R\\$1.376'"
      ],
      "text/markdown": [
       "**Preço Put:** 'R$1.376'"
      ],
      "text/plain": [
       "Preço Put \n",
       "\"R$1.376\" "
      ]
     },
     "metadata": {},
     "output_type": "display_data"
    }
   ],
   "source": [
    "Call <- round(S*pnorm(d1) - K*exp(-r*T)*pnorm(d2), 3)\n",
    "Put <- round(K*exp(-r*T)*pnorm(-d2) - S*pnorm(-d1), 3)\n",
    "Call1 <- paste0(\"R$\",Call)\n",
    "Put1 <- paste0(\"R$\",Put)\n",
    "names(Call1) <- c(\"Preço Call\")\n",
    "names(Put1) <- c(\"Preço Put\")\n",
    "Call1\n",
    "Put1"
   ]
  },
  {
   "cell_type": "code",
   "execution_count": 8,
   "metadata": {},
   "outputs": [],
   "source": [
    "delta_call <- pnorm(d1)\n",
    "delta_put <- pnorm(d1)-1\n",
    "theta_call <- ((-S*dnorm(d1)*desv)/2*sqrt(T))-r*K*exp(-r*T)*pnorm(d2)\n",
    "theta_put <- ((-S*dnorm(d1)*desv)/2*sqrt(T))+r*K*exp(-r*T)*pnorm(-d2)\n",
    "gama <- (dnorm(d1)/(S*desv*sqrt(T)))\n",
    "vega <- S*sqrt(T)*dnorm(d1)\n",
    "ro_call <- K*T*exp(-r*T)*pnorm(d2)\n",
    "ro_put <- -K*T*exp(-r*T)*pnorm(-d2)\n",
    "gregas <- cbind(delta_call, delta_put, theta_call, theta_put, gama, vega,\n",
    "               ro_call, ro_put)\n",
    "colnames(gregas) <- c(\"Delta Call\", \"Delta Put\", \"Theta Call\", \"Theta Put\", \"Gama\", \"Vega\", \"Rô Call\",\n",
    "                     \"Rô Put\")\n",
    "rownames(gregas) <- \"Valor\""
   ]
  },
  {
   "cell_type": "code",
   "execution_count": 9,
   "metadata": {},
   "outputs": [
    {
     "data": {
      "text/html": [
       "<table>\n",
       "<caption>A matrix: 1 × 8 of type dbl</caption>\n",
       "<thead>\n",
       "\t<tr><th></th><th scope=col>Delta Call</th><th scope=col>Delta Put</th><th scope=col>Theta Call</th><th scope=col>Theta Put</th><th scope=col>Gama</th><th scope=col>Vega</th><th scope=col>Rô Call</th><th scope=col>Rô Put</th></tr>\n",
       "</thead>\n",
       "<tbody>\n",
       "\t<tr><th scope=row>Valor</th><td>0.6001</td><td>-0.3999</td><td>-0.8341</td><td>-0.6144</td><td>0.1015</td><td>1.5958</td><td>0.7486</td><td>-0.9172</td></tr>\n",
       "</tbody>\n",
       "</table>\n"
      ],
      "text/latex": [
       "A matrix: 1 × 8 of type dbl\n",
       "\\begin{tabular}{r|llllllll}\n",
       "  & Delta Call & Delta Put & Theta Call & Theta Put & Gama & Vega & Rô Call & Rô Put\\\\\n",
       "\\hline\n",
       "\tValor & 0.6001 & -0.3999 & -0.8341 & -0.6144 & 0.1015 & 1.5958 & 0.7486 & -0.9172\\\\\n",
       "\\end{tabular}\n"
      ],
      "text/markdown": [
       "\n",
       "A matrix: 1 × 8 of type dbl\n",
       "\n",
       "| <!--/--> | Delta Call | Delta Put | Theta Call | Theta Put | Gama | Vega | Rô Call | Rô Put |\n",
       "|---|---|---|---|---|---|---|---|---|\n",
       "| Valor | 0.6001 | -0.3999 | -0.8341 | -0.6144 | 0.1015 | 1.5958 | 0.7486 | -0.9172 |\n",
       "\n"
      ],
      "text/plain": [
       "      Delta Call Delta Put Theta Call Theta Put Gama   Vega   Rô Call Rô Put \n",
       "Valor 0.6001     -0.3999   -0.8341    -0.6144   0.1015 1.5958 0.7486  -0.9172"
      ]
     },
     "metadata": {},
     "output_type": "display_data"
    }
   ],
   "source": [
    "round(gregas,4)"
   ]
  },
  {
   "cell_type": "code",
   "execution_count": null,
   "metadata": {},
   "outputs": [],
   "source": []
  }
 ],
 "metadata": {
  "kernelspec": {
   "display_name": "R",
   "language": "R",
   "name": "ir"
  },
  "language_info": {
   "codemirror_mode": "r",
   "file_extension": ".r",
   "mimetype": "text/x-r-source",
   "name": "R",
   "pygments_lexer": "r",
   "version": "4.0.1"
  }
 },
 "nbformat": 4,
 "nbformat_minor": 4
}
