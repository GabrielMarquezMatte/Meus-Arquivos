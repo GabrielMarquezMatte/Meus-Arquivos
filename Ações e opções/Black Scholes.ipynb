{
 "cells": [
  {
   "cell_type": "code",
   "execution_count": 12,
   "metadata": {},
   "outputs": [],
   "source": [
    "S <- 10\n",
    "K <- 9.8\n",
    "r <- 0.0225\n",
    "T <- 43/252\n",
    "desv <- 0.9216\n",
    "d1 <- (log(S/K)+(r+(desv^2)/2)*T)/(desv*sqrt(T))\n",
    "d2 <- d1 - desv*sqrt(T)"
   ]
  },
  {
   "cell_type": "code",
   "execution_count": 13,
   "metadata": {},
   "outputs": [
    {
     "data": {
      "text/html": [
       "'R$1.613'"
      ],
      "text/latex": [
       "'R\\$1.613'"
      ],
      "text/markdown": [
       "'R$1.613'"
      ],
      "text/plain": [
       "[1] \"R$1.613\""
      ]
     },
     "metadata": {},
     "output_type": "display_data"
    },
    {
     "data": {
      "text/html": [
       "'R$1.376'"
      ],
      "text/latex": [
       "'R\\$1.376'"
      ],
      "text/markdown": [
       "'R$1.376'"
      ],
      "text/plain": [
       "[1] \"R$1.376\""
      ]
     },
     "metadata": {},
     "output_type": "display_data"
    }
   ],
   "source": [
    "Call <- round(S*pnorm(d1) - K*exp(-r*T)*pnorm(d2), 3)\n",
    "Put <- round(K*exp(-r*T)*pnorm(-d2) - S*pnorm(-d1), 3)\n",
    "names(Call) <- c(\"Preço Call\")\n",
    "names(Put) <- c(\"Preço Put\")\n",
    "paste0(\"R$\",Call)\n",
    "paste0(\"R$\",Put)"
   ]
  },
  {
   "cell_type": "code",
   "execution_count": 14,
   "metadata": {},
   "outputs": [],
   "source": [
    "delta_call <- pnorm(d1)\n",
    "delta_put <- pnorm(d1)-1\n",
    "theta_call <- ((-S*dnorm(d1)*desv)/2*sqrt(T))-r*K*exp(-r*T)*pnorm(d2)\n",
    "theta_put <- ((-S*dnorm(d1)*desv)/2*sqrt(T))+r*K*exp(-r*T)*pnorm(-d2)\n",
    "gama <- (dnorm(d1)/(S*desv*sqrt(T)))\n",
    "vega <- S*sqrt(T)*dnorm(d1)\n",
    "ro_call <- K*T*exp(-r*T)*pnorm(d2)\n",
    "ro_put <- -K*T*exp(-r*T)*pnorm(-d2)\n",
    "gregas <- cbind(delta_call, delta_put, theta_call, theta_put, gama, vega,\n",
    "               ro_call, ro_put)\n",
    "colnames(gregas) <- c(\"Delta Call\", \"Delta Put\", \"Theta Call\", \"Theta Put\", \"Gama\", \"Vega\", \"Rô Call\",\n",
    "                     \"Rô Put\")"
   ]
  },
  {
   "cell_type": "code",
   "execution_count": 15,
   "metadata": {},
   "outputs": [
    {
     "data": {
      "text/html": [
       "<table>\n",
       "<thead><tr><th scope=col>Delta Call</th><th scope=col>Delta Put</th><th scope=col>Theta Call</th><th scope=col>Theta Put</th><th scope=col>Gama</th><th scope=col>Vega</th><th scope=col>Rô Call</th><th scope=col>Rô Put</th></tr></thead>\n",
       "<tbody>\n",
       "\t<tr><td>0.6001 </td><td>-0.3999</td><td>-0.8341</td><td>-0.6144</td><td>0.1015 </td><td>1.5958 </td><td>0.7486 </td><td>-0.9172</td></tr>\n",
       "</tbody>\n",
       "</table>\n"
      ],
      "text/latex": [
       "\\begin{tabular}{llllllll}\n",
       " Delta Call & Delta Put & Theta Call & Theta Put & Gama & Vega & Rô Call & Rô Put\\\\\n",
       "\\hline\n",
       "\t 0.6001  & -0.3999 & -0.8341 & -0.6144 & 0.1015  & 1.5958  & 0.7486  & -0.9172\\\\\n",
       "\\end{tabular}\n"
      ],
      "text/markdown": [
       "\n",
       "| Delta Call | Delta Put | Theta Call | Theta Put | Gama | Vega | Rô Call | Rô Put |\n",
       "|---|---|---|---|---|---|---|---|\n",
       "| 0.6001  | -0.3999 | -0.8341 | -0.6144 | 0.1015  | 1.5958  | 0.7486  | -0.9172 |\n",
       "\n"
      ],
      "text/plain": [
       "     Delta Call Delta Put Theta Call Theta Put Gama   Vega   Rô Call Rô Put \n",
       "[1,] 0.6001     -0.3999   -0.8341    -0.6144   0.1015 1.5958 0.7486  -0.9172"
      ]
     },
     "metadata": {},
     "output_type": "display_data"
    }
   ],
   "source": [
    "round(gregas,4)"
   ]
  },
  {
   "cell_type": "code",
   "execution_count": null,
   "metadata": {},
   "outputs": [],
   "source": []
  }
 ],
 "metadata": {
  "kernelspec": {
   "display_name": "R",
   "language": "R",
   "name": "ir"
  },
  "language_info": {
   "codemirror_mode": "r",
   "file_extension": ".r",
   "mimetype": "text/x-r-source",
   "name": "R",
   "pygments_lexer": "r",
   "version": "3.6.1"
  }
 },
 "nbformat": 4,
 "nbformat_minor": 4
}
