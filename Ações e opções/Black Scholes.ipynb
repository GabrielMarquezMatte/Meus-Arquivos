{
 "cells": [
  {
   "cell_type": "markdown",
   "metadata": {},
   "source": [
    "## Fórmula de Black-Scholes\n",
    "$$c = S\\phi(d_1)-Ke^{-rT}\\phi(d_2)$$\n",
    "$$p = Ke^{-rT}\\phi(d_2)-S\\phi(d_1)$$\n",
    "$$d_1 = \\frac{ln(S/K)+(r+\\frac{\\sigma^2}{2})T}{\\sigma\\sqrt{T}}$$\n",
    "$$d_2 = d_1-\\sigma\\sqrt{T}$$\n",
    "Onde $\\phi(d_n)$ é a probabilidade cumulativa dos eventos $d_n$ ocorrerem de acordo com uma distribuição normal, $S$ é o preço atual, $K$ é o strike, $r$ é a taxa de juros e $T$ é o tempo decorrido em anos."
   ]
  },
  {
   "cell_type": "code",
   "execution_count": 1,
   "metadata": {},
   "outputs": [
    {
     "name": "stderr",
     "output_type": "stream",
     "text": [
      "Warning message:\n",
      "\"package 'derivmkts' was built under R version 4.0.3\"\n"
     ]
    }
   ],
   "source": [
    "library(derivmkts)"
   ]
  },
  {
   "cell_type": "code",
   "execution_count": 2,
   "metadata": {},
   "outputs": [],
   "source": [
    "bs_call_put <- function(S, K, r, t, v){\n",
    "  d1 <- (log(S/K)+(r+(desv^2)/2)*t)/(desv*sqrt(t))\n",
    "  d2 <- d1 - desv*sqrt(t)\n",
    "  Call <- round(S*pnorm(d1) - K*exp(-r*t)*pnorm(d2), 3)\n",
    "  Put <- round(K*exp(-r*t)*pnorm(-d2) - S*pnorm(-d1), 3)\n",
    "  tot <- c(Call, Put)\n",
    "  names(tot) <- c(\"Call\",\"Put\")\n",
    "  return(tot)\n",
    "}"
   ]
  },
  {
   "cell_type": "code",
   "execution_count": 3,
   "metadata": {},
   "outputs": [
    {
     "data": {
      "text/html": [
       "<style>\n",
       ".dl-inline {width: auto; margin:0; padding: 0}\n",
       ".dl-inline>dt, .dl-inline>dd {float: none; width: auto; display: inline-block}\n",
       ".dl-inline>dt::after {content: \":\\0020\"; padding-right: .5ex}\n",
       ".dl-inline>dt:not(:first-of-type) {padding-left: .5ex}\n",
       "</style><dl class=dl-inline><dt>Call</dt><dd>1.613</dd><dt>Put</dt><dd>1.376</dd></dl>\n"
      ],
      "text/latex": [
       "\\begin{description*}\n",
       "\\item[Call] 1.613\n",
       "\\item[Put] 1.376\n",
       "\\end{description*}\n"
      ],
      "text/markdown": [
       "Call\n",
       ":   1.613Put\n",
       ":   1.376\n",
       "\n"
      ],
      "text/plain": [
       " Call   Put \n",
       "1.613 1.376 "
      ]
     },
     "metadata": {},
     "output_type": "display_data"
    }
   ],
   "source": [
    "S <- 10\n",
    "K <- 9.8\n",
    "r <- 0.0225\n",
    "t <- 43/252\n",
    "desv <- 0.9216\n",
    "bs_call_put(S, K, r, t, desv)"
   ]
  },
  {
   "cell_type": "code",
   "execution_count": 4,
   "metadata": {},
   "outputs": [
    {
     "data": {
      "text/html": [
       "<dl>\n",
       "\t<dt>$Call</dt>\n",
       "\t\t<dd><table>\n",
       "<caption>A matrix: 8 × 1 of type dbl</caption>\n",
       "<thead>\n",
       "\t<tr><th></th><th scope=col>bscall</th></tr>\n",
       "</thead>\n",
       "<tbody>\n",
       "\t<tr><th scope=row>Premium</th><td> 1.613412445</td></tr>\n",
       "\t<tr><th scope=row>Delta</th><td> 0.600059139</td></tr>\n",
       "\t<tr><th scope=row>Gamma</th><td> 0.101479727</td></tr>\n",
       "\t<tr><th scope=row>Vega</th><td> 0.015958411</td></tr>\n",
       "\t<tr><th scope=row>Rho</th><td> 0.007486059</td></tr>\n",
       "\t<tr><th scope=row>Theta</th><td>-0.012077491</td></tr>\n",
       "\t<tr><th scope=row>Psi</th><td>-0.010239104</td></tr>\n",
       "\t<tr><th scope=row>Elasticity</th><td> 3.719192452</td></tr>\n",
       "</tbody>\n",
       "</table>\n",
       "</dd>\n",
       "\t<dt>$Put</dt>\n",
       "\t\t<dd><table>\n",
       "<caption>A matrix: 8 × 1 of type dbl</caption>\n",
       "<thead>\n",
       "\t<tr><th></th><th scope=col>bsput</th></tr>\n",
       "</thead>\n",
       "<tbody>\n",
       "\t<tr><th scope=row>Premium</th><td> 1.375859580</td></tr>\n",
       "\t<tr><th scope=row>Delta</th><td>-0.399940861</td></tr>\n",
       "\t<tr><th scope=row>Gamma</th><td> 0.101479731</td></tr>\n",
       "\t<tr><th scope=row>Vega</th><td> 0.015958411</td></tr>\n",
       "\t<tr><th scope=row>Rho</th><td>-0.009172085</td></tr>\n",
       "\t<tr><th scope=row>Theta</th><td>-0.011475696</td></tr>\n",
       "\t<tr><th scope=row>Psi</th><td> 0.006824388</td></tr>\n",
       "\t<tr><th scope=row>Elasticity</th><td>-2.906843598</td></tr>\n",
       "</tbody>\n",
       "</table>\n",
       "</dd>\n",
       "</dl>\n"
      ],
      "text/latex": [
       "\\begin{description}\n",
       "\\item[\\$Call] A matrix: 8 × 1 of type dbl\n",
       "\\begin{tabular}{r|l}\n",
       "  & bscall\\\\\n",
       "\\hline\n",
       "\tPremium &  1.613412445\\\\\n",
       "\tDelta &  0.600059139\\\\\n",
       "\tGamma &  0.101479727\\\\\n",
       "\tVega &  0.015958411\\\\\n",
       "\tRho &  0.007486059\\\\\n",
       "\tTheta & -0.012077491\\\\\n",
       "\tPsi & -0.010239104\\\\\n",
       "\tElasticity &  3.719192452\\\\\n",
       "\\end{tabular}\n",
       "\n",
       "\\item[\\$Put] A matrix: 8 × 1 of type dbl\n",
       "\\begin{tabular}{r|l}\n",
       "  & bsput\\\\\n",
       "\\hline\n",
       "\tPremium &  1.375859580\\\\\n",
       "\tDelta & -0.399940861\\\\\n",
       "\tGamma &  0.101479731\\\\\n",
       "\tVega &  0.015958411\\\\\n",
       "\tRho & -0.009172085\\\\\n",
       "\tTheta & -0.011475696\\\\\n",
       "\tPsi &  0.006824388\\\\\n",
       "\tElasticity & -2.906843598\\\\\n",
       "\\end{tabular}\n",
       "\n",
       "\\end{description}\n"
      ],
      "text/markdown": [
       "$Call\n",
       ":   \n",
       "A matrix: 8 × 1 of type dbl\n",
       "\n",
       "| <!--/--> | bscall |\n",
       "|---|---|\n",
       "| Premium |  1.613412445 |\n",
       "| Delta |  0.600059139 |\n",
       "| Gamma |  0.101479727 |\n",
       "| Vega |  0.015958411 |\n",
       "| Rho |  0.007486059 |\n",
       "| Theta | -0.012077491 |\n",
       "| Psi | -0.010239104 |\n",
       "| Elasticity |  3.719192452 |\n",
       "\n",
       "\n",
       "$Put\n",
       ":   \n",
       "A matrix: 8 × 1 of type dbl\n",
       "\n",
       "| <!--/--> | bsput |\n",
       "|---|---|\n",
       "| Premium |  1.375859580 |\n",
       "| Delta | -0.399940861 |\n",
       "| Gamma |  0.101479731 |\n",
       "| Vega |  0.015958411 |\n",
       "| Rho | -0.009172085 |\n",
       "| Theta | -0.011475696 |\n",
       "| Psi |  0.006824388 |\n",
       "| Elasticity | -2.906843598 |\n",
       "\n",
       "\n",
       "\n",
       "\n"
      ],
      "text/plain": [
       "$Call\n",
       "                 bscall\n",
       "Premium     1.613412445\n",
       "Delta       0.600059139\n",
       "Gamma       0.101479727\n",
       "Vega        0.015958411\n",
       "Rho         0.007486059\n",
       "Theta      -0.012077491\n",
       "Psi        -0.010239104\n",
       "Elasticity  3.719192452\n",
       "\n",
       "$Put\n",
       "                  bsput\n",
       "Premium     1.375859580\n",
       "Delta      -0.399940861\n",
       "Gamma       0.101479731\n",
       "Vega        0.015958411\n",
       "Rho        -0.009172085\n",
       "Theta      -0.011475696\n",
       "Psi         0.006824388\n",
       "Elasticity -2.906843598\n"
      ]
     },
     "metadata": {},
     "output_type": "display_data"
    }
   ],
   "source": [
    "bsopt(S, K, desv, r, t, 0)"
   ]
  },
  {
   "cell_type": "code",
   "execution_count": 11,
   "metadata": {},
   "outputs": [
    {
     "data": {
      "text/html": [
       "<table>\n",
       "<caption>A matrix: 3 × 4 of type dbl</caption>\n",
       "<thead>\n",
       "\t<tr><th></th><th scope=col>Call</th><th scope=col>Put</th><th scope=col>sd Call</th><th scope=col>sd Put</th></tr>\n",
       "</thead>\n",
       "<tbody>\n",
       "\t<tr><th scope=row>Avg Price</th><td>1.0573624</td><td>0.8035196</td><td>1.705270</td><td>1.0947140</td></tr>\n",
       "\t<tr><th scope=row>Avg Strike</th><td>0.8263423</td><td>0.7914160</td><td>1.561989</td><td>0.9607065</td></tr>\n",
       "\t<tr><th scope=row>Vanilla</th><td>1.6452784</td><td>1.3565094</td><td>2.937909</td><td>1.6860247</td></tr>\n",
       "</tbody>\n",
       "</table>\n"
      ],
      "text/latex": [
       "A matrix: 3 × 4 of type dbl\n",
       "\\begin{tabular}{r|llll}\n",
       "  & Call & Put & sd Call & sd Put\\\\\n",
       "\\hline\n",
       "\tAvg Price & 1.0573624 & 0.8035196 & 1.705270 & 1.0947140\\\\\n",
       "\tAvg Strike & 0.8263423 & 0.7914160 & 1.561989 & 0.9607065\\\\\n",
       "\tVanilla & 1.6452784 & 1.3565094 & 2.937909 & 1.6860247\\\\\n",
       "\\end{tabular}\n"
      ],
      "text/markdown": [
       "\n",
       "A matrix: 3 × 4 of type dbl\n",
       "\n",
       "| <!--/--> | Call | Put | sd Call | sd Put |\n",
       "|---|---|---|---|---|\n",
       "| Avg Price | 1.0573624 | 0.8035196 | 1.705270 | 1.0947140 |\n",
       "| Avg Strike | 0.8263423 | 0.7914160 | 1.561989 | 0.9607065 |\n",
       "| Vanilla | 1.6452784 | 1.3565094 | 2.937909 | 1.6860247 |\n",
       "\n"
      ],
      "text/plain": [
       "           Call      Put       sd Call  sd Put   \n",
       "Avg Price  1.0573624 0.8035196 1.705270 1.0947140\n",
       "Avg Strike 0.8263423 0.7914160 1.561989 0.9607065\n",
       "Vanilla    1.6452784 1.3565094 2.937909 1.6860247"
      ]
     },
     "metadata": {},
     "output_type": "display_data"
    }
   ],
   "source": [
    "#Simulação de Monte Carlo\n",
    "arithasianmc(s = S,k = K,r = r,tt = t,d = 0,v = desv, numsim = 10000, m = 10, printsds = T)"
   ]
  },
  {
   "cell_type": "markdown",
   "metadata": {},
   "source": [
    "## Calculando as Gregas\n",
    "# Delta - Call\n",
    "$\\phi(d_1)$\n",
    "# Delta Put\n",
    "$\\phi(d_1)-1$\n",
    "# Gamma\n",
    "${\\frac {\\phi'(d_{1})}{S\\sigma {\\sqrt {T-r}}}}$"
   ]
  }
 ],
 "metadata": {
  "kernelspec": {
   "display_name": "R",
   "language": "R",
   "name": "ir"
  },
  "language_info": {
   "codemirror_mode": "r",
   "file_extension": ".r",
   "mimetype": "text/x-r-source",
   "name": "R",
   "pygments_lexer": "r",
   "version": "4.0.3"
  }
 },
 "nbformat": 4,
 "nbformat_minor": 4
}
