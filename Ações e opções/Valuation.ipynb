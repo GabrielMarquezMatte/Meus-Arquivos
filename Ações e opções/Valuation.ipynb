{
 "cells": [
  {
   "cell_type": "code",
   "execution_count": 2,
   "metadata": {},
   "outputs": [
    {
     "name": "stderr",
     "output_type": "stream",
     "text": [
      "Warning message:\n",
      "\"package 'quantmod' was built under R version 3.6.3\"\n",
      "Loading required package: xts\n",
      "\n",
      "Warning message:\n",
      "\"package 'xts' was built under R version 3.6.3\"\n",
      "Loading required package: zoo\n",
      "\n",
      "Warning message:\n",
      "\"package 'zoo' was built under R version 3.6.3\"\n",
      "\n",
      "Attaching package: 'zoo'\n",
      "\n",
      "\n",
      "The following objects are masked from 'package:base':\n",
      "\n",
      "    as.Date, as.Date.numeric\n",
      "\n",
      "\n",
      "Loading required package: TTR\n",
      "\n",
      "Warning message:\n",
      "\"package 'TTR' was built under R version 3.6.3\"\n",
      "Registered S3 method overwritten by 'quantmod':\n",
      "  method            from\n",
      "  as.zoo.data.frame zoo \n",
      "\n",
      "Version 0.4-0 included new data defaults. See ?getSymbols.\n",
      "\n"
     ]
    }
   ],
   "source": [
    "options(warning = -1)\n",
    "options(\"getSymbols.warning4.0\"=FALSE)\n",
    "library(quantmod)"
   ]
  },
  {
   "cell_type": "code",
   "execution_count": 26,
   "metadata": {},
   "outputs": [
    {
     "name": "stderr",
     "output_type": "stream",
     "text": [
      "Warning message:\n",
      "\"VALE3.SA contains missing values. Some functions will not work if objects contain missing values in the middle of the series. Consider using na.omit(), na.approx(), na.fill(), etc to remove or replace them.\"\n"
     ]
    },
    {
     "data": {
      "text/html": [
       "'VALE3.SA'"
      ],
      "text/latex": [
       "'VALE3.SA'"
      ],
      "text/markdown": [
       "'VALE3.SA'"
      ],
      "text/plain": [
       "[1] \"VALE3.SA\""
      ]
     },
     "metadata": {},
     "output_type": "display_data"
    },
    {
     "name": "stderr",
     "output_type": "stream",
     "text": [
      "Warning message:\n",
      "\"^BVSP contains missing values. Some functions will not work if objects contain missing values in the middle of the series. Consider using na.omit(), na.approx(), na.fill(), etc to remove or replace them.\"\n"
     ]
    },
    {
     "data": {
      "text/html": [
       "'^BVSP'"
      ],
      "text/latex": [
       "'\\textasciicircum{}BVSP'"
      ],
      "text/markdown": [
       "'^BVSP'"
      ],
      "text/plain": [
       "[1] \"^BVSP\""
      ]
     },
     "metadata": {},
     "output_type": "display_data"
    }
   ],
   "source": [
    "#Empresa e benchmark\n",
    "getSymbols(\"VALE3.SA\", from = \"2019-07-09\", to = \"2020-07-09\")\n",
    "getSymbols(\"^BVSP\", from = \"2019-07-09\", to = \"2020-07-09\")\n",
    "petr <- na.omit(VALE3.SA)\n",
    "ibov <- na.omit(BVSP)"
   ]
  },
  {
   "cell_type": "code",
   "execution_count": 27,
   "metadata": {},
   "outputs": [],
   "source": [
    "#Calculando o Beta\n",
    "varibov <- na.omit(diff(ibov$BVSP.Close,1)/ibov$BVSP.Close[1:nrow(ibov)-1])\n",
    "varpetr <- na.omit(diff(petr$VALE3.SA.Close,1)/petr$VALE3.SA.Close[1:nrow(petr)-1])\n",
    "beta <- cov(varibov, varpetr)/(sd(varibov)^2)"
   ]
  },
  {
   "cell_type": "code",
   "execution_count": 6,
   "metadata": {},
   "outputs": [],
   "source": [
    "#Taxa de juros\n",
    "tx_juros <- 0.0225"
   ]
  },
  {
   "cell_type": "code",
   "execution_count": 3,
   "metadata": {},
   "outputs": [],
   "source": [
    "#Fluxo de caixa livre e lucro líquido (Possíveis escolhas)\n",
    "fluxo <- c(27510.05*1000000, 33952.24*1000000, 32509.78*1000000)\n",
    "lucro <- c(17627.2*1000000, 25656.53*1000000, -6671.44*100000)\n",
    "crescimento_fluxo <- (last(fluxo)/first(fluxo))^(1/length(fluxo))-1"
   ]
  },
  {
   "cell_type": "code",
   "execution_count": 4,
   "metadata": {},
   "outputs": [],
   "source": [
    "#Dados da empresa\n",
    "n_acoes <- 5284474782\n",
    "vpa <- 32.72\n",
    "fpa <- fluxo/n_acoes\n",
    "lpa <- lucro/n_acoes\n",
    "ativos <- 439706999000\n",
    "divida <- 97573517000\n",
    "pc_ativo <- ativos/(ativos+divida)\n",
    "pc_divida <- divida/(ativos+divida)\n",
    "juros <- 0.06\n",
    "imposto <- 0.34"
   ]
  },
  {
   "cell_type": "code",
   "execution_count": 5,
   "metadata": {},
   "outputs": [
    {
     "ename": "ERROR",
     "evalue": "Error in eval(expr, envir, enclos): objeto 'tx_juros' não encontrado\n",
     "output_type": "error",
     "traceback": [
      "Error in eval(expr, envir, enclos): objeto 'tx_juros' não encontrado\nTraceback:\n"
     ]
    }
   ],
   "source": [
    "#Calculando o wacc\n",
    "capm <- tx_juros+beta*(crescimento_fluxo-tx_juros)\n",
    "wacc <- (capm*pc_ativo)+(juros*pc_divida*(1-imposto))"
   ]
  },
  {
   "cell_type": "code",
   "execution_count": 39,
   "metadata": {},
   "outputs": [
    {
     "data": {
      "text/html": [
       "<table>\n",
       "<caption>A matrix: 1 × 1 of type dbl</caption>\n",
       "<thead>\n",
       "\t<tr><th></th><th scope=col>VALE3</th></tr>\n",
       "</thead>\n",
       "<tbody>\n",
       "\t<tr><th scope=row>Valor Intrínsico</th><td>36.53321</td></tr>\n",
       "</tbody>\n",
       "</table>\n"
      ],
      "text/latex": [
       "A matrix: 1 × 1 of type dbl\n",
       "\\begin{tabular}{r|l}\n",
       "  & VALE3\\\\\n",
       "\\hline\n",
       "\tValor Intrínsico & 36.53321\\\\\n",
       "\\end{tabular}\n"
      ],
      "text/markdown": [
       "\n",
       "A matrix: 1 × 1 of type dbl\n",
       "\n",
       "| <!--/--> | VALE3 |\n",
       "|---|---|\n",
       "| Valor Intrínsico | 36.53321 |\n",
       "\n"
      ],
      "text/plain": [
       "                 VALE3   \n",
       "Valor Intrínsico 36.53321"
      ]
     },
     "metadata": {},
     "output_type": "display_data"
    }
   ],
   "source": [
    "#Terminando o valuation\n",
    "crescimento_f <- 0.03\n",
    "A <- (1+crescimento_fluxo)/(1+wacc)\n",
    "B <- (1+crescimento_f)/(1+wacc)\n",
    "valor_3anos <- (last(fpa)*A*(1-A^(3))/(1-A))\n",
    "valor_perpetuo <- last(fpa)*A^3*B*(1-B^3)/(1-B)\n",
    "total_valor <-valor_3anos+valor_perpetuo\n",
    "rownames(total_valor) <- c(\"Valor Intrínsico\")\n",
    "colnames(total_valor) <- c(\"VALE3\")\n",
    "total_valor"
   ]
  },
  {
   "cell_type": "code",
   "execution_count": 36,
   "metadata": {},
   "outputs": [
    {
     "data": {
      "text/html": [
       "20.8185731442263"
      ],
      "text/latex": [
       "20.8185731442263"
      ],
      "text/markdown": [
       "20.8185731442263"
      ],
      "text/plain": [
       "[1] 20.81857"
      ]
     },
     "metadata": {},
     "output_type": "display_data"
    }
   ],
   "source": [
    "#Margem de segurança em %\n",
    "margem <- as.numeric(total_valor/last(petr$VALE3.SA.Close)-1)*100\n",
    "margem"
   ]
  },
  {
   "cell_type": "code",
   "execution_count": 20,
   "metadata": {},
   "outputs": [
    {
     "name": "stderr",
     "output_type": "stream",
     "text": [
      "Warning message in sqrt(last(lpa) * vpa * 22.5):\n",
      "\"NaNs produzidos\"\n"
     ]
    },
    {
     "data": {
      "text/html": [
       "'A empresa não dá lucro ou tem vpa negativo'"
      ],
      "text/latex": [
       "'A empresa não dá lucro ou tem vpa negativo'"
      ],
      "text/markdown": [
       "'A empresa não dá lucro ou tem vpa negativo'"
      ],
      "text/plain": [
       "[1] \"A empresa não dá lucro ou tem vpa negativo\""
      ]
     },
     "metadata": {},
     "output_type": "display_data"
    }
   ],
   "source": [
    "#Fórmula de Benjamin Graham\n",
    "graham <- (round(sqrt(last(lpa)*vpa*22.5), 2))\n",
    "names(graham) <- \"Peço Intrínsico por Graham\"\n",
    "if(is.nan(graham)){\n",
    "    graham <- \"A empresa não dá lucro ou tem vpa negativo\"\n",
    "}\n",
    "graham"
   ]
  },
  {
   "cell_type": "code",
   "execution_count": null,
   "metadata": {},
   "outputs": [],
   "source": []
  }
 ],
 "metadata": {
  "kernelspec": {
   "display_name": "R",
   "language": "R",
   "name": "ir"
  },
  "language_info": {
   "codemirror_mode": "r",
   "file_extension": ".r",
   "mimetype": "text/x-r-source",
   "name": "R",
   "pygments_lexer": "r",
   "version": "3.6.1"
  }
 },
 "nbformat": 4,
 "nbformat_minor": 4
}
