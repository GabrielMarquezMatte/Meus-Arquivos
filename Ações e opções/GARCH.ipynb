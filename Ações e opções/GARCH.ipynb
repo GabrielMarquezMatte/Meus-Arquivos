{
 "cells": [
  {
   "cell_type": "code",
   "execution_count": 1,
   "metadata": {},
   "outputs": [],
   "source": [
    "do_sim <- function(n_sim = 1000, n_t = 1000, my_garch, df_prices) {\n",
    "  require(tidyverse)\n",
    "  require(rugarch)\n",
    "  \n",
    "  do_single_sim <- function(i_sim, n_t, my_garch, df_prices) {\n",
    "    \n",
    "    \n",
    "    message('Simulation ', i_sim)\n",
    "    \n",
    "    rugarch_sim = ugarchsim(my_garch, n.sim = n_t, \n",
    "                            m.sim = 1)\n",
    "    \n",
    "    sim_series <- rugarch_sim@simulation$seriesSim\n",
    "    \n",
    "    df_sim_out <- tibble(i_sim = i_sim, \n",
    "                         i_t = 0:length(sim_series),\n",
    "                         ref_date = last(df_prices$ref.date) + i_t,\n",
    "                         sim_log_ret = c(0, sim_series), # model was estimated on log returns\n",
    "                         sim_arit_ret = exp(sim_log_ret)-1, # use arit return for price calc\n",
    "                         sim_price = last(df_prices$price.adjusted)*(cumprod(1+sim_arit_ret)) )\n",
    "    \n",
    "    return(df_sim_out) \n",
    "  }\n",
    "  \n",
    "  df_out <- bind_rows(map(.x = 1:n_sim, \n",
    "                          .f = do_single_sim, \n",
    "                          my_garch = my_garch, \n",
    "                          n_t = n_t,\n",
    "                          df_prices=df_prices))\n",
    "  \n",
    "  \n",
    "}"
   ]
  },
  {
   "cell_type": "code",
   "execution_count": 2,
   "metadata": {},
   "outputs": [],
   "source": [
    "do_single_garch <- function(x, \n",
    "                            type_model, \n",
    "                            type_dist, \n",
    "                            lag_ar, \n",
    "                            lag_ma, \n",
    "                            lag_arch, \n",
    "                            lag_garch) {\n",
    "  require(rugarch)\n",
    "  \n",
    "  \n",
    "  spec = ugarchspec(variance.model = list(model =  type_model, \n",
    "                                          garchOrder = c(lag_arch, lag_garch)),\n",
    "                    mean.model = list(armaOrder = c(lag_ar, lag_ma)),\n",
    "                    distribution = type_dist)\n",
    "  \n",
    "  message('Estimating ARMA(',lag_ar, ',', lag_ma,')-',\n",
    "          type_model, '(', lag_arch, ',', lag_garch, ')', \n",
    "          ' dist = ', type_dist,\n",
    "          appendLF = FALSE)\n",
    "  \n",
    "  try({\n",
    "    my_rugarch <- list()\n",
    "    my_rugarch <- ugarchfit(spec = spec, data = x)\n",
    "  })\n",
    "  \n",
    "  if (!is.null(coef(my_rugarch))) {\n",
    "    message('\\tDone')\n",
    "    \n",
    "    AIC <- rugarch::infocriteria(my_rugarch)[1]\n",
    "    BIC <- rugarch::infocriteria(my_rugarch)[2]\n",
    "  } else {\n",
    "    message('\\tEstimation failed..')\n",
    "    \n",
    "    AIC <- NA\n",
    "    BIC <- NA\n",
    "  }\n",
    "\n",
    "  est_tab <- tibble(lag_ar, \n",
    "                    lag_ma,\n",
    "                    lag_arch,\n",
    "                    lag_garch,\n",
    "                    AIC =  AIC,\n",
    "                    BIC = BIC,\n",
    "                    type_model = type_model,\n",
    "                    type_dist,\n",
    "                    model_name = paste0('ARMA(', lag_ar, ',', lag_ma, ')+',\n",
    "                                        type_model, '(', lag_arch, ',', lag_garch, ') ',\n",
    "                                        type_dist) ) \n",
    "  \n",
    "  return(est_tab)\n",
    "}"
   ]
  },
  {
   "cell_type": "code",
   "execution_count": 3,
   "metadata": {},
   "outputs": [],
   "source": [
    "find_best_arch_model <- function(x, \n",
    "                                 type_models, \n",
    "                                 dist_to_use,\n",
    "                                 max_lag_AR,\n",
    "                                 max_lag_MA,\n",
    "                                 max_lag_ARCH,\n",
    "                                 max_lag_GARCH) {\n",
    "  \n",
    "  require(tidyr)\n",
    "  \n",
    "  df_grid <- expand_grid(type_models = type_models,\n",
    "                         dist_to_use = dist_to_use,\n",
    "                         arma_lag = 0:max_lag_AR,\n",
    "                         ma_lag = 0:max_lag_MA,\n",
    "                         arch_lag = 1:max_lag_ARCH,\n",
    "                         garch_lag = 1:max_lag_GARCH)\n",
    "  \n",
    "  \n",
    "  l_out <- pmap(.l = list(x = rep(list(x), nrow(df_grid)), \n",
    "                          type_model = df_grid$type_models,\n",
    "                          type_dist = df_grid$dist_to_use,\n",
    "                          lag_ar = df_grid$arma_lag,\n",
    "                          lag_ma = df_grid$ma_lag,\n",
    "                          lag_arch = df_grid$arch_lag,\n",
    "                          lag_garch  = df_grid$garch_lag),\n",
    "                do_single_garch)\n",
    "  \n",
    "  tab_out <- bind_rows(l_out)\n",
    "  \n",
    "  # find by AIC\n",
    "  idx <- which.min(tab_out$AIC)\n",
    "  best_aic <- tab_out[idx, ]\n",
    "  \n",
    "  # find by BIC\n",
    "  idx <- which.min(tab_out$BIC)\n",
    "  best_bic <- tab_out[idx, ]\n",
    "  \n",
    "  l_out <- list(best_aic = best_aic,\n",
    "                best_bic = best_bic,\n",
    "                tab_out = tab_out)\n",
    "  \n",
    "  return(l_out)\n",
    "}"
   ]
  },
  {
   "cell_type": "code",
   "execution_count": 4,
   "metadata": {},
   "outputs": [],
   "source": [
    "suppressPackageStartupMessages({library(tidyquant)\n",
    "library(tidyverse)\n",
    "})\n",
    "options(warn = -1)"
   ]
  },
  {
   "cell_type": "code",
   "execution_count": 24,
   "metadata": {},
   "outputs": [
    {
     "name": "stderr",
     "output_type": "stream",
     "text": [
      "`summarise()` regrouping output by 'date' (override with `.groups` argument)\n",
      "\n"
     ]
    }
   ],
   "source": [
    "acao <- \"^BVSP\"\n",
    "ibov <- tq_get(acao, from = \"2000-01-01\")\n",
    "ret <- ibov %>%\n",
    "  tq_transmute(select = close, mutate_fun = dailyReturn)\n",
    "ret_l <- ibov %>%\n",
    "  tq_transmute(select = close, mutate_fun = dailyReturn, type = \"log\")\n",
    "colnames(ret_l) <- c(\"date\", \"log_return\")\n",
    "ibov1 <- left_join(ret, ibov, by = c(\"date\" = \"date\"))\n",
    "ibov1 <- left_join(ibov1, ret_l, by = c(\"date\" = \"date\"))\n",
    "ibov1 <- ibov1 %>%\n",
    "  group_by(date, symbol) %>%\n",
    "  summarise(adjusted, log_return, daily.returns) %>%\n",
    "  mutate(series_name = acao)\n",
    "colnames(ibov1) <- c(\"ref.date\",\"ticker\",\"price.adjusted\",\"log_ret\",\"arim_ret\",\"series_name\")"
   ]
  },
  {
   "cell_type": "code",
   "execution_count": 25,
   "metadata": {},
   "outputs": [],
   "source": [
    "arch <- suppressMessages(find_best_arch_model(ibov1$log_ret,\n",
    "                             type_models = c(\"sGARCH\"),\n",
    "                             dist_to_use = c(\"norm\"),\n",
    "                             max_lag_AR = 2,\n",
    "                             max_lag_MA = 2,\n",
    "                             max_lag_ARCH = 2,\n",
    "                             max_lag_GARCH = 2))"
   ]
  },
  {
   "cell_type": "code",
   "execution_count": 26,
   "metadata": {},
   "outputs": [],
   "source": [
    "lag_ar_best <- arch$best_bic$lag_ar\n",
    "lag_ma_best <- arch$best_bic$lag_ma\n",
    "lag_arch_best <- arch$best_bic$lag_arch\n",
    "lag_garch_best <- arch$best_bic$lag_garch\n",
    "type <- arch$best_bic$type_model\n",
    "dist <- arch$best_bic$type_dist"
   ]
  },
  {
   "cell_type": "code",
   "execution_count": 27,
   "metadata": {},
   "outputs": [],
   "source": [
    "ugspec <- ugarchspec(variance.model = list(model = type,\n",
    "                                           garchOrder = c(lag_arch_best, lag_garch_best)),\n",
    "                     mean.model = list(armaOrder = c(lag_ar_best, lag_ma_best)),\n",
    "                     distribution.model = dist)\n",
    "ugfit <- ugarchfit(ugspec, ret$daily.returns)"
   ]
  },
  {
   "cell_type": "code",
   "execution_count": 28,
   "metadata": {},
   "outputs": [
    {
     "data": {
      "image/png": "[encoded data removed]",
      "text/plain": [
       "Plot with title \"Retornos diários (preto) e volatilidade (vermelho)\""
      ]
     },
     "metadata": {
      "image/png": {
       "height": 420,
       "width": 420
      }
     },
     "output_type": "display_data"
    }
   ],
   "source": [
    "plot(ret$daily.returns, type = \"l\",\n",
    "     ylab = expression(sigma),\n",
    "     main = \"Retornos diários (preto) e volatilidade (vermelho)\",\n",
    "    sub = paste(arch$best_aic$model_name))\n",
    "lines(ugfit@fit$sigma, col = \"red\")"
   ]
  },
  {
   "cell_type": "code",
   "execution_count": 29,
   "metadata": {},
   "outputs": [],
   "source": [
    "sim <- suppressMessages(do_sim(n_sim = 5000, n_t = 365, my_garch = ugfit, df_prices = ibov1))"
   ]
  },
  {
   "cell_type": "code",
   "execution_count": 30,
   "metadata": {},
   "outputs": [
    {
     "data": {
      "image/png": "[encoded data removed]",
      "text/plain": [
       "plot without title"
      ]
     },
     "metadata": {
      "image/png": {
       "height": 420,
       "width": 420
      }
     },
     "output_type": "display_data"
    }
   ],
   "source": [
    "ggplot()+\n",
    "  geom_line(data = ibov1, mapping = aes(x = ref.date, y = price.adjusted),\n",
    "            size = 0.75)+\n",
    "  geom_line(data = sim, mapping = aes(x = ref_date, y = sim_price, group = i_sim),\n",
    "            size = 0.4,\n",
    "            alpha = 0.01)+\n",
    "  labs(x = \"\", y = paste(\"Preço\", ibov1$series_name),\n",
    "       title = paste(\"Simulação por\",arch$best_aic$model_name))+\n",
    "  ylim(min(sim$sim_price),quantile(sim$sim_price,0.99))"
   ]
  },
  {
   "cell_type": "code",
   "execution_count": 31,
   "metadata": {},
   "outputs": [
    {
     "name": "stderr",
     "output_type": "stream",
     "text": [
      "`summarise()` ungrouping output (override with `.groups` argument)\n",
      "\n"
     ]
    }
   ],
   "source": [
    "meta <- max(ibov1$price.adjusted)\n",
    "tab_prob <- sim %>%\n",
    "  group_by(ref_date) %>%\n",
    "  summarise(prob = mean(sim_price > meta))\n",
    "p <- tab_prob %>%\n",
    "  filter(round(prob,2) == 0.5)\n",
    "p <- p[1,]"
   ]
  },
  {
   "cell_type": "code",
   "execution_count": 32,
   "metadata": {},
   "outputs": [
    {
     "data": {
      "image/png": "[encoded data removed]",
      "text/plain": [
       "plot without title"
      ]
     },
     "metadata": {
      "image/png": {
       "height": 420,
       "width": 420
      }
     },
     "output_type": "display_data"
    }
   ],
   "source": [
    "ggplot()+\n",
    "  geom_line(data = tab_prob[2:nrow(tab_prob),], mapping = aes(x = ref_date, y = prob))+\n",
    "  labs(x = \"\", y = \"\",\n",
    "       title = paste(\"Probabilidade de ultrapassar\",round(meta,2)),\n",
    "       subtitle = paste(\"Em\",p$ref_date-last(ibov1$ref.date),\n",
    "                        \"dias terá 50% de chance de ter alcançado a meta\"))+\n",
    "  scale_y_continuous(labels = scales::percent)+\n",
    "  geom_hline(yintercept = p$prob)+\n",
    "  geom_vline(xintercept = p$ref_date)+\n",
    "  geom_point(aes(x = p$ref_date, y = p$prob), col = \"red\")"
   ]
  },
  {
   "cell_type": "code",
   "execution_count": null,
   "metadata": {},
   "outputs": [],
   "source": []
  }
 ],
 "metadata": {
  "kernelspec": {
   "display_name": "R",
   "language": "R",
   "name": "ir"
  },
  "language_info": {
   "codemirror_mode": "r",
   "file_extension": ".r",
   "mimetype": "text/x-r-source",
   "name": "R",
   "pygments_lexer": "r",
   "version": "4.0.2"
  }
 },
 "nbformat": 4,
 "nbformat_minor": 4
}
