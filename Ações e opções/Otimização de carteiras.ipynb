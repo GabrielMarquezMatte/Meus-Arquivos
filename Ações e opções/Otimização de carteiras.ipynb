{
 "cells": [
  {
   "cell_type": "code",
   "execution_count": 1,
   "metadata": {},
   "outputs": [],
   "source": [
    "loadlibrary <- function(x){\n",
    "  for(i in x){\n",
    "    if (!require(i,character.only = TRUE)) {\n",
    "      install.packages(i, dep=TRUE)\n",
    "    } else{\n",
    "      library(i, character.only = T)\n",
    "    }\n",
    "  }\n",
    "}"
   ]
  },
  {
   "cell_type": "code",
   "execution_count": 2,
   "metadata": {},
   "outputs": [
    {
     "name": "stderr",
     "output_type": "stream",
     "text": [
      "Loading required package: quadprog\n",
      "\n",
      "Loading required package: PerfomanceAnalytics\n",
      "\n",
      "Warning message in library(package, lib.loc = lib.loc, character.only = TRUE, logical.return = TRUE, :\n",
      "\"there is no package called 'PerfomanceAnalytics'\"\n",
      "Installing package into 'C:/Users/x/Documents/R/win-library/4.0'\n",
      "(as 'lib' is unspecified)\n",
      "\n",
      "Warning message:\n",
      "\"package 'PerfomanceAnalytics' is not available (for R version 4.0.1)\"\n",
      "Loading required package: IntroCompFinR\n",
      "\n",
      "Loading required package: xts\n",
      "\n",
      "Loading required package: zoo\n",
      "\n",
      "\n",
      "Attaching package: 'zoo'\n",
      "\n",
      "\n",
      "The following objects are masked from 'package:base':\n",
      "\n",
      "    as.Date, as.Date.numeric\n",
      "\n",
      "\n"
     ]
    }
   ],
   "source": [
    "pacotes <- c(\"IntroCompFinR\")\n",
    "options(warns = -1)\n",
    "loadlibrary(pacotes)"
   ]
  },
  {
   "cell_type": "code",
   "execution_count": 84,
   "metadata": {},
   "outputs": [],
   "source": [
    "#Retorno das ações entre 2014 e 2019\n",
    "ativos <- c(\"TRPL4\", \"TAEE11\", \"AMZN\", \"ITSA4\", \"LREN3\")\n",
    "trpl_ret <- c(0.6202,0.1148,0.4727,0.0828,0.2451,0.3894)\n",
    "abev_ret <- c(-0.0101,0.1421,-0.0413,0.3390,-0.2554,0.2442)\n",
    "itsa_ret <- c(0.2110,-0.1381,0.4477,0.3907,0.3310,0.3503)\n",
    "enat_ret <- c(-0.2520,-0.1464,-0.0524,1.0703,-0.0024,0.9465)\n",
    "seer_ret <- c(0.2765,-0.7195,1.4738,0.7105,-0.4898,0.9836)\n",
    "oibr_ret <- c(-0.7472,-0.7372,0.095,0.3827,-0.5387,-0.3120)\n",
    "tcsa_ret <- c(-0.5438,-0.2432,-0.0446,-0.0374,-0.2961,0.2661)\n",
    "petr_ret <- c(-0.3783,-0.2815,1.2132,0.0829,0.4591,0.3687)\n",
    "vale_ret <- c(-0.3309,-0.3573,0.9826,0.6256,0.3111,0.0685)\n",
    "itub_ret <- c(0.2448,-0.1094,0.4903,0.2964,0.3241,0.1198)\n",
    "b3sa_ret <- c(-0.0868,0.2198,0.5525,0.4049,0.2079,0.6326)\n",
    "mglu_ret <- c(0.0380,-0.6967,5.0378,5.0921,1.2639,1.1219)\n",
    "vvar_ret <- c(-0.0646,-0.7955,1.4861,1.2123-0.4457,1.5444)\n",
    "lren_ret <- c(0.2784,0.1529,0.4116,0.7283,0.2019,0.4905)\n",
    "rent_ret <- c(0.0812,-0.2848,0.4142,1.0540,0.3613,0.6875)\n",
    "suzb_ret <- c(0.2191,0.7291,-0.2235,0.3650,1.0473,0.0534)\n",
    "egie_ret <- c(-0.0139,0.0628,0.0705,0.0931,0.2998,0.5920)\n",
    "enbr_ret <- c(-0.0906,0.3746,0.2537,0.0565,0.0930,0.5843)\n",
    "flry_ret <- c(0.0000,1.3794,0.6891,-0.3099,0.6188,0.6297)\n",
    "bbdc_ret <- c(0.2567,-0.2925,0.7608,0.3452,0.2924,0.1859)\n",
    "hype_ret <- c(-0.0577,0.3398,0.2245,0.4773,-0.1193,0.2177)\n",
    "pssa_ret <- c(-0.0259,-0.0287,0.4046,0.5575,0.2463)\n",
    "wizs_ret <- c(-0.2909,0.4966,-0.1054,-0.3719,1.3034)\n",
    "bpan_ret <- c(-0.2922,-0.2065,0.4634,0.0722,4.4923)\n",
    "abcb_ret <- c(-0.2794,0.7739,0.3336,0.0564,0.2682)\n",
    "caml_ret <- c(0.0000,0.0000,0.0000,-0.1144,-0.0799,0.3039)\n",
    "mdia_ret <- c(-0.2399,0.7503,0.3726,-0.1718,-0.1086)\n",
    "bees_ret <- c(-0.1423,3.9837,0.5007,0.4186,0.2244,0.4578)\n",
    "brsr_ret <- c(0.0632,-0.2354,0.3301,1.3937,-0.1072,0.1269)\n",
    "prio_ret <- c(-0.4923,-0.4674,0.7780,2.7696,0.2124,2.3735)\n",
    "taee_ret <- c(0.0357,-0.1184,0.2471,0.0304,0.1734,0.2578)\n",
    "cdi_ret <- c(0.1077,0.1325,0.1394,0.0990,0.0640,0.0594)\n",
    "wti_ret <- c(-0.3106,0.4365,0.1155,-0.2445,0.3624)\n",
    "gold_ret <- c(-0.0176,-0.1038,0.0843,0.1313,-0.0156,0.1833)\n",
    "mult_ret <- c(-0.0333,-0.1668,0.5842,0.2331,0.0219,0.3745)\n",
    "odpv_ret <- c(0.0493,-0.0081,0.3686,0.3128,-0.1105,0.2664)\n",
    "bitc_ret <- c(-0.5215,0.9977,0.9050,12.8961,-0.6932,0.9619)\n",
    "goog_ret <- c(0.0692,1.1769,-0.1461,0.3265,0.1626,0.3410)\n",
    "aapl_ret <- c(0.5641,0.4082,-0.0730,0.4734,0.0861,0.9635)\n",
    "amzn_ret <- c(-0.1246,2.2223,-0.0616,0.5556,0.5015,0.3061)\n",
    "doll_ret <- c(0.1249,0.4902,-0.1627,0.0178,0.1712,0.0357)\n",
    "wege_ret <- c(0.2734,-0.0221,0.0431,0.5656,-0.0636,0.9671)\n",
    "whrl_ret <- c(0.1859,-0.3655,0.3292,0.7930,0.0551,1.1939)\n",
    "brml_ret <- c(-0.0056,-0.3035,0.4174,0.2423,0.0412,0.4767)\n",
    "cple_ret <- c(0.2239,-0.3086,0.3057,0.2083,0.5085,1.2944)\n",
    "sapr_ret <- c(-0.0839,-0.3887,2.4695,0.1563,-0.0316,1.0743)\n",
    "cyre_ret <- c(-0.2111,-0.2895,0.4247,0.3118,0.2615,1.0278)\n",
    "grnd_ret <- c(-0.1076,0.1645,0.2220,0.7012,-0.0975,0.5555)\n",
    "jhsf_ret <- c(-0.4430,-0.4619,0.2160,0.3310,0.1086,2.9732)\n",
    "shul_ret <- c(-0.4548,-0.2066,0.1149,0.7156,0.4633,0.4941)\n",
    "cogn_ret <- c(0.6231,-0.3705,0.4365,0.4316,-0.5149,0.2791)"
   ]
  },
  {
   "cell_type": "code",
   "execution_count": 85,
   "metadata": {},
   "outputs": [
    {
     "data": {
      "text/html": [
       "<table>\n",
       "<caption>A matrix: 6 × 5 of type dbl</caption>\n",
       "<thead>\n",
       "\t<tr><th scope=col>TRPL4</th><th scope=col>TAEE11</th><th scope=col>AMZN</th><th scope=col>ITSA4</th><th scope=col>LREN3</th></tr>\n",
       "</thead>\n",
       "<tbody>\n",
       "\t<tr><td>0.6202</td><td> 0.0357</td><td>-0.1246</td><td> 0.2110</td><td>0.2784</td></tr>\n",
       "\t<tr><td>0.1148</td><td>-0.1184</td><td> 2.2223</td><td>-0.1381</td><td>0.1529</td></tr>\n",
       "\t<tr><td>0.4727</td><td> 0.2471</td><td>-0.0616</td><td> 0.4477</td><td>0.4116</td></tr>\n",
       "\t<tr><td>0.0828</td><td> 0.0304</td><td> 0.5556</td><td> 0.3907</td><td>0.7283</td></tr>\n",
       "\t<tr><td>0.2451</td><td> 0.1734</td><td> 0.5015</td><td> 0.3310</td><td>0.2019</td></tr>\n",
       "\t<tr><td>0.3894</td><td> 0.2578</td><td> 0.3061</td><td> 0.3503</td><td>0.4905</td></tr>\n",
       "</tbody>\n",
       "</table>\n"
      ],
      "text/latex": [
       "A matrix: 6 × 5 of type dbl\n",
       "\\begin{tabular}{lllll}\n",
       " TRPL4 & TAEE11 & AMZN & ITSA4 & LREN3\\\\\n",
       "\\hline\n",
       "\t 0.6202 &  0.0357 & -0.1246 &  0.2110 & 0.2784\\\\\n",
       "\t 0.1148 & -0.1184 &  2.2223 & -0.1381 & 0.1529\\\\\n",
       "\t 0.4727 &  0.2471 & -0.0616 &  0.4477 & 0.4116\\\\\n",
       "\t 0.0828 &  0.0304 &  0.5556 &  0.3907 & 0.7283\\\\\n",
       "\t 0.2451 &  0.1734 &  0.5015 &  0.3310 & 0.2019\\\\\n",
       "\t 0.3894 &  0.2578 &  0.3061 &  0.3503 & 0.4905\\\\\n",
       "\\end{tabular}\n"
      ],
      "text/markdown": [
       "\n",
       "A matrix: 6 × 5 of type dbl\n",
       "\n",
       "| TRPL4 | TAEE11 | AMZN | ITSA4 | LREN3 |\n",
       "|---|---|---|---|---|\n",
       "| 0.6202 |  0.0357 | -0.1246 |  0.2110 | 0.2784 |\n",
       "| 0.1148 | -0.1184 |  2.2223 | -0.1381 | 0.1529 |\n",
       "| 0.4727 |  0.2471 | -0.0616 |  0.4477 | 0.4116 |\n",
       "| 0.0828 |  0.0304 |  0.5556 |  0.3907 | 0.7283 |\n",
       "| 0.2451 |  0.1734 |  0.5015 |  0.3310 | 0.2019 |\n",
       "| 0.3894 |  0.2578 |  0.3061 |  0.3503 | 0.4905 |\n",
       "\n"
      ],
      "text/plain": [
       "     TRPL4  TAEE11  AMZN    ITSA4   LREN3 \n",
       "[1,] 0.6202  0.0357 -0.1246  0.2110 0.2784\n",
       "[2,] 0.1148 -0.1184  2.2223 -0.1381 0.1529\n",
       "[3,] 0.4727  0.2471 -0.0616  0.4477 0.4116\n",
       "[4,] 0.0828  0.0304  0.5556  0.3907 0.7283\n",
       "[5,] 0.2451  0.1734  0.5015  0.3310 0.2019\n",
       "[6,] 0.3894  0.2578  0.3061  0.3503 0.4905"
      ]
     },
     "metadata": {},
     "output_type": "display_data"
    }
   ],
   "source": [
    "retornos <- cbind(trpl_ret, taee_ret, amzn_ret, itsa_ret, lren_ret)\n",
    "colnames(retornos) <- ativos\n",
    "retornos"
   ]
  },
  {
   "cell_type": "code",
   "execution_count": 86,
   "metadata": {},
   "outputs": [
    {
     "data": {
      "text/html": [
       "<table>\n",
       "<caption>A matrix: 5 × 1 of type dbl</caption>\n",
       "<tbody>\n",
       "\t<tr><th scope=row>TRPL4</th><td>0.3208333</td></tr>\n",
       "\t<tr><th scope=row>TAEE11</th><td>0.1043333</td></tr>\n",
       "\t<tr><th scope=row>AMZN</th><td>0.5665500</td></tr>\n",
       "\t<tr><th scope=row>ITSA4</th><td>0.2654333</td></tr>\n",
       "\t<tr><th scope=row>LREN3</th><td>0.3772667</td></tr>\n",
       "</tbody>\n",
       "</table>\n"
      ],
      "text/latex": [
       "A matrix: 5 × 1 of type dbl\n",
       "\\begin{tabular}{r|l}\n",
       "\tTRPL4 & 0.3208333\\\\\n",
       "\tTAEE11 & 0.1043333\\\\\n",
       "\tAMZN & 0.5665500\\\\\n",
       "\tITSA4 & 0.2654333\\\\\n",
       "\tLREN3 & 0.3772667\\\\\n",
       "\\end{tabular}\n"
      ],
      "text/markdown": [
       "\n",
       "A matrix: 5 × 1 of type dbl\n",
       "\n",
       "| TRPL4 | 0.3208333 |\n",
       "| TAEE11 | 0.1043333 |\n",
       "| AMZN | 0.5665500 |\n",
       "| ITSA4 | 0.2654333 |\n",
       "| LREN3 | 0.3772667 |\n",
       "\n"
      ],
      "text/plain": [
       "       [,1]     \n",
       "TRPL4  0.3208333\n",
       "TAEE11 0.1043333\n",
       "AMZN   0.5665500\n",
       "ITSA4  0.2654333\n",
       "LREN3  0.3772667"
      ]
     },
     "metadata": {},
     "output_type": "display_data"
    }
   ],
   "source": [
    "retorno_medio <- matrix(0, ncol = 1, nrow = ncol(retornos))\n",
    "for(i in 1:ncol(retornos)){\n",
    "    retorno_medio[i,] <- rbind(mean(retornos[,i]))\n",
    "}\n",
    "rownames(retorno_medio) <- ativos\n",
    "retorno_medio"
   ]
  },
  {
   "cell_type": "code",
   "execution_count": 87,
   "metadata": {},
   "outputs": [
    {
     "data": {
      "text/html": [
       "<table>\n",
       "<caption>A matrix: 5 × 5 of type dbl</caption>\n",
       "<thead>\n",
       "\t<tr><th></th><th scope=col>TRPL4</th><th scope=col>TAEE11</th><th scope=col>AMZN</th><th scope=col>ITSA4</th><th scope=col>LREN3</th></tr>\n",
       "</thead>\n",
       "<tbody>\n",
       "\t<tr><th scope=row>TRPL4</th><td> 0.044446083</td><td> 0.013983221</td><td>-0.13075346</td><td> 0.01311236</td><td>-0.008133757</td></tr>\n",
       "\t<tr><th scope=row>TAEE11</th><td> 0.013983221</td><td> 0.021698271</td><td>-0.09093746</td><td> 0.02558583</td><td> 0.008194725</td></tr>\n",
       "\t<tr><th scope=row>AMZN</th><td>-0.130753456</td><td>-0.090937456</td><td> 0.73719088</td><td>-0.15455197</td><td>-0.069331546</td></tr>\n",
       "\t<tr><th scope=row>ITSA4</th><td> 0.013112365</td><td> 0.025585833</td><td>-0.15455197</td><td> 0.04524327</td><td> 0.028852639</td></tr>\n",
       "\t<tr><th scope=row>LREN3</th><td>-0.008133757</td><td> 0.008194725</td><td>-0.06933155</td><td> 0.02885264</td><td> 0.045618691</td></tr>\n",
       "</tbody>\n",
       "</table>\n"
      ],
      "text/latex": [
       "A matrix: 5 × 5 of type dbl\n",
       "\\begin{tabular}{r|lllll}\n",
       "  & TRPL4 & TAEE11 & AMZN & ITSA4 & LREN3\\\\\n",
       "\\hline\n",
       "\tTRPL4 &  0.044446083 &  0.013983221 & -0.13075346 &  0.01311236 & -0.008133757\\\\\n",
       "\tTAEE11 &  0.013983221 &  0.021698271 & -0.09093746 &  0.02558583 &  0.008194725\\\\\n",
       "\tAMZN & -0.130753456 & -0.090937456 &  0.73719088 & -0.15455197 & -0.069331546\\\\\n",
       "\tITSA4 &  0.013112365 &  0.025585833 & -0.15455197 &  0.04524327 &  0.028852639\\\\\n",
       "\tLREN3 & -0.008133757 &  0.008194725 & -0.06933155 &  0.02885264 &  0.045618691\\\\\n",
       "\\end{tabular}\n"
      ],
      "text/markdown": [
       "\n",
       "A matrix: 5 × 5 of type dbl\n",
       "\n",
       "| <!--/--> | TRPL4 | TAEE11 | AMZN | ITSA4 | LREN3 |\n",
       "|---|---|---|---|---|---|\n",
       "| TRPL4 |  0.044446083 |  0.013983221 | -0.13075346 |  0.01311236 | -0.008133757 |\n",
       "| TAEE11 |  0.013983221 |  0.021698271 | -0.09093746 |  0.02558583 |  0.008194725 |\n",
       "| AMZN | -0.130753456 | -0.090937456 |  0.73719088 | -0.15455197 | -0.069331546 |\n",
       "| ITSA4 |  0.013112365 |  0.025585833 | -0.15455197 |  0.04524327 |  0.028852639 |\n",
       "| LREN3 | -0.008133757 |  0.008194725 | -0.06933155 |  0.02885264 |  0.045618691 |\n",
       "\n"
      ],
      "text/plain": [
       "       TRPL4        TAEE11       AMZN        ITSA4       LREN3       \n",
       "TRPL4   0.044446083  0.013983221 -0.13075346  0.01311236 -0.008133757\n",
       "TAEE11  0.013983221  0.021698271 -0.09093746  0.02558583  0.008194725\n",
       "AMZN   -0.130753456 -0.090937456  0.73719088 -0.15455197 -0.069331546\n",
       "ITSA4   0.013112365  0.025585833 -0.15455197  0.04524327  0.028852639\n",
       "LREN3  -0.008133757  0.008194725 -0.06933155  0.02885264  0.045618691"
      ]
     },
     "metadata": {},
     "output_type": "display_data"
    }
   ],
   "source": [
    "matriz_cov <- cov(retornos)\n",
    "\n",
    "rownames(matriz_cov) <- ativos\n",
    "colnames(matriz_cov) <- ativos\n",
    "\n",
    "matriz_cov"
   ]
  },
  {
   "cell_type": "code",
   "execution_count": 88,
   "metadata": {},
   "outputs": [
    {
     "data": {
      "text/html": [
       "<table>\n",
       "<caption>A matrix: 5 × 5 of type dbl</caption>\n",
       "<thead>\n",
       "\t<tr><th></th><th scope=col>TRPL4</th><th scope=col>TAEE11</th><th scope=col>AMZN</th><th scope=col>ITSA4</th><th scope=col>LREN3</th></tr>\n",
       "</thead>\n",
       "<tbody>\n",
       "\t<tr><th scope=row>TRPL4</th><td> 1.0000000</td><td> 0.4502751</td><td>-0.7223480</td><td> 0.2924067</td><td>-0.1806355</td></tr>\n",
       "\t<tr><th scope=row>TAEE11</th><td> 0.4502751</td><td> 1.0000000</td><td>-0.7190188</td><td> 0.8166012</td><td> 0.2604656</td></tr>\n",
       "\t<tr><th scope=row>AMZN</th><td>-0.7223480</td><td>-0.7190188</td><td> 1.0000000</td><td>-0.8462673</td><td>-0.3780676</td></tr>\n",
       "\t<tr><th scope=row>ITSA4</th><td> 0.2924067</td><td> 0.8166012</td><td>-0.8462673</td><td> 1.0000000</td><td> 0.6350927</td></tr>\n",
       "\t<tr><th scope=row>LREN3</th><td>-0.1806355</td><td> 0.2604656</td><td>-0.3780676</td><td> 0.6350927</td><td> 1.0000000</td></tr>\n",
       "</tbody>\n",
       "</table>\n"
      ],
      "text/latex": [
       "A matrix: 5 × 5 of type dbl\n",
       "\\begin{tabular}{r|lllll}\n",
       "  & TRPL4 & TAEE11 & AMZN & ITSA4 & LREN3\\\\\n",
       "\\hline\n",
       "\tTRPL4 &  1.0000000 &  0.4502751 & -0.7223480 &  0.2924067 & -0.1806355\\\\\n",
       "\tTAEE11 &  0.4502751 &  1.0000000 & -0.7190188 &  0.8166012 &  0.2604656\\\\\n",
       "\tAMZN & -0.7223480 & -0.7190188 &  1.0000000 & -0.8462673 & -0.3780676\\\\\n",
       "\tITSA4 &  0.2924067 &  0.8166012 & -0.8462673 &  1.0000000 &  0.6350927\\\\\n",
       "\tLREN3 & -0.1806355 &  0.2604656 & -0.3780676 &  0.6350927 &  1.0000000\\\\\n",
       "\\end{tabular}\n"
      ],
      "text/markdown": [
       "\n",
       "A matrix: 5 × 5 of type dbl\n",
       "\n",
       "| <!--/--> | TRPL4 | TAEE11 | AMZN | ITSA4 | LREN3 |\n",
       "|---|---|---|---|---|---|\n",
       "| TRPL4 |  1.0000000 |  0.4502751 | -0.7223480 |  0.2924067 | -0.1806355 |\n",
       "| TAEE11 |  0.4502751 |  1.0000000 | -0.7190188 |  0.8166012 |  0.2604656 |\n",
       "| AMZN | -0.7223480 | -0.7190188 |  1.0000000 | -0.8462673 | -0.3780676 |\n",
       "| ITSA4 |  0.2924067 |  0.8166012 | -0.8462673 |  1.0000000 |  0.6350927 |\n",
       "| LREN3 | -0.1806355 |  0.2604656 | -0.3780676 |  0.6350927 |  1.0000000 |\n",
       "\n"
      ],
      "text/plain": [
       "       TRPL4      TAEE11     AMZN       ITSA4      LREN3     \n",
       "TRPL4   1.0000000  0.4502751 -0.7223480  0.2924067 -0.1806355\n",
       "TAEE11  0.4502751  1.0000000 -0.7190188  0.8166012  0.2604656\n",
       "AMZN   -0.7223480 -0.7190188  1.0000000 -0.8462673 -0.3780676\n",
       "ITSA4   0.2924067  0.8166012 -0.8462673  1.0000000  0.6350927\n",
       "LREN3  -0.1806355  0.2604656 -0.3780676  0.6350927  1.0000000"
      ]
     },
     "metadata": {},
     "output_type": "display_data"
    }
   ],
   "source": [
    "matriz_cor <- cor(retornos)\n",
    "matriz_cor"
   ]
  },
  {
   "cell_type": "code",
   "execution_count": 89,
   "metadata": {},
   "outputs": [],
   "source": [
    "tx_livre_risco <- 0.0225"
   ]
  },
  {
   "cell_type": "code",
   "execution_count": 90,
   "metadata": {},
   "outputs": [],
   "source": [
    "short_selling <- T"
   ]
  },
  {
   "cell_type": "code",
   "execution_count": 93,
   "metadata": {},
   "outputs": [
    {
     "data": {
      "text/plain": [
       "Call:\n",
       "tangency.portfolio(er = retorno_medio, cov.mat = matriz_cov, \n",
       "    risk.free = tx_livre_risco, shorts = short_selling)\n",
       "\n",
       "Portfolio expected return:     0.4024537 \n",
       "Portfolio standard deviation:  0.01847941 \n",
       "Portfolio weights:\n",
       "[1]  0.4534 -0.3599  0.1903  0.7466 -0.0304"
      ]
     },
     "metadata": {},
     "output_type": "display_data"
    }
   ],
   "source": [
    "carteira_eficiente <- tangency.portfolio(retorno_medio, matriz_cov, tx_livre_risco, shorts = short_selling)\n",
    "\n",
    "carteira_eficiente"
   ]
  },
  {
   "cell_type": "code",
   "execution_count": 94,
   "metadata": {},
   "outputs": [
    {
     "data": {
      "text/html": [
       "20.5609253142442"
      ],
      "text/latex": [
       "20.5609253142442"
      ],
      "text/markdown": [
       "20.5609253142442"
      ],
      "text/plain": [
       "[1] 20.56093"
      ]
     },
     "metadata": {},
     "output_type": "display_data"
    }
   ],
   "source": [
    "sharpe <- (carteira_eficiente$er-tx_livre_risco)/carteira_eficiente$sd\n",
    "sharpe"
   ]
  },
  {
   "cell_type": "code",
   "execution_count": 95,
   "metadata": {},
   "outputs": [
    {
     "data": {
      "text/plain": [
       "Call:\n",
       "globalMin.portfolio(er = retorno_medio, cov.mat = matriz_cov, \n",
       "    shorts = short_selling)\n",
       "\n",
       "Portfolio expected return:     0.3943655 \n",
       "Portfolio standard deviation:  0.01828166 \n",
       "Portfolio weights:\n",
       "[1]  0.4422 -0.3149  0.1864  0.7080 -0.0217"
      ]
     },
     "metadata": {},
     "output_type": "display_data"
    }
   ],
   "source": [
    "carteira_min_risco <- globalMin.portfolio(retorno_medio, matriz_cov, shorts = short_selling)\n",
    "\n",
    "carteira_min_risco"
   ]
  },
  {
   "cell_type": "code",
   "execution_count": 96,
   "metadata": {},
   "outputs": [
    {
     "data": {
      "text/plain": [
       "Call:\n",
       "efficient.frontier(er = retorno_medio, cov.mat = matriz_cov, \n",
       "    nport = npor, shorts = short_selling)\n",
       "\n",
       "Frontier portfolios' expected returns and standard deviations\n",
       "   port 1 port 2 port 3 port 4 port 5 port 6 port 7 port 8 port 9 port 10\n",
       "ER 0.6526 0.6492 0.6457 0.6422 0.6387 0.6352 0.6318 0.6283 0.6248  0.6213\n",
       "SD 0.0880 0.0869 0.0857 0.0846 0.0835 0.0824 0.0812 0.0801 0.0790  0.0778\n",
       "   port 11 port 12 port 13 port 14 port 15 port 16 port 17 port 18 port 19\n",
       "ER  0.6179  0.6144  0.6109  0.6074  0.6039  0.6005   0.597  0.5935  0.5900\n",
       "SD  0.0767  0.0756  0.0745  0.0733  0.0722  0.0711   0.070  0.0689  0.0677\n",
       "   port 20 port 21 port 22 port 23 port 24 port 25 port 26 port 27 port 28\n",
       "ER  0.5866  0.5831  0.5796  0.5761  0.5726  0.5692  0.5657  0.5622  0.5587\n",
       "SD  0.0666  0.0655  0.0644  0.0633  0.0622  0.0611  0.0600  0.0589  0.0578\n",
       "   port 29 port 30 port 31 port 32 port 33 port 34 port 35 port 36 port 37\n",
       "ER  0.5552  0.5518  0.5483  0.5448  0.5413  0.5379  0.5344  0.5309  0.5274\n",
       "SD  0.0567  0.0556  0.0545  0.0534  0.0523  0.0512  0.0501  0.0490  0.0480\n",
       "   port 38 port 39 port 40 port 41 port 42 port 43 port 44 port 45 port 46\n",
       "ER  0.5239  0.5205  0.5170  0.5135  0.5100  0.5065  0.5031  0.4996  0.4961\n",
       "SD  0.0469  0.0458  0.0448  0.0437  0.0427  0.0416  0.0406  0.0396  0.0385\n",
       "   port 47 port 48 port 49 port 50 port 51 port 52 port 53 port 54 port 55\n",
       "ER  0.4926  0.4892  0.4857  0.4822  0.4787  0.4752  0.4718  0.4683  0.4648\n",
       "SD  0.0375  0.0365  0.0355  0.0345  0.0335  0.0326  0.0316  0.0307  0.0298\n",
       "   port 56 port 57 port 58 port 59 port 60 port 61 port 62 port 63 port 64\n",
       "ER  0.4613  0.4578  0.4544  0.4509  0.4474  0.4439  0.4405  0.4370  0.4335\n",
       "SD  0.0289  0.0280  0.0271  0.0263  0.0254  0.0246  0.0239  0.0232  0.0225\n",
       "   port 65 port 66 port 67 port 68 port 69 port 70 port 71 port 72 port 73\n",
       "ER  0.4300  0.4265  0.4231  0.4196  0.4161  0.4126  0.4091  0.4057  0.4022\n",
       "SD  0.0218  0.0212  0.0206  0.0201  0.0197  0.0193  0.0189  0.0187  0.0185\n",
       "   port 74 port 75 port 76 port 77 port 78 port 79 port 80 port 81 port 82\n",
       "ER  0.3987  0.3952  0.3918  0.3883  0.3848  0.3813  0.3778  0.3744  0.3709\n",
       "SD  0.0183  0.0183  0.0183  0.0184  0.0186  0.0188  0.0191  0.0195  0.0199\n",
       "   port 83 port 84 port 85 port 86 port 87 port 88 port 89 port 90 port 91\n",
       "ER  0.3674  0.3639  0.3605  0.3570  0.3535  0.3500  0.3465  0.3431  0.3396\n",
       "SD  0.0204  0.0209  0.0215  0.0221  0.0228  0.0235  0.0243  0.0250  0.0258\n",
       "   port 92 port 93 port 94 port 95 port 96 port 97 port 98 port 99 port 100\n",
       "ER  0.3361  0.3326  0.3291  0.3257  0.3222  0.3187  0.3152  0.3118   0.3083\n",
       "SD  0.0267  0.0275  0.0284  0.0293  0.0302  0.0311  0.0321  0.0331   0.0340"
      ]
     },
     "metadata": {},
     "output_type": "display_data"
    },
    {
     "data": {
      "text/html": [
       "<dl>\n",
       "\t<dt>$names</dt>\n",
       "\t\t<dd><style>\n",
       ".list-inline {list-style: none; margin:0; padding: 0}\n",
       ".list-inline>li {display: inline-block}\n",
       ".list-inline>li:not(:last-child)::after {content: \"\\00b7\"; padding: 0 .5ex}\n",
       "</style>\n",
       "<ol class=list-inline><li>'call'</li><li>'er'</li><li>'sd'</li><li>'weights'</li></ol>\n",
       "</dd>\n",
       "\t<dt>$class</dt>\n",
       "\t\t<dd>'Markowitz'</dd>\n",
       "</dl>\n"
      ],
      "text/latex": [
       "\\begin{description}\n",
       "\\item[\\$names] \\begin{enumerate*}\n",
       "\\item 'call'\n",
       "\\item 'er'\n",
       "\\item 'sd'\n",
       "\\item 'weights'\n",
       "\\end{enumerate*}\n",
       "\n",
       "\\item[\\$class] 'Markowitz'\n",
       "\\end{description}\n"
      ],
      "text/markdown": [
       "$names\n",
       ":   1. 'call'\n",
       "2. 'er'\n",
       "3. 'sd'\n",
       "4. 'weights'\n",
       "\n",
       "\n",
       "\n",
       "$class\n",
       ":   'Markowitz'\n",
       "\n",
       "\n"
      ],
      "text/plain": [
       "$names\n",
       "[1] \"call\"    \"er\"      \"sd\"      \"weights\"\n",
       "\n",
       "$class\n",
       "[1] \"Markowitz\"\n"
      ]
     },
     "metadata": {},
     "output_type": "display_data"
    }
   ],
   "source": [
    "npor <- 100\n",
    "fronteira_eficiente <- efficient.frontier(retorno_medio, matriz_cov, npor, shorts = short_selling)\n",
    "\n",
    "fronteira_eficiente\n",
    "\n",
    "attributes(fronteira_eficiente)"
   ]
  },
  {
   "cell_type": "code",
   "execution_count": 102,
   "metadata": {},
   "outputs": [
    {
     "data": {
      "image/png": "[encoded data removed]",
      "text/plain": [
       "Plot with title \"Efficient Frontier\""
      ]
     },
     "metadata": {
      "image/png": {
       "height": 420,
       "width": 420
      },
      "text/plain": {
       "height": 420,
       "width": 420
      }
     },
     "output_type": "display_data"
    }
   ],
   "source": [
    "plot(fronteira_eficiente, plot.asset = TRUE, col = \"blue\", pch = 16)\n",
    "\n",
    "points(carteira_min_risco$sd, carteira_min_risco$er, col = \"green\", pch = 10, cex = 2)\n",
    "points(carteira_eficiente$sd, carteira_eficiente$er, col = \"red\", pch = 10, cex = 2)\n",
    "\n",
    "text(carteira_min_risco$sd, carteira_min_risco$er, labels = \"Risco Mínimo\", pos = 2)\n",
    "text(carteira_eficiente$sd, carteira_eficiente$er, labels = \"Carteira Eficiente\", pos = 2)\n",
    "\n",
    "tangente <- (carteira_eficiente$er - tx_livre_risco)/carteira_eficiente$sd\n",
    "abline(a = tx_livre_risco, b = tangente, col = \"green\", lwd = 2)"
   ]
  },
  {
   "cell_type": "code",
   "execution_count": 100,
   "metadata": {},
   "outputs": [
    {
     "data": {
      "image/png": "[encoded data removed]",
      "text/plain": [
       "Plot with title \"Sharpe dos portifólios\""
      ]
     },
     "metadata": {
      "image/png": {
       "height": 420,
       "width": 420
      },
      "text/plain": {
       "height": 420,
       "width": 420
      }
     },
     "output_type": "display_data"
    }
   ],
   "source": [
    "plot(1:npor, (fronteira_eficiente$er - tx_livre_risco)/fronteira_eficiente$sd,\n",
    "     col = \"blue\", ylab = \"Índice Sharpe\", xlab = \"Nº Portifólio\", type = 'l',\n",
    "    main = \"Sharpe dos portifólios\")\n",
    "abline(h = 0)"
   ]
  },
  {
   "cell_type": "code",
   "execution_count": null,
   "metadata": {},
   "outputs": [],
   "source": []
  }
 ],
 "metadata": {
  "kernelspec": {
   "display_name": "R",
   "language": "R",
   "name": "ir"
  },
  "language_info": {
   "codemirror_mode": "r",
   "file_extension": ".r",
   "mimetype": "text/x-r-source",
   "name": "R",
   "pygments_lexer": "r",
   "version": "4.0.1"
  }
 },
 "nbformat": 4,
 "nbformat_minor": 4
}
