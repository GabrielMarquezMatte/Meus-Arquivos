{
 "cells": [
  {
   "cell_type": "code",
   "execution_count": 1,
   "metadata": {},
   "outputs": [],
   "source": [
    "#install.packages(\"quadprog\")"
   ]
  },
  {
   "cell_type": "code",
   "execution_count": 2,
   "metadata": {},
   "outputs": [],
   "source": [
    "#install.packages(\"PerformanceAnalytics\")"
   ]
  },
  {
   "cell_type": "code",
   "execution_count": 3,
   "metadata": {},
   "outputs": [],
   "source": [
    "#install.packages(\"IntroCompFinR\", repos=\"http://R-Forge.R-project.org\")"
   ]
  },
  {
   "cell_type": "code",
   "execution_count": 1,
   "metadata": {},
   "outputs": [
    {
     "name": "stderr",
     "output_type": "stream",
     "text": [
      "Warning message:\n",
      "\"package 'IntroCompFinR' was built under R version 3.6.3\"Loading required package: xts\n",
      "Warning message:\n",
      "\"package 'xts' was built under R version 3.6.3\"Loading required package: zoo\n",
      "Warning message:\n",
      "\"package 'zoo' was built under R version 3.6.3\"\n",
      "Attaching package: 'zoo'\n",
      "\n",
      "The following objects are masked from 'package:base':\n",
      "\n",
      "    as.Date, as.Date.numeric\n",
      "\n"
     ]
    }
   ],
   "source": [
    "library(IntroCompFinR)"
   ]
  },
  {
   "cell_type": "code",
   "execution_count": 2,
   "metadata": {},
   "outputs": [],
   "source": [
    "ativos <- c(\"ITUB4\", \"WEGE3\", \"TAEE11\", \"GOOG\", \"AAPL\")\n",
    "trpl_ret <- c(0.6202,0.1148,0.4727,0.0828,0.2451,0.3894)\n",
    "abev_ret <- c(-0.0101,0.1421,-0.0413,0.3390,-0.2554,0.2442)\n",
    "itsa_ret <- c(0.2110,-0.1381,0.4477,0.3907,0.3310,0.3503)\n",
    "enat_ret <- c(-0.2520,-0.1464,-0.0524,1.0703,-0.0024,0.9465)\n",
    "seer_ret <- c(0.2765,-0.7195,1.4738,0.7105,-0.4898,0.9836)\n",
    "oibr_ret <- c(-0.7472,-0.7372,0.095,0.3827,-0.5387,-0.3120)\n",
    "tcsa_ret <- c(-0.5438,-0.2432,-0.0446,-0.0374,-0.2961,0.2661)\n",
    "petr_ret <- c(-0.3783,-0.2815,1.2132,0.0829,0.4591,0.3687)\n",
    "vale_ret <- c(-0.3309,-0.3573,0.9826,0.6256,0.3111,0.0685)\n",
    "itub_ret <- c(0.2448,-0.1094,0.4903,0.2964,0.3241,0.1198)\n",
    "b3sa_ret <- c(-0.0868,0.2198,0.5525,0.4049,0.2079,0.6326)\n",
    "mglu_ret <- c(0.0380,-0.6967,5.0378,5.0921,1.2639,1.1219)\n",
    "vvar_ret <- c(-0.0646,-0.7955,1.4861,1.2123-0.4457,1.5444)\n",
    "lren_ret <- c(0.2784,0.1529,0.4116,0.7283,0.2019,0.4905)\n",
    "rent_ret <- c(0.0812,-0.2848,0.4142,1.0540,0.3613,0.6875)\n",
    "suzb_ret <- c(0.2191,0.7291,-0.2235,0.3650,1.0473,0.0534)\n",
    "egie_ret <- c(-0.0139,0.0628,0.0705,0.0931,0.2998,0.5920)\n",
    "enbr_ret <- c(-0.0906,0.3746,0.2537,0.0565,0.0930,0.5843)\n",
    "flry_ret <- c(0,1.3794,0.6891,-0.3099,0.6188)\n",
    "hype_ret <- c(-0.0577,0.3398,0.2245,0.4773,-0.1193,0.2177)\n",
    "pssa_ret <- c(-0.0259,-0.0287,0.4046,0.5575,0.2463)\n",
    "wizs_ret <- c(-0.2909,0.4966,-0.1054,-0.3719,1.3034)\n",
    "bpan_ret <- c(-0.2922,-0.2065,0.4634,0.0722,4.4923)\n",
    "abcb_ret <- c(-0.2794,0.7739,0.3336,0.0564,0.2682)\n",
    "caml_ret <- c(0,0,0,-0.1144,-0.0799,0.3039)\n",
    "mdia_ret <- c(-0.2399,0.7503,0.3726,-0.1718,-0.1086)\n",
    "bees_ret <- c(-0.1423,3.9837,0.5007,0.4186,0.2244,0.4578)\n",
    "brsr_ret <- c(-0.2354,0.3301,1.3937,-0.1072,0.1269)\n",
    "prio_ret <- c(-0.4923,-0.4674,0.7780,2.7696,0.2124,2.3735)\n",
    "taee_ret <- c(0.0357,-0.1184,0.2471,0.0304,0.1734,0.2578)\n",
    "cdi_ret <- c(0.1077,0.1325,0.1394,0.0990,0.0640,0.0594)\n",
    "wti_ret <- c(-0.3106,0.4365,0.1155,-0.2445,0.3624)\n",
    "gold_ret <- c(-0.0176,-0.1038,0.0843,0.1313,-0.0156,0.1833)\n",
    "ficverde_ret <- c(0.4727,-0.1682,0.1463,0.064,0.2586)\n",
    "mult_ret <- c(-0.0333,-0.1668,0.5842,0.2331,0.0219,0.3745)\n",
    "odpv_ret <- c(0.0493,-0.0081,0.3686,0.3128,-0.1105,0.2664)\n",
    "bitc_ret <- c(-0.5215,0.9977,0.9050,12.8961,-0.6932,0.9619)\n",
    "goog_ret <- c(0.0692,1.1769,-0.1461,0.3265,0.1626,0.3410)\n",
    "aapl_ret <- c(0.5641,0.4082,-0.0730,0.4734,0.0861,0.9635)\n",
    "amzn_ret <- c(-0.1246,2.2223,-0.0616,0.5556,0.5015,0.3061)\n",
    "doll_ret <- c(0.1249,0.4902,-0.1627,0.0178,0.1712,0.0357)\n",
    "wege_ret <- c(0.2734,-0.0221,0.0431,0.5656,-0.0636,0.9671)"
   ]
  },
  {
   "cell_type": "code",
   "execution_count": 3,
   "metadata": {},
   "outputs": [
    {
     "data": {
      "text/html": [
       "<table>\n",
       "<thead><tr><th scope=col>ITUB4</th><th scope=col>WEGE3</th><th scope=col>TAEE11</th><th scope=col>GOOG</th><th scope=col>AAPL</th></tr></thead>\n",
       "<tbody>\n",
       "\t<tr><td> 0.2448</td><td> 0.2734</td><td> 0.0357</td><td> 0.0692</td><td> 0.5641</td></tr>\n",
       "\t<tr><td>-0.1094</td><td>-0.0221</td><td>-0.1184</td><td> 1.1769</td><td> 0.4082</td></tr>\n",
       "\t<tr><td> 0.4903</td><td> 0.0431</td><td> 0.2471</td><td>-0.1461</td><td>-0.0730</td></tr>\n",
       "\t<tr><td> 0.2964</td><td> 0.5656</td><td> 0.0304</td><td> 0.3265</td><td> 0.4734</td></tr>\n",
       "\t<tr><td> 0.3241</td><td>-0.0636</td><td> 0.1734</td><td> 0.1626</td><td> 0.0861</td></tr>\n",
       "\t<tr><td> 0.1198</td><td> 0.9671</td><td> 0.2578</td><td> 0.3410</td><td> 0.9635</td></tr>\n",
       "</tbody>\n",
       "</table>\n"
      ],
      "text/latex": [
       "\\begin{tabular}{lllll}\n",
       " ITUB4 & WEGE3 & TAEE11 & GOOG & AAPL\\\\\n",
       "\\hline\n",
       "\t  0.2448 &  0.2734 &  0.0357 &  0.0692 &  0.5641\\\\\n",
       "\t -0.1094 & -0.0221 & -0.1184 &  1.1769 &  0.4082\\\\\n",
       "\t  0.4903 &  0.0431 &  0.2471 & -0.1461 & -0.0730\\\\\n",
       "\t  0.2964 &  0.5656 &  0.0304 &  0.3265 &  0.4734\\\\\n",
       "\t  0.3241 & -0.0636 &  0.1734 &  0.1626 &  0.0861\\\\\n",
       "\t  0.1198 &  0.9671 &  0.2578 &  0.3410 &  0.9635\\\\\n",
       "\\end{tabular}\n"
      ],
      "text/markdown": [
       "\n",
       "| ITUB4 | WEGE3 | TAEE11 | GOOG | AAPL |\n",
       "|---|---|---|---|---|\n",
       "|  0.2448 |  0.2734 |  0.0357 |  0.0692 |  0.5641 |\n",
       "| -0.1094 | -0.0221 | -0.1184 |  1.1769 |  0.4082 |\n",
       "|  0.4903 |  0.0431 |  0.2471 | -0.1461 | -0.0730 |\n",
       "|  0.2964 |  0.5656 |  0.0304 |  0.3265 |  0.4734 |\n",
       "|  0.3241 | -0.0636 |  0.1734 |  0.1626 |  0.0861 |\n",
       "|  0.1198 |  0.9671 |  0.2578 |  0.3410 |  0.9635 |\n",
       "\n"
      ],
      "text/plain": [
       "     ITUB4   WEGE3   TAEE11  GOOG    AAPL   \n",
       "[1,]  0.2448  0.2734  0.0357  0.0692  0.5641\n",
       "[2,] -0.1094 -0.0221 -0.1184  1.1769  0.4082\n",
       "[3,]  0.4903  0.0431  0.2471 -0.1461 -0.0730\n",
       "[4,]  0.2964  0.5656  0.0304  0.3265  0.4734\n",
       "[5,]  0.3241 -0.0636  0.1734  0.1626  0.0861\n",
       "[6,]  0.1198  0.9671  0.2578  0.3410  0.9635"
      ]
     },
     "metadata": {},
     "output_type": "display_data"
    }
   ],
   "source": [
    "retornos <- cbind(itub_ret, wege_ret, taee_ret, goog_ret, aapl_ret)\n",
    "colnames(retornos) <- ativos\n",
    "retornos"
   ]
  },
  {
   "cell_type": "code",
   "execution_count": 4,
   "metadata": {},
   "outputs": [
    {
     "data": {
      "text/html": [
       "<table>\n",
       "<tbody>\n",
       "\t<tr><th scope=row>ITUB4</th><td>0.2276667</td></tr>\n",
       "\t<tr><th scope=row>WEGE3</th><td>0.2939167</td></tr>\n",
       "\t<tr><th scope=row>TAEE11</th><td>0.1043333</td></tr>\n",
       "\t<tr><th scope=row>GOOG</th><td>0.3216833</td></tr>\n",
       "\t<tr><th scope=row>AAPL</th><td>0.4037167</td></tr>\n",
       "</tbody>\n",
       "</table>\n"
      ],
      "text/latex": [
       "\\begin{tabular}{r|l}\n",
       "\tITUB4 & 0.2276667\\\\\n",
       "\tWEGE3 & 0.2939167\\\\\n",
       "\tTAEE11 & 0.1043333\\\\\n",
       "\tGOOG & 0.3216833\\\\\n",
       "\tAAPL & 0.4037167\\\\\n",
       "\\end{tabular}\n"
      ],
      "text/markdown": [
       "\n",
       "| ITUB4 | 0.2276667 |\n",
       "| WEGE3 | 0.2939167 |\n",
       "| TAEE11 | 0.1043333 |\n",
       "| GOOG | 0.3216833 |\n",
       "| AAPL | 0.4037167 |\n",
       "\n"
      ],
      "text/plain": [
       "       [,1]     \n",
       "ITUB4  0.2276667\n",
       "WEGE3  0.2939167\n",
       "TAEE11 0.1043333\n",
       "GOOG   0.3216833\n",
       "AAPL   0.4037167"
      ]
     },
     "metadata": {},
     "output_type": "display_data"
    }
   ],
   "source": [
    "retorno_medio <- rbind(mean(retornos[,1]), mean(retornos[,2]), mean(retornos[,3]), mean(retornos[,4]), mean(retornos[,5]))\n",
    "rownames(retorno_medio) <- ativos\n",
    "retorno_medio"
   ]
  },
  {
   "cell_type": "code",
   "execution_count": 5,
   "metadata": {},
   "outputs": [
    {
     "data": {
      "text/html": [
       "<table>\n",
       "<thead><tr><th></th><th scope=col>ITUB4</th><th scope=col>WEGE3</th><th scope=col>TAEE11</th><th scope=col>GOOG</th><th scope=col>AAPL</th></tr></thead>\n",
       "<tbody>\n",
       "\t<tr><th scope=row>ITUB4</th><td> 0.041708527</td><td>-0.009624503</td><td> 0.019284011</td><td>-0.08650798 </td><td>-0.042037239</td></tr>\n",
       "\t<tr><th scope=row>WEGE3</th><td>-0.009624503</td><td> 0.163600454</td><td> 0.018903915</td><td>-0.01531351 </td><td> 0.124836602</td></tr>\n",
       "\t<tr><th scope=row>TAEE11</th><td> 0.019284011</td><td> 0.018903915</td><td> 0.021698271</td><td>-0.04966387 </td><td>-0.004249209</td></tr>\n",
       "\t<tr><th scope=row>GOOG</th><td>-0.086507981</td><td>-0.015313508</td><td>-0.049663871</td><td> 0.20793369 </td><td> 0.049603304</td></tr>\n",
       "\t<tr><th scope=row>AAPL</th><td>-0.042037239</td><td> 0.124836602</td><td>-0.004249209</td><td> 0.04960330 </td><td> 0.134419038</td></tr>\n",
       "</tbody>\n",
       "</table>\n"
      ],
      "text/latex": [
       "\\begin{tabular}{r|lllll}\n",
       "  & ITUB4 & WEGE3 & TAEE11 & GOOG & AAPL\\\\\n",
       "\\hline\n",
       "\tITUB4 &  0.041708527 & -0.009624503 &  0.019284011 & -0.08650798  & -0.042037239\\\\\n",
       "\tWEGE3 & -0.009624503 &  0.163600454 &  0.018903915 & -0.01531351  &  0.124836602\\\\\n",
       "\tTAEE11 &  0.019284011 &  0.018903915 &  0.021698271 & -0.04966387  & -0.004249209\\\\\n",
       "\tGOOG & -0.086507981 & -0.015313508 & -0.049663871 &  0.20793369  &  0.049603304\\\\\n",
       "\tAAPL & -0.042037239 &  0.124836602 & -0.004249209 &  0.04960330  &  0.134419038\\\\\n",
       "\\end{tabular}\n"
      ],
      "text/markdown": [
       "\n",
       "| <!--/--> | ITUB4 | WEGE3 | TAEE11 | GOOG | AAPL |\n",
       "|---|---|---|---|---|---|\n",
       "| ITUB4 |  0.041708527 | -0.009624503 |  0.019284011 | -0.08650798  | -0.042037239 |\n",
       "| WEGE3 | -0.009624503 |  0.163600454 |  0.018903915 | -0.01531351  |  0.124836602 |\n",
       "| TAEE11 |  0.019284011 |  0.018903915 |  0.021698271 | -0.04966387  | -0.004249209 |\n",
       "| GOOG | -0.086507981 | -0.015313508 | -0.049663871 |  0.20793369  |  0.049603304 |\n",
       "| AAPL | -0.042037239 |  0.124836602 | -0.004249209 |  0.04960330  |  0.134419038 |\n",
       "\n"
      ],
      "text/plain": [
       "       ITUB4        WEGE3        TAEE11       GOOG        AAPL        \n",
       "ITUB4   0.041708527 -0.009624503  0.019284011 -0.08650798 -0.042037239\n",
       "WEGE3  -0.009624503  0.163600454  0.018903915 -0.01531351  0.124836602\n",
       "TAEE11  0.019284011  0.018903915  0.021698271 -0.04966387 -0.004249209\n",
       "GOOG   -0.086507981 -0.015313508 -0.049663871  0.20793369  0.049603304\n",
       "AAPL   -0.042037239  0.124836602 -0.004249209  0.04960330  0.134419038"
      ]
     },
     "metadata": {},
     "output_type": "display_data"
    }
   ],
   "source": [
    "matriz_cov <- cov(retornos)\n",
    "\n",
    "rownames(matriz_cov) <- ativos\n",
    "colnames(matriz_cov) <- ativos\n",
    "\n",
    "matriz_cov"
   ]
  },
  {
   "cell_type": "code",
   "execution_count": 6,
   "metadata": {},
   "outputs": [],
   "source": [
    "tx_livre_risco <- 0.03"
   ]
  },
  {
   "cell_type": "code",
   "execution_count": 7,
   "metadata": {},
   "outputs": [],
   "source": [
    "short_selling <- F"
   ]
  },
  {
   "cell_type": "code",
   "execution_count": 8,
   "metadata": {},
   "outputs": [
    {
     "data": {
      "text/plain": [
       "Call:\n",
       "tangency.portfolio(er = retorno_medio, cov.mat = matriz_cov, \n",
       "    risk.free = tx_livre_risco, shorts = short_selling)\n",
       "\n",
       "Portfolio expected return:     0.2639893 \n",
       "Portfolio standard deviation:  0.02739303 \n",
       "Portfolio weights:\n",
       "[1] 0.6033 0.0000 0.0462 0.2402 0.1104"
      ]
     },
     "metadata": {},
     "output_type": "display_data"
    }
   ],
   "source": [
    "carteira_eficiente <- tangency.portfolio(retorno_medio, matriz_cov, tx_livre_risco, shorts = short_selling)\n",
    "\n",
    "carteira_eficiente"
   ]
  },
  {
   "cell_type": "code",
   "execution_count": 9,
   "metadata": {},
   "outputs": [
    {
     "data": {
      "text/html": [
       "8.54192951822619"
      ],
      "text/latex": [
       "8.54192951822619"
      ],
      "text/markdown": [
       "8.54192951822619"
      ],
      "text/plain": [
       "[1] 8.54193"
      ]
     },
     "metadata": {},
     "output_type": "display_data"
    }
   ],
   "source": [
    "sharpe <- (carteira_eficiente$er-tx_livre_risco)/carteira_eficiente$sd\n",
    "sharpe"
   ]
  },
  {
   "cell_type": "code",
   "execution_count": 10,
   "metadata": {},
   "outputs": [
    {
     "data": {
      "text/plain": [
       "Call:\n",
       "globalMin.portfolio(er = retorno_medio, cov.mat = matriz_cov, \n",
       "    shorts = short_selling)\n",
       "\n",
       "Portfolio expected return:     0.2556195 \n",
       "Portfolio standard deviation:  0.02689864 \n",
       "Portfolio weights:\n",
       "[1] 0.5679 0.0000 0.0952 0.2392 0.0977"
      ]
     },
     "metadata": {},
     "output_type": "display_data"
    }
   ],
   "source": [
    "carteira_min_risco <- globalMin.portfolio(retorno_medio, matriz_cov, shorts = short_selling)\n",
    "\n",
    "carteira_min_risco"
   ]
  },
  {
   "cell_type": "code",
   "execution_count": 11,
   "metadata": {},
   "outputs": [
    {
     "data": {
      "text/plain": [
       "Call:\n",
       "efficient.frontier(er = retorno_medio, cov.mat = matriz_cov, \n",
       "    nport = npor, shorts = short_selling)\n",
       "\n",
       "Frontier portfolios' expected returns and standard deviations\n",
       "   port 1 port 2 port 3 port 4 port 5 port 6 port 7 port 8 port 9 port 10\n",
       "ER 0.2556 0.2571 0.2586 0.2601 0.2616 0.2631 0.2646 0.2661 0.2676  0.2691\n",
       "SD 0.0269 0.0269 0.0270 0.0270 0.0272 0.0273 0.0275 0.0277 0.0279  0.0282\n",
       "   port 11 port 12 port 13 port 14 port 15 port 16 port 17 port 18 port 19\n",
       "ER  0.2706  0.2721  0.2736  0.2751  0.2766  0.2781  0.2796  0.2811  0.2825\n",
       "SD  0.0284  0.0288  0.0295  0.0307  0.0324  0.0345  0.0370  0.0397  0.0427\n",
       "   port 20 port 21 port 22 port 23 port 24 port 25 port 26 port 27 port 28\n",
       "ER  0.2840  0.2855  0.2870  0.2885  0.2900  0.2915  0.2930  0.2945  0.2960\n",
       "SD  0.0458  0.0491  0.0525  0.0560  0.0596  0.0632  0.0669  0.0707  0.0745\n",
       "   port 29 port 30 port 31 port 32 port 33 port 34 port 35 port 36 port 37\n",
       "ER  0.2975  0.2990  0.3005  0.3020  0.3035  0.3050  0.3065  0.3080  0.3095\n",
       "SD  0.0783  0.0821  0.0860  0.0899  0.0938  0.0978  0.1017  0.1057  0.1096\n",
       "   port 38 port 39 port 40 port 41 port 42 port 43 port 44 port 45 port 46\n",
       "ER  0.3110  0.3125  0.3140  0.3155  0.3170  0.3184  0.3199  0.3214  0.3229\n",
       "SD  0.1136  0.1176  0.1216  0.1256  0.1297  0.1337  0.1377  0.1417  0.1458\n",
       "   port 47 port 48 port 49 port 50 port 51 port 52 port 53 port 54 port 55\n",
       "ER  0.3244  0.3259  0.3274  0.3289  0.3304  0.3319  0.3334  0.3349  0.3364\n",
       "SD  0.1498  0.1539  0.1579  0.1620  0.1660  0.1701  0.1742  0.1782  0.1823\n",
       "   port 56 port 57 port 58 port 59 port 60 port 61 port 62 port 63 port 64\n",
       "ER  0.3379  0.3394  0.3409  0.3424  0.3439  0.3454  0.3469  0.3484  0.3499\n",
       "SD  0.1864  0.1904  0.1945  0.1986  0.2027  0.2067  0.2108  0.2149  0.2190\n",
       "   port 65 port 66 port 67 port 68 port 69 port 70 port 71 port 72 port 73\n",
       "ER  0.3514  0.3529  0.3544  0.3558  0.3573  0.3588  0.3603  0.3618  0.3633\n",
       "SD  0.2231  0.2272  0.2313  0.2353  0.2394  0.2435  0.2476  0.2517  0.2558\n",
       "   port 74 port 75 port 76 port 77 port 78 port 79 port 80 port 81 port 82\n",
       "ER  0.3648  0.3663  0.3678  0.3693  0.3708  0.3723  0.3738  0.3753  0.3768\n",
       "SD  0.2599  0.2640  0.2681  0.2722  0.2763  0.2804  0.2845  0.2886  0.2927\n",
       "   port 83 port 84 port 85 port 86 port 87 port 88 port 89 port 90 port 91\n",
       "ER  0.3783  0.3798  0.3813  0.3828  0.3843  0.3858  0.3873  0.3888  0.3903\n",
       "SD  0.2968  0.3009  0.3050  0.3091  0.3132  0.3173  0.3214  0.3255  0.3296\n",
       "   port 92 port 93 port 94 port 95 port 96 port 97 port 98 port 99 port 100\n",
       "ER  0.3917  0.3932  0.3947  0.3962  0.3977  0.3992  0.4007  0.4022   0.4037\n",
       "SD  0.3337  0.3378  0.3420  0.3461  0.3502  0.3543  0.3584  0.3625   0.3666"
      ]
     },
     "metadata": {},
     "output_type": "display_data"
    },
    {
     "data": {
      "text/html": [
       "<dl>\n",
       "\t<dt>$names</dt>\n",
       "\t\t<dd><ol class=list-inline>\n",
       "\t<li>'call'</li>\n",
       "\t<li>'er'</li>\n",
       "\t<li>'sd'</li>\n",
       "\t<li>'weights'</li>\n",
       "</ol>\n",
       "</dd>\n",
       "\t<dt>$class</dt>\n",
       "\t\t<dd>'Markowitz'</dd>\n",
       "</dl>\n"
      ],
      "text/latex": [
       "\\begin{description}\n",
       "\\item[\\$names] \\begin{enumerate*}\n",
       "\\item 'call'\n",
       "\\item 'er'\n",
       "\\item 'sd'\n",
       "\\item 'weights'\n",
       "\\end{enumerate*}\n",
       "\n",
       "\\item[\\$class] 'Markowitz'\n",
       "\\end{description}\n"
      ],
      "text/markdown": [
       "$names\n",
       ":   1. 'call'\n",
       "2. 'er'\n",
       "3. 'sd'\n",
       "4. 'weights'\n",
       "\n",
       "\n",
       "\n",
       "$class\n",
       ":   'Markowitz'\n",
       "\n",
       "\n"
      ],
      "text/plain": [
       "$names\n",
       "[1] \"call\"    \"er\"      \"sd\"      \"weights\"\n",
       "\n",
       "$class\n",
       "[1] \"Markowitz\"\n"
      ]
     },
     "metadata": {},
     "output_type": "display_data"
    }
   ],
   "source": [
    "npor <- 100\n",
    "fronteira_eficiente <- efficient.frontier(retorno_medio, matriz_cov, npor, shorts = short_selling)\n",
    "\n",
    "fronteira_eficiente\n",
    "\n",
    "attributes(fronteira_eficiente)"
   ]
  },
  {
   "cell_type": "code",
   "execution_count": 12,
   "metadata": {},
   "outputs": [
    {
     "data": {
      "image/png": "[encoded data removed]",
      "text/plain": [
       "Plot with title \"Efficient Frontier\""
      ]
     },
     "metadata": {},
     "output_type": "display_data"
    }
   ],
   "source": [
    "plot(fronteira_eficiente, plot.asset = TRUE, col = \"blue\", pch = 16)\n",
    "\n",
    "points(carteira_min_risco$sd, carteira_min_risco$er, col = \"green\", pch = 10, cex = 2)\n",
    "points(carteira_eficiente$sd, carteira_eficiente$er, col = \"red\", pch = 10, cex = 2)\n",
    "\n",
    "text(carteira_min_risco$sd, carteira_min_risco$er, labels = \"Risco Mínimo\", pos = 2)\n",
    "text(carteira_eficiente$sd, carteira_eficiente$er, labels = \"Carteira Eficiente\", pos = 2)\n",
    "\n",
    "tangente <- (carteira_eficiente$er - tx_livre_risco)/carteira_eficiente$sd\n",
    "abline(a = tx_livre_risco, b = tangente, col = \"green\", lwd = 2)"
   ]
  },
  {
   "cell_type": "code",
   "execution_count": 13,
   "metadata": {},
   "outputs": [
    {
     "data": {
      "image/png": "[encoded data removed]",
      "text/plain": [
       "plot without title"
      ]
     },
     "metadata": {},
     "output_type": "display_data"
    }
   ],
   "source": [
    "plot(1:npor, (fronteira_eficiente$er - tx_livre_risco)/fronteira_eficiente$sd,\n",
    "     col = \"blue\", ylab = \"Índice Sharp\", xlab = \"Nº Portifólio\", type = 'l')"
   ]
  },
  {
   "cell_type": "code",
   "execution_count": 16,
   "metadata": {},
   "outputs": [
    {
     "data": {
      "text/html": [
       "1.24333856584052"
      ],
      "text/latex": [
       "1.24333856584052"
      ],
      "text/markdown": [
       "1.24333856584052"
      ],
      "text/plain": [
       "[1] 1.243339"
      ]
     },
     "metadata": {},
     "output_type": "display_data"
    }
   ],
   "source": [
    "(1.0241/sqrt(173))*sqrt(255)"
   ]
  },
  {
   "cell_type": "code",
   "execution_count": 21,
   "metadata": {},
   "outputs": [
    {
     "data": {
      "text/html": [
       "2.33304262904184"
      ],
      "text/latex": [
       "2.33304262904184"
      ],
      "text/markdown": [
       "2.33304262904184"
      ],
      "text/plain": [
       "[1] 2.333043"
      ]
     },
     "metadata": {},
     "output_type": "display_data"
    }
   ],
   "source": [
    "1.00331475224765^(256)"
   ]
  },
  {
   "cell_type": "code",
   "execution_count": 23,
   "metadata": {},
   "outputs": [
    {
     "data": {
      "text/html": [
       "1.04067936903397"
      ],
      "text/latex": [
       "1.04067936903397"
      ],
      "text/markdown": [
       "1.04067936903397"
      ],
      "text/plain": [
       "[1] 1.040679"
      ]
     },
     "metadata": {},
     "output_type": "display_data"
    }
   ],
   "source": [
    "0.065042460564623*sqrt(256)"
   ]
  },
  {
   "cell_type": "code",
   "execution_count": null,
   "metadata": {},
   "outputs": [],
   "source": []
  }
 ],
 "metadata": {
  "kernelspec": {
   "display_name": "R",
   "language": "R",
   "name": "ir"
  },
  "language_info": {
   "codemirror_mode": "r",
   "file_extension": ".r",
   "mimetype": "text/x-r-source",
   "name": "R",
   "pygments_lexer": "r",
   "version": "3.6.1"
  }
 },
 "nbformat": 4,
 "nbformat_minor": 4
}
