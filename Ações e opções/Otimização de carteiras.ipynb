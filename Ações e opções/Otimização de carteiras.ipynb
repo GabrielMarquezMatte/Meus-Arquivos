{
 "cells": [
  {
   "cell_type": "code",
   "execution_count": 4,
   "metadata": {},
   "outputs": [],
   "source": [
    "pacotes <- c(\"IntroCompFinR\", \"tidyquant\",\"tidyverse\")\n",
    "for(i in pacotes){\n",
    "    suppressPackageStartupMessages(library(i, character.only = T))\n",
    "}\n",
    "options(warn = -1)"
   ]
  },
  {
   "cell_type": "code",
   "execution_count": 5,
   "metadata": {},
   "outputs": [],
   "source": [
    "acoes <- c(\"TRPL4.SA\",\"ITUB4.SA\", \"GRND3.SA\", \"ABCB4.SA\", \"WEGE3.SA\")\n",
    "data_inicio <- Sys.Date()-365*8\n",
    "ret_d <- tq_get(acoes, from = data_inicio) %>%\n",
    "  group_by(symbol) %>%\n",
    "  tq_transmute(select = adjusted, mutate_fun = dailyReturn) %>%\n",
    "  spread(key = symbol, value = daily.returns)"
   ]
  },
  {
   "cell_type": "code",
   "execution_count": 7,
   "metadata": {},
   "outputs": [
    {
     "name": "stdout",
     "output_type": "stream",
     "text": [
      " ABCB4.SA  GRND3.SA  ITUB4.SA  TRPL4.SA  WEGE3.SA \n",
      "0.1749844 0.2240167 0.1803508 0.3220771 0.4036003 \n"
     ]
    }
   ],
   "source": [
    "retorno_medio <- colMeans(ret_d[,-1])*252\n",
    "print(retorno_medio)"
   ]
  },
  {
   "cell_type": "code",
   "execution_count": 9,
   "metadata": {},
   "outputs": [
    {
     "data": {
      "text/html": [
       "<table>\n",
       "<caption>A matrix: 5 × 5 of type dbl</caption>\n",
       "<thead>\n",
       "\t<tr><th></th><th scope=col>ABCB4.SA</th><th scope=col>GRND3.SA</th><th scope=col>ITUB4.SA</th><th scope=col>TRPL4.SA</th><th scope=col>WEGE3.SA</th></tr>\n",
       "</thead>\n",
       "<tbody>\n",
       "\t<tr><th scope=row>ABCB4.SA</th><td>0.11945378</td><td>0.03638613</td><td>0.05989391</td><td>0.02768519</td><td>0.03017428</td></tr>\n",
       "\t<tr><th scope=row>GRND3.SA</th><td>0.03638613</td><td>0.09996073</td><td>0.03911624</td><td>0.02320566</td><td>0.02765609</td></tr>\n",
       "\t<tr><th scope=row>ITUB4.SA</th><td>0.05989391</td><td>0.03911624</td><td>0.10732247</td><td>0.03325012</td><td>0.03764480</td></tr>\n",
       "\t<tr><th scope=row>TRPL4.SA</th><td>0.02768519</td><td>0.02320566</td><td>0.03325012</td><td>0.08514866</td><td>0.01788177</td></tr>\n",
       "\t<tr><th scope=row>WEGE3.SA</th><td>0.03017428</td><td>0.02765609</td><td>0.03764480</td><td>0.01788177</td><td>0.10487137</td></tr>\n",
       "</tbody>\n",
       "</table>\n"
      ],
      "text/latex": [
       "A matrix: 5 × 5 of type dbl\n",
       "\\begin{tabular}{r|lllll}\n",
       "  & ABCB4.SA & GRND3.SA & ITUB4.SA & TRPL4.SA & WEGE3.SA\\\\\n",
       "\\hline\n",
       "\tABCB4.SA & 0.11945378 & 0.03638613 & 0.05989391 & 0.02768519 & 0.03017428\\\\\n",
       "\tGRND3.SA & 0.03638613 & 0.09996073 & 0.03911624 & 0.02320566 & 0.02765609\\\\\n",
       "\tITUB4.SA & 0.05989391 & 0.03911624 & 0.10732247 & 0.03325012 & 0.03764480\\\\\n",
       "\tTRPL4.SA & 0.02768519 & 0.02320566 & 0.03325012 & 0.08514866 & 0.01788177\\\\\n",
       "\tWEGE3.SA & 0.03017428 & 0.02765609 & 0.03764480 & 0.01788177 & 0.10487137\\\\\n",
       "\\end{tabular}\n"
      ],
      "text/markdown": [
       "\n",
       "A matrix: 5 × 5 of type dbl\n",
       "\n",
       "| <!--/--> | ABCB4.SA | GRND3.SA | ITUB4.SA | TRPL4.SA | WEGE3.SA |\n",
       "|---|---|---|---|---|---|\n",
       "| ABCB4.SA | 0.11945378 | 0.03638613 | 0.05989391 | 0.02768519 | 0.03017428 |\n",
       "| GRND3.SA | 0.03638613 | 0.09996073 | 0.03911624 | 0.02320566 | 0.02765609 |\n",
       "| ITUB4.SA | 0.05989391 | 0.03911624 | 0.10732247 | 0.03325012 | 0.03764480 |\n",
       "| TRPL4.SA | 0.02768519 | 0.02320566 | 0.03325012 | 0.08514866 | 0.01788177 |\n",
       "| WEGE3.SA | 0.03017428 | 0.02765609 | 0.03764480 | 0.01788177 | 0.10487137 |\n",
       "\n"
      ],
      "text/plain": [
       "         ABCB4.SA   GRND3.SA   ITUB4.SA   TRPL4.SA   WEGE3.SA  \n",
       "ABCB4.SA 0.11945378 0.03638613 0.05989391 0.02768519 0.03017428\n",
       "GRND3.SA 0.03638613 0.09996073 0.03911624 0.02320566 0.02765609\n",
       "ITUB4.SA 0.05989391 0.03911624 0.10732247 0.03325012 0.03764480\n",
       "TRPL4.SA 0.02768519 0.02320566 0.03325012 0.08514866 0.01788177\n",
       "WEGE3.SA 0.03017428 0.02765609 0.03764480 0.01788177 0.10487137"
      ]
     },
     "metadata": {},
     "output_type": "display_data"
    }
   ],
   "source": [
    "covar <- cov(ret_d[,-1], use = \"na.or.complete\")*252\n",
    "covar"
   ]
  },
  {
   "cell_type": "code",
   "execution_count": 10,
   "metadata": {},
   "outputs": [
    {
     "data": {
      "text/html": [
       "<table>\n",
       "<caption>A matrix: 5 × 5 of type dbl</caption>\n",
       "<thead>\n",
       "\t<tr><th></th><th scope=col>ABCB4.SA</th><th scope=col>GRND3.SA</th><th scope=col>ITUB4.SA</th><th scope=col>TRPL4.SA</th><th scope=col>WEGE3.SA</th></tr>\n",
       "</thead>\n",
       "<tbody>\n",
       "\t<tr><th scope=row>ABCB4.SA</th><td>1.0000000</td><td>0.3329823</td><td>0.5289778</td><td>0.2745104</td><td>0.2695930</td></tr>\n",
       "\t<tr><th scope=row>GRND3.SA</th><td>0.3329823</td><td>1.0000000</td><td>0.3776565</td><td>0.2515303</td><td>0.2701143</td></tr>\n",
       "\t<tr><th scope=row>ITUB4.SA</th><td>0.5289778</td><td>0.3776565</td><td>1.0000000</td><td>0.3478236</td><td>0.3548388</td></tr>\n",
       "\t<tr><th scope=row>TRPL4.SA</th><td>0.2745104</td><td>0.2515303</td><td>0.3478236</td><td>1.0000000</td><td>0.1892314</td></tr>\n",
       "\t<tr><th scope=row>WEGE3.SA</th><td>0.2695930</td><td>0.2701143</td><td>0.3548388</td><td>0.1892314</td><td>1.0000000</td></tr>\n",
       "</tbody>\n",
       "</table>\n"
      ],
      "text/latex": [
       "A matrix: 5 × 5 of type dbl\n",
       "\\begin{tabular}{r|lllll}\n",
       "  & ABCB4.SA & GRND3.SA & ITUB4.SA & TRPL4.SA & WEGE3.SA\\\\\n",
       "\\hline\n",
       "\tABCB4.SA & 1.0000000 & 0.3329823 & 0.5289778 & 0.2745104 & 0.2695930\\\\\n",
       "\tGRND3.SA & 0.3329823 & 1.0000000 & 0.3776565 & 0.2515303 & 0.2701143\\\\\n",
       "\tITUB4.SA & 0.5289778 & 0.3776565 & 1.0000000 & 0.3478236 & 0.3548388\\\\\n",
       "\tTRPL4.SA & 0.2745104 & 0.2515303 & 0.3478236 & 1.0000000 & 0.1892314\\\\\n",
       "\tWEGE3.SA & 0.2695930 & 0.2701143 & 0.3548388 & 0.1892314 & 1.0000000\\\\\n",
       "\\end{tabular}\n"
      ],
      "text/markdown": [
       "\n",
       "A matrix: 5 × 5 of type dbl\n",
       "\n",
       "| <!--/--> | ABCB4.SA | GRND3.SA | ITUB4.SA | TRPL4.SA | WEGE3.SA |\n",
       "|---|---|---|---|---|---|\n",
       "| ABCB4.SA | 1.0000000 | 0.3329823 | 0.5289778 | 0.2745104 | 0.2695930 |\n",
       "| GRND3.SA | 0.3329823 | 1.0000000 | 0.3776565 | 0.2515303 | 0.2701143 |\n",
       "| ITUB4.SA | 0.5289778 | 0.3776565 | 1.0000000 | 0.3478236 | 0.3548388 |\n",
       "| TRPL4.SA | 0.2745104 | 0.2515303 | 0.3478236 | 1.0000000 | 0.1892314 |\n",
       "| WEGE3.SA | 0.2695930 | 0.2701143 | 0.3548388 | 0.1892314 | 1.0000000 |\n",
       "\n"
      ],
      "text/plain": [
       "         ABCB4.SA  GRND3.SA  ITUB4.SA  TRPL4.SA  WEGE3.SA \n",
       "ABCB4.SA 1.0000000 0.3329823 0.5289778 0.2745104 0.2695930\n",
       "GRND3.SA 0.3329823 1.0000000 0.3776565 0.2515303 0.2701143\n",
       "ITUB4.SA 0.5289778 0.3776565 1.0000000 0.3478236 0.3548388\n",
       "TRPL4.SA 0.2745104 0.2515303 0.3478236 1.0000000 0.1892314\n",
       "WEGE3.SA 0.2695930 0.2701143 0.3548388 0.1892314 1.0000000"
      ]
     },
     "metadata": {},
     "output_type": "display_data"
    }
   ],
   "source": [
    "matriz_cor <- cor(ret_d[,-1], use = \"na.or.complete\")\n",
    "matriz_cor"
   ]
  },
  {
   "cell_type": "code",
   "execution_count": 11,
   "metadata": {},
   "outputs": [],
   "source": [
    "tx_livre_risco <- 0.02"
   ]
  },
  {
   "cell_type": "code",
   "execution_count": 19,
   "metadata": {},
   "outputs": [],
   "source": [
    "short_selling <- T"
   ]
  },
  {
   "cell_type": "code",
   "execution_count": 20,
   "metadata": {},
   "outputs": [
    {
     "data": {
      "text/plain": [
       "Call:\n",
       "tangency.portfolio(er = retorno_medio, cov.mat = covar, risk.free = tx_livre_risco, \n",
       "    shorts = short_selling)\n",
       "\n",
       "Portfolio expected return:     0.3727895 \n",
       "Portfolio standard deviation:  0.2394238 \n",
       "Portfolio weights:\n",
       "ABCB4.SA GRND3.SA ITUB4.SA TRPL4.SA WEGE3.SA \n",
       " -0.0058   0.1282  -0.1365   0.4857   0.5284 "
      ]
     },
     "metadata": {},
     "output_type": "display_data"
    }
   ],
   "source": [
    "carteira_eficiente <- tangency.portfolio(retorno_medio, covar, tx_livre_risco, shorts = short_selling)\n",
    "\n",
    "carteira_eficiente"
   ]
  },
  {
   "cell_type": "code",
   "execution_count": 21,
   "metadata": {},
   "outputs": [
    {
     "data": {
      "text/html": [
       "1.47349394628241"
      ],
      "text/latex": [
       "1.47349394628241"
      ],
      "text/markdown": [
       "1.47349394628241"
      ],
      "text/plain": [
       "[1] 1.473494"
      ]
     },
     "metadata": {},
     "output_type": "display_data"
    }
   ],
   "source": [
    "sharpe <- (carteira_eficiente$er-tx_livre_risco)/carteira_eficiente$sd\n",
    "sharpe"
   ]
  },
  {
   "cell_type": "code",
   "execution_count": 22,
   "metadata": {},
   "outputs": [
    {
     "data": {
      "text/plain": [
       "Call:\n",
       "globalMin.portfolio(er = retorno_medio, cov.mat = covar, shorts = short_selling)\n",
       "\n",
       "Portfolio expected return:     0.2915829 \n",
       "Portfolio standard deviation:  0.2100684 \n",
       "Portfolio weights:\n",
       "ABCB4.SA GRND3.SA ITUB4.SA TRPL4.SA WEGE3.SA \n",
       "  0.1273   0.2223   0.0691   0.3383   0.2431 "
      ]
     },
     "metadata": {},
     "output_type": "display_data"
    }
   ],
   "source": [
    "carteira_min_risco <- globalMin.portfolio(retorno_medio, covar, shorts = short_selling)\n",
    "\n",
    "carteira_min_risco"
   ]
  },
  {
   "cell_type": "code",
   "execution_count": 23,
   "metadata": {},
   "outputs": [
    {
     "data": {
      "text/plain": [
       "Call:\n",
       "efficient.frontier(er = retorno_medio, cov.mat = covar, nport = npor, \n",
       "    shorts = short_selling)\n",
       "\n",
       "Frontier portfolios' expected returns and standard deviations\n",
       "   port 1 port 2 port 3 port 4 port 5 port 6 port 7 port 8 port 9 port 10\n",
       "ER 0.4596 0.4573 0.4551 0.4528 0.4506 0.4483 0.4460 0.4438 0.4415  0.4392\n",
       "SD 0.3172 0.3148 0.3124 0.3101 0.3077 0.3054 0.3031 0.3008 0.2985  0.2962\n",
       "   port 11 port 12 port 13 port 14 port 15 port 16 port 17 port 18 port 19\n",
       "ER   0.437  0.4347  0.4325  0.4302  0.4279  0.4257  0.4234  0.4211  0.4189\n",
       "SD   0.294  0.2918  0.2895  0.2874  0.2852  0.2830  0.2809  0.2788  0.2767\n",
       "   port 20 port 21 port 22 port 23 port 24 port 25 port 26 port 27 port 28\n",
       "ER  0.4166  0.4143  0.4121  0.4098  0.4076  0.4053  0.4030  0.4008  0.3985\n",
       "SD  0.2746  0.2726  0.2705  0.2685  0.2665  0.2646  0.2626  0.2607  0.2589\n",
       "   port 29 port 30 port 31 port 32 port 33 port 34 port 35 port 36 port 37\n",
       "ER  0.3962  0.3940  0.3917  0.3895  0.3872  0.3849  0.3827  0.3804  0.3781\n",
       "SD  0.2570  0.2552  0.2534  0.2516  0.2498  0.2481  0.2464  0.2448  0.2431\n",
       "   port 38 port 39 port 40 port 41 port 42 port 43 port 44 port 45 port 46\n",
       "ER  0.3759  0.3736  0.3714  0.3691  0.3668  0.3646  0.3623  0.3600  0.3578\n",
       "SD  0.2416  0.2400  0.2385  0.2370  0.2355  0.2341  0.2327  0.2313  0.2300\n",
       "   port 47 port 48 port 49 port 50 port 51 port 52 port 53 port 54 port 55\n",
       "ER  0.3555  0.3532  0.3510  0.3487  0.3465  0.3442  0.3419  0.3397  0.3374\n",
       "SD  0.2287  0.2275  0.2263  0.2251  0.2240  0.2229  0.2218  0.2208  0.2198\n",
       "   port 56 port 57 port 58 port 59 port 60 port 61 port 62 port 63 port 64\n",
       "ER  0.3351  0.3329  0.3306  0.3284  0.3261  0.3238  0.3216  0.3193  0.3170\n",
       "SD  0.2189  0.2180  0.2172  0.2164  0.2157  0.2150  0.2143  0.2137  0.2131\n",
       "   port 65 port 66 port 67 port 68 port 69 port 70 port 71 port 72 port 73\n",
       "ER  0.3148  0.3125  0.3103  0.3080  0.3057  0.3035  0.3012  0.2989  0.2967\n",
       "SD  0.2126  0.2121  0.2117  0.2113  0.2110  0.2107  0.2105  0.2103  0.2102\n",
       "   port 74 port 75 port 76 port 77 port 78 port 79 port 80 port 81 port 82\n",
       "ER  0.2944  0.2921  0.2899  0.2876  0.2854  0.2831  0.2808  0.2786  0.2763\n",
       "SD  0.2101  0.2101  0.2101  0.2101  0.2103  0.2104  0.2106  0.2109  0.2112\n",
       "   port 83 port 84 port 85 port 86 port 87 port 88 port 89 port 90 port 91\n",
       "ER  0.2740  0.2718  0.2695  0.2673  0.2650  0.2627  0.2605  0.2582  0.2559\n",
       "SD  0.2115  0.2119  0.2124  0.2129  0.2134  0.2140  0.2146  0.2153  0.2160\n",
       "   port 92 port 93 port 94 port 95 port 96 port 97 port 98 port 99 port 100\n",
       "ER  0.2537  0.2514  0.2492  0.2469  0.2446  0.2424  0.2401  0.2378   0.2356\n",
       "SD  0.2168  0.2176  0.2185  0.2194  0.2203  0.2213  0.2223  0.2234   0.2245"
      ]
     },
     "metadata": {},
     "output_type": "display_data"
    },
    {
     "data": {
      "text/html": [
       "<dl>\n",
       "\t<dt>$names</dt>\n",
       "\t\t<dd><style>\n",
       ".list-inline {list-style: none; margin:0; padding: 0}\n",
       ".list-inline>li {display: inline-block}\n",
       ".list-inline>li:not(:last-child)::after {content: \"\\00b7\"; padding: 0 .5ex}\n",
       "</style>\n",
       "<ol class=list-inline><li>'call'</li><li>'er'</li><li>'sd'</li><li>'weights'</li></ol>\n",
       "</dd>\n",
       "\t<dt>$class</dt>\n",
       "\t\t<dd>'Markowitz'</dd>\n",
       "</dl>\n"
      ],
      "text/latex": [
       "\\begin{description}\n",
       "\\item[\\$names] \\begin{enumerate*}\n",
       "\\item 'call'\n",
       "\\item 'er'\n",
       "\\item 'sd'\n",
       "\\item 'weights'\n",
       "\\end{enumerate*}\n",
       "\n",
       "\\item[\\$class] 'Markowitz'\n",
       "\\end{description}\n"
      ],
      "text/markdown": [
       "$names\n",
       ":   1. 'call'\n",
       "2. 'er'\n",
       "3. 'sd'\n",
       "4. 'weights'\n",
       "\n",
       "\n",
       "\n",
       "$class\n",
       ":   'Markowitz'\n",
       "\n",
       "\n"
      ],
      "text/plain": [
       "$names\n",
       "[1] \"call\"    \"er\"      \"sd\"      \"weights\"\n",
       "\n",
       "$class\n",
       "[1] \"Markowitz\"\n"
      ]
     },
     "metadata": {},
     "output_type": "display_data"
    }
   ],
   "source": [
    "npor <- 100\n",
    "fronteira_eficiente <- efficient.frontier(retorno_medio, covar, npor, shorts = short_selling)\n",
    "\n",
    "fronteira_eficiente\n",
    "\n",
    "attributes(fronteira_eficiente)"
   ]
  },
  {
   "cell_type": "code",
   "execution_count": 24,
   "metadata": {},
   "outputs": [
    {
     "data": {
      "image/png": "[encoded data removed]",
      "text/plain": [
       "Plot with title \"Efficient Frontier\""
      ]
     },
     "metadata": {
      "image/png": {
       "height": 420,
       "width": 420
      }
     },
     "output_type": "display_data"
    }
   ],
   "source": [
    "plot(fronteira_eficiente, plot.asset = TRUE,\n",
    "     col = ifelse(fronteira_eficiente$er == carteira_eficiente$er,\"red\",\n",
    "                  \"blue\"), pch = 16)\n",
    "points(carteira_min_risco$sd, carteira_min_risco$er, col = \"green\", pch = 10, cex = 2)\n",
    "points(carteira_eficiente$sd, carteira_eficiente$er, col = \"red\", pch = 10, cex = 2)\n",
    "text(carteira_min_risco$sd, carteira_min_risco$er, labels = \"Risco Mínimo\", pos = 2)\n",
    "text(carteira_eficiente$sd, carteira_eficiente$er, labels = \"Carteira Eficiente\", pos = 2)\n",
    "tangente <- (carteira_eficiente$er - tx_livre_risco)/carteira_eficiente$sd\n",
    "abline(a = tx_livre_risco, b = tangente, col = \"green\", lwd = 2)"
   ]
  },
  {
   "cell_type": "code",
   "execution_count": 25,
   "metadata": {},
   "outputs": [
    {
     "data": {
      "image/png": "[encoded data removed]",
      "text/plain": [
       "Plot with title \"Sharpe dos portifólios\""
      ]
     },
     "metadata": {
      "image/png": {
       "height": 420,
       "width": 420
      }
     },
     "output_type": "display_data"
    }
   ],
   "source": [
    "plot(1:npor, (fronteira_eficiente$er - tx_livre_risco)/fronteira_eficiente$sd,\n",
    "     col = \"blue\", ylab = \"Índice Sharpe\", xlab = \"Nº Portifólio\", type = 'l',\n",
    "    main = \"Sharpe dos portifólios\")\n",
    "abline(h = 0)"
   ]
  },
  {
   "cell_type": "code",
   "execution_count": null,
   "metadata": {},
   "outputs": [],
   "source": []
  }
 ],
 "metadata": {
  "kernelspec": {
   "display_name": "R",
   "language": "R",
   "name": "ir"
  },
  "language_info": {
   "codemirror_mode": "r",
   "file_extension": ".r",
   "mimetype": "text/x-r-source",
   "name": "R",
   "pygments_lexer": "r",
   "version": "4.0.2"
  }
 },
 "nbformat": 4,
 "nbformat_minor": 4
}
