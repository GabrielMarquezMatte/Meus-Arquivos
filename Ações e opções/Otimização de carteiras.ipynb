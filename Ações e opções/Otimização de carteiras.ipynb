{
 "cells": [
  {
   "cell_type": "code",
   "execution_count": 1,
   "metadata": {},
   "outputs": [],
   "source": [
    "loadlibrary <- function(x){\n",
    "  for(i in x){\n",
    "    if (!require(i,character.only = TRUE)) {\n",
    "      install.packages(i, dep=TRUE)\n",
    "    } else{\n",
    "      library(i, character.only = T)\n",
    "    }\n",
    "  }\n",
    "}"
   ]
  },
  {
   "cell_type": "code",
   "execution_count": 2,
   "metadata": {},
   "outputs": [
    {
     "name": "stderr",
     "output_type": "stream",
     "text": [
      "Loading required package: IntroCompFinR\n",
      "\n",
      "Loading required package: xts\n",
      "\n",
      "Loading required package: zoo\n",
      "\n",
      "\n",
      "Attaching package: 'zoo'\n",
      "\n",
      "\n",
      "The following objects are masked from 'package:base':\n",
      "\n",
      "    as.Date, as.Date.numeric\n",
      "\n",
      "\n",
      "Loading required package: tidyquant\n",
      "\n",
      "Loading required package: lubridate\n",
      "\n",
      "\n",
      "Attaching package: 'lubridate'\n",
      "\n",
      "\n",
      "The following objects are masked from 'package:base':\n",
      "\n",
      "    date, intersect, setdiff, union\n",
      "\n",
      "\n",
      "Loading required package: PerformanceAnalytics\n",
      "\n",
      "\n",
      "Attaching package: 'PerformanceAnalytics'\n",
      "\n",
      "\n",
      "The following object is masked from 'package:graphics':\n",
      "\n",
      "    legend\n",
      "\n",
      "\n",
      "Loading required package: quantmod\n",
      "\n",
      "Loading required package: TTR\n",
      "\n",
      "Registered S3 method overwritten by 'quantmod':\n",
      "  method            from\n",
      "  as.zoo.data.frame zoo \n",
      "\n",
      "Version 0.4-0 included new data defaults. See ?getSymbols.\n",
      "\n",
      "\u001b[30m==\u001b[39m \u001b[30mNeed to Learn tidyquant?\u001b[39m \u001b[30m====================================================\u001b[39m\u001b[34m\n",
      "Business Science offers a 1-hour course - Learning Lab #9: Performance Analysis & Portfolio Optimization with tidyquant!\n",
      "\u001b[39m\u001b[34m</> Learn more at: https://university.business-science.io/p/learning-labs-pro </>\u001b[39m\n",
      "\n",
      "Loading required package: dplyr\n",
      "\n",
      "\n",
      "Attaching package: 'dplyr'\n",
      "\n",
      "\n",
      "The following objects are masked from 'package:xts':\n",
      "\n",
      "    first, last\n",
      "\n",
      "\n",
      "The following objects are masked from 'package:stats':\n",
      "\n",
      "    filter, lag\n",
      "\n",
      "\n",
      "The following objects are masked from 'package:base':\n",
      "\n",
      "    intersect, setdiff, setequal, union\n",
      "\n",
      "\n",
      "Loading required package: tidyr\n",
      "\n"
     ]
    }
   ],
   "source": [
    "pacotes <- c(\"IntroCompFinR\", \"tidyquant\", \"dplyr\", \"tidyr\")\n",
    "options(warn = -1)\n",
    "loadlibrary(pacotes)"
   ]
  },
  {
   "cell_type": "code",
   "execution_count": 12,
   "metadata": {},
   "outputs": [],
   "source": [
    "#Retorno das ações entre 2014 e 2019\n",
    "ativos <- c(\"TRPL4\", \"TAEE11\", \"COGN3\", \"ITSA4\", \"LREN3\")\n",
    "trpl_ret <- c(0.6202,0.1148,0.4727,0.0828,0.2451,0.3894)\n",
    "abev_ret <- c(-0.0101,0.1421,-0.0413,0.3390,-0.2554,0.2442)\n",
    "itsa_ret <- c(0.2110,-0.1381,0.4477,0.3907,0.3310,0.3503)\n",
    "enat_ret <- c(-0.2520,-0.1464,-0.0524,1.0703,-0.0024,0.9465)\n",
    "seer_ret <- c(0.2765,-0.7195,1.4738,0.7105,-0.4898,0.9836)\n",
    "oibr_ret <- c(-0.7472,-0.7372,0.095,0.3827,-0.5387,-0.3120)\n",
    "tcsa_ret <- c(-0.5438,-0.2432,-0.0446,-0.0374,-0.2961,0.2661)\n",
    "petr_ret <- c(-0.3783,-0.2815,1.2132,0.0829,0.4591,0.3687)\n",
    "vale_ret <- c(-0.3309,-0.3573,0.9826,0.6256,0.3111,0.0685)\n",
    "itub_ret <- c(0.2448,-0.1094,0.4903,0.2964,0.3241,0.1198)\n",
    "b3sa_ret <- c(-0.0868,0.2198,0.5525,0.4049,0.2079,0.6326)\n",
    "mglu_ret <- c(0.0380,-0.6967,5.0378,5.0921,1.2639,1.1219)\n",
    "vvar_ret <- c(-0.0646,-0.7955,1.4861,1.2123-0.4457,1.5444)\n",
    "lren_ret <- c(0.2784,0.1529,0.4116,0.7283,0.2019,0.4905)\n",
    "rent_ret <- c(0.0812,-0.2848,0.4142,1.0540,0.3613,0.6875)\n",
    "suzb_ret <- c(0.2191,0.7291,-0.2235,0.3650,1.0473,0.0534)\n",
    "egie_ret <- c(-0.0139,0.0628,0.0705,0.0931,0.2998,0.5920)\n",
    "enbr_ret <- c(-0.0906,0.3746,0.2537,0.0565,0.0930,0.5843)\n",
    "flry_ret <- c(0.0000,1.3794,0.6891,-0.3099,0.6188,0.6297)\n",
    "bbdc_ret <- c(0.2567,-0.2925,0.7608,0.3452,0.2924,0.1859)\n",
    "hype_ret <- c(-0.0577,0.3398,0.2245,0.4773,-0.1193,0.2177)\n",
    "pssa_ret <- c(-0.0259,-0.0287,0.4046,0.5575,0.2463)\n",
    "wizs_ret <- c(-0.2909,0.4966,-0.1054,-0.3719,1.3034)\n",
    "bpan_ret <- c(-0.2922,-0.2065,0.4634,0.0722,4.4923)\n",
    "abcb_ret <- c(-0.2794,0.7739,0.3336,0.0564,0.2682)\n",
    "caml_ret <- c(0.0000,0.0000,0.0000,-0.1144,-0.0799,0.3039)\n",
    "mdia_ret <- c(-0.2399,0.7503,0.3726,-0.1718,-0.1086)\n",
    "bees_ret <- c(-0.1423,3.9837,0.5007,0.4186,0.2244,0.4578)\n",
    "brsr_ret <- c(0.0632,-0.2354,0.3301,1.3937,-0.1072,0.1269)\n",
    "prio_ret <- c(-0.4923,-0.4674,0.7780,2.7696,0.2124,2.3735)\n",
    "taee_ret <- c(0.0357,-0.1184,0.2471,0.0304,0.1734,0.2578)\n",
    "cdi_ret <- c(0.1077,0.1325,0.1394,0.0990,0.0640,0.0594)\n",
    "wti_ret <- c(-0.3106,0.4365,0.1155,-0.2445,0.3624)\n",
    "gold_ret <- c(-0.0176,-0.1038,0.0843,0.1313,-0.0156,0.1833)\n",
    "mult_ret <- c(-0.0333,-0.1668,0.5842,0.2331,0.0219,0.3745)\n",
    "odpv_ret <- c(0.0493,-0.0081,0.3686,0.3128,-0.1105,0.2664)\n",
    "bitc_ret <- c(-0.5215,0.9977,0.9050,12.8961,-0.6932,0.9619)\n",
    "goog_ret <- c(0.0692,1.1769,-0.1461,0.3265,0.1626,0.3410)\n",
    "aapl_ret <- c(0.5641,0.4082,-0.0730,0.4734,0.0861,0.9635)\n",
    "amzn_ret <- c(-0.1246,2.2223,-0.0616,0.5556,0.5015,0.3061)\n",
    "doll_ret <- c(0.1249,0.4902,-0.1627,0.0178,0.1712,0.0357)\n",
    "wege_ret <- c(0.2734,-0.0221,0.0431,0.5656,-0.0636,0.9671)\n",
    "whrl_ret <- c(0.1859,-0.3655,0.3292,0.7930,0.0551,1.1939)\n",
    "brml_ret <- c(-0.0056,-0.3035,0.4174,0.2423,0.0412,0.4767)\n",
    "cple_ret <- c(0.2239,-0.3086,0.3057,0.2083,0.5085,1.2944)\n",
    "sapr_ret <- c(-0.0839,-0.3887,2.4695,0.1563,-0.0316,1.0743)\n",
    "cyre_ret <- c(-0.2111,-0.2895,0.4247,0.3118,0.2615,1.0278)\n",
    "grnd_ret <- c(-0.1076,0.1645,0.2220,0.7012,-0.0975,0.5555)\n",
    "jhsf_ret <- c(-0.4430,-0.4619,0.2160,0.3310,0.1086,2.9732)\n",
    "shul_ret <- c(-0.4548,-0.2066,0.1149,0.7156,0.4633,0.4941)\n",
    "cogn_ret <- c(0.6231,-0.3705,0.4365,0.4316,-0.5149,0.2791)"
   ]
  },
  {
   "cell_type": "code",
   "execution_count": 68,
   "metadata": {},
   "outputs": [
    {
     "name": "stderr",
     "output_type": "stream",
     "text": [
      "`summarise()` regrouping output by 'year' (override with `.groups` argument)\n",
      "\n"
     ]
    }
   ],
   "source": [
    "acoes <- c(\"TRPL4.SA\",\"ITUB4.SA\", \"GRND3.SA\", \"ABCB4.SA\", \"WEGE3.SA\")\n",
    "data_inicio <- \"2014-01-01\"\n",
    "data_fim <- \"2020-01-01\"\n",
    "ret_a <- tq_get(acoes, from = data_inicio, to = data_fim) %>%\n",
    "  group_by(symbol) %>%\n",
    "  tq_transmute(select = close, mutate_fun= periodReturn, period = \"yearly\") %>%\n",
    "  mutate(year = year(date)) %>%\n",
    "  group_by(year,symbol) %>%\n",
    "  summarise(yearly.returns) %>%\n",
    "  spread(key = \"symbol\", value = \"yearly.returns\")\n",
    "ret_d <- tq_get(acoes, from = \"2014-01-01\", to = \"2020-07-21\") %>%\n",
    "  group_by(symbol) %>%\n",
    "  tq_transmute(select = close, mutate_fun = periodReturn, period = \"daily\")\n",
    "retornos_sep <- ret_d %>%\n",
    "  spread(key = \"symbol\", value = \"daily.returns\")"
   ]
  },
  {
   "cell_type": "code",
   "execution_count": 69,
   "metadata": {},
   "outputs": [
    {
     "data": {
      "text/html": [
       "<table>\n",
       "<caption>A data.frame: 6 × 5</caption>\n",
       "<thead>\n",
       "\t<tr><th scope=col>ABCB4.SA</th><th scope=col>GRND3.SA</th><th scope=col>ITUB4.SA</th><th scope=col>TRPL4.SA</th><th scope=col>WEGE3.SA</th></tr>\n",
       "\t<tr><th scope=col>&lt;dbl&gt;</th><th scope=col>&lt;dbl&gt;</th><th scope=col>&lt;dbl&gt;</th><th scope=col>&lt;dbl&gt;</th><th scope=col>&lt;dbl&gt;</th></tr>\n",
       "</thead>\n",
       "<tbody>\n",
       "\t<tr><td> 0.134452142</td><td>-0.14044896</td><td> 0.20749196</td><td>0.61053374</td><td> 0.30428015</td></tr>\n",
       "\t<tr><td>-0.343140069</td><td> 0.10065294</td><td>-0.16291952</td><td>0.10121282</td><td>-0.01967470</td></tr>\n",
       "\t<tr><td> 1.014217974</td><td> 0.04394361</td><td> 0.41416629</td><td>0.42093006</td><td> 0.03679130</td></tr>\n",
       "\t<tr><td> 0.254843625</td><td> 0.61831570</td><td> 0.25790213</td><td>0.03129329</td><td> 0.55548473</td></tr>\n",
       "\t<tr><td>-0.007932949</td><td>-0.13532483</td><td> 0.25058566</td><td>0.03408072</td><td>-0.05425365</td></tr>\n",
       "\t<tr><td> 0.204819337</td><td> 0.49756098</td><td> 0.04507037</td><td>0.30557965</td><td> 0.97605462</td></tr>\n",
       "</tbody>\n",
       "</table>\n"
      ],
      "text/latex": [
       "A data.frame: 6 × 5\n",
       "\\begin{tabular}{lllll}\n",
       " ABCB4.SA & GRND3.SA & ITUB4.SA & TRPL4.SA & WEGE3.SA\\\\\n",
       " <dbl> & <dbl> & <dbl> & <dbl> & <dbl>\\\\\n",
       "\\hline\n",
       "\t  0.134452142 & -0.14044896 &  0.20749196 & 0.61053374 &  0.30428015\\\\\n",
       "\t -0.343140069 &  0.10065294 & -0.16291952 & 0.10121282 & -0.01967470\\\\\n",
       "\t  1.014217974 &  0.04394361 &  0.41416629 & 0.42093006 &  0.03679130\\\\\n",
       "\t  0.254843625 &  0.61831570 &  0.25790213 & 0.03129329 &  0.55548473\\\\\n",
       "\t -0.007932949 & -0.13532483 &  0.25058566 & 0.03408072 & -0.05425365\\\\\n",
       "\t  0.204819337 &  0.49756098 &  0.04507037 & 0.30557965 &  0.97605462\\\\\n",
       "\\end{tabular}\n"
      ],
      "text/markdown": [
       "\n",
       "A data.frame: 6 × 5\n",
       "\n",
       "| ABCB4.SA &lt;dbl&gt; | GRND3.SA &lt;dbl&gt; | ITUB4.SA &lt;dbl&gt; | TRPL4.SA &lt;dbl&gt; | WEGE3.SA &lt;dbl&gt; |\n",
       "|---|---|---|---|---|\n",
       "|  0.134452142 | -0.14044896 |  0.20749196 | 0.61053374 |  0.30428015 |\n",
       "| -0.343140069 |  0.10065294 | -0.16291952 | 0.10121282 | -0.01967470 |\n",
       "|  1.014217974 |  0.04394361 |  0.41416629 | 0.42093006 |  0.03679130 |\n",
       "|  0.254843625 |  0.61831570 |  0.25790213 | 0.03129329 |  0.55548473 |\n",
       "| -0.007932949 | -0.13532483 |  0.25058566 | 0.03408072 | -0.05425365 |\n",
       "|  0.204819337 |  0.49756098 |  0.04507037 | 0.30557965 |  0.97605462 |\n",
       "\n"
      ],
      "text/plain": [
       "  ABCB4.SA     GRND3.SA    ITUB4.SA    TRPL4.SA   WEGE3.SA   \n",
       "1  0.134452142 -0.14044896  0.20749196 0.61053374  0.30428015\n",
       "2 -0.343140069  0.10065294 -0.16291952 0.10121282 -0.01967470\n",
       "3  1.014217974  0.04394361  0.41416629 0.42093006  0.03679130\n",
       "4  0.254843625  0.61831570  0.25790213 0.03129329  0.55548473\n",
       "5 -0.007932949 -0.13532483  0.25058566 0.03408072 -0.05425365\n",
       "6  0.204819337  0.49756098  0.04507037 0.30557965  0.97605462"
      ]
     },
     "metadata": {},
     "output_type": "display_data"
    }
   ],
   "source": [
    "retornos <- cbind(ret_a[,2:ncol(ret_a)])\n",
    "retornos"
   ]
  },
  {
   "cell_type": "code",
   "execution_count": 70,
   "metadata": {},
   "outputs": [
    {
     "data": {
      "text/html": [
       "<table>\n",
       "<caption>A matrix: 5 × 1 of type dbl</caption>\n",
       "<tbody>\n",
       "\t<tr><th scope=row>ABCB4.SA</th><td>0.2095433</td></tr>\n",
       "\t<tr><th scope=row>GRND3.SA</th><td>0.1641166</td></tr>\n",
       "\t<tr><th scope=row>ITUB4.SA</th><td>0.1687161</td></tr>\n",
       "\t<tr><th scope=row>TRPL4.SA</th><td>0.2506050</td></tr>\n",
       "\t<tr><th scope=row>WEGE3.SA</th><td>0.2997804</td></tr>\n",
       "</tbody>\n",
       "</table>\n"
      ],
      "text/latex": [
       "A matrix: 5 × 1 of type dbl\n",
       "\\begin{tabular}{r|l}\n",
       "\tABCB4.SA & 0.2095433\\\\\n",
       "\tGRND3.SA & 0.1641166\\\\\n",
       "\tITUB4.SA & 0.1687161\\\\\n",
       "\tTRPL4.SA & 0.2506050\\\\\n",
       "\tWEGE3.SA & 0.2997804\\\\\n",
       "\\end{tabular}\n"
      ],
      "text/markdown": [
       "\n",
       "A matrix: 5 × 1 of type dbl\n",
       "\n",
       "| ABCB4.SA | 0.2095433 |\n",
       "| GRND3.SA | 0.1641166 |\n",
       "| ITUB4.SA | 0.1687161 |\n",
       "| TRPL4.SA | 0.2506050 |\n",
       "| WEGE3.SA | 0.2997804 |\n",
       "\n"
      ],
      "text/plain": [
       "         [,1]     \n",
       "ABCB4.SA 0.2095433\n",
       "GRND3.SA 0.1641166\n",
       "ITUB4.SA 0.1687161\n",
       "TRPL4.SA 0.2506050\n",
       "WEGE3.SA 0.2997804"
      ]
     },
     "metadata": {},
     "output_type": "display_data"
    }
   ],
   "source": [
    "retorno_medio <- matrix(0, ncol = 1, nrow = ncol(retornos))\n",
    "for(i in 1:ncol(retornos)){\n",
    "    retorno_medio[i,] <- rbind(mean(retornos[,i], na.rm = T))\n",
    "}\n",
    "rownames(retorno_medio) <- sort(acoes)\n",
    "retorno_medio"
   ]
  },
  {
   "cell_type": "code",
   "execution_count": 71,
   "metadata": {},
   "outputs": [
    {
     "data": {
      "text/html": [
       "<table>\n",
       "<caption>A matrix: 5 × 5 of type dbl</caption>\n",
       "<thead>\n",
       "\t<tr><th></th><th scope=col>ABCB4.SA</th><th scope=col>GRND3.SA</th><th scope=col>ITUB4.SA</th><th scope=col>TRPL4.SA</th><th scope=col>WEGE3.SA</th></tr>\n",
       "</thead>\n",
       "<tbody>\n",
       "\t<tr><th scope=row>ABCB4.SA</th><td>0.201593855</td><td> 0.009073383</td><td> 0.072940978</td><td> 0.04589793</td><td> 0.009996351</td></tr>\n",
       "\t<tr><th scope=row>GRND3.SA</th><td>0.009073383</td><td> 0.103675301</td><td>-0.009099072</td><td>-0.02741065</td><td> 0.099632096</td></tr>\n",
       "\t<tr><th scope=row>ITUB4.SA</th><td>0.072940978</td><td>-0.009099072</td><td> 0.040335318</td><td> 0.01224459</td><td>-0.009646266</td></tr>\n",
       "\t<tr><th scope=row>TRPL4.SA</th><td>0.045897933</td><td>-0.027410649</td><td> 0.012244592</td><td> 0.05577599</td><td> 0.012461201</td></tr>\n",
       "\t<tr><th scope=row>WEGE3.SA</th><td>0.009996351</td><td> 0.099632096</td><td>-0.009646266</td><td> 0.01246120</td><td> 0.163861341</td></tr>\n",
       "</tbody>\n",
       "</table>\n"
      ],
      "text/latex": [
       "A matrix: 5 × 5 of type dbl\n",
       "\\begin{tabular}{r|lllll}\n",
       "  & ABCB4.SA & GRND3.SA & ITUB4.SA & TRPL4.SA & WEGE3.SA\\\\\n",
       "\\hline\n",
       "\tABCB4.SA & 0.201593855 &  0.009073383 &  0.072940978 &  0.04589793 &  0.009996351\\\\\n",
       "\tGRND3.SA & 0.009073383 &  0.103675301 & -0.009099072 & -0.02741065 &  0.099632096\\\\\n",
       "\tITUB4.SA & 0.072940978 & -0.009099072 &  0.040335318 &  0.01224459 & -0.009646266\\\\\n",
       "\tTRPL4.SA & 0.045897933 & -0.027410649 &  0.012244592 &  0.05577599 &  0.012461201\\\\\n",
       "\tWEGE3.SA & 0.009996351 &  0.099632096 & -0.009646266 &  0.01246120 &  0.163861341\\\\\n",
       "\\end{tabular}\n"
      ],
      "text/markdown": [
       "\n",
       "A matrix: 5 × 5 of type dbl\n",
       "\n",
       "| <!--/--> | ABCB4.SA | GRND3.SA | ITUB4.SA | TRPL4.SA | WEGE3.SA |\n",
       "|---|---|---|---|---|---|\n",
       "| ABCB4.SA | 0.201593855 |  0.009073383 |  0.072940978 |  0.04589793 |  0.009996351 |\n",
       "| GRND3.SA | 0.009073383 |  0.103675301 | -0.009099072 | -0.02741065 |  0.099632096 |\n",
       "| ITUB4.SA | 0.072940978 | -0.009099072 |  0.040335318 |  0.01224459 | -0.009646266 |\n",
       "| TRPL4.SA | 0.045897933 | -0.027410649 |  0.012244592 |  0.05577599 |  0.012461201 |\n",
       "| WEGE3.SA | 0.009996351 |  0.099632096 | -0.009646266 |  0.01246120 |  0.163861341 |\n",
       "\n"
      ],
      "text/plain": [
       "         ABCB4.SA    GRND3.SA     ITUB4.SA     TRPL4.SA    WEGE3.SA    \n",
       "ABCB4.SA 0.201593855  0.009073383  0.072940978  0.04589793  0.009996351\n",
       "GRND3.SA 0.009073383  0.103675301 -0.009099072 -0.02741065  0.099632096\n",
       "ITUB4.SA 0.072940978 -0.009099072  0.040335318  0.01224459 -0.009646266\n",
       "TRPL4.SA 0.045897933 -0.027410649  0.012244592  0.05577599  0.012461201\n",
       "WEGE3.SA 0.009996351  0.099632096 -0.009646266  0.01246120  0.163861341"
      ]
     },
     "metadata": {},
     "output_type": "display_data"
    }
   ],
   "source": [
    "covar <- cov(ret_a[,2:ncol(ret_a)], use = \"na.or.complete\")\n",
    "covar"
   ]
  },
  {
   "cell_type": "code",
   "execution_count": 72,
   "metadata": {},
   "outputs": [
    {
     "data": {
      "text/html": [
       "<table>\n",
       "<caption>A matrix: 5 × 5 of type dbl</caption>\n",
       "<thead>\n",
       "\t<tr><th></th><th scope=col>ABCB4.SA</th><th scope=col>GRND3.SA</th><th scope=col>ITUB4.SA</th><th scope=col>TRPL4.SA</th><th scope=col>WEGE3.SA</th></tr>\n",
       "</thead>\n",
       "<tbody>\n",
       "\t<tr><th scope=row>ABCB4.SA</th><td>1.0000000</td><td>0.3656255</td><td>0.5603123</td><td>0.3208555</td><td>0.3062836</td></tr>\n",
       "\t<tr><th scope=row>GRND3.SA</th><td>0.3656255</td><td>1.0000000</td><td>0.4075090</td><td>0.3227941</td><td>0.3081359</td></tr>\n",
       "\t<tr><th scope=row>ITUB4.SA</th><td>0.5603123</td><td>0.4075090</td><td>1.0000000</td><td>0.3939710</td><td>0.3774051</td></tr>\n",
       "\t<tr><th scope=row>TRPL4.SA</th><td>0.3208555</td><td>0.3227941</td><td>0.3939710</td><td>1.0000000</td><td>0.2240696</td></tr>\n",
       "\t<tr><th scope=row>WEGE3.SA</th><td>0.3062836</td><td>0.3081359</td><td>0.3774051</td><td>0.2240696</td><td>1.0000000</td></tr>\n",
       "</tbody>\n",
       "</table>\n"
      ],
      "text/latex": [
       "A matrix: 5 × 5 of type dbl\n",
       "\\begin{tabular}{r|lllll}\n",
       "  & ABCB4.SA & GRND3.SA & ITUB4.SA & TRPL4.SA & WEGE3.SA\\\\\n",
       "\\hline\n",
       "\tABCB4.SA & 1.0000000 & 0.3656255 & 0.5603123 & 0.3208555 & 0.3062836\\\\\n",
       "\tGRND3.SA & 0.3656255 & 1.0000000 & 0.4075090 & 0.3227941 & 0.3081359\\\\\n",
       "\tITUB4.SA & 0.5603123 & 0.4075090 & 1.0000000 & 0.3939710 & 0.3774051\\\\\n",
       "\tTRPL4.SA & 0.3208555 & 0.3227941 & 0.3939710 & 1.0000000 & 0.2240696\\\\\n",
       "\tWEGE3.SA & 0.3062836 & 0.3081359 & 0.3774051 & 0.2240696 & 1.0000000\\\\\n",
       "\\end{tabular}\n"
      ],
      "text/markdown": [
       "\n",
       "A matrix: 5 × 5 of type dbl\n",
       "\n",
       "| <!--/--> | ABCB4.SA | GRND3.SA | ITUB4.SA | TRPL4.SA | WEGE3.SA |\n",
       "|---|---|---|---|---|---|\n",
       "| ABCB4.SA | 1.0000000 | 0.3656255 | 0.5603123 | 0.3208555 | 0.3062836 |\n",
       "| GRND3.SA | 0.3656255 | 1.0000000 | 0.4075090 | 0.3227941 | 0.3081359 |\n",
       "| ITUB4.SA | 0.5603123 | 0.4075090 | 1.0000000 | 0.3939710 | 0.3774051 |\n",
       "| TRPL4.SA | 0.3208555 | 0.3227941 | 0.3939710 | 1.0000000 | 0.2240696 |\n",
       "| WEGE3.SA | 0.3062836 | 0.3081359 | 0.3774051 | 0.2240696 | 1.0000000 |\n",
       "\n"
      ],
      "text/plain": [
       "         ABCB4.SA  GRND3.SA  ITUB4.SA  TRPL4.SA  WEGE3.SA \n",
       "ABCB4.SA 1.0000000 0.3656255 0.5603123 0.3208555 0.3062836\n",
       "GRND3.SA 0.3656255 1.0000000 0.4075090 0.3227941 0.3081359\n",
       "ITUB4.SA 0.5603123 0.4075090 1.0000000 0.3939710 0.3774051\n",
       "TRPL4.SA 0.3208555 0.3227941 0.3939710 1.0000000 0.2240696\n",
       "WEGE3.SA 0.3062836 0.3081359 0.3774051 0.2240696 1.0000000"
      ]
     },
     "metadata": {},
     "output_type": "display_data"
    }
   ],
   "source": [
    "matriz_cor <- cor(retornos_sep[2:ncol(retornos_sep)], use = \"na.or.complete\")\n",
    "matriz_cor"
   ]
  },
  {
   "cell_type": "code",
   "execution_count": 73,
   "metadata": {},
   "outputs": [],
   "source": [
    "tx_livre_risco <- 0.0225"
   ]
  },
  {
   "cell_type": "code",
   "execution_count": 74,
   "metadata": {},
   "outputs": [],
   "source": [
    "short_selling <- F"
   ]
  },
  {
   "cell_type": "code",
   "execution_count": 75,
   "metadata": {},
   "outputs": [
    {
     "data": {
      "text/plain": [
       "Call:\n",
       "tangency.portfolio(er = retorno_medio, cov.mat = covar, risk.free = tx_livre_risco, \n",
       "    shorts = short_selling)\n",
       "\n",
       "Portfolio expected return:     0.2053346 \n",
       "Portfolio standard deviation:  0.1312983 \n",
       "Portfolio weights:\n",
       "[1] 0.0000 0.2742 0.2632 0.4626 0.0000"
      ]
     },
     "metadata": {},
     "output_type": "display_data"
    }
   ],
   "source": [
    "carteira_eficiente <- tangency.portfolio(retorno_medio, covar, tx_livre_risco, shorts = short_selling)\n",
    "\n",
    "carteira_eficiente"
   ]
  },
  {
   "cell_type": "code",
   "execution_count": 76,
   "metadata": {},
   "outputs": [
    {
     "data": {
      "text/html": [
       "1.39251323543585"
      ],
      "text/latex": [
       "1.39251323543585"
      ],
      "text/markdown": [
       "1.39251323543585"
      ],
      "text/plain": [
       "[1] 1.392513"
      ]
     },
     "metadata": {},
     "output_type": "display_data"
    }
   ],
   "source": [
    "sharpe <- (carteira_eficiente$er-tx_livre_risco)/carteira_eficiente$sd\n",
    "sharpe"
   ]
  },
  {
   "cell_type": "code",
   "execution_count": 77,
   "metadata": {},
   "outputs": [
    {
     "data": {
      "text/plain": [
       "Call:\n",
       "globalMin.portfolio(er = retorno_medio, cov.mat = covar, shorts = short_selling)\n",
       "\n",
       "Portfolio expected return:     0.1963606 \n",
       "Portfolio standard deviation:  0.1280355 \n",
       "Portfolio weights:\n",
       "[1] 0.0000 0.2834 0.3630 0.3535 0.0000"
      ]
     },
     "metadata": {},
     "output_type": "display_data"
    }
   ],
   "source": [
    "carteira_min_risco <- globalMin.portfolio(retorno_medio, covar, shorts = short_selling)\n",
    "\n",
    "carteira_min_risco"
   ]
  },
  {
   "cell_type": "code",
   "execution_count": 78,
   "metadata": {},
   "outputs": [
    {
     "data": {
      "text/plain": [
       "Call:\n",
       "efficient.frontier(er = retorno_medio, cov.mat = covar, nport = npor, \n",
       "    shorts = short_selling)\n",
       "\n",
       "Frontier portfolios' expected returns and standard deviations\n",
       "   port 1 port 2 port 3 port 4 port 5 port 6 port 7 port 8 port 9 port 10\n",
       "ER 0.1964 0.1974 0.1984 0.1995 0.2005 0.2016 0.2026 0.2037 0.2047  0.2058\n",
       "SD 0.1280 0.1281 0.1282 0.1284 0.1287 0.1292 0.1296 0.1302 0.1309  0.1316\n",
       "   port 11 port 12 port 13 port 14 port 15 port 16 port 17 port 18 port 19\n",
       "ER  0.2068  0.2079  0.2089  0.2099  0.2110  0.2120  0.2131  0.2141  0.2152\n",
       "SD  0.1324  0.1333  0.1343  0.1354  0.1365  0.1376  0.1388  0.1400  0.1412\n",
       "   port 20 port 21 port 22 port 23 port 24 port 25 port 26 port 27 port 28\n",
       "ER  0.2162  0.2173  0.2183  0.2193  0.2204  0.2214  0.2225  0.2235  0.2246\n",
       "SD  0.1424  0.1436  0.1449  0.1461  0.1474  0.1487  0.1500  0.1514  0.1527\n",
       "   port 29 port 30 port 31 port 32 port 33 port 34 port 35 port 36 port 37\n",
       "ER  0.2256  0.2267  0.2277  0.2287  0.2298  0.2308  0.2319  0.2329  0.2340\n",
       "SD  0.1541  0.1554  0.1568  0.1582  0.1597  0.1611  0.1625  0.1640  0.1654\n",
       "   port 38 port 39 port 40 port 41 port 42 port 43 port 44 port 45 port 46\n",
       "ER  0.2350  0.2361  0.2371  0.2381  0.2392  0.2402  0.2413  0.2423  0.2434\n",
       "SD  0.1669  0.1684  0.1699  0.1714  0.1729  0.1744  0.1760  0.1775  0.1791\n",
       "   port 47 port 48 port 49 port 50 port 51 port 52 port 53 port 54 port 55\n",
       "ER  0.2444  0.2455  0.2465  0.2475  0.2486  0.2496  0.2507  0.2517  0.2528\n",
       "SD  0.1806  0.1822  0.1838  0.1854  0.1870  0.1887  0.1904  0.1921  0.1938\n",
       "   port 56 port 57 port 58 port 59 port 60 port 61 port 62 port 63 port 64\n",
       "ER  0.2538  0.2549  0.2559  0.2569   0.258  0.2590  0.2601  0.2611  0.2622\n",
       "SD  0.1956  0.1974  0.1992  0.2011   0.203  0.2049  0.2069  0.2088  0.2108\n",
       "   port 65 port 66 port 67 port 68 port 69 port 70 port 71 port 72 port 73\n",
       "ER  0.2632  0.2643  0.2653  0.2664  0.2674  0.2684  0.2695  0.2705  0.2716\n",
       "SD  0.2128  0.2149  0.2169  0.2190  0.2211  0.2235  0.2263  0.2294  0.2329\n",
       "   port 74 port 75 port 76 port 77 port 78 port 79 port 80 port 81 port 82\n",
       "ER  0.2726  0.2737  0.2747  0.2758  0.2768  0.2778  0.2789  0.2799  0.2810\n",
       "SD  0.2367  0.2408  0.2451  0.2498  0.2547  0.2599  0.2653  0.2709  0.2767\n",
       "   port 83 port 84 port 85 port 86 port 87 port 88 port 89 port 90 port 91\n",
       "ER  0.2820  0.2831  0.2841  0.2852  0.2862  0.2872  0.2883  0.2893  0.2904\n",
       "SD  0.2827  0.2889  0.2952  0.3017  0.3084  0.3152  0.3221  0.3291  0.3363\n",
       "   port 92 port 93 port 94 port 95 port 96 port 97 port 98 port 99 port 100\n",
       "ER  0.2914  0.2925  0.2935  0.2946  0.2956  0.2966  0.2977  0.2987   0.2998\n",
       "SD  0.3435  0.3509  0.3584  0.3659  0.3735  0.3813  0.3890  0.3969   0.4048"
      ]
     },
     "metadata": {},
     "output_type": "display_data"
    },
    {
     "data": {
      "text/html": [
       "<dl>\n",
       "\t<dt>$names</dt>\n",
       "\t\t<dd><style>\n",
       ".list-inline {list-style: none; margin:0; padding: 0}\n",
       ".list-inline>li {display: inline-block}\n",
       ".list-inline>li:not(:last-child)::after {content: \"\\00b7\"; padding: 0 .5ex}\n",
       "</style>\n",
       "<ol class=list-inline><li>'call'</li><li>'er'</li><li>'sd'</li><li>'weights'</li></ol>\n",
       "</dd>\n",
       "\t<dt>$class</dt>\n",
       "\t\t<dd>'Markowitz'</dd>\n",
       "</dl>\n"
      ],
      "text/latex": [
       "\\begin{description}\n",
       "\\item[\\$names] \\begin{enumerate*}\n",
       "\\item 'call'\n",
       "\\item 'er'\n",
       "\\item 'sd'\n",
       "\\item 'weights'\n",
       "\\end{enumerate*}\n",
       "\n",
       "\\item[\\$class] 'Markowitz'\n",
       "\\end{description}\n"
      ],
      "text/markdown": [
       "$names\n",
       ":   1. 'call'\n",
       "2. 'er'\n",
       "3. 'sd'\n",
       "4. 'weights'\n",
       "\n",
       "\n",
       "\n",
       "$class\n",
       ":   'Markowitz'\n",
       "\n",
       "\n"
      ],
      "text/plain": [
       "$names\n",
       "[1] \"call\"    \"er\"      \"sd\"      \"weights\"\n",
       "\n",
       "$class\n",
       "[1] \"Markowitz\"\n"
      ]
     },
     "metadata": {},
     "output_type": "display_data"
    }
   ],
   "source": [
    "npor <- 100\n",
    "fronteira_eficiente <- efficient.frontier(retorno_medio, covar, npor, shorts = short_selling)\n",
    "\n",
    "fronteira_eficiente\n",
    "\n",
    "attributes(fronteira_eficiente)"
   ]
  },
  {
   "cell_type": "code",
   "execution_count": 79,
   "metadata": {},
   "outputs": [
    {
     "data": {
      "image/png": "[encoded data removed]",
      "text/plain": [
       "Plot with title \"Efficient Frontier\""
      ]
     },
     "metadata": {
      "image/png": {
       "height": 420,
       "width": 420
      }
     },
     "output_type": "display_data"
    }
   ],
   "source": [
    "plot(fronteira_eficiente, plot.asset = TRUE,\n",
    "     col = ifelse(fronteira_eficiente$er == carteira_eficiente$er,\"red\",\n",
    "                  \"blue\"), pch = 16)\n",
    "\n",
    "points(carteira_min_risco$sd, carteira_min_risco$er, col = \"green\", pch = 10, cex = 2)\n",
    "points(carteira_eficiente$sd, carteira_eficiente$er, col = \"red\", pch = 10, cex = 2)\n",
    "\n",
    "text(carteira_min_risco$sd, carteira_min_risco$er, labels = \"Risco Mínimo\", pos = 2)\n",
    "text(carteira_eficiente$sd, carteira_eficiente$er, labels = \"Carteira Eficiente\", pos = 2)\n",
    "\n",
    "tangente <- (carteira_eficiente$er - tx_livre_risco)/carteira_eficiente$sd\n",
    "abline(a = tx_livre_risco, b = tangente, col = \"green\", lwd = 2)"
   ]
  },
  {
   "cell_type": "code",
   "execution_count": 80,
   "metadata": {},
   "outputs": [
    {
     "data": {
      "image/png": "[encoded data removed]",
      "text/plain": [
       "Plot with title \"Sharpe dos portifólios\""
      ]
     },
     "metadata": {
      "image/png": {
       "height": 420,
       "width": 420
      }
     },
     "output_type": "display_data"
    }
   ],
   "source": [
    "plot(1:npor, (fronteira_eficiente$er - tx_livre_risco)/fronteira_eficiente$sd,\n",
    "     col = \"blue\", ylab = \"Índice Sharpe\", xlab = \"Nº Portifólio\", type = 'l',\n",
    "    main = \"Sharpe dos portifólios\")\n",
    "abline(h = 0)"
   ]
  },
  {
   "cell_type": "code",
   "execution_count": null,
   "metadata": {},
   "outputs": [],
   "source": []
  }
 ],
 "metadata": {
  "kernelspec": {
   "display_name": "R",
   "language": "R",
   "name": "ir"
  },
  "language_info": {
   "codemirror_mode": "r",
   "file_extension": ".r",
   "mimetype": "text/x-r-source",
   "name": "R",
   "pygments_lexer": "r",
   "version": "4.0.2"
  }
 },
 "nbformat": 4,
 "nbformat_minor": 4
}
