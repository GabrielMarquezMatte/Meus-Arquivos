{
 "cells": [
  {
   "cell_type": "code",
   "execution_count": 1,
   "metadata": {},
   "outputs": [],
   "source": [
    "loadlibrary <- function(x){\n",
    "  for(i in x){\n",
    "    if (!require(i,character.only = TRUE)) {\n",
    "      install.packages(i, dep=TRUE)\n",
    "    } else{\n",
    "      library(i, character.only = T)\n",
    "    }\n",
    "  }\n",
    "}"
   ]
  },
  {
   "cell_type": "code",
   "execution_count": 2,
   "metadata": {},
   "outputs": [
    {
     "name": "stderr",
     "output_type": "stream",
     "text": [
      "Loading required package: IntroCompFinR\n",
      "\n",
      "Loading required package: xts\n",
      "\n",
      "Loading required package: zoo\n",
      "\n",
      "\n",
      "Attaching package: 'zoo'\n",
      "\n",
      "\n",
      "The following objects are masked from 'package:base':\n",
      "\n",
      "    as.Date, as.Date.numeric\n",
      "\n",
      "\n",
      "Loading required package: tidyquant\n",
      "\n",
      "Loading required package: lubridate\n",
      "\n",
      "\n",
      "Attaching package: 'lubridate'\n",
      "\n",
      "\n",
      "The following objects are masked from 'package:base':\n",
      "\n",
      "    date, intersect, setdiff, union\n",
      "\n",
      "\n",
      "Loading required package: PerformanceAnalytics\n",
      "\n",
      "\n",
      "Attaching package: 'PerformanceAnalytics'\n",
      "\n",
      "\n",
      "The following object is masked from 'package:graphics':\n",
      "\n",
      "    legend\n",
      "\n",
      "\n",
      "Loading required package: quantmod\n",
      "\n",
      "Loading required package: TTR\n",
      "\n",
      "Registered S3 method overwritten by 'quantmod':\n",
      "  method            from\n",
      "  as.zoo.data.frame zoo \n",
      "\n",
      "Version 0.4-0 included new data defaults. See ?getSymbols.\n",
      "\n",
      "\u001b[30m==\u001b[39m \u001b[30mNeed to Learn tidyquant?\u001b[39m \u001b[30m====================================================\u001b[39m\u001b[34m\n",
      "Business Science offers a 1-hour course - Learning Lab #9: Performance Analysis & Portfolio Optimization with tidyquant!\n",
      "\u001b[39m\u001b[34m</> Learn more at: https://university.business-science.io/p/learning-labs-pro </>\u001b[39m\n",
      "\n",
      "Loading required package: dplyr\n",
      "\n",
      "\n",
      "Attaching package: 'dplyr'\n",
      "\n",
      "\n",
      "The following objects are masked from 'package:xts':\n",
      "\n",
      "    first, last\n",
      "\n",
      "\n",
      "The following objects are masked from 'package:stats':\n",
      "\n",
      "    filter, lag\n",
      "\n",
      "\n",
      "The following objects are masked from 'package:base':\n",
      "\n",
      "    intersect, setdiff, setequal, union\n",
      "\n",
      "\n",
      "Loading required package: tidyr\n",
      "\n"
     ]
    }
   ],
   "source": [
    "pacotes <- c(\"IntroCompFinR\", \"tidyquant\", \"dplyr\", \"tidyr\")\n",
    "options(warn = -1)\n",
    "loadlibrary(pacotes)"
   ]
  },
  {
   "cell_type": "code",
   "execution_count": 143,
   "metadata": {},
   "outputs": [],
   "source": [
    "#Retorno das ações entre 2014 e 2019\n",
    "ativos <- c(\"TRPL4\", \"TAEE11\", \"COGN3\", \"ITSA4\", \"LREN3\")\n",
    "trpl_ret <- c(0.6202,0.1148,0.4727,0.0828,0.2451,0.3894)\n",
    "abev_ret <- c(-0.0101,0.1421,-0.0413,0.3390,-0.2554,0.2442)\n",
    "itsa_ret <- c(0.2110,-0.1381,0.4477,0.3907,0.3310,0.3503)\n",
    "enat_ret <- c(-0.2520,-0.1464,-0.0524,1.0703,-0.0024,0.9465)\n",
    "seer_ret <- c(0.2765,-0.7195,1.4738,0.7105,-0.4898,0.9836)\n",
    "oibr_ret <- c(-0.7472,-0.7372,0.095,0.3827,-0.5387,-0.3120)\n",
    "tcsa_ret <- c(-0.5438,-0.2432,-0.0446,-0.0374,-0.2961,0.2661)\n",
    "petr_ret <- c(-0.3783,-0.2815,1.2132,0.0829,0.4591,0.3687)\n",
    "vale_ret <- c(-0.3309,-0.3573,0.9826,0.6256,0.3111,0.0685)\n",
    "itub_ret <- c(0.2448,-0.1094,0.4903,0.2964,0.3241,0.1198)\n",
    "b3sa_ret <- c(-0.0868,0.2198,0.5525,0.4049,0.2079,0.6326)\n",
    "mglu_ret <- c(0.0380,-0.6967,5.0378,5.0921,1.2639,1.1219)\n",
    "vvar_ret <- c(-0.0646,-0.7955,1.4861,1.2123-0.4457,1.5444)\n",
    "lren_ret <- c(0.2784,0.1529,0.4116,0.7283,0.2019,0.4905)\n",
    "rent_ret <- c(0.0812,-0.2848,0.4142,1.0540,0.3613,0.6875)\n",
    "suzb_ret <- c(0.2191,0.7291,-0.2235,0.3650,1.0473,0.0534)\n",
    "egie_ret <- c(-0.0139,0.0628,0.0705,0.0931,0.2998,0.5920)\n",
    "enbr_ret <- c(-0.0906,0.3746,0.2537,0.0565,0.0930,0.5843)\n",
    "flry_ret <- c(0.0000,1.3794,0.6891,-0.3099,0.6188,0.6297)\n",
    "bbdc_ret <- c(0.2567,-0.2925,0.7608,0.3452,0.2924,0.1859)\n",
    "hype_ret <- c(-0.0577,0.3398,0.2245,0.4773,-0.1193,0.2177)\n",
    "pssa_ret <- c(-0.0259,-0.0287,0.4046,0.5575,0.2463)\n",
    "wizs_ret <- c(-0.2909,0.4966,-0.1054,-0.3719,1.3034)\n",
    "bpan_ret <- c(-0.2922,-0.2065,0.4634,0.0722,4.4923)\n",
    "abcb_ret <- c(-0.2794,0.7739,0.3336,0.0564,0.2682)\n",
    "caml_ret <- c(0.0000,0.0000,0.0000,-0.1144,-0.0799,0.3039)\n",
    "mdia_ret <- c(-0.2399,0.7503,0.3726,-0.1718,-0.1086)\n",
    "bees_ret <- c(-0.1423,3.9837,0.5007,0.4186,0.2244,0.4578)\n",
    "brsr_ret <- c(0.0632,-0.2354,0.3301,1.3937,-0.1072,0.1269)\n",
    "prio_ret <- c(-0.4923,-0.4674,0.7780,2.7696,0.2124,2.3735)\n",
    "taee_ret <- c(0.0357,-0.1184,0.2471,0.0304,0.1734,0.2578)\n",
    "cdi_ret <- c(0.1077,0.1325,0.1394,0.0990,0.0640,0.0594)\n",
    "wti_ret <- c(-0.3106,0.4365,0.1155,-0.2445,0.3624)\n",
    "gold_ret <- c(-0.0176,-0.1038,0.0843,0.1313,-0.0156,0.1833)\n",
    "mult_ret <- c(-0.0333,-0.1668,0.5842,0.2331,0.0219,0.3745)\n",
    "odpv_ret <- c(0.0493,-0.0081,0.3686,0.3128,-0.1105,0.2664)\n",
    "bitc_ret <- c(-0.5215,0.9977,0.9050,12.8961,-0.6932,0.9619)\n",
    "goog_ret <- c(0.0692,1.1769,-0.1461,0.3265,0.1626,0.3410)\n",
    "aapl_ret <- c(0.5641,0.4082,-0.0730,0.4734,0.0861,0.9635)\n",
    "amzn_ret <- c(-0.1246,2.2223,-0.0616,0.5556,0.5015,0.3061)\n",
    "doll_ret <- c(0.1249,0.4902,-0.1627,0.0178,0.1712,0.0357)\n",
    "wege_ret <- c(0.2734,-0.0221,0.0431,0.5656,-0.0636,0.9671)\n",
    "whrl_ret <- c(0.1859,-0.3655,0.3292,0.7930,0.0551,1.1939)\n",
    "brml_ret <- c(-0.0056,-0.3035,0.4174,0.2423,0.0412,0.4767)\n",
    "cple_ret <- c(0.2239,-0.3086,0.3057,0.2083,0.5085,1.2944)\n",
    "sapr_ret <- c(-0.0839,-0.3887,2.4695,0.1563,-0.0316,1.0743)\n",
    "cyre_ret <- c(-0.2111,-0.2895,0.4247,0.3118,0.2615,1.0278)\n",
    "grnd_ret <- c(-0.1076,0.1645,0.2220,0.7012,-0.0975,0.5555)\n",
    "jhsf_ret <- c(-0.4430,-0.4619,0.2160,0.3310,0.1086,2.9732)\n",
    "shul_ret <- c(-0.4548,-0.2066,0.1149,0.7156,0.4633,0.4941)\n",
    "cogn_ret <- c(0.6231,-0.3705,0.4365,0.4316,-0.5149,0.2791)"
   ]
  },
  {
   "cell_type": "code",
   "execution_count": 159,
   "metadata": {},
   "outputs": [
    {
     "name": "stderr",
     "output_type": "stream",
     "text": [
      "`summarise()` regrouping output by 'year' (override with `.groups` argument)\n",
      "\n"
     ]
    }
   ],
   "source": [
    "acoes <- c(\"TRPL4.SA\",\"PETR4.SA\", \"ITUB4.SA\", \"WEGE3.SA\",\"BRML3.SA\")\n",
    "ret_a <- tq_get(acoes, from = \"2014-01-01\", to = \"2019-12-31\") %>%\n",
    "  group_by(symbol) %>%\n",
    "  tq_transmute(select = close, mutate_fun= periodReturn, period = \"yearly\") %>%\n",
    "  mutate(year = year(date)) %>%\n",
    "  group_by(year,symbol) %>%\n",
    "  summarise(yearly.returns) %>%\n",
    "  spread(key = \"symbol\", value = \"yearly.returns\")\n",
    "ret_d <- tq_get(acoes, from = \"2014-01-01\", to = \"2019-12-31\") %>%\n",
    "  group_by(symbol) %>%\n",
    "  tq_transmute(select = close, mutate_fun = periodReturn, period = \"daily\")\n",
    "retornos_sep <- ret_d %>%\n",
    "  spread(key = \"symbol\", value = \"daily.returns\")"
   ]
  },
  {
   "cell_type": "code",
   "execution_count": 160,
   "metadata": {},
   "outputs": [
    {
     "data": {
      "text/html": [
       "<table>\n",
       "<caption>A data.frame: 6 × 5</caption>\n",
       "<thead>\n",
       "\t<tr><th scope=col>BRML3.SA</th><th scope=col>ITUB4.SA</th><th scope=col>PETR4.SA</th><th scope=col>TRPL4.SA</th><th scope=col>WEGE3.SA</th></tr>\n",
       "\t<tr><th scope=col>&lt;dbl&gt;</th><th scope=col>&lt;dbl&gt;</th><th scope=col>&lt;dbl&gt;</th><th scope=col>&lt;dbl&gt;</th><th scope=col>&lt;dbl&gt;</th></tr>\n",
       "</thead>\n",
       "<tbody>\n",
       "\t<tr><td>-0.04641358</td><td> 0.20749196</td><td>-0.40119403</td><td>0.61053374</td><td> 0.30428015</td></tr>\n",
       "\t<tr><td>-0.31608205</td><td>-0.16291952</td><td>-0.33200399</td><td>0.10121282</td><td>-0.01967470</td></tr>\n",
       "\t<tr><td> 0.39954881</td><td> 0.41416629</td><td> 1.21940299</td><td>0.42093006</td><td> 0.03679130</td></tr>\n",
       "\t<tr><td> 0.22506327</td><td> 0.25790213</td><td> 0.08271688</td><td>0.03129329</td><td> 0.55548473</td></tr>\n",
       "\t<tr><td> 0.02670856</td><td> 0.25058566</td><td> 0.40869565</td><td>0.03408072</td><td>-0.05425365</td></tr>\n",
       "\t<tr><td> 0.38179028</td><td> 0.04507037</td><td> 0.33068783</td><td>0.30557965</td><td> 0.97605462</td></tr>\n",
       "</tbody>\n",
       "</table>\n"
      ],
      "text/latex": [
       "A data.frame: 6 × 5\n",
       "\\begin{tabular}{lllll}\n",
       " BRML3.SA & ITUB4.SA & PETR4.SA & TRPL4.SA & WEGE3.SA\\\\\n",
       " <dbl> & <dbl> & <dbl> & <dbl> & <dbl>\\\\\n",
       "\\hline\n",
       "\t -0.04641358 &  0.20749196 & -0.40119403 & 0.61053374 &  0.30428015\\\\\n",
       "\t -0.31608205 & -0.16291952 & -0.33200399 & 0.10121282 & -0.01967470\\\\\n",
       "\t  0.39954881 &  0.41416629 &  1.21940299 & 0.42093006 &  0.03679130\\\\\n",
       "\t  0.22506327 &  0.25790213 &  0.08271688 & 0.03129329 &  0.55548473\\\\\n",
       "\t  0.02670856 &  0.25058566 &  0.40869565 & 0.03408072 & -0.05425365\\\\\n",
       "\t  0.38179028 &  0.04507037 &  0.33068783 & 0.30557965 &  0.97605462\\\\\n",
       "\\end{tabular}\n"
      ],
      "text/markdown": [
       "\n",
       "A data.frame: 6 × 5\n",
       "\n",
       "| BRML3.SA &lt;dbl&gt; | ITUB4.SA &lt;dbl&gt; | PETR4.SA &lt;dbl&gt; | TRPL4.SA &lt;dbl&gt; | WEGE3.SA &lt;dbl&gt; |\n",
       "|---|---|---|---|---|\n",
       "| -0.04641358 |  0.20749196 | -0.40119403 | 0.61053374 |  0.30428015 |\n",
       "| -0.31608205 | -0.16291952 | -0.33200399 | 0.10121282 | -0.01967470 |\n",
       "|  0.39954881 |  0.41416629 |  1.21940299 | 0.42093006 |  0.03679130 |\n",
       "|  0.22506327 |  0.25790213 |  0.08271688 | 0.03129329 |  0.55548473 |\n",
       "|  0.02670856 |  0.25058566 |  0.40869565 | 0.03408072 | -0.05425365 |\n",
       "|  0.38179028 |  0.04507037 |  0.33068783 | 0.30557965 |  0.97605462 |\n",
       "\n"
      ],
      "text/plain": [
       "  BRML3.SA    ITUB4.SA    PETR4.SA    TRPL4.SA   WEGE3.SA   \n",
       "1 -0.04641358  0.20749196 -0.40119403 0.61053374  0.30428015\n",
       "2 -0.31608205 -0.16291952 -0.33200399 0.10121282 -0.01967470\n",
       "3  0.39954881  0.41416629  1.21940299 0.42093006  0.03679130\n",
       "4  0.22506327  0.25790213  0.08271688 0.03129329  0.55548473\n",
       "5  0.02670856  0.25058566  0.40869565 0.03408072 -0.05425365\n",
       "6  0.38179028  0.04507037  0.33068783 0.30557965  0.97605462"
      ]
     },
     "metadata": {},
     "output_type": "display_data"
    }
   ],
   "source": [
    "retornos <- cbind(ret_a[,2:ncol(ret_a)])\n",
    "retornos"
   ]
  },
  {
   "cell_type": "code",
   "execution_count": 161,
   "metadata": {},
   "outputs": [
    {
     "data": {
      "text/html": [
       "<table>\n",
       "<caption>A matrix: 5 × 1 of type dbl</caption>\n",
       "<tbody>\n",
       "\t<tr><th scope=row>BRML3.SA</th><td>0.1117692</td></tr>\n",
       "\t<tr><th scope=row>ITUB4.SA</th><td>0.1687161</td></tr>\n",
       "\t<tr><th scope=row>PETR4.SA</th><td>0.2180509</td></tr>\n",
       "\t<tr><th scope=row>TRPL4.SA</th><td>0.2506050</td></tr>\n",
       "\t<tr><th scope=row>WEGE3.SA</th><td>0.2997804</td></tr>\n",
       "</tbody>\n",
       "</table>\n"
      ],
      "text/latex": [
       "A matrix: 5 × 1 of type dbl\n",
       "\\begin{tabular}{r|l}\n",
       "\tBRML3.SA & 0.1117692\\\\\n",
       "\tITUB4.SA & 0.1687161\\\\\n",
       "\tPETR4.SA & 0.2180509\\\\\n",
       "\tTRPL4.SA & 0.2506050\\\\\n",
       "\tWEGE3.SA & 0.2997804\\\\\n",
       "\\end{tabular}\n"
      ],
      "text/markdown": [
       "\n",
       "A matrix: 5 × 1 of type dbl\n",
       "\n",
       "| BRML3.SA | 0.1117692 |\n",
       "| ITUB4.SA | 0.1687161 |\n",
       "| PETR4.SA | 0.2180509 |\n",
       "| TRPL4.SA | 0.2506050 |\n",
       "| WEGE3.SA | 0.2997804 |\n",
       "\n"
      ],
      "text/plain": [
       "         [,1]     \n",
       "BRML3.SA 0.1117692\n",
       "ITUB4.SA 0.1687161\n",
       "PETR4.SA 0.2180509\n",
       "TRPL4.SA 0.2506050\n",
       "WEGE3.SA 0.2997804"
      ]
     },
     "metadata": {},
     "output_type": "display_data"
    }
   ],
   "source": [
    "retorno_medio <- matrix(0, ncol = 1, nrow = ncol(retornos))\n",
    "for(i in 1:ncol(retornos)){\n",
    "    retorno_medio[i,] <- rbind(mean(retornos[,i], na.rm = T))\n",
    "}\n",
    "rownames(retorno_medio) <- sort(acoes)\n",
    "retorno_medio"
   ]
  },
  {
   "cell_type": "code",
   "execution_count": 162,
   "metadata": {},
   "outputs": [
    {
     "data": {
      "text/html": [
       "<table>\n",
       "<caption>A matrix: 5 × 5 of type dbl</caption>\n",
       "<thead>\n",
       "\t<tr><th></th><th scope=col>BRML3.SA</th><th scope=col>ITUB4.SA</th><th scope=col>PETR4.SA</th><th scope=col>TRPL4.SA</th><th scope=col>WEGE3.SA</th></tr>\n",
       "</thead>\n",
       "<tbody>\n",
       "\t<tr><th scope=row>BRML3.SA</th><td>0.07677557</td><td> 0.035229204</td><td> 0.124065941</td><td>0.012882895</td><td> 0.060395406</td></tr>\n",
       "\t<tr><th scope=row>ITUB4.SA</th><td>0.03522920</td><td> 0.040335318</td><td> 0.078759825</td><td>0.012244592</td><td>-0.009646266</td></tr>\n",
       "\t<tr><th scope=row>PETR4.SA</th><td>0.12406594</td><td> 0.078759825</td><td> 0.351215692</td><td>0.004887699</td><td>-0.023268012</td></tr>\n",
       "\t<tr><th scope=row>TRPL4.SA</th><td>0.01288289</td><td> 0.012244592</td><td> 0.004887699</td><td>0.055775990</td><td> 0.012461201</td></tr>\n",
       "\t<tr><th scope=row>WEGE3.SA</th><td>0.06039541</td><td>-0.009646266</td><td>-0.023268012</td><td>0.012461201</td><td> 0.163861341</td></tr>\n",
       "</tbody>\n",
       "</table>\n"
      ],
      "text/latex": [
       "A matrix: 5 × 5 of type dbl\n",
       "\\begin{tabular}{r|lllll}\n",
       "  & BRML3.SA & ITUB4.SA & PETR4.SA & TRPL4.SA & WEGE3.SA\\\\\n",
       "\\hline\n",
       "\tBRML3.SA & 0.07677557 &  0.035229204 &  0.124065941 & 0.012882895 &  0.060395406\\\\\n",
       "\tITUB4.SA & 0.03522920 &  0.040335318 &  0.078759825 & 0.012244592 & -0.009646266\\\\\n",
       "\tPETR4.SA & 0.12406594 &  0.078759825 &  0.351215692 & 0.004887699 & -0.023268012\\\\\n",
       "\tTRPL4.SA & 0.01288289 &  0.012244592 &  0.004887699 & 0.055775990 &  0.012461201\\\\\n",
       "\tWEGE3.SA & 0.06039541 & -0.009646266 & -0.023268012 & 0.012461201 &  0.163861341\\\\\n",
       "\\end{tabular}\n"
      ],
      "text/markdown": [
       "\n",
       "A matrix: 5 × 5 of type dbl\n",
       "\n",
       "| <!--/--> | BRML3.SA | ITUB4.SA | PETR4.SA | TRPL4.SA | WEGE3.SA |\n",
       "|---|---|---|---|---|---|\n",
       "| BRML3.SA | 0.07677557 |  0.035229204 |  0.124065941 | 0.012882895 |  0.060395406 |\n",
       "| ITUB4.SA | 0.03522920 |  0.040335318 |  0.078759825 | 0.012244592 | -0.009646266 |\n",
       "| PETR4.SA | 0.12406594 |  0.078759825 |  0.351215692 | 0.004887699 | -0.023268012 |\n",
       "| TRPL4.SA | 0.01288289 |  0.012244592 |  0.004887699 | 0.055775990 |  0.012461201 |\n",
       "| WEGE3.SA | 0.06039541 | -0.009646266 | -0.023268012 | 0.012461201 |  0.163861341 |\n",
       "\n"
      ],
      "text/plain": [
       "         BRML3.SA   ITUB4.SA     PETR4.SA     TRPL4.SA    WEGE3.SA    \n",
       "BRML3.SA 0.07677557  0.035229204  0.124065941 0.012882895  0.060395406\n",
       "ITUB4.SA 0.03522920  0.040335318  0.078759825 0.012244592 -0.009646266\n",
       "PETR4.SA 0.12406594  0.078759825  0.351215692 0.004887699 -0.023268012\n",
       "TRPL4.SA 0.01288289  0.012244592  0.004887699 0.055775990  0.012461201\n",
       "WEGE3.SA 0.06039541 -0.009646266 -0.023268012 0.012461201  0.163861341"
      ]
     },
     "metadata": {},
     "output_type": "display_data"
    }
   ],
   "source": [
    "covar <- cov(ret_a[,2:ncol(ret_a)], use = \"na.or.complete\")\n",
    "covar"
   ]
  },
  {
   "cell_type": "code",
   "execution_count": 163,
   "metadata": {},
   "outputs": [
    {
     "data": {
      "text/html": [
       "<table>\n",
       "<caption>A matrix: 5 × 5 of type dbl</caption>\n",
       "<thead>\n",
       "\t<tr><th></th><th scope=col>BRML3.SA</th><th scope=col>ITUB4.SA</th><th scope=col>PETR4.SA</th><th scope=col>TRPL4.SA</th><th scope=col>WEGE3.SA</th></tr>\n",
       "</thead>\n",
       "<tbody>\n",
       "\t<tr><th scope=row>BRML3.SA</th><td>1.0000000</td><td>0.5840671</td><td>0.5125661</td><td>0.2893733</td><td>0.2938889</td></tr>\n",
       "\t<tr><th scope=row>ITUB4.SA</th><td>0.5840671</td><td>1.0000000</td><td>0.6124810</td><td>0.3501139</td><td>0.3663329</td></tr>\n",
       "\t<tr><th scope=row>PETR4.SA</th><td>0.5125661</td><td>0.6124810</td><td>1.0000000</td><td>0.2427224</td><td>0.2516550</td></tr>\n",
       "\t<tr><th scope=row>TRPL4.SA</th><td>0.2893733</td><td>0.3501139</td><td>0.2427224</td><td>1.0000000</td><td>0.1621786</td></tr>\n",
       "\t<tr><th scope=row>WEGE3.SA</th><td>0.2938889</td><td>0.3663329</td><td>0.2516550</td><td>0.1621786</td><td>1.0000000</td></tr>\n",
       "</tbody>\n",
       "</table>\n"
      ],
      "text/latex": [
       "A matrix: 5 × 5 of type dbl\n",
       "\\begin{tabular}{r|lllll}\n",
       "  & BRML3.SA & ITUB4.SA & PETR4.SA & TRPL4.SA & WEGE3.SA\\\\\n",
       "\\hline\n",
       "\tBRML3.SA & 1.0000000 & 0.5840671 & 0.5125661 & 0.2893733 & 0.2938889\\\\\n",
       "\tITUB4.SA & 0.5840671 & 1.0000000 & 0.6124810 & 0.3501139 & 0.3663329\\\\\n",
       "\tPETR4.SA & 0.5125661 & 0.6124810 & 1.0000000 & 0.2427224 & 0.2516550\\\\\n",
       "\tTRPL4.SA & 0.2893733 & 0.3501139 & 0.2427224 & 1.0000000 & 0.1621786\\\\\n",
       "\tWEGE3.SA & 0.2938889 & 0.3663329 & 0.2516550 & 0.1621786 & 1.0000000\\\\\n",
       "\\end{tabular}\n"
      ],
      "text/markdown": [
       "\n",
       "A matrix: 5 × 5 of type dbl\n",
       "\n",
       "| <!--/--> | BRML3.SA | ITUB4.SA | PETR4.SA | TRPL4.SA | WEGE3.SA |\n",
       "|---|---|---|---|---|---|\n",
       "| BRML3.SA | 1.0000000 | 0.5840671 | 0.5125661 | 0.2893733 | 0.2938889 |\n",
       "| ITUB4.SA | 0.5840671 | 1.0000000 | 0.6124810 | 0.3501139 | 0.3663329 |\n",
       "| PETR4.SA | 0.5125661 | 0.6124810 | 1.0000000 | 0.2427224 | 0.2516550 |\n",
       "| TRPL4.SA | 0.2893733 | 0.3501139 | 0.2427224 | 1.0000000 | 0.1621786 |\n",
       "| WEGE3.SA | 0.2938889 | 0.3663329 | 0.2516550 | 0.1621786 | 1.0000000 |\n",
       "\n"
      ],
      "text/plain": [
       "         BRML3.SA  ITUB4.SA  PETR4.SA  TRPL4.SA  WEGE3.SA \n",
       "BRML3.SA 1.0000000 0.5840671 0.5125661 0.2893733 0.2938889\n",
       "ITUB4.SA 0.5840671 1.0000000 0.6124810 0.3501139 0.3663329\n",
       "PETR4.SA 0.5125661 0.6124810 1.0000000 0.2427224 0.2516550\n",
       "TRPL4.SA 0.2893733 0.3501139 0.2427224 1.0000000 0.1621786\n",
       "WEGE3.SA 0.2938889 0.3663329 0.2516550 0.1621786 1.0000000"
      ]
     },
     "metadata": {},
     "output_type": "display_data"
    }
   ],
   "source": [
    "matriz_cor <- cor(retornos_sep[2:ncol(retornos_sep)], use = \"na.or.complete\")\n",
    "matriz_cor"
   ]
  },
  {
   "cell_type": "code",
   "execution_count": 164,
   "metadata": {},
   "outputs": [],
   "source": [
    "tx_livre_risco <- 0.0225"
   ]
  },
  {
   "cell_type": "code",
   "execution_count": 165,
   "metadata": {},
   "outputs": [],
   "source": [
    "short_selling <- F"
   ]
  },
  {
   "cell_type": "code",
   "execution_count": 166,
   "metadata": {},
   "outputs": [
    {
     "data": {
      "text/plain": [
       "Call:\n",
       "tangency.portfolio(er = retorno_medio, cov.mat = covar, risk.free = tx_livre_risco, \n",
       "    shorts = short_selling)\n",
       "\n",
       "Portfolio expected return:     0.2284238 \n",
       "Portfolio standard deviation:  0.1626882 \n",
       "Portfolio weights:\n",
       "[1] 0.0000 0.3977 0.0000 0.3912 0.2112"
      ]
     },
     "metadata": {},
     "output_type": "display_data"
    }
   ],
   "source": [
    "carteira_eficiente <- tangency.portfolio(retorno_medio, covar, tx_livre_risco, shorts = short_selling)\n",
    "\n",
    "carteira_eficiente"
   ]
  },
  {
   "cell_type": "code",
   "execution_count": 167,
   "metadata": {},
   "outputs": [
    {
     "data": {
      "text/html": [
       "1.26575793634418"
      ],
      "text/latex": [
       "1.26575793634418"
      ],
      "text/markdown": [
       "1.26575793634418"
      ],
      "text/plain": [
       "[1] 1.265758"
      ]
     },
     "metadata": {},
     "output_type": "display_data"
    }
   ],
   "source": [
    "sharpe <- (carteira_eficiente$er-tx_livre_risco)/carteira_eficiente$sd\n",
    "sharpe"
   ]
  },
  {
   "cell_type": "code",
   "execution_count": 168,
   "metadata": {},
   "outputs": [
    {
     "data": {
      "text/plain": [
       "Call:\n",
       "globalMin.portfolio(er = retorno_medio, cov.mat = covar, shorts = short_selling)\n",
       "\n",
       "Portfolio expected return:     0.2126849 \n",
       "Portfolio standard deviation:  0.1563473 \n",
       "Portfolio weights:\n",
       "[1] 0.0000 0.5597 0.0000 0.2795 0.1609"
      ]
     },
     "metadata": {},
     "output_type": "display_data"
    }
   ],
   "source": [
    "carteira_min_risco <- globalMin.portfolio(retorno_medio, covar, shorts = short_selling)\n",
    "\n",
    "carteira_min_risco"
   ]
  },
  {
   "cell_type": "code",
   "execution_count": 169,
   "metadata": {},
   "outputs": [
    {
     "data": {
      "text/plain": [
       "Call:\n",
       "efficient.frontier(er = retorno_medio, cov.mat = covar, nport = npor, \n",
       "    shorts = short_selling)\n",
       "\n",
       "Frontier portfolios' expected returns and standard deviations\n",
       "   port 1 port 2 port 3 port 4 port 5 port 6 port 7 port 8 port 9 port 10\n",
       "ER 0.2127 0.2136 0.2144 0.2153 0.2162 0.2171 0.2180 0.2188 0.2197  0.2206\n",
       "SD 0.1563 0.1564 0.1564 0.1565 0.1567 0.1569 0.1571 0.1573 0.1576  0.1580\n",
       "   port 11 port 12 port 13 port 14 port 15 port 16 port 17 port 18 port 19\n",
       "ER  0.2215  0.2224  0.2232  0.2241  0.2250  0.2259  0.2268  0.2276  0.2285\n",
       "SD  0.1584  0.1588  0.1592  0.1597  0.1603  0.1608  0.1614  0.1621  0.1628\n",
       "   port 20 port 21 port 22 port 23 port 24 port 25 port 26 port 27 port 28\n",
       "ER  0.2294  0.2303  0.2312  0.2320  0.2329  0.2338  0.2347  0.2356  0.2364\n",
       "SD  0.1635  0.1642  0.1650  0.1658  0.1667  0.1676  0.1685  0.1694  0.1703\n",
       "   port 29 port 30 port 31 port 32 port 33 port 34 port 35 port 36 port 37\n",
       "ER  0.2373  0.2382  0.2391  0.2400  0.2408  0.2417  0.2426  0.2435  0.2444\n",
       "SD  0.1712  0.1722  0.1732  0.1742  0.1752  0.1763  0.1773  0.1784  0.1795\n",
       "   port 38 port 39 port 40 port 41 port 42 port 43 port 44 port 45 port 46\n",
       "ER  0.2452  0.2461  0.2470  0.2479  0.2488  0.2496  0.2505  0.2514  0.2523\n",
       "SD  0.1806  0.1818  0.1829  0.1841  0.1853  0.1865  0.1877  0.1889  0.1901\n",
       "   port 47 port 48 port 49 port 50 port 51 port 52 port 53 port 54 port 55\n",
       "ER  0.2532  0.2540  0.2549  0.2558  0.2567  0.2576  0.2584  0.2593  0.2602\n",
       "SD  0.1914  0.1926  0.1939  0.1952  0.1965  0.1979  0.1992  0.2005  0.2019\n",
       "   port 56 port 57 port 58 port 59 port 60 port 61 port 62 port 63 port 64\n",
       "ER  0.2611  0.2620  0.2628  0.2637  0.2646  0.2655  0.2663  0.2672  0.2681\n",
       "SD  0.2033  0.2046  0.2061  0.2077  0.2096  0.2117  0.2140  0.2164  0.2191\n",
       "   port 65 port 66 port 67 port 68 port 69 port 70 port 71 port 72 port 73\n",
       "ER   0.269  0.2699  0.2707  0.2716  0.2725  0.2734  0.2743  0.2751   0.276\n",
       "SD   0.222  0.2251  0.2283  0.2317  0.2353  0.2390  0.2428  0.2468   0.251\n",
       "   port 74 port 75 port 76 port 77 port 78 port 79 port 80 port 81 port 82\n",
       "ER  0.2769  0.2778  0.2787  0.2795  0.2804  0.2813  0.2822  0.2831  0.2839\n",
       "SD  0.2552  0.2596  0.2641  0.2688  0.2736  0.2785  0.2836  0.2888  0.2942\n",
       "   port 83 port 84 port 85 port 86 port 87 port 88 port 89 port 90 port 91\n",
       "ER  0.2848  0.2857  0.2866  0.2875  0.2883  0.2892  0.2901  0.2910  0.2919\n",
       "SD  0.2996  0.3052  0.3108  0.3166  0.3224  0.3284  0.3344  0.3405  0.3466\n",
       "   port 92 port 93 port 94 port 95 port 96 port 97 port 98 port 99 port 100\n",
       "ER  0.2927  0.2936  0.2945  0.2954  0.2963  0.2971  0.2980  0.2989   0.2998\n",
       "SD  0.3529  0.3592  0.3655  0.3719  0.3784  0.3849  0.3915  0.3981   0.4048"
      ]
     },
     "metadata": {},
     "output_type": "display_data"
    },
    {
     "data": {
      "text/html": [
       "<dl>\n",
       "\t<dt>$names</dt>\n",
       "\t\t<dd><style>\n",
       ".list-inline {list-style: none; margin:0; padding: 0}\n",
       ".list-inline>li {display: inline-block}\n",
       ".list-inline>li:not(:last-child)::after {content: \"\\00b7\"; padding: 0 .5ex}\n",
       "</style>\n",
       "<ol class=list-inline><li>'call'</li><li>'er'</li><li>'sd'</li><li>'weights'</li></ol>\n",
       "</dd>\n",
       "\t<dt>$class</dt>\n",
       "\t\t<dd>'Markowitz'</dd>\n",
       "</dl>\n"
      ],
      "text/latex": [
       "\\begin{description}\n",
       "\\item[\\$names] \\begin{enumerate*}\n",
       "\\item 'call'\n",
       "\\item 'er'\n",
       "\\item 'sd'\n",
       "\\item 'weights'\n",
       "\\end{enumerate*}\n",
       "\n",
       "\\item[\\$class] 'Markowitz'\n",
       "\\end{description}\n"
      ],
      "text/markdown": [
       "$names\n",
       ":   1. 'call'\n",
       "2. 'er'\n",
       "3. 'sd'\n",
       "4. 'weights'\n",
       "\n",
       "\n",
       "\n",
       "$class\n",
       ":   'Markowitz'\n",
       "\n",
       "\n"
      ],
      "text/plain": [
       "$names\n",
       "[1] \"call\"    \"er\"      \"sd\"      \"weights\"\n",
       "\n",
       "$class\n",
       "[1] \"Markowitz\"\n"
      ]
     },
     "metadata": {},
     "output_type": "display_data"
    }
   ],
   "source": [
    "npor <- 100\n",
    "fronteira_eficiente <- efficient.frontier(retorno_medio, covar, npor, shorts = short_selling)\n",
    "\n",
    "fronteira_eficiente\n",
    "\n",
    "attributes(fronteira_eficiente)"
   ]
  },
  {
   "cell_type": "code",
   "execution_count": 170,
   "metadata": {},
   "outputs": [
    {
     "data": {
      "image/png": "[encoded data removed]",
      "text/plain": [
       "Plot with title \"Efficient Frontier\""
      ]
     },
     "metadata": {
      "image/png": {
       "height": 420,
       "width": 420
      },
      "text/plain": {
       "height": 420,
       "width": 420
      }
     },
     "output_type": "display_data"
    }
   ],
   "source": [
    "plot(fronteira_eficiente, plot.asset = TRUE, col = \"blue\", pch = 16)\n",
    "\n",
    "points(carteira_min_risco$sd, carteira_min_risco$er, col = \"green\", pch = 10, cex = 2)\n",
    "points(carteira_eficiente$sd, carteira_eficiente$er, col = \"red\", pch = 10, cex = 2)\n",
    "\n",
    "text(carteira_min_risco$sd, carteira_min_risco$er, labels = \"Risco Mínimo\", pos = 2)\n",
    "text(carteira_eficiente$sd, carteira_eficiente$er, labels = \"Carteira Eficiente\", pos = 2)\n",
    "\n",
    "tangente <- (carteira_eficiente$er - tx_livre_risco)/carteira_eficiente$sd\n",
    "abline(a = tx_livre_risco, b = tangente, col = \"green\", lwd = 2)"
   ]
  },
  {
   "cell_type": "code",
   "execution_count": 171,
   "metadata": {},
   "outputs": [
    {
     "data": {
      "image/png": "[encoded data removed]",
      "text/plain": [
       "Plot with title \"Sharpe dos portifólios\""
      ]
     },
     "metadata": {
      "image/png": {
       "height": 420,
       "width": 420
      },
      "text/plain": {
       "height": 420,
       "width": 420
      }
     },
     "output_type": "display_data"
    }
   ],
   "source": [
    "plot(1:npor, (fronteira_eficiente$er - tx_livre_risco)/fronteira_eficiente$sd,\n",
    "     col = \"blue\", ylab = \"Índice Sharpe\", xlab = \"Nº Portifólio\", type = 'l',\n",
    "    main = \"Sharpe dos portifólios\")\n",
    "abline(h = 0)"
   ]
  },
  {
   "cell_type": "code",
   "execution_count": null,
   "metadata": {},
   "outputs": [],
   "source": []
  }
 ],
 "metadata": {
  "kernelspec": {
   "display_name": "R",
   "language": "R",
   "name": "ir"
  },
  "language_info": {
   "codemirror_mode": "r",
   "file_extension": ".r",
   "mimetype": "text/x-r-source",
   "name": "R",
   "pygments_lexer": "r",
   "version": "4.0.1"
  }
 },
 "nbformat": 4,
 "nbformat_minor": 4
}
