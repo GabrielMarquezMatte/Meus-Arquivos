{
 "cells": [
  {
   "cell_type": "code",
   "execution_count": 1,
   "metadata": {},
   "outputs": [],
   "source": [
    "#install.packages(\"quadprog\")"
   ]
  },
  {
   "cell_type": "code",
   "execution_count": 2,
   "metadata": {},
   "outputs": [],
   "source": [
    "#install.packages(\"PerformanceAnalytics\")"
   ]
  },
  {
   "cell_type": "code",
   "execution_count": 3,
   "metadata": {},
   "outputs": [],
   "source": [
    "#install.packages(\"IntroCompFinR\", repos=\"http://R-Forge.R-project.org\")"
   ]
  },
  {
   "cell_type": "code",
   "execution_count": 1,
   "metadata": {},
   "outputs": [
    {
     "name": "stderr",
     "output_type": "stream",
     "text": [
      "Warning message:\n",
      "\"package 'IntroCompFinR' was built under R version 3.6.3\"Loading required package: xts\n",
      "Warning message:\n",
      "\"package 'xts' was built under R version 3.6.3\"Loading required package: zoo\n",
      "Warning message:\n",
      "\"package 'zoo' was built under R version 3.6.3\"\n",
      "Attaching package: 'zoo'\n",
      "\n",
      "The following objects are masked from 'package:base':\n",
      "\n",
      "    as.Date, as.Date.numeric\n",
      "\n"
     ]
    }
   ],
   "source": [
    "library(IntroCompFinR)"
   ]
  },
  {
   "cell_type": "code",
   "execution_count": 1,
   "metadata": {},
   "outputs": [],
   "source": [
    "ativos <- c(\"ITSA4\", \"ABEV3\", \"TRPL4\", \"ENAT3\", \"SEER3\")\n",
    "trpl_ret <- c(0.6202,0.1148,0.4727,0.0828,0.2451,0.3894)\n",
    "abev_ret <- c(-0.0101,0.1421,-0.0413,0.3390,-0.2554,0.2442)\n",
    "itsa_ret <- c(0.2110,-0.1381,0.4477,0.3907,0.3310,0.3503)\n",
    "enat_ret <- c(-0.2520,-0.1464,-0.0524,1.0703,-0.0024,0.9465)\n",
    "seer_ret <- c(0.2765,-0.7195,1.4738,0.7105,-0.4898,0.9836)\n",
    "oibr_ret <- c(-0.7472,-0.7372,0.095,0.3827,-0.5387,-0.3120)\n",
    "tcsa_ret <- c(-0.5438,-0.2432,-0.0446,-0.0374,-0.2961,0.2661)\n",
    "petr_ret <- c(-0.3783,-0.2815,1.2132,0.0829,0.4591,0.3687)\n",
    "vale_ret <- c(-0.3309,-0.3573,0.9826,0.6256,0.3111,0.0685)\n",
    "itub_ret <- c(0.2448,-0.1094,0.4903,0.2964,0.3241,0.1198)\n",
    "b3sa_ret <- c(-0.0868,0.2198,0.5525,0.4049,0.2079,0.6326)\n",
    "mglu_ret <- c(0.0380,-0.6967,5.0378,5.0921,1.2639,1.1219)\n",
    "vvar_ret <- c(-0.0646,-0.7955,1.4861,1.2123-0.4457,1.5444)\n",
    "lren_ret <- c(0.2784,0.1529,0.4116,0.7283,0.2019,0.4905)\n",
    "rent_ret <- c(0.0812,-0.2848,0.4142,1.0540,0.3613,0.6875)\n",
    "suzb_ret <- c(0.2191,0.7291,-0.2235,0.3650,1.0473,0.0534)\n",
    "egie_ret <- c(-0.0139,0.0628,0.0705,0.0931,0.2998,0.5920)\n",
    "enbr_ret <- c(-0.0906,0.3746,0.2537,0.0565,0.0930,0.5843)\n",
    "flry_ret <- c(0,1.3794,0.6891,-0.3099,0.6188)\n",
    "hype_ret <- c(-0.0577,0.3398,0.2245,0.4773,-0.1193,0.2177)\n",
    "pssa_ret <- c(-0.0259,-0.0287,0.4046,0.5575,0.2463)\n",
    "wizs_ret <- c(-0.2909,0.4966,-0.1054,-0.3719,1.3034)\n",
    "bpan_ret <- c(-0.2922,-0.2065,0.4634,0.0722,4.4923)\n",
    "abcb_ret <- c(-0.2794,0.7739,0.3336,0.0564,0.2682)\n",
    "caml_ret <- c(0,0,0,-0.1144,-0.0799,0.3039)\n",
    "mdia_ret <- c(-0.2399,0.7503,0.3726,-0.1718,-0.1086)\n",
    "bees_ret <- c(-0.1423,3.9837,0.5007,0.4186,0.2244,0.4578)\n",
    "brsr_ret <- c(-0.2354,0.3301,1.3937,-0.1072,0.1269)\n",
    "prio_ret <- c(-0.4923,-0.4674,0.7780,2.7696,0.2124,2.3735)\n",
    "taee_ret <- c(0.0357,-0.1184,0.2471,0.0304,0.1734,0.2578)\n",
    "cdi_ret <- c(0.1077,0.1325,0.1394,0.0990,0.0640,0.0594)\n",
    "wti_ret <- c(-0.3106,0.4365,0.1155,-0.2445,0.3624)\n",
    "gold_ret <- c(-0.0176,-0.1038,0.0843,0.1313,-0.0156,0.1833)\n",
    "ficverde_ret <- c(0.4727,-0.1682,0.1463,0.064,0.2586)\n",
    "mult_ret <- c(-0.0333,-0.1668,0.5842,0.2331,0.0219,0.3745)\n",
    "odpv_ret <- c(0.0493,-0.0081,0.3686,0.3128,-0.1105,0.2664)\n",
    "bitc_ret <- c(-0.5215,0.9977,0.9050,12.8961,-0.6932,0.9619)\n",
    "goog_ret <- c(0.0692,1.1769,-0.1461,0.3265,0.1626,0.3410)\n",
    "aapl_ret <- c(0.5641,0.4082,-0.0730,0.4734,0.0861,0.9635)\n",
    "amzn_ret <- c(-0.1246,2.2223,-0.0616,0.5556,0.5015,0.3061)\n",
    "doll_ret <- c(0.1249,0.4902,-0.1627,0.0178,0.1712,0.0357)\n",
    "wege_ret <- c(0.2734,-0.0221,0.0431,0.5656,-0.0636,0.9671)\n",
    "whrl_ret <- c(0.1859,-0.3655,0.3292,0.7930,0.0551,1.1939)\n",
    "brml_ret <- c(-0.0056,-0.3035,0.4174,0.2423,0.0412,0.4767)"
   ]
  },
  {
   "cell_type": "code",
   "execution_count": 2,
   "metadata": {},
   "outputs": [
    {
     "data": {
      "text/html": [
       "<table>\n",
       "<caption>A matrix: 6 × 5 of type dbl</caption>\n",
       "<thead>\n",
       "\t<tr><th scope=col>ITSA4</th><th scope=col>ABEV3</th><th scope=col>TRPL4</th><th scope=col>ENAT3</th><th scope=col>SEER3</th></tr>\n",
       "</thead>\n",
       "<tbody>\n",
       "\t<tr><td> 0.2110</td><td>-0.0101</td><td>0.6202</td><td>-0.2520</td><td> 0.2765</td></tr>\n",
       "\t<tr><td>-0.1381</td><td> 0.1421</td><td>0.1148</td><td>-0.1464</td><td>-0.7195</td></tr>\n",
       "\t<tr><td> 0.4477</td><td>-0.0413</td><td>0.4727</td><td>-0.0524</td><td> 1.4738</td></tr>\n",
       "\t<tr><td> 0.3907</td><td> 0.3390</td><td>0.0828</td><td> 1.0703</td><td> 0.7105</td></tr>\n",
       "\t<tr><td> 0.3310</td><td>-0.2554</td><td>0.2451</td><td>-0.0024</td><td>-0.4898</td></tr>\n",
       "\t<tr><td> 0.3503</td><td> 0.2442</td><td>0.3894</td><td> 0.9465</td><td> 0.9836</td></tr>\n",
       "</tbody>\n",
       "</table>\n"
      ],
      "text/latex": [
       "A matrix: 6 × 5 of type dbl\n",
       "\\begin{tabular}{lllll}\n",
       " ITSA4 & ABEV3 & TRPL4 & ENAT3 & SEER3\\\\\n",
       "\\hline\n",
       "\t  0.2110 & -0.0101 & 0.6202 & -0.2520 &  0.2765\\\\\n",
       "\t -0.1381 &  0.1421 & 0.1148 & -0.1464 & -0.7195\\\\\n",
       "\t  0.4477 & -0.0413 & 0.4727 & -0.0524 &  1.4738\\\\\n",
       "\t  0.3907 &  0.3390 & 0.0828 &  1.0703 &  0.7105\\\\\n",
       "\t  0.3310 & -0.2554 & 0.2451 & -0.0024 & -0.4898\\\\\n",
       "\t  0.3503 &  0.2442 & 0.3894 &  0.9465 &  0.9836\\\\\n",
       "\\end{tabular}\n"
      ],
      "text/markdown": [
       "\n",
       "A matrix: 6 × 5 of type dbl\n",
       "\n",
       "| ITSA4 | ABEV3 | TRPL4 | ENAT3 | SEER3 |\n",
       "|---|---|---|---|---|\n",
       "|  0.2110 | -0.0101 | 0.6202 | -0.2520 |  0.2765 |\n",
       "| -0.1381 |  0.1421 | 0.1148 | -0.1464 | -0.7195 |\n",
       "|  0.4477 | -0.0413 | 0.4727 | -0.0524 |  1.4738 |\n",
       "|  0.3907 |  0.3390 | 0.0828 |  1.0703 |  0.7105 |\n",
       "|  0.3310 | -0.2554 | 0.2451 | -0.0024 | -0.4898 |\n",
       "|  0.3503 |  0.2442 | 0.3894 |  0.9465 |  0.9836 |\n",
       "\n"
      ],
      "text/plain": [
       "     ITSA4   ABEV3   TRPL4  ENAT3   SEER3  \n",
       "[1,]  0.2110 -0.0101 0.6202 -0.2520  0.2765\n",
       "[2,] -0.1381  0.1421 0.1148 -0.1464 -0.7195\n",
       "[3,]  0.4477 -0.0413 0.4727 -0.0524  1.4738\n",
       "[4,]  0.3907  0.3390 0.0828  1.0703  0.7105\n",
       "[5,]  0.3310 -0.2554 0.2451 -0.0024 -0.4898\n",
       "[6,]  0.3503  0.2442 0.3894  0.9465  0.9836"
      ]
     },
     "metadata": {},
     "output_type": "display_data"
    }
   ],
   "source": [
    "retornos <- cbind(itsa_ret, abev_ret, trpl_ret, enat_ret, seer_ret)\n",
    "colnames(retornos) <- ativos\n",
    "retornos"
   ]
  },
  {
   "cell_type": "code",
   "execution_count": 3,
   "metadata": {},
   "outputs": [
    {
     "data": {
      "text/html": [
       "<table>\n",
       "<caption>A matrix: 5 × 1 of type dbl</caption>\n",
       "<tbody>\n",
       "\t<tr><th scope=row>ITSA4</th><td>0.2654333</td></tr>\n",
       "\t<tr><th scope=row>ABEV3</th><td>0.0697500</td></tr>\n",
       "\t<tr><th scope=row>TRPL4</th><td>0.3208333</td></tr>\n",
       "\t<tr><th scope=row>ENAT3</th><td>0.2606000</td></tr>\n",
       "\t<tr><th scope=row>SEER3</th><td>0.3725167</td></tr>\n",
       "</tbody>\n",
       "</table>\n"
      ],
      "text/latex": [
       "A matrix: 5 × 1 of type dbl\n",
       "\\begin{tabular}{r|l}\n",
       "\tITSA4 & 0.2654333\\\\\n",
       "\tABEV3 & 0.0697500\\\\\n",
       "\tTRPL4 & 0.3208333\\\\\n",
       "\tENAT3 & 0.2606000\\\\\n",
       "\tSEER3 & 0.3725167\\\\\n",
       "\\end{tabular}\n"
      ],
      "text/markdown": [
       "\n",
       "A matrix: 5 × 1 of type dbl\n",
       "\n",
       "| ITSA4 | 0.2654333 |\n",
       "| ABEV3 | 0.0697500 |\n",
       "| TRPL4 | 0.3208333 |\n",
       "| ENAT3 | 0.2606000 |\n",
       "| SEER3 | 0.3725167 |\n",
       "\n"
      ],
      "text/plain": [
       "      [,1]     \n",
       "ITSA4 0.2654333\n",
       "ABEV3 0.0697500\n",
       "TRPL4 0.3208333\n",
       "ENAT3 0.2606000\n",
       "SEER3 0.3725167"
      ]
     },
     "metadata": {},
     "output_type": "display_data"
    }
   ],
   "source": [
    "retorno_medio <- rbind(mean(retornos[,1]), mean(retornos[,2]), mean(retornos[,3]),\n",
    "                       mean(retornos[,4]), mean(retornos[,5]))\n",
    "rownames(retorno_medio) <- ativos\n",
    "retorno_medio"
   ]
  },
  {
   "cell_type": "code",
   "execution_count": 4,
   "metadata": {},
   "outputs": [
    {
     "data": {
      "text/html": [
       "<table>\n",
       "<caption>A matrix: 5 × 5 of type dbl</caption>\n",
       "<thead>\n",
       "\t<tr><th></th><th scope=col>ITSA4</th><th scope=col>ABEV3</th><th scope=col>TRPL4</th><th scope=col>ENAT3</th><th scope=col>SEER3</th></tr>\n",
       "</thead>\n",
       "<tbody>\n",
       "\t<tr><th scope=row>ITSA4</th><td> 0.045243271</td><td>-0.003575162</td><td> 0.01311236</td><td> 0.05549711</td><td>0.13685566</td></tr>\n",
       "\t<tr><th scope=row>ABEV3</th><td>-0.003575162</td><td> 0.046518707</td><td>-0.01663601</td><td> 0.09388495</td><td>0.05686996</td></tr>\n",
       "\t<tr><th scope=row>TRPL4</th><td> 0.013112365</td><td>-0.016636012</td><td> 0.04444608</td><td>-0.04858438</td><td>0.07805013</td></tr>\n",
       "\t<tr><th scope=row>ENAT3</th><td> 0.055497112</td><td> 0.093884948</td><td>-0.04858438</td><td> 0.34432373</td><td>0.21371274</td></tr>\n",
       "\t<tr><th scope=row>SEER3</th><td> 0.136855659</td><td> 0.056869955</td><td> 0.07805013</td><td> 0.21371274</td><td>0.72915804</td></tr>\n",
       "</tbody>\n",
       "</table>\n"
      ],
      "text/latex": [
       "A matrix: 5 × 5 of type dbl\n",
       "\\begin{tabular}{r|lllll}\n",
       "  & ITSA4 & ABEV3 & TRPL4 & ENAT3 & SEER3\\\\\n",
       "\\hline\n",
       "\tITSA4 &  0.045243271 & -0.003575162 &  0.01311236 &  0.05549711 & 0.13685566\\\\\n",
       "\tABEV3 & -0.003575162 &  0.046518707 & -0.01663601 &  0.09388495 & 0.05686996\\\\\n",
       "\tTRPL4 &  0.013112365 & -0.016636012 &  0.04444608 & -0.04858438 & 0.07805013\\\\\n",
       "\tENAT3 &  0.055497112 &  0.093884948 & -0.04858438 &  0.34432373 & 0.21371274\\\\\n",
       "\tSEER3 &  0.136855659 &  0.056869955 &  0.07805013 &  0.21371274 & 0.72915804\\\\\n",
       "\\end{tabular}\n"
      ],
      "text/markdown": [
       "\n",
       "A matrix: 5 × 5 of type dbl\n",
       "\n",
       "| <!--/--> | ITSA4 | ABEV3 | TRPL4 | ENAT3 | SEER3 |\n",
       "|---|---|---|---|---|---|\n",
       "| ITSA4 |  0.045243271 | -0.003575162 |  0.01311236 |  0.05549711 | 0.13685566 |\n",
       "| ABEV3 | -0.003575162 |  0.046518707 | -0.01663601 |  0.09388495 | 0.05686996 |\n",
       "| TRPL4 |  0.013112365 | -0.016636012 |  0.04444608 | -0.04858438 | 0.07805013 |\n",
       "| ENAT3 |  0.055497112 |  0.093884948 | -0.04858438 |  0.34432373 | 0.21371274 |\n",
       "| SEER3 |  0.136855659 |  0.056869955 |  0.07805013 |  0.21371274 | 0.72915804 |\n",
       "\n"
      ],
      "text/plain": [
       "      ITSA4        ABEV3        TRPL4       ENAT3       SEER3     \n",
       "ITSA4  0.045243271 -0.003575162  0.01311236  0.05549711 0.13685566\n",
       "ABEV3 -0.003575162  0.046518707 -0.01663601  0.09388495 0.05686996\n",
       "TRPL4  0.013112365 -0.016636012  0.04444608 -0.04858438 0.07805013\n",
       "ENAT3  0.055497112  0.093884948 -0.04858438  0.34432373 0.21371274\n",
       "SEER3  0.136855659  0.056869955  0.07805013  0.21371274 0.72915804"
      ]
     },
     "metadata": {},
     "output_type": "display_data"
    }
   ],
   "source": [
    "matriz_cov <- cov(retornos)\n",
    "\n",
    "rownames(matriz_cov) <- ativos\n",
    "colnames(matriz_cov) <- ativos\n",
    "\n",
    "matriz_cov"
   ]
  },
  {
   "cell_type": "code",
   "execution_count": 6,
   "metadata": {},
   "outputs": [
    {
     "data": {
      "text/html": [
       "<table>\n",
       "<caption>A matrix: 5 × 5 of type dbl</caption>\n",
       "<thead>\n",
       "\t<tr><th></th><th scope=col>ITSA4</th><th scope=col>ABEV3</th><th scope=col>TRPL4</th><th scope=col>ENAT3</th><th scope=col>SEER3</th></tr>\n",
       "</thead>\n",
       "<tbody>\n",
       "\t<tr><th scope=row>ITSA4</th><td> 1.00000000</td><td>-0.07793004</td><td> 0.2924067</td><td> 0.4446414</td><td>0.7534856</td></tr>\n",
       "\t<tr><th scope=row>ABEV3</th><td>-0.07793004</td><td> 1.00000000</td><td>-0.3658631</td><td> 0.7418202</td><td>0.3087864</td></tr>\n",
       "\t<tr><th scope=row>TRPL4</th><td> 0.29240667</td><td>-0.36586314</td><td> 1.0000000</td><td>-0.3927321</td><td>0.4335568</td></tr>\n",
       "\t<tr><th scope=row>ENAT3</th><td> 0.44464141</td><td> 0.74182023</td><td>-0.3927321</td><td> 1.0000000</td><td>0.4265168</td></tr>\n",
       "\t<tr><th scope=row>SEER3</th><td> 0.75348556</td><td> 0.30878645</td><td> 0.4335568</td><td> 0.4265168</td><td>1.0000000</td></tr>\n",
       "</tbody>\n",
       "</table>\n"
      ],
      "text/latex": [
       "A matrix: 5 × 5 of type dbl\n",
       "\\begin{tabular}{r|lllll}\n",
       "  & ITSA4 & ABEV3 & TRPL4 & ENAT3 & SEER3\\\\\n",
       "\\hline\n",
       "\tITSA4 &  1.00000000 & -0.07793004 &  0.2924067 &  0.4446414 & 0.7534856\\\\\n",
       "\tABEV3 & -0.07793004 &  1.00000000 & -0.3658631 &  0.7418202 & 0.3087864\\\\\n",
       "\tTRPL4 &  0.29240667 & -0.36586314 &  1.0000000 & -0.3927321 & 0.4335568\\\\\n",
       "\tENAT3 &  0.44464141 &  0.74182023 & -0.3927321 &  1.0000000 & 0.4265168\\\\\n",
       "\tSEER3 &  0.75348556 &  0.30878645 &  0.4335568 &  0.4265168 & 1.0000000\\\\\n",
       "\\end{tabular}\n"
      ],
      "text/markdown": [
       "\n",
       "A matrix: 5 × 5 of type dbl\n",
       "\n",
       "| <!--/--> | ITSA4 | ABEV3 | TRPL4 | ENAT3 | SEER3 |\n",
       "|---|---|---|---|---|---|\n",
       "| ITSA4 |  1.00000000 | -0.07793004 |  0.2924067 |  0.4446414 | 0.7534856 |\n",
       "| ABEV3 | -0.07793004 |  1.00000000 | -0.3658631 |  0.7418202 | 0.3087864 |\n",
       "| TRPL4 |  0.29240667 | -0.36586314 |  1.0000000 | -0.3927321 | 0.4335568 |\n",
       "| ENAT3 |  0.44464141 |  0.74182023 | -0.3927321 |  1.0000000 | 0.4265168 |\n",
       "| SEER3 |  0.75348556 |  0.30878645 |  0.4335568 |  0.4265168 | 1.0000000 |\n",
       "\n"
      ],
      "text/plain": [
       "      ITSA4       ABEV3       TRPL4      ENAT3      SEER3    \n",
       "ITSA4  1.00000000 -0.07793004  0.2924067  0.4446414 0.7534856\n",
       "ABEV3 -0.07793004  1.00000000 -0.3658631  0.7418202 0.3087864\n",
       "TRPL4  0.29240667 -0.36586314  1.0000000 -0.3927321 0.4335568\n",
       "ENAT3  0.44464141  0.74182023 -0.3927321  1.0000000 0.4265168\n",
       "SEER3  0.75348556  0.30878645  0.4335568  0.4265168 1.0000000"
      ]
     },
     "metadata": {},
     "output_type": "display_data"
    }
   ],
   "source": [
    "matriz_cor <- cor(retornos)\n",
    "matriz_cor"
   ]
  },
  {
   "cell_type": "code",
   "execution_count": 41,
   "metadata": {},
   "outputs": [],
   "source": [
    "tx_livre_risco <- 0.0225"
   ]
  },
  {
   "cell_type": "code",
   "execution_count": 42,
   "metadata": {},
   "outputs": [],
   "source": [
    "short_selling <- F"
   ]
  },
  {
   "cell_type": "code",
   "execution_count": 43,
   "metadata": {},
   "outputs": [
    {
     "data": {
      "text/plain": [
       "Call:\n",
       "tangency.portfolio(er = retorno_medio, cov.mat = matriz_cov, \n",
       "    risk.free = tx_livre_risco, shorts = short_selling)\n",
       "\n",
       "Portfolio expected return:     0.255674 \n",
       "Portfolio standard deviation:  0.1306887 \n",
       "Portfolio weights:\n",
       "[1] 0.1989 0.2059 0.5545 0.0407 0.0000"
      ]
     },
     "metadata": {},
     "output_type": "display_data"
    }
   ],
   "source": [
    "carteira_eficiente <- tangency.portfolio(retorno_medio, matriz_cov, tx_livre_risco, shorts = short_selling)\n",
    "\n",
    "carteira_eficiente"
   ]
  },
  {
   "cell_type": "code",
   "execution_count": 44,
   "metadata": {},
   "outputs": [
    {
     "data": {
      "text/html": [
       "1.78419464389352"
      ],
      "text/latex": [
       "1.78419464389352"
      ],
      "text/markdown": [
       "1.78419464389352"
      ],
      "text/plain": [
       "[1] 1.784195"
      ]
     },
     "metadata": {},
     "output_type": "display_data"
    }
   ],
   "source": [
    "sharpe <- (carteira_eficiente$er-tx_livre_risco)/carteira_eficiente$sd\n",
    "sharpe"
   ]
  },
  {
   "cell_type": "code",
   "execution_count": 45,
   "metadata": {},
   "outputs": [
    {
     "data": {
      "text/plain": [
       "Call:\n",
       "globalMin.portfolio(er = retorno_medio, cov.mat = matriz_cov, \n",
       "    shorts = short_selling)\n",
       "\n",
       "Portfolio expected return:     0.2042406 \n",
       "Portfolio standard deviation:  0.1118744 \n",
       "Portfolio weights:\n",
       "[1] 0.1997 0.4203 0.3800 0.0000 0.0000"
      ]
     },
     "metadata": {},
     "output_type": "display_data"
    }
   ],
   "source": [
    "carteira_min_risco <- globalMin.portfolio(retorno_medio, matriz_cov, shorts = short_selling)\n",
    "\n",
    "carteira_min_risco"
   ]
  },
  {
   "cell_type": "code",
   "execution_count": 46,
   "metadata": {},
   "outputs": [
    {
     "data": {
      "text/plain": [
       "Call:\n",
       "efficient.frontier(er = retorno_medio, cov.mat = matriz_cov, \n",
       "    nport = npor, shorts = short_selling)\n",
       "\n",
       "Frontier portfolios' expected returns and standard deviations\n",
       "   port 1 port 2 port 3 port 4 port 5 port 6 port 7 port 8 port 9 port 10\n",
       "ER 0.2042 0.2059 0.2076 0.2093 0.2110 0.2127 0.2144 0.2161 0.2178  0.2195\n",
       "SD 0.1119 0.1119 0.1120 0.1121 0.1123 0.1125 0.1127 0.1131 0.1134  0.1138\n",
       "   port 11 port 12 port 13 port 14 port 15 port 16 port 17 port 18 port 19\n",
       "ER  0.2212  0.2229  0.2246  0.2263  0.2280  0.2297  0.2314  0.2331  0.2348\n",
       "SD  0.1143  0.1148  0.1153  0.1159  0.1165  0.1172  0.1179  0.1187  0.1195\n",
       "   port 20 port 21 port 22 port 23 port 24 port 25 port 26 port 27 port 28\n",
       "ER  0.2365  0.2382  0.2399  0.2416  0.2433  0.2450  0.2467  0.2484  0.2501\n",
       "SD  0.1203  0.1212  0.1221  0.1230  0.1239  0.1248  0.1257  0.1267  0.1276\n",
       "   port 29 port 30 port 31 port 32 port 33 port 34 port 35 port 36 port 37\n",
       "ER  0.2518  0.2535  0.2552  0.2569  0.2586  0.2603  0.2620  0.2637  0.2654\n",
       "SD  0.1285  0.1295  0.1304  0.1314  0.1324  0.1333  0.1343  0.1353  0.1362\n",
       "   port 38 port 39 port 40 port 41 port 42 port 43 port 44 port 45 port 46\n",
       "ER  0.2671  0.2688  0.2705  0.2722  0.2739  0.2756  0.2773  0.2790  0.2807\n",
       "SD  0.1372  0.1382  0.1392  0.1402  0.1412  0.1422  0.1432  0.1442  0.1452\n",
       "   port 47 port 48 port 49 port 50 port 51 port 52 port 53 port 54 port 55\n",
       "ER  0.2824  0.2841  0.2858  0.2875  0.2892  0.2909  0.2926  0.2943  0.2960\n",
       "SD  0.1462  0.1472  0.1483  0.1493  0.1503  0.1514  0.1524  0.1534  0.1545\n",
       "   port 56 port 57 port 58 port 59 port 60 port 61 port 62 port 63 port 64\n",
       "ER  0.2977  0.2994  0.3011  0.3028  0.3045  0.3062  0.3079  0.3096  0.3113\n",
       "SD  0.1555  0.1566  0.1576  0.1587  0.1597  0.1608  0.1618  0.1631  0.1649\n",
       "   port 65 port 66 port 67 port 68 port 69 port 70 port 71 port 72 port 73\n",
       "ER  0.3130  0.3147  0.3164  0.3181  0.3198  0.3215  0.3232  0.3249  0.3266\n",
       "SD  0.1688  0.1749  0.1828  0.1920  0.2014  0.2110  0.2210  0.2316  0.2444\n",
       "   port 74 port 75 port 76 port 77 port 78 port 79 port 80 port 81 port 82\n",
       "ER  0.3283  0.3300  0.3317  0.3334  0.3351  0.3368  0.3385  0.3402  0.3419\n",
       "SD  0.2591  0.2755  0.2933  0.3122  0.3320  0.3526  0.3739  0.3957  0.4179\n",
       "   port 83 port 84 port 85 port 86 port 87 port 88 port 89 port 90 port 91\n",
       "ER  0.3436  0.3453  0.3470  0.3487  0.3504  0.3521  0.3538  0.3555  0.3572\n",
       "SD  0.4406  0.4636  0.4869  0.5104  0.5341  0.5580  0.5821  0.6064  0.6307\n",
       "   port 92 port 93 port 94 port 95 port 96 port 97 port 98 port 99 port 100\n",
       "ER  0.3589  0.3606  0.3623  0.3640  0.3657  0.3674  0.3691  0.3708   0.3725\n",
       "SD  0.6552  0.6798  0.7044  0.7292  0.7540  0.7789  0.8039  0.8289   0.8539"
      ]
     },
     "metadata": {},
     "output_type": "display_data"
    },
    {
     "data": {
      "text/html": [
       "<dl>\n",
       "\t<dt>$names</dt>\n",
       "\t\t<dd><ol class=list-inline>\n",
       "\t<li>'call'</li>\n",
       "\t<li>'er'</li>\n",
       "\t<li>'sd'</li>\n",
       "\t<li>'weights'</li>\n",
       "</ol>\n",
       "</dd>\n",
       "\t<dt>$class</dt>\n",
       "\t\t<dd>'Markowitz'</dd>\n",
       "</dl>\n"
      ],
      "text/latex": [
       "\\begin{description}\n",
       "\\item[\\$names] \\begin{enumerate*}\n",
       "\\item 'call'\n",
       "\\item 'er'\n",
       "\\item 'sd'\n",
       "\\item 'weights'\n",
       "\\end{enumerate*}\n",
       "\n",
       "\\item[\\$class] 'Markowitz'\n",
       "\\end{description}\n"
      ],
      "text/markdown": [
       "$names\n",
       ":   1. 'call'\n",
       "2. 'er'\n",
       "3. 'sd'\n",
       "4. 'weights'\n",
       "\n",
       "\n",
       "\n",
       "$class\n",
       ":   'Markowitz'\n",
       "\n",
       "\n"
      ],
      "text/plain": [
       "$names\n",
       "[1] \"call\"    \"er\"      \"sd\"      \"weights\"\n",
       "\n",
       "$class\n",
       "[1] \"Markowitz\"\n"
      ]
     },
     "metadata": {},
     "output_type": "display_data"
    }
   ],
   "source": [
    "npor <- 100\n",
    "fronteira_eficiente <- efficient.frontier(retorno_medio, matriz_cov, npor, shorts = short_selling)\n",
    "\n",
    "fronteira_eficiente\n",
    "\n",
    "attributes(fronteira_eficiente)"
   ]
  },
  {
   "cell_type": "code",
   "execution_count": 47,
   "metadata": {},
   "outputs": [
    {
     "data": {
      "image/png": "[encoded data removed]",
      "text/plain": [
       "Plot with title \"Efficient Frontier\""
      ]
     },
     "metadata": {},
     "output_type": "display_data"
    }
   ],
   "source": [
    "plot(fronteira_eficiente, plot.asset = TRUE, col = \"blue\", pch = 16)\n",
    "\n",
    "points(carteira_min_risco$sd, carteira_min_risco$er, col = \"green\", pch = 10, cex = 2)\n",
    "points(carteira_eficiente$sd, carteira_eficiente$er, col = \"red\", pch = 10, cex = 2)\n",
    "\n",
    "text(carteira_min_risco$sd, carteira_min_risco$er, labels = \"Risco Mínimo\", pos = 2)\n",
    "text(carteira_eficiente$sd, carteira_eficiente$er, labels = \"Carteira Eficiente\", pos = 2)\n",
    "\n",
    "tangente <- (carteira_eficiente$er - tx_livre_risco)/carteira_eficiente$sd\n",
    "abline(a = tx_livre_risco, b = tangente, col = \"green\", lwd = 2)"
   ]
  },
  {
   "cell_type": "code",
   "execution_count": 48,
   "metadata": {},
   "outputs": [
    {
     "data": {
      "image/png": "[encoded data removed]",
      "text/plain": [
       "plot without title"
      ]
     },
     "metadata": {},
     "output_type": "display_data"
    }
   ],
   "source": [
    "plot(1:npor, (fronteira_eficiente$er - tx_livre_risco)/fronteira_eficiente$sd,\n",
    "     col = \"blue\", ylab = \"Índice Sharp\", xlab = \"Nº Portifólio\", type = 'l')"
   ]
  },
  {
   "cell_type": "code",
   "execution_count": null,
   "metadata": {},
   "outputs": [],
   "source": []
  }
 ],
 "metadata": {
  "kernelspec": {
   "display_name": "R",
   "language": "R",
   "name": "ir"
  },
  "language_info": {
   "codemirror_mode": "r",
   "file_extension": ".r",
   "mimetype": "text/x-r-source",
   "name": "R",
   "pygments_lexer": "r",
   "version": "3.6.1"
  }
 },
 "nbformat": 4,
 "nbformat_minor": 4
}
