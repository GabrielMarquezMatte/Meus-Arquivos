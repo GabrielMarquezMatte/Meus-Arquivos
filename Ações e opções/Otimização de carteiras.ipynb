{
 "cells": [
  {
   "cell_type": "code",
   "execution_count": 1,
   "metadata": {},
   "outputs": [],
   "source": [
    "#install.packages(\"quadprog\")"
   ]
  },
  {
   "cell_type": "code",
   "execution_count": 2,
   "metadata": {},
   "outputs": [],
   "source": [
    "#install.packages(\"PerformanceAnalytics\")"
   ]
  },
  {
   "cell_type": "code",
   "execution_count": 3,
   "metadata": {},
   "outputs": [],
   "source": [
    "#install.packages(\"IntroCompFinR\", repos=\"http://R-Forge.R-project.org\")"
   ]
  },
  {
   "cell_type": "code",
   "execution_count": 1,
   "metadata": {},
   "outputs": [
    {
     "name": "stderr",
     "output_type": "stream",
     "text": [
      "Warning message:\n",
      "\"package 'IntroCompFinR' was built under R version 3.6.3\"Loading required package: xts\n",
      "Warning message:\n",
      "\"package 'xts' was built under R version 3.6.3\"Loading required package: zoo\n",
      "Warning message:\n",
      "\"package 'zoo' was built under R version 3.6.3\"\n",
      "Attaching package: 'zoo'\n",
      "\n",
      "The following objects are masked from 'package:base':\n",
      "\n",
      "    as.Date, as.Date.numeric\n",
      "\n"
     ]
    }
   ],
   "source": [
    "library(IntroCompFinR)"
   ]
  },
  {
   "cell_type": "code",
   "execution_count": 16,
   "metadata": {},
   "outputs": [],
   "source": [
    "ativos <- c(\"ITSA4\", \"ABEV3\", \"BRML3\", \"OIBR3\", \"TCSA4\")\n",
    "trpl_ret <- c(0.6202,0.1148,0.4727,0.0828,0.2451,0.3894)\n",
    "abev_ret <- c(-0.0101,0.1421,-0.0413,0.3390,-0.2554,0.2442)\n",
    "itsa_ret <- c(0.2110,-0.1381,0.4477,0.3907,0.3310,0.3503)\n",
    "enat_ret <- c(-0.2520,-0.1464,-0.0524,1.0703,-0.0024,0.9465)\n",
    "seer_ret <- c(0.2765,-0.7195,1.4738,0.7105,-0.4898,0.9836)\n",
    "oibr_ret <- c(-0.7472,-0.7372,0.095,0.3827,-0.5387,-0.3120)\n",
    "tcsa_ret <- c(-0.5438,-0.2432,-0.0446,-0.0374,-0.2961,0.2661)\n",
    "petr_ret <- c(-0.3783,-0.2815,1.2132,0.0829,0.4591,0.3687)\n",
    "vale_ret <- c(-0.3309,-0.3573,0.9826,0.6256,0.3111,0.0685)\n",
    "itub_ret <- c(0.2448,-0.1094,0.4903,0.2964,0.3241,0.1198)\n",
    "b3sa_ret <- c(-0.0868,0.2198,0.5525,0.4049,0.2079,0.6326)\n",
    "mglu_ret <- c(0.0380,-0.6967,5.0378,5.0921,1.2639,1.1219)\n",
    "vvar_ret <- c(-0.0646,-0.7955,1.4861,1.2123-0.4457,1.5444)\n",
    "lren_ret <- c(0.2784,0.1529,0.4116,0.7283,0.2019,0.4905)\n",
    "rent_ret <- c(0.0812,-0.2848,0.4142,1.0540,0.3613,0.6875)\n",
    "suzb_ret <- c(0.2191,0.7291,-0.2235,0.3650,1.0473,0.0534)\n",
    "egie_ret <- c(-0.0139,0.0628,0.0705,0.0931,0.2998,0.5920)\n",
    "enbr_ret <- c(-0.0906,0.3746,0.2537,0.0565,0.0930,0.5843)\n",
    "flry_ret <- c(0,1.3794,0.6891,-0.3099,0.6188)\n",
    "hype_ret <- c(-0.0577,0.3398,0.2245,0.4773,-0.1193,0.2177)\n",
    "pssa_ret <- c(-0.0259,-0.0287,0.4046,0.5575,0.2463)\n",
    "wizs_ret <- c(-0.2909,0.4966,-0.1054,-0.3719,1.3034)\n",
    "bpan_ret <- c(-0.2922,-0.2065,0.4634,0.0722,4.4923)\n",
    "abcb_ret <- c(-0.2794,0.7739,0.3336,0.0564,0.2682)\n",
    "caml_ret <- c(0,0,0,-0.1144,-0.0799,0.3039)\n",
    "mdia_ret <- c(-0.2399,0.7503,0.3726,-0.1718,-0.1086)\n",
    "bees_ret <- c(-0.1423,3.9837,0.5007,0.4186,0.2244,0.4578)\n",
    "brsr_ret <- c(-0.2354,0.3301,1.3937,-0.1072,0.1269)\n",
    "prio_ret <- c(-0.4923,-0.4674,0.7780,2.7696,0.2124,2.3735)\n",
    "taee_ret <- c(0.0357,-0.1184,0.2471,0.0304,0.1734,0.2578)\n",
    "cdi_ret <- c(0.1077,0.1325,0.1394,0.0990,0.0640,0.0594)\n",
    "wti_ret <- c(-0.3106,0.4365,0.1155,-0.2445,0.3624)\n",
    "gold_ret <- c(-0.0176,-0.1038,0.0843,0.1313,-0.0156,0.1833)\n",
    "ficverde_ret <- c(0.4727,-0.1682,0.1463,0.064,0.2586)\n",
    "mult_ret <- c(-0.0333,-0.1668,0.5842,0.2331,0.0219,0.3745)\n",
    "odpv_ret <- c(0.0493,-0.0081,0.3686,0.3128,-0.1105,0.2664)\n",
    "bitc_ret <- c(-0.5215,0.9977,0.9050,12.8961,-0.6932,0.9619)\n",
    "goog_ret <- c(0.0692,1.1769,-0.1461,0.3265,0.1626,0.3410)\n",
    "aapl_ret <- c(0.5641,0.4082,-0.0730,0.4734,0.0861,0.9635)\n",
    "amzn_ret <- c(-0.1246,2.2223,-0.0616,0.5556,0.5015,0.3061)\n",
    "doll_ret <- c(0.1249,0.4902,-0.1627,0.0178,0.1712,0.0357)\n",
    "wege_ret <- c(0.2734,-0.0221,0.0431,0.5656,-0.0636,0.9671)\n",
    "whrl_ret <- c(0.1859,-0.3655,0.3292,0.7930,0.0551,1.1939)\n",
    "brml_ret <- c(-0.0056,-0.3035,0.4174,0.2423,0.0412,0.4767)"
   ]
  },
  {
   "cell_type": "code",
   "execution_count": 17,
   "metadata": {},
   "outputs": [
    {
     "data": {
      "text/html": [
       "<table>\n",
       "<thead><tr><th scope=col>ITSA4</th><th scope=col>ABEV3</th><th scope=col>BRML3</th><th scope=col>OIBR3</th><th scope=col>TCSA4</th></tr></thead>\n",
       "<tbody>\n",
       "\t<tr><td> 0.2110</td><td>-0.0101</td><td>-0.0056</td><td>-0.7472</td><td>-0.5438</td></tr>\n",
       "\t<tr><td>-0.1381</td><td> 0.1421</td><td>-0.3035</td><td>-0.7372</td><td>-0.2432</td></tr>\n",
       "\t<tr><td> 0.4477</td><td>-0.0413</td><td> 0.4174</td><td> 0.0950</td><td>-0.0446</td></tr>\n",
       "\t<tr><td> 0.3907</td><td> 0.3390</td><td> 0.2423</td><td> 0.3827</td><td>-0.0374</td></tr>\n",
       "\t<tr><td> 0.3310</td><td>-0.2554</td><td> 0.0412</td><td>-0.5387</td><td>-0.2961</td></tr>\n",
       "\t<tr><td> 0.3503</td><td> 0.2442</td><td> 0.4767</td><td>-0.3120</td><td> 0.2661</td></tr>\n",
       "</tbody>\n",
       "</table>\n"
      ],
      "text/latex": [
       "\\begin{tabular}{lllll}\n",
       " ITSA4 & ABEV3 & BRML3 & OIBR3 & TCSA4\\\\\n",
       "\\hline\n",
       "\t  0.2110 & -0.0101 & -0.0056 & -0.7472 & -0.5438\\\\\n",
       "\t -0.1381 &  0.1421 & -0.3035 & -0.7372 & -0.2432\\\\\n",
       "\t  0.4477 & -0.0413 &  0.4174 &  0.0950 & -0.0446\\\\\n",
       "\t  0.3907 &  0.3390 &  0.2423 &  0.3827 & -0.0374\\\\\n",
       "\t  0.3310 & -0.2554 &  0.0412 & -0.5387 & -0.2961\\\\\n",
       "\t  0.3503 &  0.2442 &  0.4767 & -0.3120 &  0.2661\\\\\n",
       "\\end{tabular}\n"
      ],
      "text/markdown": [
       "\n",
       "| ITSA4 | ABEV3 | BRML3 | OIBR3 | TCSA4 |\n",
       "|---|---|---|---|---|\n",
       "|  0.2110 | -0.0101 | -0.0056 | -0.7472 | -0.5438 |\n",
       "| -0.1381 |  0.1421 | -0.3035 | -0.7372 | -0.2432 |\n",
       "|  0.4477 | -0.0413 |  0.4174 |  0.0950 | -0.0446 |\n",
       "|  0.3907 |  0.3390 |  0.2423 |  0.3827 | -0.0374 |\n",
       "|  0.3310 | -0.2554 |  0.0412 | -0.5387 | -0.2961 |\n",
       "|  0.3503 |  0.2442 |  0.4767 | -0.3120 |  0.2661 |\n",
       "\n"
      ],
      "text/plain": [
       "     ITSA4   ABEV3   BRML3   OIBR3   TCSA4  \n",
       "[1,]  0.2110 -0.0101 -0.0056 -0.7472 -0.5438\n",
       "[2,] -0.1381  0.1421 -0.3035 -0.7372 -0.2432\n",
       "[3,]  0.4477 -0.0413  0.4174  0.0950 -0.0446\n",
       "[4,]  0.3907  0.3390  0.2423  0.3827 -0.0374\n",
       "[5,]  0.3310 -0.2554  0.0412 -0.5387 -0.2961\n",
       "[6,]  0.3503  0.2442  0.4767 -0.3120  0.2661"
      ]
     },
     "metadata": {},
     "output_type": "display_data"
    }
   ],
   "source": [
    "retornos <- cbind(itsa_ret, abev_ret, brml_ret, oibr_ret, tcsa_ret)\n",
    "colnames(retornos) <- ativos\n",
    "retornos"
   ]
  },
  {
   "cell_type": "code",
   "execution_count": 18,
   "metadata": {},
   "outputs": [
    {
     "data": {
      "text/html": [
       "<table>\n",
       "<tbody>\n",
       "\t<tr><th scope=row>ITSA4</th><td> 0.2654333</td></tr>\n",
       "\t<tr><th scope=row>ABEV3</th><td> 0.0697500</td></tr>\n",
       "\t<tr><th scope=row>BRML3</th><td> 0.1447500</td></tr>\n",
       "\t<tr><th scope=row>OIBR3</th><td>-0.3095667</td></tr>\n",
       "\t<tr><th scope=row>TCSA4</th><td>-0.1498333</td></tr>\n",
       "</tbody>\n",
       "</table>\n"
      ],
      "text/latex": [
       "\\begin{tabular}{r|l}\n",
       "\tITSA4 &  0.2654333\\\\\n",
       "\tABEV3 &  0.0697500\\\\\n",
       "\tBRML3 &  0.1447500\\\\\n",
       "\tOIBR3 & -0.3095667\\\\\n",
       "\tTCSA4 & -0.1498333\\\\\n",
       "\\end{tabular}\n"
      ],
      "text/markdown": [
       "\n",
       "| ITSA4 |  0.2654333 |\n",
       "| ABEV3 |  0.0697500 |\n",
       "| BRML3 |  0.1447500 |\n",
       "| OIBR3 | -0.3095667 |\n",
       "| TCSA4 | -0.1498333 |\n",
       "\n"
      ],
      "text/plain": [
       "      [,1]      \n",
       "ITSA4  0.2654333\n",
       "ABEV3  0.0697500\n",
       "BRML3  0.1447500\n",
       "OIBR3 -0.3095667\n",
       "TCSA4 -0.1498333"
      ]
     },
     "metadata": {},
     "output_type": "display_data"
    }
   ],
   "source": [
    "retorno_medio <- rbind(mean(retornos[,1]), mean(retornos[,2]), mean(retornos[,3]), mean(retornos[,4]), mean(retornos[,5]))\n",
    "rownames(retorno_medio) <- ativos\n",
    "retorno_medio"
   ]
  },
  {
   "cell_type": "code",
   "execution_count": 19,
   "metadata": {},
   "outputs": [
    {
     "data": {
      "text/html": [
       "<table>\n",
       "<thead><tr><th></th><th scope=col>ITSA4</th><th scope=col>ABEV3</th><th scope=col>BRML3</th><th scope=col>OIBR3</th><th scope=col>TCSA4</th></tr></thead>\n",
       "<tbody>\n",
       "\t<tr><th scope=row>ITSA4</th><td> 0.045243271</td><td>-0.003575162</td><td>0.05447294  </td><td>0.06832262  </td><td>0.02361896  </td></tr>\n",
       "\t<tr><th scope=row>ABEV3</th><td>-0.003575162</td><td> 0.046518707</td><td>0.01342801  </td><td>0.04390993  </td><td>0.03268157  </td></tr>\n",
       "\t<tr><th scope=row>BRML3</th><td> 0.054472940</td><td> 0.013428015</td><td>0.08566012  </td><td>0.09164791  </td><td>0.05879184  </td></tr>\n",
       "\t<tr><th scope=row>OIBR3</th><td> 0.068322617</td><td> 0.043909926</td><td>0.09164791  </td><td>0.21396171  </td><td>0.07304997  </td></tr>\n",
       "\t<tr><th scope=row>TCSA4</th><td> 0.023618963</td><td> 0.032681570</td><td>0.05879184  </td><td>0.07304997  </td><td>0.07640737  </td></tr>\n",
       "</tbody>\n",
       "</table>\n"
      ],
      "text/latex": [
       "\\begin{tabular}{r|lllll}\n",
       "  & ITSA4 & ABEV3 & BRML3 & OIBR3 & TCSA4\\\\\n",
       "\\hline\n",
       "\tITSA4 &  0.045243271 & -0.003575162 & 0.05447294   & 0.06832262   & 0.02361896  \\\\\n",
       "\tABEV3 & -0.003575162 &  0.046518707 & 0.01342801   & 0.04390993   & 0.03268157  \\\\\n",
       "\tBRML3 &  0.054472940 &  0.013428015 & 0.08566012   & 0.09164791   & 0.05879184  \\\\\n",
       "\tOIBR3 &  0.068322617 &  0.043909926 & 0.09164791   & 0.21396171   & 0.07304997  \\\\\n",
       "\tTCSA4 &  0.023618963 &  0.032681570 & 0.05879184   & 0.07304997   & 0.07640737  \\\\\n",
       "\\end{tabular}\n"
      ],
      "text/markdown": [
       "\n",
       "| <!--/--> | ITSA4 | ABEV3 | BRML3 | OIBR3 | TCSA4 |\n",
       "|---|---|---|---|---|---|\n",
       "| ITSA4 |  0.045243271 | -0.003575162 | 0.05447294   | 0.06832262   | 0.02361896   |\n",
       "| ABEV3 | -0.003575162 |  0.046518707 | 0.01342801   | 0.04390993   | 0.03268157   |\n",
       "| BRML3 |  0.054472940 |  0.013428015 | 0.08566012   | 0.09164791   | 0.05879184   |\n",
       "| OIBR3 |  0.068322617 |  0.043909926 | 0.09164791   | 0.21396171   | 0.07304997   |\n",
       "| TCSA4 |  0.023618963 |  0.032681570 | 0.05879184   | 0.07304997   | 0.07640737   |\n",
       "\n"
      ],
      "text/plain": [
       "      ITSA4        ABEV3        BRML3      OIBR3      TCSA4     \n",
       "ITSA4  0.045243271 -0.003575162 0.05447294 0.06832262 0.02361896\n",
       "ABEV3 -0.003575162  0.046518707 0.01342801 0.04390993 0.03268157\n",
       "BRML3  0.054472940  0.013428015 0.08566012 0.09164791 0.05879184\n",
       "OIBR3  0.068322617  0.043909926 0.09164791 0.21396171 0.07304997\n",
       "TCSA4  0.023618963  0.032681570 0.05879184 0.07304997 0.07640737"
      ]
     },
     "metadata": {},
     "output_type": "display_data"
    }
   ],
   "source": [
    "matriz_cov <- cov(retornos)\n",
    "\n",
    "rownames(matriz_cov) <- ativos\n",
    "colnames(matriz_cov) <- ativos\n",
    "\n",
    "matriz_cov"
   ]
  },
  {
   "cell_type": "code",
   "execution_count": 20,
   "metadata": {},
   "outputs": [],
   "source": [
    "tx_livre_risco <- 0.0225"
   ]
  },
  {
   "cell_type": "code",
   "execution_count": 21,
   "metadata": {},
   "outputs": [],
   "source": [
    "short_selling <- F"
   ]
  },
  {
   "cell_type": "code",
   "execution_count": 22,
   "metadata": {},
   "outputs": [
    {
     "data": {
      "text/plain": [
       "Call:\n",
       "tangency.portfolio(er = retorno_medio, cov.mat = matriz_cov, \n",
       "    risk.free = tx_livre_risco, shorts = short_selling)\n",
       "\n",
       "Portfolio expected return:     0.2247956 \n",
       "Portfolio standard deviation:  0.1709758 \n",
       "Portfolio weights:\n",
       "[1] 0.7923 0.2077 0.0000 0.0000 0.0000"
      ]
     },
     "metadata": {},
     "output_type": "display_data"
    }
   ],
   "source": [
    "carteira_eficiente <- tangency.portfolio(retorno_medio, matriz_cov, tx_livre_risco, shorts = short_selling)\n",
    "\n",
    "carteira_eficiente"
   ]
  },
  {
   "cell_type": "code",
   "execution_count": 23,
   "metadata": {},
   "outputs": [
    {
     "data": {
      "text/html": [
       "1.18318220713678"
      ],
      "text/latex": [
       "1.18318220713678"
      ],
      "text/markdown": [
       "1.18318220713678"
      ],
      "text/plain": [
       "[1] 1.183182"
      ]
     },
     "metadata": {},
     "output_type": "display_data"
    }
   ],
   "source": [
    "sharpe <- (carteira_eficiente$er-tx_livre_risco)/carteira_eficiente$sd\n",
    "sharpe"
   ]
  },
  {
   "cell_type": "code",
   "execution_count": 24,
   "metadata": {},
   "outputs": [
    {
     "data": {
      "text/plain": [
       "Call:\n",
       "globalMin.portfolio(er = retorno_medio, cov.mat = matriz_cov, \n",
       "    shorts = short_selling)\n",
       "\n",
       "Portfolio expected return:     0.1688532 \n",
       "Portfolio standard deviation:  0.1454263 \n",
       "Portfolio weights:\n",
       "[1] 0.5064 0.4936 0.0000 0.0000 0.0000"
      ]
     },
     "metadata": {},
     "output_type": "display_data"
    }
   ],
   "source": [
    "carteira_min_risco <- globalMin.portfolio(retorno_medio, matriz_cov, shorts = short_selling)\n",
    "\n",
    "carteira_min_risco"
   ]
  },
  {
   "cell_type": "code",
   "execution_count": 25,
   "metadata": {},
   "outputs": [
    {
     "data": {
      "text/plain": [
       "Call:\n",
       "efficient.frontier(er = retorno_medio, cov.mat = matriz_cov, \n",
       "    nport = npor, shorts = short_selling)\n",
       "\n",
       "Frontier portfolios' expected returns and standard deviations\n",
       "   port 1 port 2 port 3 port 4 port 5 port 6 port 7 port 8 port 9 port 10\n",
       "ER 0.1689 0.1698 0.1708 0.1718 0.1728 0.1737 0.1747 0.1757 0.1767  0.1776\n",
       "SD 0.1454 0.1454 0.1455 0.1455 0.1456 0.1456 0.1457 0.1458 0.1460  0.1461\n",
       "   port 11 port 12 port 13 port 14 port 15 port 16 port 17 port 18 port 19\n",
       "ER  0.1786  0.1796  0.1806  0.1815  0.1825  0.1835  0.1845  0.1854  0.1864\n",
       "SD  0.1463  0.1464  0.1466  0.1468  0.1471  0.1473  0.1476  0.1478  0.1481\n",
       "   port 20 port 21 port 22 port 23 port 24 port 25 port 26 port 27 port 28\n",
       "ER  0.1874  0.1884  0.1893  0.1903  0.1913  0.1923  0.1932  0.1942  0.1952\n",
       "SD  0.1484  0.1488  0.1491  0.1495  0.1498  0.1502  0.1506  0.1510  0.1515\n",
       "   port 29 port 30 port 31 port 32 port 33 port 34 port 35 port 36 port 37\n",
       "ER  0.1962  0.1971  0.1981  0.1991  0.2001  0.2010  0.2020  0.2030   0.204\n",
       "SD  0.1519  0.1524  0.1528  0.1533  0.1538  0.1544  0.1549  0.1554   0.156\n",
       "   port 38 port 39 port 40 port 41 port 42 port 43 port 44 port 45 port 46\n",
       "ER  0.2049  0.2059  0.2069  0.2079  0.2089  0.2098  0.2108  0.2118  0.2128\n",
       "SD  0.1566  0.1572  0.1578  0.1584  0.1590  0.1596  0.1603  0.1610  0.1616\n",
       "   port 47 port 48 port 49 port 50 port 51 port 52 port 53 port 54 port 55\n",
       "ER  0.2137  0.2147  0.2157  0.2167  0.2176  0.2186  0.2196  0.2206  0.2215\n",
       "SD  0.1623  0.1630  0.1637  0.1645  0.1652  0.1660  0.1667  0.1675  0.1683\n",
       "   port 56 port 57 port 58 port 59 port 60 port 61 port 62 port 63 port 64\n",
       "ER  0.2225  0.2235  0.2245  0.2254  0.2264  0.2274  0.2284  0.2293  0.2303\n",
       "SD  0.1691  0.1699  0.1707  0.1715  0.1724  0.1732  0.1741  0.1749  0.1758\n",
       "   port 65 port 66 port 67 port 68 port 69 port 70 port 71 port 72 port 73\n",
       "ER  0.2313  0.2323  0.2332  0.2342  0.2352  0.2362  0.2371  0.2381  0.2391\n",
       "SD  0.1767  0.1776  0.1785  0.1794  0.1803  0.1813  0.1822  0.1831  0.1841\n",
       "   port 74 port 75 port 76 port 77 port 78 port 79 port 80 port 81 port 82\n",
       "ER  0.2401   0.241   0.242   0.243   0.244  0.2449  0.2459  0.2469  0.2479\n",
       "SD  0.1851   0.186   0.187   0.188   0.189  0.1900  0.1910  0.1920  0.1931\n",
       "   port 83 port 84 port 85 port 86 port 87 port 88 port 89 port 90 port 91\n",
       "ER  0.2488  0.2498  0.2508  0.2518  0.2528  0.2537  0.2547  0.2557  0.2567\n",
       "SD  0.1941  0.1952  0.1962  0.1973  0.1983  0.1994  0.2005  0.2015  0.2026\n",
       "   port 92 port 93 port 94 port 95 port 96 port 97 port 98 port 99 port 100\n",
       "ER  0.2576  0.2586  0.2596  0.2606  0.2615  0.2625  0.2635  0.2645   0.2654\n",
       "SD  0.2037  0.2048  0.2059  0.2071  0.2082  0.2093  0.2104  0.2116   0.2127"
      ]
     },
     "metadata": {},
     "output_type": "display_data"
    },
    {
     "data": {
      "text/html": [
       "<dl>\n",
       "\t<dt>$names</dt>\n",
       "\t\t<dd><ol class=list-inline>\n",
       "\t<li>'call'</li>\n",
       "\t<li>'er'</li>\n",
       "\t<li>'sd'</li>\n",
       "\t<li>'weights'</li>\n",
       "</ol>\n",
       "</dd>\n",
       "\t<dt>$class</dt>\n",
       "\t\t<dd>'Markowitz'</dd>\n",
       "</dl>\n"
      ],
      "text/latex": [
       "\\begin{description}\n",
       "\\item[\\$names] \\begin{enumerate*}\n",
       "\\item 'call'\n",
       "\\item 'er'\n",
       "\\item 'sd'\n",
       "\\item 'weights'\n",
       "\\end{enumerate*}\n",
       "\n",
       "\\item[\\$class] 'Markowitz'\n",
       "\\end{description}\n"
      ],
      "text/markdown": [
       "$names\n",
       ":   1. 'call'\n",
       "2. 'er'\n",
       "3. 'sd'\n",
       "4. 'weights'\n",
       "\n",
       "\n",
       "\n",
       "$class\n",
       ":   'Markowitz'\n",
       "\n",
       "\n"
      ],
      "text/plain": [
       "$names\n",
       "[1] \"call\"    \"er\"      \"sd\"      \"weights\"\n",
       "\n",
       "$class\n",
       "[1] \"Markowitz\"\n"
      ]
     },
     "metadata": {},
     "output_type": "display_data"
    }
   ],
   "source": [
    "npor <- 100\n",
    "fronteira_eficiente <- efficient.frontier(retorno_medio, matriz_cov, npor, shorts = short_selling)\n",
    "\n",
    "fronteira_eficiente\n",
    "\n",
    "attributes(fronteira_eficiente)"
   ]
  },
  {
   "cell_type": "code",
   "execution_count": 26,
   "metadata": {},
   "outputs": [
    {
     "data": {
      "image/png": "[encoded data removed]",
      "text/plain": [
       "Plot with title \"Efficient Frontier\""
      ]
     },
     "metadata": {},
     "output_type": "display_data"
    }
   ],
   "source": [
    "plot(fronteira_eficiente, plot.asset = TRUE, col = \"blue\", pch = 16)\n",
    "\n",
    "points(carteira_min_risco$sd, carteira_min_risco$er, col = \"green\", pch = 10, cex = 2)\n",
    "points(carteira_eficiente$sd, carteira_eficiente$er, col = \"red\", pch = 10, cex = 2)\n",
    "\n",
    "text(carteira_min_risco$sd, carteira_min_risco$er, labels = \"Risco Mínimo\", pos = 2)\n",
    "text(carteira_eficiente$sd, carteira_eficiente$er, labels = \"Carteira Eficiente\", pos = 2)\n",
    "\n",
    "tangente <- (carteira_eficiente$er - tx_livre_risco)/carteira_eficiente$sd\n",
    "abline(a = tx_livre_risco, b = tangente, col = \"green\", lwd = 2)"
   ]
  },
  {
   "cell_type": "code",
   "execution_count": 27,
   "metadata": {},
   "outputs": [
    {
     "data": {
      "image/png": "[encoded data removed]",
      "text/plain": [
       "plot without title"
      ]
     },
     "metadata": {},
     "output_type": "display_data"
    }
   ],
   "source": [
    "plot(1:npor, (fronteira_eficiente$er - tx_livre_risco)/fronteira_eficiente$sd,\n",
    "     col = \"blue\", ylab = \"Índice Sharp\", xlab = \"Nº Portifólio\", type = 'l')"
   ]
  },
  {
   "cell_type": "code",
   "execution_count": null,
   "metadata": {},
   "outputs": [],
   "source": []
  }
 ],
 "metadata": {
  "kernelspec": {
   "display_name": "R",
   "language": "R",
   "name": "ir"
  },
  "language_info": {
   "codemirror_mode": "r",
   "file_extension": ".r",
   "mimetype": "text/x-r-source",
   "name": "R",
   "pygments_lexer": "r",
   "version": "3.6.1"
  }
 },
 "nbformat": 4,
 "nbformat_minor": 4
}
