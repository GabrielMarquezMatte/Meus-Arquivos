{
 "cells": [
  {
   "cell_type": "code",
   "execution_count": 1,
   "metadata": {},
   "outputs": [],
   "source": [
    "pacotes <- c(\"IntroCompFinR\", \"tidyquant\",\"tidyverse\")\n",
    "for(i in pacotes){\n",
    "    suppressPackageStartupMessages(library(i, character.only = T))\n",
    "}\n",
    "options(warn = -1)"
   ]
  },
  {
   "cell_type": "code",
   "execution_count": 2,
   "metadata": {},
   "outputs": [],
   "source": [
    "acoes <- c(\"TRPL4.SA\",\"ITUB4.SA\", \"GRND3.SA\", \"ABCB4.SA\", \"WEGE3.SA\")\n",
    "data_inicio <- Sys.Date()-365*8\n",
    "ret_d <- tq_get(acoes, from = data_inicio) %>%\n",
    "  group_by(symbol) %>%\n",
    "  tq_transmute(select = adjusted, mutate_fun = dailyReturn) %>%\n",
    "  spread(key = symbol, value = daily.returns)"
   ]
  },
  {
   "cell_type": "code",
   "execution_count": 3,
   "metadata": {},
   "outputs": [
    {
     "name": "stdout",
     "output_type": "stream",
     "text": [
      " ABCB4.SA  GRND3.SA  ITUB4.SA  TRPL4.SA  WEGE3.SA \n",
      "0.1665540 0.2197034 0.1947341 0.3334536 0.3985385 \n"
     ]
    }
   ],
   "source": [
    "retorno_medio <- colMeans(ret_d[,-1])*252\n",
    "print(retorno_medio)"
   ]
  },
  {
   "cell_type": "code",
   "execution_count": 4,
   "metadata": {},
   "outputs": [
    {
     "data": {
      "text/html": [
       "<table>\n",
       "<caption>A matrix: 5 × 5 of type dbl</caption>\n",
       "<thead>\n",
       "\t<tr><th></th><th scope=col>ABCB4.SA</th><th scope=col>GRND3.SA</th><th scope=col>ITUB4.SA</th><th scope=col>TRPL4.SA</th><th scope=col>WEGE3.SA</th></tr>\n",
       "</thead>\n",
       "<tbody>\n",
       "\t<tr><th scope=row>ABCB4.SA</th><td>0.11969502</td><td>0.03658851</td><td>0.06097996</td><td>0.02795728</td><td>0.03037572</td></tr>\n",
       "\t<tr><th scope=row>GRND3.SA</th><td>0.03658851</td><td>0.10033373</td><td>0.03945906</td><td>0.02328306</td><td>0.02864024</td></tr>\n",
       "\t<tr><th scope=row>ITUB4.SA</th><td>0.06097996</td><td>0.03945906</td><td>0.10848702</td><td>0.03329467</td><td>0.03803315</td></tr>\n",
       "\t<tr><th scope=row>TRPL4.SA</th><td>0.02795728</td><td>0.02328306</td><td>0.03329467</td><td>0.08318835</td><td>0.01836974</td></tr>\n",
       "\t<tr><th scope=row>WEGE3.SA</th><td>0.03037572</td><td>0.02864024</td><td>0.03803315</td><td>0.01836974</td><td>0.10644451</td></tr>\n",
       "</tbody>\n",
       "</table>\n"
      ],
      "text/latex": [
       "A matrix: 5 × 5 of type dbl\n",
       "\\begin{tabular}{r|lllll}\n",
       "  & ABCB4.SA & GRND3.SA & ITUB4.SA & TRPL4.SA & WEGE3.SA\\\\\n",
       "\\hline\n",
       "\tABCB4.SA & 0.11969502 & 0.03658851 & 0.06097996 & 0.02795728 & 0.03037572\\\\\n",
       "\tGRND3.SA & 0.03658851 & 0.10033373 & 0.03945906 & 0.02328306 & 0.02864024\\\\\n",
       "\tITUB4.SA & 0.06097996 & 0.03945906 & 0.10848702 & 0.03329467 & 0.03803315\\\\\n",
       "\tTRPL4.SA & 0.02795728 & 0.02328306 & 0.03329467 & 0.08318835 & 0.01836974\\\\\n",
       "\tWEGE3.SA & 0.03037572 & 0.02864024 & 0.03803315 & 0.01836974 & 0.10644451\\\\\n",
       "\\end{tabular}\n"
      ],
      "text/markdown": [
       "\n",
       "A matrix: 5 × 5 of type dbl\n",
       "\n",
       "| <!--/--> | ABCB4.SA | GRND3.SA | ITUB4.SA | TRPL4.SA | WEGE3.SA |\n",
       "|---|---|---|---|---|---|\n",
       "| ABCB4.SA | 0.11969502 | 0.03658851 | 0.06097996 | 0.02795728 | 0.03037572 |\n",
       "| GRND3.SA | 0.03658851 | 0.10033373 | 0.03945906 | 0.02328306 | 0.02864024 |\n",
       "| ITUB4.SA | 0.06097996 | 0.03945906 | 0.10848702 | 0.03329467 | 0.03803315 |\n",
       "| TRPL4.SA | 0.02795728 | 0.02328306 | 0.03329467 | 0.08318835 | 0.01836974 |\n",
       "| WEGE3.SA | 0.03037572 | 0.02864024 | 0.03803315 | 0.01836974 | 0.10644451 |\n",
       "\n"
      ],
      "text/plain": [
       "         ABCB4.SA   GRND3.SA   ITUB4.SA   TRPL4.SA   WEGE3.SA  \n",
       "ABCB4.SA 0.11969502 0.03658851 0.06097996 0.02795728 0.03037572\n",
       "GRND3.SA 0.03658851 0.10033373 0.03945906 0.02328306 0.02864024\n",
       "ITUB4.SA 0.06097996 0.03945906 0.10848702 0.03329467 0.03803315\n",
       "TRPL4.SA 0.02795728 0.02328306 0.03329467 0.08318835 0.01836974\n",
       "WEGE3.SA 0.03037572 0.02864024 0.03803315 0.01836974 0.10644451"
      ]
     },
     "metadata": {},
     "output_type": "display_data"
    }
   ],
   "source": [
    "covar <- cov(ret_d[,-1], use = \"na.or.complete\")*252\n",
    "covar"
   ]
  },
  {
   "cell_type": "code",
   "execution_count": 5,
   "metadata": {},
   "outputs": [
    {
     "data": {
      "text/html": [
       "<table>\n",
       "<caption>A matrix: 5 × 5 of type dbl</caption>\n",
       "<thead>\n",
       "\t<tr><th></th><th scope=col>ABCB4.SA</th><th scope=col>GRND3.SA</th><th scope=col>ITUB4.SA</th><th scope=col>TRPL4.SA</th><th scope=col>WEGE3.SA</th></tr>\n",
       "</thead>\n",
       "<tbody>\n",
       "\t<tr><th scope=row>ABCB4.SA</th><td>1.0000000</td><td>0.3338745</td><td>0.5351311</td><td>0.2801726</td><td>0.2691082</td></tr>\n",
       "\t<tr><th scope=row>GRND3.SA</th><td>0.3338745</td><td>1.0000000</td><td>0.3782112</td><td>0.2548504</td><td>0.2771351</td></tr>\n",
       "\t<tr><th scope=row>ITUB4.SA</th><td>0.5351311</td><td>0.3782112</td><td>1.0000000</td><td>0.3504730</td><td>0.3539254</td></tr>\n",
       "\t<tr><th scope=row>TRPL4.SA</th><td>0.2801726</td><td>0.2548504</td><td>0.3504730</td><td>1.0000000</td><td>0.1952137</td></tr>\n",
       "\t<tr><th scope=row>WEGE3.SA</th><td>0.2691082</td><td>0.2771351</td><td>0.3539254</td><td>0.1952137</td><td>1.0000000</td></tr>\n",
       "</tbody>\n",
       "</table>\n"
      ],
      "text/latex": [
       "A matrix: 5 × 5 of type dbl\n",
       "\\begin{tabular}{r|lllll}\n",
       "  & ABCB4.SA & GRND3.SA & ITUB4.SA & TRPL4.SA & WEGE3.SA\\\\\n",
       "\\hline\n",
       "\tABCB4.SA & 1.0000000 & 0.3338745 & 0.5351311 & 0.2801726 & 0.2691082\\\\\n",
       "\tGRND3.SA & 0.3338745 & 1.0000000 & 0.3782112 & 0.2548504 & 0.2771351\\\\\n",
       "\tITUB4.SA & 0.5351311 & 0.3782112 & 1.0000000 & 0.3504730 & 0.3539254\\\\\n",
       "\tTRPL4.SA & 0.2801726 & 0.2548504 & 0.3504730 & 1.0000000 & 0.1952137\\\\\n",
       "\tWEGE3.SA & 0.2691082 & 0.2771351 & 0.3539254 & 0.1952137 & 1.0000000\\\\\n",
       "\\end{tabular}\n"
      ],
      "text/markdown": [
       "\n",
       "A matrix: 5 × 5 of type dbl\n",
       "\n",
       "| <!--/--> | ABCB4.SA | GRND3.SA | ITUB4.SA | TRPL4.SA | WEGE3.SA |\n",
       "|---|---|---|---|---|---|\n",
       "| ABCB4.SA | 1.0000000 | 0.3338745 | 0.5351311 | 0.2801726 | 0.2691082 |\n",
       "| GRND3.SA | 0.3338745 | 1.0000000 | 0.3782112 | 0.2548504 | 0.2771351 |\n",
       "| ITUB4.SA | 0.5351311 | 0.3782112 | 1.0000000 | 0.3504730 | 0.3539254 |\n",
       "| TRPL4.SA | 0.2801726 | 0.2548504 | 0.3504730 | 1.0000000 | 0.1952137 |\n",
       "| WEGE3.SA | 0.2691082 | 0.2771351 | 0.3539254 | 0.1952137 | 1.0000000 |\n",
       "\n"
      ],
      "text/plain": [
       "         ABCB4.SA  GRND3.SA  ITUB4.SA  TRPL4.SA  WEGE3.SA \n",
       "ABCB4.SA 1.0000000 0.3338745 0.5351311 0.2801726 0.2691082\n",
       "GRND3.SA 0.3338745 1.0000000 0.3782112 0.2548504 0.2771351\n",
       "ITUB4.SA 0.5351311 0.3782112 1.0000000 0.3504730 0.3539254\n",
       "TRPL4.SA 0.2801726 0.2548504 0.3504730 1.0000000 0.1952137\n",
       "WEGE3.SA 0.2691082 0.2771351 0.3539254 0.1952137 1.0000000"
      ]
     },
     "metadata": {},
     "output_type": "display_data"
    }
   ],
   "source": [
    "matriz_cor <- cor(ret_d[,-1], use = \"na.or.complete\")\n",
    "matriz_cor"
   ]
  },
  {
   "cell_type": "code",
   "execution_count": 31,
   "metadata": {},
   "outputs": [],
   "source": [
    "tx_livre_risco <- 0.2"
   ]
  },
  {
   "cell_type": "code",
   "execution_count": 32,
   "metadata": {},
   "outputs": [],
   "source": [
    "short_selling <- T"
   ]
  },
  {
   "cell_type": "code",
   "execution_count": 33,
   "metadata": {},
   "outputs": [
    {
     "data": {
      "text/plain": [
       "Call:\n",
       "tangency.portfolio(er = retorno_medio, cov.mat = covar, risk.free = tx_livre_risco, \n",
       "    shorts = short_selling)\n",
       "\n",
       "Portfolio expected return:     0.5255602 \n",
       "Portfolio standard deviation:  0.3931711 \n",
       "Portfolio weights:\n",
       "ABCB4.SA GRND3.SA ITUB4.SA TRPL4.SA WEGE3.SA \n",
       " -0.3497  -0.1062  -0.4023   0.8466   1.0117 "
      ]
     },
     "metadata": {},
     "output_type": "display_data"
    }
   ],
   "source": [
    "carteira_eficiente <- tangency.portfolio(retorno_medio, covar, tx_livre_risco, shorts = short_selling)\n",
    "\n",
    "carteira_eficiente"
   ]
  },
  {
   "cell_type": "code",
   "execution_count": 34,
   "metadata": {},
   "outputs": [
    {
     "data": {
      "text/html": [
       "0.828036773463878"
      ],
      "text/latex": [
       "0.828036773463878"
      ],
      "text/markdown": [
       "0.828036773463878"
      ],
      "text/plain": [
       "[1] 0.8280368"
      ]
     },
     "metadata": {},
     "output_type": "display_data"
    }
   ],
   "source": [
    "sharpe <- (carteira_eficiente$er-tx_livre_risco)/carteira_eficiente$sd\n",
    "sharpe"
   ]
  },
  {
   "cell_type": "code",
   "execution_count": 35,
   "metadata": {},
   "outputs": [
    {
     "data": {
      "text/plain": [
       "Call:\n",
       "globalMin.portfolio(er = retorno_medio, cov.mat = covar, shorts = short_selling)\n",
       "\n",
       "Portfolio expected return:     0.2933044 \n",
       "Portfolio standard deviation:  0.210483 \n",
       "Portfolio weights:\n",
       "ABCB4.SA GRND3.SA ITUB4.SA TRPL4.SA WEGE3.SA \n",
       "  0.1272   0.2204   0.0666   0.3492   0.2365 "
      ]
     },
     "metadata": {},
     "output_type": "display_data"
    }
   ],
   "source": [
    "carteira_min_risco <- globalMin.portfolio(retorno_medio, covar, shorts = short_selling)\n",
    "\n",
    "carteira_min_risco"
   ]
  },
  {
   "cell_type": "code",
   "execution_count": 36,
   "metadata": {},
   "outputs": [
    {
     "data": {
      "text/plain": [
       "Call:\n",
       "efficient.frontier(er = retorno_medio, cov.mat = covar, nport = npor, \n",
       "    shorts = short_selling)\n",
       "\n",
       "Frontier portfolios' expected returns and standard deviations\n",
       "   port 1 port 2 port 3 port 4 port 5 port 6 port 7 port 8 port 9 port 10\n",
       "ER 0.4512 0.4490 0.4469 0.4448 0.4427 0.4405 0.4384 0.4363 0.4341  0.4320\n",
       "SD 0.3086 0.3064 0.3042 0.3020 0.2998 0.2977 0.2955 0.2934 0.2913  0.2892\n",
       "   port 11 port 12 port 13 port 14 port 15 port 16 port 17 port 18 port 19\n",
       "ER  0.4299  0.4278  0.4256  0.4235  0.4214  0.4193  0.4171  0.4150  0.4129\n",
       "SD  0.2871  0.2851  0.2830  0.2810  0.2790  0.2770  0.2751  0.2731  0.2712\n",
       "   port 20 port 21 port 22 port 23 port 24 port 25 port 26 port 27 port 28\n",
       "ER  0.4108  0.4086  0.4065  0.4044  0.4023  0.4001  0.3980  0.3959  0.3938\n",
       "SD  0.2693  0.2674  0.2655  0.2637  0.2619  0.2601  0.2583  0.2565  0.2548\n",
       "   port 29 port 30 port 31 port 32 port 33 port 34 port 35 port 36 port 37\n",
       "ER  0.3916  0.3895  0.3874  0.3853  0.3831   0.381  0.3789  0.3767  0.3746\n",
       "SD  0.2531  0.2514  0.2498  0.2482  0.2466   0.245  0.2435  0.2419  0.2405\n",
       "   port 38 port 39 port 40 port 41 port 42 port 43 port 44 port 45 port 46\n",
       "ER  0.3725  0.3704  0.3682  0.3661  0.3640  0.3619  0.3597  0.3576  0.3555\n",
       "SD  0.2390  0.2376  0.2362  0.2348  0.2335  0.2322  0.2309  0.2297  0.2285\n",
       "   port 47 port 48 port 49 port 50 port 51 port 52 port 53 port 54 port 55\n",
       "ER  0.3534  0.3512  0.3491   0.347  0.3449  0.3427  0.3406  0.3385  0.3364\n",
       "SD  0.2273  0.2262  0.2251   0.224  0.2230  0.2220  0.2211  0.2202  0.2193\n",
       "   port 56 port 57 port 58 port 59 port 60 port 61 port 62 port 63 port 64\n",
       "ER  0.3342  0.3321  0.3300  0.3279  0.3257  0.3236  0.3215  0.3193  0.3172\n",
       "SD  0.2185  0.2177  0.2169  0.2162  0.2155  0.2149  0.2143  0.2138  0.2132\n",
       "   port 65 port 66 port 67 port 68 port 69 port 70 port 71 port 72 port 73\n",
       "ER  0.3151  0.3130  0.3108  0.3087  0.3066  0.3045  0.3023  0.3002  0.2981\n",
       "SD  0.2128  0.2124  0.2120  0.2116  0.2113  0.2111  0.2109  0.2107  0.2106\n",
       "   port 74 port 75 port 76 port 77 port 78 port 79 port 80 port 81 port 82\n",
       "ER  0.2960  0.2938  0.2917  0.2896  0.2875  0.2853  0.2832  0.2811  0.2790\n",
       "SD  0.2105  0.2105  0.2105  0.2106  0.2106  0.2108  0.2110  0.2112  0.2115\n",
       "   port 83 port 84 port 85 port 86 port 87 port 88 port 89 port 90 port 91\n",
       "ER  0.2768  0.2747  0.2726  0.2705  0.2683  0.2662  0.2641  0.2619  0.2598\n",
       "SD  0.2118  0.2122  0.2126  0.2130  0.2135  0.2140  0.2146  0.2152  0.2159\n",
       "   port 92 port 93 port 94 port 95 port 96 port 97 port 98 port 99 port 100\n",
       "ER  0.2577  0.2556  0.2534  0.2513  0.2492  0.2471  0.2449  0.2428   0.2407\n",
       "SD  0.2166  0.2173  0.2181  0.2189  0.2197  0.2206  0.2216  0.2225   0.2235"
      ]
     },
     "metadata": {},
     "output_type": "display_data"
    }
   ],
   "source": [
    "npor <- 100\n",
    "fronteira_eficiente <- efficient.frontier(retorno_medio, covar, npor, shorts = short_selling)\n",
    "\n",
    "fronteira_eficiente"
   ]
  },
  {
   "cell_type": "code",
   "execution_count": 37,
   "metadata": {},
   "outputs": [
    {
     "data": {
      "image/png": "[encoded data removed]",
      "text/plain": [
       "Plot with title \"Efficient Frontier\""
      ]
     },
     "metadata": {
      "image/png": {
       "height": 420,
       "width": 420
      }
     },
     "output_type": "display_data"
    }
   ],
   "source": [
    "plot(fronteira_eficiente, plot.asset = TRUE,\n",
    "     col = ifelse(fronteira_eficiente$er == carteira_eficiente$er,\"red\",\n",
    "                  \"blue\"), pch = 16)\n",
    "points(carteira_min_risco$sd, carteira_min_risco$er, col = \"green\", pch = 10, cex = 2)\n",
    "points(carteira_eficiente$sd, carteira_eficiente$er, col = \"red\", pch = 10, cex = 2)\n",
    "text(carteira_min_risco$sd, carteira_min_risco$er, labels = \"Risco Mínimo\", pos = 2)\n",
    "text(carteira_eficiente$sd, carteira_eficiente$er, labels = \"Carteira Eficiente\", pos = 2)\n",
    "tangente <- (carteira_eficiente$er - tx_livre_risco)/carteira_eficiente$sd\n",
    "abline(a = tx_livre_risco, b = tangente, col = \"green\", lwd = 2)"
   ]
  },
  {
   "cell_type": "code",
   "execution_count": 14,
   "metadata": {},
   "outputs": [
    {
     "data": {
      "image/png": "[encoded data removed]",
      "text/plain": [
       "Plot with title \"Sharpe dos portifólios\""
      ]
     },
     "metadata": {
      "image/png": {
       "height": 420,
       "width": 420
      }
     },
     "output_type": "display_data"
    }
   ],
   "source": [
    "plot(1:npor, (fronteira_eficiente$er - tx_livre_risco)/fronteira_eficiente$sd,\n",
    "     col = \"blue\", ylab = \"Índice Sharpe\", xlab = \"Nº Portifólio\", type = 'l',\n",
    "    main = \"Sharpe dos portifólios\")\n",
    "abline(h = 0)"
   ]
  },
  {
   "cell_type": "code",
   "execution_count": null,
   "metadata": {},
   "outputs": [],
   "source": []
  }
 ],
 "metadata": {
  "kernelspec": {
   "display_name": "R",
   "language": "R",
   "name": "ir"
  },
  "language_info": {
   "codemirror_mode": "r",
   "file_extension": ".r",
   "mimetype": "text/x-r-source",
   "name": "R",
   "pygments_lexer": "r",
   "version": "4.0.2"
  }
 },
 "nbformat": 4,
 "nbformat_minor": 4
}
