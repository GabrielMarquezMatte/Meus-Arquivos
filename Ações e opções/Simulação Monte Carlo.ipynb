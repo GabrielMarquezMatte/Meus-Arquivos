{
 "cells": [
  {
   "cell_type": "code",
   "execution_count": 74,
   "metadata": {},
   "outputs": [
    {
     "data": {
      "image/png": "[encoded data removed]",
      "text/plain": [
       "Plot with title \"Aproximação PI Monte Carlo = 3.138\""
      ]
     },
     "metadata": {
      "image/png": {
       "height": 420,
       "width": 420
      },
      "text/plain": {
       "height": 420,
       "width": 420
      }
     },
     "output_type": "display_data"
    }
   ],
   "source": [
    "#Simulação de PI\n",
    "n_sim <- 10000\n",
    "minimo <- -0.1\n",
    "if(minimo >= 0){\n",
    "    break\n",
    "}\n",
    "maximo <- -minimo\n",
    "x <- runif(n_sim, minimo, maximo)\n",
    "y <- runif(n_sim, minimo, maximo)\n",
    "\n",
    "dentro_circulo <- x^2 + y^2 <= maximo^2\n",
    "\n",
    "pi_monte_carlo <- (sum(dentro_circulo)/n_sim)*4\n",
    "\n",
    "plot(x,y,pch='.',col=ifelse(dentro_circulo,\"red\",\"white\")\n",
    "    ,xlab='', ylab='',asp=1,\n",
    "    main=paste(\"Aproximação PI Monte Carlo =\", pi_monte_carlo))"
   ]
  },
  {
   "cell_type": "code",
   "execution_count": 94,
   "metadata": {},
   "outputs": [
    {
     "name": "stderr",
     "output_type": "stream",
     "text": [
      "Warning message:\n",
      "\"package 'dplyr' was built under R version 3.6.3\"\n",
      "\n",
      "Attaching package: 'dplyr'\n",
      "\n",
      "\n",
      "The following objects are masked from 'package:stats':\n",
      "\n",
      "    filter, lag\n",
      "\n",
      "\n",
      "The following objects are masked from 'package:base':\n",
      "\n",
      "    intersect, setdiff, setequal, union\n",
      "\n",
      "\n"
     ]
    }
   ],
   "source": [
    "library(stats)\n",
    "library(ggplot2)\n",
    "library(dplyr)\n",
    "periodo <- 1:252"
   ]
  },
  {
   "cell_type": "code",
   "execution_count": 202,
   "metadata": {},
   "outputs": [],
   "source": [
    "#Retorno esperado e desvio-padrão\n",
    "u <- 0.2\n",
    "\n",
    "sd <- 0.2"
   ]
  },
  {
   "cell_type": "code",
   "execution_count": 203,
   "metadata": {},
   "outputs": [],
   "source": [
    "#Dados da simulação\n",
    "n_sim <- 2000\n",
    "total_sim <- matrix(0, nrow = length(periodo), ncol = n_sim)\n",
    "p_inicial <- 100"
   ]
  },
  {
   "cell_type": "code",
   "execution_count": 204,
   "metadata": {},
   "outputs": [],
   "source": [
    "for(j in 1:n_sim){\n",
    "    aux <- 2\n",
    "    p <- p_inicial\n",
    "    preco <- c(p)\n",
    "    dist <- rnorm((length(periodo)-1), 0, 1)\n",
    "    for(i in dist)\n",
    "    {\n",
    "        P = p + p*(u/(length(periodo)-1) + sd/sqrt(length(periodo)-1)*i)\n",
    "        preco[aux] <- P\n",
    "        p = P\n",
    "        aux = aux + 1\n",
    "    }\n",
    "    total_sim[,j] <- preco\n",
    "}"
   ]
  },
  {
   "cell_type": "code",
   "execution_count": null,
   "metadata": {},
   "outputs": [],
   "source": [
    "matplot(total_sim,\n",
    "        main=\"Simulação de Monte Carlo\",\n",
    "        xlab=\"Tempo (dias)\",ylab=\"Preço\",\n",
    "        col=1:n_sim, type = \"l\")"
   ]
  },
  {
   "cell_type": "code",
   "execution_count": null,
   "metadata": {},
   "outputs": [],
   "source": [
    "#5% dos preços são menores que X e 95% são menores que Y\n",
    "round(quantile(total_sim,probs=c(0.05,0.95)),2)"
   ]
  },
  {
   "cell_type": "code",
   "execution_count": null,
   "metadata": {},
   "outputs": [],
   "source": [
    "p_5 <- qnorm(0.05)\n",
    "p_1 <- qnorm(0.01)"
   ]
  },
  {
   "cell_type": "code",
   "execution_count": null,
   "metadata": {},
   "outputs": [],
   "source": [
    "Ug <- (1+u)^(1/(length(periodo)-1))-1\n",
    "sd_d <- sd/sqrt((length(periodo)-1))\n",
    "VaR5 <- round((1-exp(p_5*sd_d+Ug))*100,3)\n",
    "names(VaR5) <- \"VaR diário em % com 5% chance\"\n",
    "VaR5\n",
    "VaR1 <- round((1-exp(p_1*sd_d+Ug))*100,3)\n",
    "names(VaR1) <- \"VaR diário em % com 1% de chance\"\n",
    "VaR1"
   ]
  },
  {
   "cell_type": "code",
   "execution_count": null,
   "metadata": {},
   "outputs": [],
   "source": [
    "Ug_m <- (1+u)^(1/21)-1\n",
    "sd_m <- sd/sqrt(21)\n",
    "VaR5_m <- round((1-exp(p_5*sd_m+Ug_m))*100,3)\n",
    "names(VaR5_m) <- \"VaR mensal em % com 5% chance\"\n",
    "VaR5_m\n",
    "VaR1_m <- round((1-exp(p_1*sd_m+Ug_m))*100,3)\n",
    "names(VaR1_m) <- \"VaR mensal em % com 1% de chance\"\n",
    "VaR1_m"
   ]
  },
  {
   "cell_type": "code",
   "execution_count": null,
   "metadata": {},
   "outputs": [],
   "source": [
    "round(min(total_sim),2)"
   ]
  },
  {
   "cell_type": "code",
   "execution_count": null,
   "metadata": {},
   "outputs": [],
   "source": [
    "estatisticas <- round(c(mean(total_sim[length(periodo),]), min(total_sim),\n",
    "                  max(total_sim), 100*(quantile(total_sim[length(periodo),], probs = 0.5)/p_inicial)-100),2)\n",
    "names(estatisticas) <- c(\"Média final\", \"Mínimo\", \"Máximo\", \"Retorno 50% em %\")\n",
    "print(estatisticas)"
   ]
  },
  {
   "cell_type": "code",
   "execution_count": null,
   "metadata": {},
   "outputs": [],
   "source": [
    "fora_curva <- round(c(((min(total_sim)/p_inicial)-1)*100,\n",
    "                      ((max(total_sim)/p_inicial)-1)*100),3)\n",
    "names(fora_curva) <- c(\"Perda Máxima %\", \"Ganho Máximo %\")\n",
    "print(fora_curva)"
   ]
  },
  {
   "cell_type": "code",
   "execution_count": null,
   "metadata": {},
   "outputs": [],
   "source": [
    "data <- data.frame(Final = total_sim[nrow(total_sim),])\n",
    "ggplot(data, aes(x = Final, after_stat(density)))+\n",
    "  geom_histogram(fill = \"blue\", col = \"black\", bins = 25)+\n",
    "  geom_density()+\n",
    "  geom_vline(xintercept = c(mean(data$Final),\n",
    "                            mean(data$Final)+2*sd(data$Final),\n",
    "                            mean(data$Final)-2*sd(data$Final)),\n",
    "             col = c(\"black\", \"red\", \"red\"), lty = c(1,2,2))+\n",
    "  labs(x = \"Preço Final\", y = \"Densidade\", title = \"Histograma de preços\",\n",
    "       subtitle = paste0(\"Média = R$\",round(mean(data$Final),2)))"
   ]
  },
  {
   "cell_type": "code",
   "execution_count": null,
   "metadata": {},
   "outputs": [],
   "source": [
    "#Probabilidade pela distribuição normal\n",
    "prob1 <- pnorm(data$Final, mean = mean(data$Final), sd = sd(data$Final))\n",
    "prob1 <- data.frame(Preços = sort(data$Final), Probabilidade = sort(prob1))\n",
    "pre <- pnorm(p_inicial, mean = mean(prob1$Preços), sd = sd(prob1$Preços))\n",
    "ggplot(prob1, aes(x = Preços, y = Probabilidade))+\n",
    "  geom_line()+\n",
    "  geom_hline(yintercept = pre, col = \"red\")+\n",
    "  geom_vline(xintercept = p_inicial, col = \"red\")+\n",
    "  labs(title = \"Probabilidade cumulativa do investimento\",\n",
    "       subtitle = paste0(\"A probabilidade de retorno negativo ou zero = \",round(pre*100,2),\"%\"))+\n",
    "  geom_point(aes(x = p_inicial, y = pre), col = \"blue\")+\n",
    "  scale_y_continuous(labels = scales::percent)"
   ]
  },
  {
   "cell_type": "code",
   "execution_count": null,
   "metadata": {},
   "outputs": [],
   "source": [
    "#Probabilidade pela soma cumulativa da densidade empírica\n",
    "d <- density(data$Final)\n",
    "d <- data.frame(x = d$x, prob = cumsum(d$y)/max(cumsum(d$y)))\n",
    "proba <- round(d$prob[which(d$x >= p_inicial & d$x <= p_inicial*1.05)]*100,2)\n",
    "ggplot(d,aes(x = x, y = prob))+\n",
    "  geom_line()+\n",
    "  geom_hline(yintercept = first(d$prob[which(d$x >= p_inicial & d$x <= p_inicial*1.05)]), col = \"red\")+\n",
    "  geom_vline(xintercept = p_inicial, col = \"red\")+\n",
    "  geom_point(aes(x = p_inicial,\n",
    "                 y = first(prob[which(x >= p_inicial & x <= p_inicial*1.05)])),\n",
    "             col = \"blue\")+\n",
    "  labs(subtitle = paste0(\"Probabilidade de retorno negativo ou zero =\",\n",
    "                         first(proba),\"%\"),\n",
    "       x = \"Preço\", y = \"Probabilidade\", title = \"Probabilidade cumulativa\")+\n",
    "  scale_y_continuous(labels = scales::percent)"
   ]
  },
  {
   "cell_type": "code",
   "execution_count": null,
   "metadata": {},
   "outputs": [],
   "source": []
  }
 ],
 "metadata": {
  "kernelspec": {
   "display_name": "R",
   "language": "R",
   "name": "ir"
  },
  "language_info": {
   "codemirror_mode": "r",
   "file_extension": ".r",
   "mimetype": "text/x-r-source",
   "name": "R",
   "pygments_lexer": "r",
   "version": "3.6.1"
  }
 },
 "nbformat": 4,
 "nbformat_minor": 4
}
