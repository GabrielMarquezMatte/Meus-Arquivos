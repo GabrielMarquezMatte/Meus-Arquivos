{
 "cells": [
  {
   "cell_type": "code",
   "execution_count": null,
   "metadata": {},
   "outputs": [],
   "source": [
    "informes_cvm <- function(date){\n",
    "  library(data.table)\n",
    "  stopifnot(is(date,\"Date\"))\n",
    "  date <- format(date,\"%Y%m\")\n",
    "  url <- paste0(\"http://dados.cvm.gov.br/dados/FI/DOC/INF_DIARIO/DADOS/inf_diario_fi_\",\n",
    "                date,\".csv\")\n",
    "  excel <- fread(url, encoding = \"Latin-1\", dec = \",\")\n",
    "  excel$CAPTC_DIA <- as.numeric(excel$CAPTC_DIA)\n",
    "  excel$RESG_DIA <- as.numeric(excel$RESG_DIA)\n",
    "  excel$VL_QUOTA <- as.numeric(excel$VL_QUOTA)\n",
    "  excel$VL_TOTAL <- as.numeric(excel$VL_TOTAL)\n",
    "  excel$VL_PATRIM_LIQ <- as.numeric(excel$VL_PATRIM_LIQ)\n",
    "  for(i in 1:nrow(excel)){\n",
    "    if(excel$VL_TOTAL[i] == 0){\n",
    "      excel[i,] <- NA\n",
    "    }\n",
    "  }\n",
    "  excel <- excel %>%\n",
    "    drop_na()\n",
    "  return(excel)\n",
    "}\n",
    "cadastro_cvm <- function(date){\n",
    "  library(data.table)\n",
    "  stopifnot(is(date,\"Date\"))\n",
    "  date <- format(date,\"%Y%m%d\")\n",
    "  url <- paste0(\"http://dados.cvm.gov.br/dados/FI/CAD/DADOS/inf_cadastral_fi_\",\n",
    "                date,\".csv\")\n",
    "  excel <- fread(url, encoding = \"Latin-1\", dec = \",\")\n",
    "  excel$VL_PATRIM_LIQ <- as.numeric(excel$VL_PATRIM_LIQ)\n",
    "  excel$TAXA_PERFM <- as.numeric(str_extract(excel$TAXA_PERFM, \"[0-9]{2}\"))/100\n",
    "  for(i in 1:nrow(excel)){\n",
    "    if(excel$VL_PATRIM_LIQ[i] == 0){\n",
    "      excel[i,] <- NA\n",
    "    }\n",
    "  }\n",
    "  excel <- excel %>%\n",
    "    drop_na()\n",
    "  return(excel)\n",
    "}"
   ]
  }
 ],
 "metadata": {
  "kernelspec": {
   "display_name": "R",
   "language": "R",
   "name": "ir"
  },
  "language_info": {
   "codemirror_mode": "r",
   "file_extension": ".r",
   "mimetype": "text/x-r-source",
   "name": "R",
   "pygments_lexer": "r",
   "version": "4.0.2"
  }
 },
 "nbformat": 4,
 "nbformat_minor": 4
}
