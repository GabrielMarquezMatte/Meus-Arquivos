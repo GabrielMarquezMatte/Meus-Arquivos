{
 "cells": [
  {
   "cell_type": "code",
   "execution_count": 2,
   "metadata": {},
   "outputs": [],
   "source": [
    "#Funções de risco e de retorno de carteiras\n",
    "portfolio_sd_t <- function(sd, cov, weight){\n",
    "  stopifnot(length(sd) > 1, is.matrix(cov), length(sd) == length(weight))\n",
    "  for(i in 1:(length(sd)-1)){\n",
    "    for(j in (i+1):length(sd)){\n",
    "      n <- sum(weight[i:length(sd)]^2*sd[i:length(sd)]^2)\n",
    "      m <- sum(2*weight[i]*weight[j]*cov[i,j])\n",
    "      sd <- sqrt(sum(weight[i:length(sd)]^2*sd[i:length(sd)]^2+\n",
    "                       2*weight[i]*weight[j]*cov[i,j]))\n",
    "      return(sd)\n",
    "    }\n",
    "  }\n",
    "}\n",
    "portfolio_return <- function(returns, weight){\n",
    "  if(!is.vector(returns) > 1){\n",
    "    mean <- apply(returns,2,mean, na.rm = T)\n",
    "  } else{\n",
    "    if(is.vector(returns)){\n",
    "      mean <- returns\n",
    "    }\n",
    "  }\n",
    "  total_return <- sum(weight*mean)\n",
    "  return(total_return)\n",
    "}"
   ]
  },
  {
   "cell_type": "code",
   "execution_count": 3,
   "metadata": {},
   "outputs": [],
   "source": [
    "options(warn = -1, scipen = 999)\n",
    "pacotes <- c(\"dplyr\", \"tidyr\",\"ggplot2\",\"tidyquant\",\"pracma\",\"rmgarch\",\"rugarch\")\n",
    "for(i in pacotes){\n",
    "    suppressPackageStartupMessages({\n",
    "        library(i, character.only = T)\n",
    "    })\n",
    "}"
   ]
  },
  {
   "cell_type": "code",
   "execution_count": 72,
   "metadata": {},
   "outputs": [],
   "source": [
    "#Ações escolhidas\n",
    "acoes <- c(\"VVAR3.SA\",\"MGLU3.SA\",\"CSNA3.SA\",\"TOTS3.SA\",\n",
    "           \"IRBR3.SA\",\"WEGE3.SA\")\n",
    "reta <- tq_get(acoes, from = \"2014-01-04\") %>%\n",
    "  group_by(symbol) %>%\n",
    "  tq_transmute(select = close, mutate_fun = dailyReturn) %>%\n",
    "  spread(key = symbol, value = daily.returns) %>%\n",
    "  na.omit"
   ]
  },
  {
   "cell_type": "code",
   "execution_count": 73,
   "metadata": {},
   "outputs": [],
   "source": [
    "year <- lubridate::year(dplyr::first(reta$date))\n",
    "month <- lubridate::month(dplyr::first(reta$date))\n",
    "day <- lubridate::day(dplyr::first(reta$date))"
   ]
  },
  {
   "cell_type": "code",
   "execution_count": 74,
   "metadata": {},
   "outputs": [],
   "source": [
    "reta_ts <- ts(reta[,2:ncol(reta)], start = c(year,month,day), frequency = 252)"
   ]
  },
  {
   "cell_type": "code",
   "execution_count": 75,
   "metadata": {},
   "outputs": [],
   "source": [
    "multspec <- multispec(replicate(length(acoes),\n",
    "                                ugarchspec(variance.model = list(garchOrder = c(1,1)))))\n",
    "multf <- multifit(multispec = multspec, data = reta_ts)\n",
    "multfor <- multiforecast(multf, n.ahead = 1)\n",
    "spec1 <- dccspec(uspec = multspec, dccOrder = c(1,1), distribution = \"mvnorm\")\n",
    "fit1 <- dccfit(spec1, data = reta_ts, fit = multf, fit.control = list(eval.se = T))\n",
    "fore <- dccforecast(fit = fit1, n.ahead = 1)"
   ]
  },
  {
   "cell_type": "code",
   "execution_count": 76,
   "metadata": {},
   "outputs": [],
   "source": [
    "#Matriz de covariância\n",
    "cov1 <- rcov(fit1)\n",
    "cov <- cov1[,,dim(cov1)[3]]\n",
    "cov_f <- rcov(fore)\n",
    "cov_f <- cov_f[[1]]\n",
    "cov_f <- cov_f[1:length(acoes),1:length(acoes),1]"
   ]
  },
  {
   "cell_type": "code",
   "execution_count": 77,
   "metadata": {},
   "outputs": [],
   "source": [
    "#Desvio das ações\n",
    "sd <- matrix(0, nrow = length(acoes))\n",
    "sd_f <- matrix(0, nrow = length(acoes))\n",
    "for(i in 1:nrow(sd)){\n",
    "  sd[[i]] <- dplyr::last(multf@fit[[i]]@fit[[\"sigma\"]])\n",
    "  sd_f[[i]] <- multfor@forecast[[i]]@forecast[[\"sigmaFor\"]]\n",
    "}\n",
    "rownames(sd) <- sort(acoes)\n",
    "rownames(sd_f) <- sort(acoes)\n",
    "sd_a <- sd*sqrt(252)\n",
    "sd_a_f <- sd_f*sqrt(252)"
   ]
  },
  {
   "cell_type": "code",
   "execution_count": 78,
   "metadata": {},
   "outputs": [
    {
     "name": "stderr",
     "output_type": "stream",
     "text": [
      "`summarise()` regrouping output by 'year' (override with `.groups` argument)\n",
      "\n"
     ]
    }
   ],
   "source": [
    "#Calculando o retorno esperado\n",
    "retornos_a <- tq_get(acoes, from = Sys.Date()-365*3) %>%\n",
    "  group_by(symbol) %>%\n",
    "  tq_transmute(select = close, mutate_fun= periodReturn, period = \"yearly\", fill = 0) %>%\n",
    "  mutate(year = year(date)) %>%\n",
    "  group_by(year,symbol) %>%\n",
    "  summarise(yearly.returns) %>%\n",
    "  spread(key = \"symbol\", value = \"yearly.returns\") %>%\n",
    "  na.fill(fill = 0)"
   ]
  },
  {
   "cell_type": "code",
   "execution_count": 79,
   "metadata": {},
   "outputs": [],
   "source": [
    "#Nº de simulações de carteiras a se fazer\n",
    "n_sim <- 30000\n",
    "pesos <- matrix(0,length(acoes),n_sim)\n",
    "pesos <- apply(pesos,2,rexp,0.001)\n",
    "pesos <- apply(pesos,2,function(x)x/sum(x))"
   ]
  },
  {
   "cell_type": "code",
   "execution_count": 80,
   "metadata": {},
   "outputs": [
    {
     "data": {
      "text/plain": [
       "Time difference of 5.233404 secs"
      ]
     },
     "metadata": {},
     "output_type": "display_data"
    }
   ],
   "source": [
    "#Escolha se prefere o risco atual ou a previsão de risco para 1 período (sd ou sd_f)\n",
    "start <- Sys.time()\n",
    "riscos <- apply(pesos, 2, portfolio_sd_t, sd = sd_f, cov = cov_f)*sqrt(252)\n",
    "retornos <- apply(pesos, 2, portfolio_return, returns = retornos_a[,2:ncol(retornos_a)])\n",
    "end <- Sys.time()\n",
    "end-start"
   ]
  },
  {
   "cell_type": "code",
   "execution_count": 81,
   "metadata": {},
   "outputs": [
    {
     "name": "stderr",
     "output_type": "stream",
     "text": [
      "`summarise()` ungrouping output (override with `.groups` argument)\n",
      "\n"
     ]
    }
   ],
   "source": [
    "#Retorno médio das ações\n",
    "retorno_med <- retornos_a %>%\n",
    "  data.frame %>%\n",
    "  gather(key = \"symbol\", value = \"return\", -year) %>%\n",
    "  group_by(symbol) %>%\n",
    "  summarise(media = mean(return)) %>%\n",
    "  spread(key = \"symbol\", value = \"media\")"
   ]
  },
  {
   "cell_type": "code",
   "execution_count": 82,
   "metadata": {},
   "outputs": [],
   "source": [
    "#Sharpe\n",
    "tx_livre_risco <- 0.02\n",
    "data <- data.frame(riscos = riscos, retornos = retornos, sharpe = (retornos-tx_livre_risco)/riscos)"
   ]
  },
  {
   "cell_type": "code",
   "execution_count": 88,
   "metadata": {},
   "outputs": [
    {
     "data": {
      "image/png": "[encoded data removed]",
      "text/plain": [
       "Plot with title \"Simulações de carteiras\""
      ]
     },
     "metadata": {
      "image/png": {
       "height": 420,
       "width": 420
      }
     },
     "output_type": "display_data"
    }
   ],
   "source": [
    "plot(riscos, retornos, pch = 16, col = \"lightblue\",xlim = c(min(riscos), max(sd_a_f)),\n",
    "    ylim = c(min(retorno_med), max(retorno_med)), main = \"Simulações de carteiras\")\n",
    "points(x = sd_a_f, y = retorno_med, col = 1:ncol(retorno_med), pch = 16)\n",
    "text(x = sd_a_f, y = retorno_med, labels = colnames(retorno_med), pos = 2)\n",
    "abline(a = tx_livre_risco, b = max(data$sharpe), col = \"red\")\n",
    "abline(h = 0,v = 0, lty = 2)"
   ]
  },
  {
   "cell_type": "code",
   "execution_count": 84,
   "metadata": {},
   "outputs": [
    {
     "data": {
      "text/html": [
       "<strong>Sharpe Máximo:</strong> 2.82846411667786"
      ],
      "text/latex": [
       "\\textbf{Sharpe Máximo:} 2.82846411667786"
      ],
      "text/markdown": [
       "**Sharpe Máximo:** 2.82846411667786"
      ],
      "text/plain": [
       "Sharpe Máximo \n",
       "     2.828464 "
      ]
     },
     "metadata": {},
     "output_type": "display_data"
    },
    {
     "data": {
      "text/html": [
       "<strong>Retorno Máximo:</strong> 0.819064360095321"
      ],
      "text/latex": [
       "\\textbf{Retorno Máximo:} 0.819064360095321"
      ],
      "text/markdown": [
       "**Retorno Máximo:** 0.819064360095321"
      ],
      "text/plain": [
       "Retorno Máximo \n",
       "     0.8190644 "
      ]
     },
     "metadata": {},
     "output_type": "display_data"
    },
    {
     "data": {
      "text/html": [
       "<strong>Risco Mínimo:</strong> 0.193876484994683"
      ],
      "text/latex": [
       "\\textbf{Risco Mínimo:} 0.193876484994683"
      ],
      "text/markdown": [
       "**Risco Mínimo:** 0.193876484994683"
      ],
      "text/plain": [
       "Risco Mínimo \n",
       "   0.1938765 "
      ]
     },
     "metadata": {},
     "output_type": "display_data"
    }
   ],
   "source": [
    "sharpe <- max(data$sharpe)\n",
    "names(sharpe) <- \"Sharpe Máximo\"\n",
    "Ret_max <- max(data$retornos)\n",
    "names(Ret_max) <- \"Retorno Máximo\"\n",
    "sd_min <- min(data$riscos)\n",
    "names(sd_min) <- \"Risco Mínimo\"\n",
    "sharpe\n",
    "Ret_max\n",
    "sd_min"
   ]
  },
  {
   "cell_type": "code",
   "execution_count": 85,
   "metadata": {
    "scrolled": true
   },
   "outputs": [
    {
     "name": "stdout",
     "output_type": "stream",
     "text": [
      "        riscos  retornos   sharpe\n",
      "7739 0.2113116 0.6176873 2.828464\n"
     ]
    }
   ],
   "source": [
    "#Somente ver a linha que tem o maior sharpe\n",
    "positivo <- data$sharpe == sharpe\n",
    "show(data[positivo,])"
   ]
  },
  {
   "cell_type": "markdown",
   "metadata": {},
   "source": [
    "## A linha do data.frame \"data\" equivale a coluna da matriz de pesos"
   ]
  },
  {
   "cell_type": "code",
   "execution_count": 86,
   "metadata": {},
   "outputs": [
    {
     "name": "stdout",
     "output_type": "stream",
     "text": [
      "CSNA3.SA IRBR3.SA MGLU3.SA TOTS3.SA VVAR3.SA WEGE3.SA \n",
      "    4.24     4.61    41.72     4.44    12.62    32.38 \n"
     ]
    }
   ],
   "source": [
    "#Pesos em % da melhor carteira\n",
    "pesos_efi <- round(pesos[,7739]*100,2)\n",
    "names(pesos_efi) <- sort(acoes)\n",
    "print(pesos_efi)"
   ]
  },
  {
   "cell_type": "code",
   "execution_count": 87,
   "metadata": {},
   "outputs": [
    {
     "data": {
      "text/html": [
       "<table>\n",
       "<caption>A data.frame: 1 × 3</caption>\n",
       "<thead>\n",
       "\t<tr><th scope=col>Risco</th><th scope=col>Retorno</th><th scope=col>Sharpe</th></tr>\n",
       "\t<tr><th scope=col>&lt;dbl&gt;</th><th scope=col>&lt;dbl&gt;</th><th scope=col>&lt;dbl&gt;</th></tr>\n",
       "</thead>\n",
       "<tbody>\n",
       "\t<tr><td>0.214172</td><td>0.6173712</td><td>2.789212</td></tr>\n",
       "</tbody>\n",
       "</table>\n"
      ],
      "text/latex": [
       "A data.frame: 1 × 3\n",
       "\\begin{tabular}{lll}\n",
       " Risco & Retorno & Sharpe\\\\\n",
       " <dbl> & <dbl> & <dbl>\\\\\n",
       "\\hline\n",
       "\t 0.214172 & 0.6173712 & 2.789212\\\\\n",
       "\\end{tabular}\n"
      ],
      "text/markdown": [
       "\n",
       "A data.frame: 1 × 3\n",
       "\n",
       "| Risco &lt;dbl&gt; | Retorno &lt;dbl&gt; | Sharpe &lt;dbl&gt; |\n",
       "|---|---|---|\n",
       "| 0.214172 | 0.6173712 | 2.789212 |\n",
       "\n"
      ],
      "text/plain": [
       "  Risco    Retorno   Sharpe  \n",
       "1 0.214172 0.6173712 2.789212"
      ]
     },
     "metadata": {},
     "output_type": "display_data"
    }
   ],
   "source": [
    "#Carteira eficiente com arredondamento de 3 casas decimais\n",
    "pesos_ef <- round(pesos[,7739],3)\n",
    "risco_ef <- portfolio_sd_t(sd = sd, cov = cov, weight = pesos_ef)*sqrt(252)\n",
    "ret_ef <- portfolio_return(returns = retornos_a[,2:ncol(retornos_a)], weight = pesos_ef)\n",
    "cart_ef <- data.frame(Risco = risco_ef, Retorno = ret_ef, Sharpe = (ret_ef-tx_livre_risco)/risco_ef)\n",
    "cart_ef"
   ]
  },
  {
   "cell_type": "code",
   "execution_count": null,
   "metadata": {},
   "outputs": [],
   "source": []
  }
 ],
 "metadata": {
  "kernelspec": {
   "display_name": "R",
   "language": "R",
   "name": "ir"
  },
  "language_info": {
   "codemirror_mode": "r",
   "file_extension": ".r",
   "mimetype": "text/x-r-source",
   "name": "R",
   "pygments_lexer": "r",
   "version": "4.0.2"
  }
 },
 "nbformat": 4,
 "nbformat_minor": 4
}
