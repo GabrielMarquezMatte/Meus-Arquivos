{
 "cells": [
  {
   "cell_type": "code",
   "execution_count": 1,
   "metadata": {},
   "outputs": [],
   "source": [
    "#Funções de risco e de retorno de carteiras\n",
    "portfolio_sd_t <- function(sd, cov, weight){\n",
    "  stopifnot(length(sd) > 1, is.matrix(cov), length(sd) == length(weight))\n",
    "  for(i in 1:(length(sd)-1)){\n",
    "    for(j in (i+1):length(sd)){\n",
    "      n <- sum(weight[i:length(sd)]^2*sd[i:length(sd)]^2)\n",
    "      m <- sum(2*weight[i]*weight[j]*cov[i,j])\n",
    "      sd <- sqrt(sum(weight[i:length(sd)]^2*sd[i:length(sd)]^2+\n",
    "                       2*weight[i]*weight[j]*cov[i,j]))\n",
    "      return(sd)\n",
    "    }\n",
    "  }\n",
    "}\n",
    "portfolio_return <- function(returns, weight){\n",
    "  if(!is.vector(returns)){\n",
    "    mean <- apply(returns,2,mean, na.rm = T)\n",
    "  } else{\n",
    "    if(is.vector(returns)){\n",
    "      mean <- returns\n",
    "    }\n",
    "  }\n",
    "  total_return <- sum(weight*mean)\n",
    "  return(total_return)\n",
    "}"
   ]
  },
  {
   "cell_type": "code",
   "execution_count": 2,
   "metadata": {},
   "outputs": [],
   "source": [
    "options(warn = -1, scipen = 999)\n",
    "pacotes <- c(\"dplyr\", \"tidyr\",\"ggplot2\",\"tidyquant\",\"pracma\",\"rmgarch\",\"rugarch\")\n",
    "for(i in pacotes){\n",
    "    suppressPackageStartupMessages({\n",
    "        library(i, character.only = T)\n",
    "    })\n",
    "}"
   ]
  },
  {
   "cell_type": "code",
   "execution_count": 3,
   "metadata": {},
   "outputs": [],
   "source": [
    "#Ações escolhidas\n",
    "acoes <- c(\"MGLU3.SA\",\"WEGE3.SA\",\"B3SA3.SA\",\"PRIO3.SA\",\"TRPL4.SA\",\"ITSA4.SA\")\n",
    "reta <- tq_get(acoes, from = \"2013-01-04\") %>%\n",
    "  group_by(symbol) %>%\n",
    "  tq_transmute(select = close, mutate_fun = dailyReturn) %>%\n",
    "  spread(key = symbol, value = daily.returns) %>%\n",
    "  na.omit"
   ]
  },
  {
   "cell_type": "code",
   "execution_count": 4,
   "metadata": {},
   "outputs": [],
   "source": [
    "#Pegando o ano, mês e dia da primeira observação\n",
    "year <- lubridate::year(dplyr::first(reta$date))\n",
    "month <- lubridate::month(dplyr::first(reta$date))\n",
    "day <- lubridate::day(dplyr::first(reta$date))"
   ]
  },
  {
   "cell_type": "code",
   "execution_count": 5,
   "metadata": {},
   "outputs": [],
   "source": [
    "#Transformando em série temporal\n",
    "reta_ts <- ts(reta[,2:ncol(reta)], start = c(year,month,day), frequency = 252)"
   ]
  },
  {
   "cell_type": "code",
   "execution_count": 6,
   "metadata": {},
   "outputs": [],
   "source": [
    "multspec <- multispec(replicate(length(acoes),\n",
    "                                ugarchspec()))\n",
    "multf <- multifit(multispec = multspec, data = reta_ts)\n",
    "multfor <- multiforecast(multf, n.ahead = 2)\n",
    "spec1 <- dccspec(uspec = multspec, dccOrder = c(1,1), distribution = \"mvnorm\")\n",
    "fit1 <- dccfit(spec1, data = reta_ts, fit = multf, fit.control = list(eval.se = T))\n",
    "fore <- dccforecast(fit = fit1, n.ahead = 2)"
   ]
  },
  {
   "cell_type": "code",
   "execution_count": 7,
   "metadata": {},
   "outputs": [],
   "source": [
    "#Matriz de covariância\n",
    "cov1 <- rcov(fit1)\n",
    "cov <- cov1[,,dim(cov1)[3]]\n",
    "cov_f <- rcov(fore)\n",
    "cov_f <- cov_f[[1]]\n",
    "cov_f1 <- cov_f[1:length(acoes),1:length(acoes),1]\n",
    "cov_f2 <- cov_f[1:length(acoes),1:length(acoes),2]"
   ]
  },
  {
   "cell_type": "code",
   "execution_count": 8,
   "metadata": {},
   "outputs": [],
   "source": [
    "#Desvio das ações\n",
    "sd <- matrix(0, nrow = length(acoes))\n",
    "sd_f1 <- matrix(0, nrow = length(acoes))\n",
    "sd_f2 <- matrix(0, nrow = length(acoes))\n",
    "for(i in 1:nrow(sd)){\n",
    "  sd[[i]] <- dplyr::last(multf@fit[[i]]@fit[[\"sigma\"]])\n",
    "  sd_f1[[i]] <- multfor@forecast[[i]]@forecast[[\"sigmaFor\"]][1]\n",
    "  sd_f2[[i]] <- multfor@forecast[[i]]@forecast[[\"sigmaFor\"]][2]\n",
    "}\n",
    "rownames(sd) <- sort(acoes)\n",
    "rownames(sd_f1) <- sort(acoes)\n",
    "rownames(sd_f2) <- sort(acoes)\n",
    "sd_a <- sd*sqrt(252)\n",
    "sd_a_f1 <- sd_f1*sqrt(252)\n",
    "sd_a_f2 <- sd_f2*sqrt(252)"
   ]
  },
  {
   "cell_type": "code",
   "execution_count": 9,
   "metadata": {},
   "outputs": [
    {
     "name": "stderr",
     "output_type": "stream",
     "text": [
      "`summarise()` regrouping output by 'year' (override with `.groups` argument)\n",
      "\n"
     ]
    }
   ],
   "source": [
    "#Calculando o retorno esperado\n",
    "retornos_a <- tq_get(acoes, from = Sys.Date()-365*5) %>%\n",
    "  group_by(symbol) %>%\n",
    "  tq_transmute(select = close, mutate_fun= periodReturn, period = \"yearly\", fill = 0) %>%\n",
    "  mutate(year = year(date)) %>%\n",
    "  group_by(year,symbol) %>%\n",
    "  summarise(yearly.returns) %>%\n",
    "  spread(key = \"symbol\", value = \"yearly.returns\") %>%\n",
    "  na.fill(fill = 0)"
   ]
  },
  {
   "cell_type": "code",
   "execution_count": 10,
   "metadata": {},
   "outputs": [],
   "source": [
    "#Nº de simulações de carteiras a se fazer\n",
    "n_sim <- 40000\n",
    "pesos <- matrix(0,length(acoes),n_sim)\n",
    "pesos <- apply(pesos,2,rexp,0.001)\n",
    "pesos <- apply(pesos,2,function(x)x/sum(x))"
   ]
  },
  {
   "cell_type": "code",
   "execution_count": 11,
   "metadata": {},
   "outputs": [
    {
     "data": {
      "text/plain": [
       "Time difference of 6.987689 secs"
      ]
     },
     "metadata": {},
     "output_type": "display_data"
    }
   ],
   "source": [
    "#Escolha se prefere o risco atual ou a previsão de risco para 1 período (sd ou sd_f)\n",
    "start <- Sys.time()\n",
    "riscos <- apply(pesos, 2, portfolio_sd_t, sd = sd_f2, cov = cov_f2)*sqrt(252)\n",
    "retornos <- apply(pesos, 2, portfolio_return, returns = retornos_a[,2:ncol(retornos_a)])\n",
    "end <- Sys.time()\n",
    "end-start"
   ]
  },
  {
   "cell_type": "code",
   "execution_count": 21,
   "metadata": {},
   "outputs": [],
   "source": [
    "#Sharpe\n",
    "tx_livre_risco <- 0.02\n",
    "data <- matrix(0, nrow = 3, ncol = n_sim)\n",
    "data[1,] <- retornos\n",
    "data[2,] <- riscos\n",
    "data[3,] <- (retornos-tx_livre_risco)/riscos\n",
    "rownames(data) <- c(\"Retornos\", \"Riscos\",\"Sharpe\")"
   ]
  },
  {
   "cell_type": "code",
   "execution_count": 13,
   "metadata": {},
   "outputs": [
    {
     "name": "stderr",
     "output_type": "stream",
     "text": [
      "`summarise()` ungrouping output (override with `.groups` argument)\n",
      "\n"
     ]
    }
   ],
   "source": [
    "#Retorno médio das ações\n",
    "retorno_med <- retornos_a %>%\n",
    "  data.frame %>%\n",
    "  gather(key = \"symbol\", value = \"return\", -year) %>%\n",
    "  group_by(symbol) %>%\n",
    "  summarise(media = mean(return)) %>%\n",
    "  spread(key = \"symbol\", value = \"media\")"
   ]
  },
  {
   "cell_type": "code",
   "execution_count": 15,
   "metadata": {},
   "outputs": [
    {
     "data": {
      "image/png": "[encoded data removed]",
      "text/plain": [
       "Plot with title \"Simulações de carteiras\""
      ]
     },
     "metadata": {
      "image/png": {
       "height": 420,
       "width": 420
      }
     },
     "output_type": "display_data"
    }
   ],
   "source": [
    "plot(riscos, retornos, pch = 16, col = \"lightblue\",xlim = c(min(riscos), max(sd_a_f2)),\n",
    "    ylim = c(min(retorno_med), max(retorno_med)), main = \"Simulações de carteiras\")\n",
    "points(x = sd_a_f2, y = retorno_med, col = 1:ncol(retorno_med), pch = 16)\n",
    "text(x = sd_a_f2, y = retorno_med, labels = colnames(retorno_med), pos = 2)\n",
    "abline(a = tx_livre_risco, b = max(data[3,]), col = \"red\")\n",
    "abline(h = 0,v = 0, lty = 2)"
   ]
  },
  {
   "cell_type": "code",
   "execution_count": 16,
   "metadata": {},
   "outputs": [
    {
     "data": {
      "text/html": [
       "<strong>Sharpe Máximo:</strong> 3.83572847926554"
      ],
      "text/latex": [
       "\\textbf{Sharpe Máximo:} 3.83572847926554"
      ],
      "text/markdown": [
       "**Sharpe Máximo:** 3.83572847926554"
      ],
      "text/plain": [
       "Sharpe Máximo \n",
       "     3.835728 "
      ]
     },
     "metadata": {},
     "output_type": "display_data"
    },
    {
     "data": {
      "text/html": [
       "<strong>Retorno Máximo:</strong> 1.96234042394106"
      ],
      "text/latex": [
       "\\textbf{Retorno Máximo:} 1.96234042394106"
      ],
      "text/markdown": [
       "**Retorno Máximo:** 1.96234042394106"
      ],
      "text/plain": [
       "Retorno Máximo \n",
       "       1.96234 "
      ]
     },
     "metadata": {},
     "output_type": "display_data"
    },
    {
     "data": {
      "text/html": [
       "<strong>Risco Mínimo:</strong> 0.155423490876184"
      ],
      "text/latex": [
       "\\textbf{Risco Mínimo:} 0.155423490876184"
      ],
      "text/markdown": [
       "**Risco Mínimo:** 0.155423490876184"
      ],
      "text/plain": [
       "Risco Mínimo \n",
       "   0.1554235 "
      ]
     },
     "metadata": {},
     "output_type": "display_data"
    }
   ],
   "source": [
    "sharpe <- max(data[3,])\n",
    "names(sharpe) <- \"Sharpe Máximo\"\n",
    "Ret_max <- max(data[1,])\n",
    "names(Ret_max) <- \"Retorno Máximo\"\n",
    "sd_min <- min(data[2,])\n",
    "names(sd_min) <- \"Risco Mínimo\"\n",
    "sharpe\n",
    "Ret_max\n",
    "sd_min"
   ]
  },
  {
   "cell_type": "code",
   "execution_count": 22,
   "metadata": {
    "scrolled": true
   },
   "outputs": [
    {
     "name": "stdout",
     "output_type": "stream",
     "text": [
      " Retornos    Riscos    Sharpe \n",
      "1.0085117 0.2577116 3.8357285 \n"
     ]
    }
   ],
   "source": [
    "#Somente ver a linha que tem o maior sharpe\n",
    "positivo <- data[3,] == sharpe\n",
    "show(data[,positivo])"
   ]
  },
  {
   "cell_type": "code",
   "execution_count": 23,
   "metadata": {},
   "outputs": [
    {
     "name": "stdout",
     "output_type": "stream",
     "text": [
      "B3SA3.SA ITSA4.SA MGLU3.SA PRIO3.SA TRPL4.SA WEGE3.SA \n",
      "   13.32     0.35    33.12    13.87    27.77    11.57 \n"
     ]
    }
   ],
   "source": [
    "#Pesos em % da melhor carteira\n",
    "pesos_efi <- round(pesos[,positivo]*100,2)\n",
    "names(pesos_efi) <- sort(acoes)\n",
    "print(pesos_efi)"
   ]
  },
  {
   "cell_type": "code",
   "execution_count": 24,
   "metadata": {},
   "outputs": [
    {
     "data": {
      "text/html": [
       "<table>\n",
       "<caption>A data.frame: 1 × 3</caption>\n",
       "<thead>\n",
       "\t<tr><th scope=col>Risco</th><th scope=col>Retorno</th><th scope=col>Sharpe</th></tr>\n",
       "\t<tr><th scope=col>&lt;dbl&gt;</th><th scope=col>&lt;dbl&gt;</th><th scope=col>&lt;dbl&gt;</th></tr>\n",
       "</thead>\n",
       "<tbody>\n",
       "\t<tr><td>0.2575611</td><td>1.008332</td><td>3.837274</td></tr>\n",
       "</tbody>\n",
       "</table>\n"
      ],
      "text/latex": [
       "A data.frame: 1 × 3\n",
       "\\begin{tabular}{lll}\n",
       " Risco & Retorno & Sharpe\\\\\n",
       " <dbl> & <dbl> & <dbl>\\\\\n",
       "\\hline\n",
       "\t 0.2575611 & 1.008332 & 3.837274\\\\\n",
       "\\end{tabular}\n"
      ],
      "text/markdown": [
       "\n",
       "A data.frame: 1 × 3\n",
       "\n",
       "| Risco &lt;dbl&gt; | Retorno &lt;dbl&gt; | Sharpe &lt;dbl&gt; |\n",
       "|---|---|---|\n",
       "| 0.2575611 | 1.008332 | 3.837274 |\n",
       "\n"
      ],
      "text/plain": [
       "  Risco     Retorno  Sharpe  \n",
       "1 0.2575611 1.008332 3.837274"
      ]
     },
     "metadata": {},
     "output_type": "display_data"
    }
   ],
   "source": [
    "#Carteira eficiente com arredondamento de 3 casas decimais\n",
    "pesos_ef <- round(pesos[,positivo],3)\n",
    "risco_ef <- portfolio_sd_t(sd = sd_f2, cov = cov_f2, weight = pesos_ef)*sqrt(252)\n",
    "ret_ef <- portfolio_return(returns = retornos_a[,2:ncol(retornos_a)], weight = pesos_ef)\n",
    "cart_ef <- data.frame(Risco = risco_ef, Retorno = ret_ef, Sharpe = (ret_ef-tx_livre_risco)/risco_ef)\n",
    "cart_ef"
   ]
  },
  {
   "cell_type": "code",
   "execution_count": 34,
   "metadata": {},
   "outputs": [
    {
     "data": {
      "text/html": [
       "0.276420256294817"
      ],
      "text/latex": [
       "0.276420256294817"
      ],
      "text/markdown": [
       "0.276420256294817"
      ],
      "text/plain": [
       "[1] 0.2764203"
      ]
     },
     "metadata": {},
     "output_type": "display_data"
    },
    {
     "data": {
      "text/html": [
       "1.06267336218023"
      ],
      "text/latex": [
       "1.06267336218023"
      ],
      "text/markdown": [
       "1.06267336218023"
      ],
      "text/plain": [
       "[1] 1.062673"
      ]
     },
     "metadata": {},
     "output_type": "display_data"
    }
   ],
   "source": [
    "p <- c(0.123,0.019,0.346,0.138,0.134,0.24)\n",
    "portfolio_sd_t(weight = p, cov = cov_f2, sd = sd_f2)*sqrt(252)\n",
    "portfolio_return(weight = p, returns = retornos_a[,2:ncol(retornos_a)])"
   ]
  },
  {
   "cell_type": "code",
   "execution_count": null,
   "metadata": {},
   "outputs": [],
   "source": []
  }
 ],
 "metadata": {
  "kernelspec": {
   "display_name": "R",
   "language": "R",
   "name": "ir"
  },
  "language_info": {
   "codemirror_mode": "r",
   "file_extension": ".r",
   "mimetype": "text/x-r-source",
   "name": "R",
   "pygments_lexer": "r",
   "version": "4.0.2"
  }
 },
 "nbformat": 4,
 "nbformat_minor": 4
}
