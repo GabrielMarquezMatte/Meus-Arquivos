{
 "cells": [
  {
   "cell_type": "code",
   "execution_count": 1,
   "metadata": {},
   "outputs": [],
   "source": [
    "#Função de simulação de pesos de carteiras\n",
    "pesos_carteira <- function(n_acoes, n_sim, short = F){\n",
    "  pesos <- matrix(0,n_acoes,n_sim)\n",
    "  if(isFALSE(short)){\n",
    "    pesos <- apply(pesos,2,rexp,0.001)\n",
    "  }else{\n",
    "    pesos <- apply(pesos,2,rnorm)\n",
    "    \n",
    "  }\n",
    "  pesos <- apply(pesos,2,function(x)x/sum(x))\n",
    "  colsub <- apply(pesos,2,function(x)!any(x >= 1| x <= -1))\n",
    "  pesos <- pesos[,colsub]\n",
    "  return(pesos)\n",
    "}"
   ]
  },
  {
   "cell_type": "code",
   "execution_count": 2,
   "metadata": {},
   "outputs": [],
   "source": [
    "options(warn = -1, scipen = 999)\n",
    "pacotes <- c(\"dplyr\",\"tidyr\",\"tidyquant\")\n",
    "for(i in pacotes){\n",
    "    suppressPackageStartupMessages(library(i, character.only = T))\n",
    "}"
   ]
  },
  {
   "cell_type": "code",
   "execution_count": 3,
   "metadata": {},
   "outputs": [],
   "source": [
    "#Todas as ações do Ibovespa atualmente\n",
    "acoes <- c(\"ABEV3.SA\",\"AZUL4.SA\",\"B3SA3.SA\",\"BBDC3.SA\",\n",
    "           \"BBDC4.SA\",\"BBSE3.SA\",\"BEEF3.SA\",\"BPAC11.SA\",\n",
    "           \"BRAP4.SA\",\"BRDT3.SA\",\"BRFS3.SA\",\"BRKM5.SA\",\n",
    "           \"BRML3.SA\",\"BTOW3.SA\",\"CCRO3.SA\",\"CIEL3.SA\",\n",
    "           \"CMIG4.SA\",\"COGN3.SA\",\"CPFE3.SA\",\"CRFB3.SA\",\n",
    "           \"CSAN3.SA\",\"CVCB3.SA\",\"CYRE3.SA\",\"ECOR3.SA\",\n",
    "           \"EGIE3.SA\",\"ELET3.SA\",\"ELET6.SA\",\"EMBR3.SA\",\n",
    "           \"ENBR3.SA\",\"ENGI11.SA\",\"EQTL3.SA\",\"FLRY3.SA\",\n",
    "           \"GGBR4.SA\",\"GNDI3.SA\",\"GOAU4.SA\",\"GOLL4.SA\",\n",
    "           \"HAPV3.SA\",\"HGTX3.SA\",\"HYPE3.SA\",\"IGTA3.SA\",\n",
    "           \"IRBR3.SA\",\"ITSA4.SA\",\"ITUB4.SA\",\"JBSS3.SA\",\n",
    "           \"KLBN11.SA\",\"LAME4.SA\",\"LREN3.SA\",\"MGLU3.SA\",\n",
    "           \"MRFG3.SA\",\"MRVE3.SA\",\"MULT3.SA\",\"NTCO3.SA\",\n",
    "           \"PCAR3.SA\",\"PETR3.SA\",\"PETR4.SA\",\"QUAL3.SA\",\n",
    "           \"RADL3.SA\",\"RAIL3.SA\",\"RENT3.SA\",\"SANB11.SA\",\n",
    "           \"SBSP3.SA\",\"SULA11.SA\",\"SUZB3.SA\",\"TAEE11.SA\",\n",
    "           \"TIMP3.SA\",\"TOTS3.SA\",\"UGPA3.SA\",\"USIM5.SA\",\n",
    "           \"VALE3.SA\",\"VIVT4.SA\",\"VVAR3.SA\",\"WEGE3.SA\"\n",
    "          )"
   ]
  },
  {
   "cell_type": "code",
   "execution_count": 4,
   "metadata": {},
   "outputs": [
    {
     "name": "stderr",
     "output_type": "stream",
     "text": [
      "`summarise()` regrouping output by 'date' (override with `.groups` argument)\n",
      "\n"
     ]
    }
   ],
   "source": [
    "#Coletando os preços das ações e colocando em mesma escala\n",
    "precos <- tq_get(acoes, from = Sys.Date()-365*4)\n",
    "precos_mat <- precos %>%\n",
    "  group_by(date, symbol) %>%\n",
    "  summarise(close) %>%\n",
    "  spread(key = symbol, value = close)\n",
    "precos_mat[,1] <- NULL\n",
    "precos_mat <- as.matrix(precos_mat)\n",
    "for(i in 1:ncol(precos_mat)){\n",
    "  precos_mat[,i] <- precos_mat[,i]/precos_mat[1,i]\n",
    "}"
   ]
  },
  {
   "cell_type": "code",
   "execution_count": 5,
   "metadata": {},
   "outputs": [
    {
     "data": {
      "text/html": [
       "<time datetime=\"2016-08-26\">2016-08-26</time>"
      ],
      "text/latex": [
       "2016-08-26"
      ],
      "text/markdown": [
       "2016-08-26"
      ],
      "text/plain": [
       "[1] \"2016-08-26\""
      ]
     },
     "metadata": {},
     "output_type": "display_data"
    }
   ],
   "source": [
    "first <- dplyr::first(precos$date)\n",
    "first"
   ]
  },
  {
   "cell_type": "code",
   "execution_count": 6,
   "metadata": {},
   "outputs": [
    {
     "name": "stderr",
     "output_type": "stream",
     "text": [
      "`summarise()` regrouping output by 'date' (override with `.groups` argument)\n",
      "\n"
     ]
    }
   ],
   "source": [
    "#Pegando os dados do Ibovespa\n",
    "ibov <- tq_get(\"^BVSP\", from = first) %>%\n",
    "  group_by(date, symbol) %>%\n",
    "  summarise(close) %>%\n",
    "  spread(key = symbol, value = close)\n",
    "ibov <- ibov[,2] %>% as.matrix\n",
    "ibov <- ibov/ibov[1]"
   ]
  },
  {
   "cell_type": "code",
   "execution_count": 46,
   "metadata": {},
   "outputs": [],
   "source": [
    "#Parâmetros da simulação\n",
    "n_sim <- 1000\n",
    "n_acoes <- 5\n",
    "pesos <- pesos_carteira(n_acoes = n_acoes, n_sim = n_sim, short = F)\n",
    "acoes_s <- matrix(0, nrow = n_acoes, ncol = ncol(pesos))\n",
    "for(i in 1:ncol(acoes_s)){\n",
    "  acoes_s[,i] <- sample(1:length(acoes), n_acoes)\n",
    "}"
   ]
  },
  {
   "cell_type": "code",
   "execution_count": 47,
   "metadata": {},
   "outputs": [
    {
     "data": {
      "text/html": [
       "1000"
      ],
      "text/latex": [
       "1000"
      ],
      "text/markdown": [
       "1000"
      ],
      "text/plain": [
       "[1] 1000"
      ]
     },
     "metadata": {},
     "output_type": "display_data"
    }
   ],
   "source": [
    "carteiras <- matrix(0,nrow = nrow(precos_mat), ncol = ncol(pesos))\n",
    "#Número de simulações\n",
    "ncol(carteiras)"
   ]
  },
  {
   "cell_type": "code",
   "execution_count": 48,
   "metadata": {},
   "outputs": [],
   "source": [
    "for(i in 1:nrow(carteiras)){\n",
    "  for(j in 1:ncol(carteiras)){\n",
    "    carteiras[i,j] <- sum(precos_mat[i,acoes_s[,j]]*pesos[,j])\n",
    "  }\n",
    "}"
   ]
  },
  {
   "cell_type": "code",
   "execution_count": 49,
   "metadata": {},
   "outputs": [
    {
     "data": {
      "image/png": "[encoded data removed]",
      "text/plain": [
       "Plot with title \"Simulação de carteiras com 5 ativos\""
      ]
     },
     "metadata": {
      "image/png": {
       "height": 420,
       "width": 420
      }
     },
     "output_type": "display_data"
    }
   ],
   "source": [
    "matplot(carteiras, type = \"l\", lty = 1, col = 1:n_sim, xlab = \"Dias\", ylab = \"Carteiras simuladas\",\n",
    "       main = paste(\"Simulação de carteiras com\",n_acoes,\"ativos\"), sub = \"Ibovespa em destaque\")\n",
    "lines(ibov, lwd = 4)"
   ]
  },
  {
   "cell_type": "code",
   "execution_count": 50,
   "metadata": {},
   "outputs": [],
   "source": [
    "carteiras_s <- na.fill(carteiras,0)\n",
    "maior <- carteiras_s[nrow(carteiras_s),] == max(carteiras_s[nrow(carteiras_s),])"
   ]
  },
  {
   "cell_type": "code",
   "execution_count": 51,
   "metadata": {},
   "outputs": [
    {
     "name": "stdout",
     "output_type": "stream",
     "text": [
      "MRVE3.SA MGLU3.SA BRFS3.SA WEGE3.SA ELET6.SA \n",
      "    3.18    68.39    15.11     1.42    11.91 \n"
     ]
    }
   ],
   "source": [
    "#Carteira de maior retorno\n",
    "p <- round(pesos[,maior]*100,2)\n",
    "a <- acoes_s[,maior]\n",
    "a <- acoes[a]\n",
    "names(p) <- a\n",
    "print(p)"
   ]
  },
  {
   "cell_type": "code",
   "execution_count": 52,
   "metadata": {},
   "outputs": [
    {
     "name": "stdout",
     "output_type": "stream",
     "text": [
      "Volatilidade anual do período            Retorno no Período \n",
      "                    0.5802945                    60.7450518 \n"
     ]
    }
   ],
   "source": [
    "#Dados da carteira\n",
    "ret <- diff(carteiras[,maior])/carteiras[2:nrow(carteiras)-1,maior]\n",
    "sd_c <- c(sd(ret, na.rm = T)*sqrt(252),carteiras_s[nrow(carteiras_s),maior]-1)\n",
    "names(sd_c) <- c(\"Volatilidade anual do período\",\"Retorno no Período\")\n",
    "print(sd_c)"
   ]
  },
  {
   "cell_type": "code",
   "execution_count": 53,
   "metadata": {},
   "outputs": [],
   "source": [
    "sd_t <- matrix(0, nrow = 1, ncol = ncol(pesos))\n",
    "sharpe <- matrix(0, nrow = 1, ncol = ncol(pesos))\n",
    "for(i in 1:ncol(sd_t)){\n",
    "  sd_t[i] <- sd((diff(carteiras[,i])/carteiras[1:nrow(carteiras),i]),\n",
    "                na.rm = T)*sqrt(nrow(carteiras))\n",
    "  sharpe[i] <- (carteiras_s[nrow(carteiras_s),i]-1)/sd_t[i]\n",
    "}\n",
    "sharpe_m <- sharpe == max(sharpe, na.rm = T)\n",
    "for(i in 1:length(sharpe_m)){\n",
    "  if(is.na(sharpe_m[i])){\n",
    "    sharpe_m[i] <- F\n",
    "  }\n",
    "}"
   ]
  },
  {
   "cell_type": "code",
   "execution_count": 54,
   "metadata": {},
   "outputs": [
    {
     "data": {
      "text/html": [
       "<strong>Desvio da carteira:</strong> 1.15308609879562"
      ],
      "text/latex": [
       "\\textbf{Desvio da carteira:} 1.15308609879562"
      ],
      "text/markdown": [
       "**Desvio da carteira:** 1.15308609879562"
      ],
      "text/plain": [
       "Desvio da carteira \n",
       "          1.153086 "
      ]
     },
     "metadata": {},
     "output_type": "display_data"
    },
    {
     "data": {
      "text/html": [
       "<strong>Retorno da carteira:</strong> 60.7450517756806"
      ],
      "text/latex": [
       "\\textbf{Retorno da carteira:} 60.7450517756806"
      ],
      "text/markdown": [
       "**Retorno da carteira:** 60.7450517756806"
      ],
      "text/plain": [
       "Retorno da carteira \n",
       "           60.74505 "
      ]
     },
     "metadata": {},
     "output_type": "display_data"
    },
    {
     "data": {
      "text/html": [
       "<strong>Sharpe da Carteira:</strong> 52.680412884283"
      ],
      "text/latex": [
       "\\textbf{Sharpe da Carteira:} 52.680412884283"
      ],
      "text/markdown": [
       "**Sharpe da Carteira:** 52.680412884283"
      ],
      "text/plain": [
       "Sharpe da Carteira \n",
       "          52.68041 "
      ]
     },
     "metadata": {},
     "output_type": "display_data"
    }
   ],
   "source": [
    "#Carteira com maior sharpe\n",
    "r_m <- last(carteiras_s[,sharpe_m]-1)\n",
    "sd_m <- sd_t[,sharpe_m]\n",
    "s_m <- sharpe[sharpe_m]\n",
    "p_m <- round(pesos[,sharpe_m]*100,2)\n",
    "a_m <- acoes_s[,sharpe_m]\n",
    "a_m <- acoes[a_m]\n",
    "names(sd_m) <- \"Desvio da carteira\"\n",
    "names(r_m) <- \"Retorno da carteira\"\n",
    "names(s_m) <- \"Sharpe da Carteira\"\n",
    "names(p_m) <- a_m\n",
    "sd_m\n",
    "r_m\n",
    "s_m"
   ]
  },
  {
   "cell_type": "code",
   "execution_count": 55,
   "metadata": {},
   "outputs": [
    {
     "name": "stdout",
     "output_type": "stream",
     "text": [
      "MRVE3.SA MGLU3.SA BRFS3.SA WEGE3.SA ELET6.SA \n",
      "    3.18    68.39    15.11     1.42    11.91 \n"
     ]
    }
   ],
   "source": [
    "#Pesos da carteira com maior sharpe\n",
    "print(p_m)"
   ]
  },
  {
   "cell_type": "code",
   "execution_count": 56,
   "metadata": {},
   "outputs": [
    {
     "data": {
      "text/plain": [
       "Rendeu menos  Rendeu Mais \n",
       "       0.698        0.302 "
      ]
     },
     "metadata": {},
     "output_type": "display_data"
    }
   ],
   "source": [
    "#% de carteiras que bateram o IBOVESPA no período\n",
    "porc <- table(carteiras_s[nrow(carteiras_s),] >= ibov[nrow(ibov)], useNA = \"no\")\n",
    "porc <- porc/sum(porc)\n",
    "names(porc) <- c(\"Rendeu menos\",\"Rendeu Mais\")\n",
    "porc"
   ]
  },
  {
   "cell_type": "code",
   "execution_count": 57,
   "metadata": {},
   "outputs": [
    {
     "name": "stdout",
     "output_type": "stream",
     "text": [
      "MRVE3.SA MGLU3.SA BRFS3.SA WEGE3.SA ELET6.SA \n",
      "    8.93    55.60    12.50    10.42    12.55 \n"
     ]
    }
   ],
   "source": [
    "menor <- carteiras_s[nrow(carteiras_s),] == min(carteiras[nrow(carteiras_s),], na.rm = T)\n",
    "#Carteira de menor retorno\n",
    "p_mn <- round(pesos[,menor]*100,2)\n",
    "a_mn <- acoes_s[,menor]\n",
    "a_mn <- acoes[a_mn]\n",
    "names(p_mn) <- a\n",
    "print(p_mn)"
   ]
  },
  {
   "cell_type": "code",
   "execution_count": 58,
   "metadata": {},
   "outputs": [
    {
     "name": "stdout",
     "output_type": "stream",
     "text": [
      "Volatilidade anual do período            Retorno no Período \n",
      "                    0.2656176                    -0.4074113 \n"
     ]
    }
   ],
   "source": [
    "#Dados da carteira\n",
    "ret_mn <- diff(carteiras[,menor])/carteiras[1:nrow(carteiras),menor]\n",
    "sd_c_mn <- c(sd(ret_mn, na.rm = T)*sqrt(252),carteiras_s[nrow(carteiras_s),menor]-1)\n",
    "names(sd_c_mn) <- c(\"Volatilidade anual do período\",\"Retorno no Período\")\n",
    "print(sd_c_mn)"
   ]
  },
  {
   "cell_type": "code",
   "execution_count": null,
   "metadata": {},
   "outputs": [],
   "source": []
  }
 ],
 "metadata": {
  "kernelspec": {
   "display_name": "R",
   "language": "R",
   "name": "ir"
  },
  "language_info": {
   "codemirror_mode": "r",
   "file_extension": ".r",
   "mimetype": "text/x-r-source",
   "name": "R",
   "pygments_lexer": "r",
   "version": "4.0.2"
  }
 },
 "nbformat": 4,
 "nbformat_minor": 4
}
