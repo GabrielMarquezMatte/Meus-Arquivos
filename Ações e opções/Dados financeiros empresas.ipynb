{
 "cells": [
  {
   "cell_type": "code",
   "execution_count": 1,
   "metadata": {},
   "outputs": [
    {
     "name": "stderr",
     "output_type": "stream",
     "text": [
      "\n",
      "Attaching package: 'dplyr'\n",
      "\n",
      "\n",
      "The following objects are masked from 'package:stats':\n",
      "\n",
      "    filter, lag\n",
      "\n",
      "\n",
      "The following objects are masked from 'package:base':\n",
      "\n",
      "    intersect, setdiff, setequal, union\n",
      "\n",
      "\n",
      "Warning message:\n",
      "\"package 'ggplot2' was built under R version 4.0.2\"\n"
     ]
    }
   ],
   "source": [
    "library(GetCVMData)\n",
    "library(dplyr)\n",
    "library(ggplot2)"
   ]
  },
  {
   "cell_type": "code",
   "execution_count": 2,
   "metadata": {},
   "outputs": [
    {
     "name": "stderr",
     "output_type": "stream",
     "text": [
      "Fetching info on B3 companies\n",
      "\n",
      "\tDowloading file from CVM\n",
      "\n",
      "\tSuccess\n",
      "\n",
      "\tReading file from CVM\n",
      "\n",
      "\tSaving cache data\n",
      "\n",
      "\tGot 2264 lines for 2224 companies [Actives = 602 Inactives = 1634]\n",
      "\n",
      "Found 1 companies:\n",
      "\n",
      "ODONTOPREV S/A | situation = ATIVO | sector = SERVIÇOS MÉDICOS | CD_CVM = 20125\n",
      "\n",
      "Fetching info on B3 companies\n",
      "\n",
      "\tFound cache file. Loading data..\n",
      "\n",
      "\tGot 2264 lines for 2224 companies [Actives = 602 Inactives = 1634]\n",
      "\n",
      "\n",
      "Downloading DRE\n",
      "\n",
      "\tFound 3 files at ftp\n",
      "\n",
      "\tDowloading dre_cia_aberta_2017.zip\n",
      "\n",
      "\tSuccess\n",
      "\n",
      "\t\tUnzipping\n",
      "\n",
      "\t\tReading dre_cia_aberta_con_2017.csv\n",
      "\n",
      "\t\t\tCleaning table\n",
      "\n",
      "\t\tGot 25 rows | 1 companies\n",
      "\n",
      "\tDowloading dre_cia_aberta_2018.zip\n",
      "\n",
      "\tSuccess\n",
      "\n",
      "\t\tUnzipping\n",
      "\n",
      "\t\tReading dre_cia_aberta_con_2018.csv\n",
      "\n",
      "\t\t\tCleaning table\n",
      "\n",
      "\t\tGot 25 rows | 1 companies\n",
      "\n",
      "\tDowloading dre_cia_aberta_2019.zip\n",
      "\n",
      "\tSuccess\n",
      "\n",
      "\t\tUnzipping\n",
      "\n",
      "\t\tReading dre_cia_aberta_con_2019.csv\n",
      "\n",
      "\t\t\tCleaning table\n",
      "\n",
      "\t\tGot 25 rows | 1 companies\n",
      "\n"
     ]
    }
   ],
   "source": [
    "df_info <- search_company(\"odontoprev\")\n",
    "id_cvm <- df_info$CD_CVM\n",
    "df_dfp <- get_dfp_data(id_cvm, first_year = 2017, last_year = 2019,\n",
    "                       type_docs = \"DRE\",\n",
    "                       type_format = \"con\")"
   ]
  },
  {
   "cell_type": "code",
   "execution_count": 6,
   "metadata": {},
   "outputs": [
    {
     "data": {
      "image/png": "[encoded data removed]",
      "text/plain": [
       "plot without title"
      ]
     },
     "metadata": {
      "image/png": {
       "height": 420,
       "width": 420
      },
      "text/plain": {
       "height": 420,
       "width": 420
      }
     },
     "output_type": "display_data"
    }
   ],
   "source": [
    "df_dfp %>%\n",
    "  filter(DS_CONTA == \"Lucro/Prejuízo Consolidado do Período\") %>%\n",
    "  ggplot(aes(x = DT_REFER, y = VL_CONTA))+\n",
    "  geom_col()"
   ]
  },
  {
   "cell_type": "code",
   "execution_count": 4,
   "metadata": {},
   "outputs": [
    {
     "name": "stderr",
     "output_type": "stream",
     "text": [
      "Downloading itr_cia_aberta_2017.zip (grab some Wine. This might take a while..)\n",
      "\n",
      "\tSuccess\n",
      "\n",
      "\t\tUnzipping\n",
      "\n",
      "\t\tReading itr_cia_aberta_DRE_con_2017.csv\n",
      "\n",
      "\t\t\tCleaning table\n",
      "\n",
      "\t\tGot 75 rows | 1 companies | 3 fiscal dates\n",
      "\n",
      "Downloading itr_cia_aberta_2018.zip (grab some Mojito. This might take a while..)\n",
      "\n",
      "\tSuccess\n",
      "\n",
      "\t\tUnzipping\n",
      "\n",
      "\t\tReading itr_cia_aberta_DRE_con_2018.csv\n",
      "\n",
      "\t\t\tCleaning table\n",
      "\n",
      "\t\tGot 75 rows | 1 companies | 3 fiscal dates\n",
      "\n",
      "Downloading itr_cia_aberta_2019.zip (grab some Cachaca Joao Barreiro. This might take a while..)\n",
      "\n",
      "\tSuccess\n",
      "\n",
      "\t\tUnzipping\n",
      "\n",
      "\t\tReading itr_cia_aberta_DRE_con_2019.csv\n",
      "\n",
      "\t\t\tCleaning table\n",
      "\n",
      "\t\tGot 75 rows | 1 companies | 3 fiscal dates\n",
      "\n"
     ]
    }
   ],
   "source": [
    "df_itr <- get_itr_data(id_cvm, first_year = 2017, last_year = 2019,\n",
    "                       type_docs = \"DRE\", type_format = \"con\")"
   ]
  },
  {
   "cell_type": "code",
   "execution_count": 5,
   "metadata": {},
   "outputs": [
    {
     "data": {
      "image/png": "[encoded data removed]",
      "text/plain": [
       "plot without title"
      ]
     },
     "metadata": {
      "image/png": {
       "height": 420,
       "width": 420
      },
      "text/plain": {
       "height": 420,
       "width": 420
      }
     },
     "output_type": "display_data"
    }
   ],
   "source": [
    "df_itr %>%\n",
    "  filter(DS_CONTA == \"Lucro/Prejuízo Consolidado do Período\") %>%\n",
    "  ggplot(aes(x = DT_REFER, y = VL_CONTA))+\n",
    "  geom_col()+\n",
    "  labs(x = \"\", y = \"R$\", title = paste(\"Lucro consolidado da\", df_itr$DENOM_CIA))"
   ]
  },
  {
   "cell_type": "code",
   "execution_count": null,
   "metadata": {},
   "outputs": [],
   "source": []
  }
 ],
 "metadata": {
  "kernelspec": {
   "display_name": "R",
   "language": "R",
   "name": "ir"
  },
  "language_info": {
   "codemirror_mode": "r",
   "file_extension": ".r",
   "mimetype": "text/x-r-source",
   "name": "R",
   "pygments_lexer": "r",
   "version": "4.0.1"
  }
 },
 "nbformat": 4,
 "nbformat_minor": 4
}
