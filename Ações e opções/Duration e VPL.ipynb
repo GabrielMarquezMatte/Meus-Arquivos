{
 "cells": [
  {
   "cell_type": "code",
   "execution_count": 1,
   "metadata": {},
   "outputs": [],
   "source": [
    "duratio <- function(fluxo, taxa, periodo){\n",
    "  periodo <- 1:periodo\n",
    "  duratio <- (sum((fluxo/(1+taxa)^periodo)*periodo)/sum((fluxo/(1+taxa)^periodo)))\n",
    "  return(duratio)\n",
    "}"
   ]
  },
  {
   "cell_type": "code",
   "execution_count": 2,
   "metadata": {},
   "outputs": [],
   "source": [
    "vpl <- function(fluxo, taxa, investimento, periodo){\n",
    "  periodo <- c(1:periodo)\n",
    "  vpl <- sum(fluxo/((1+taxa)^periodo))-investimento\n",
    "  return(vpl)\n",
    "}"
   ]
  },
  {
   "cell_type": "code",
   "execution_count": 3,
   "metadata": {},
   "outputs": [
    {
     "data": {
      "text/html": [
       "3.58351491949582"
      ],
      "text/latex": [
       "3.58351491949582"
      ],
      "text/markdown": [
       "3.58351491949582"
      ],
      "text/plain": [
       "[1] 3.583515"
      ]
     },
     "metadata": {},
     "output_type": "display_data"
    }
   ],
   "source": [
    "fluxo <- c(0.3,0.3,0.3,0.3,1.3)\n",
    "periodo <- 5\n",
    "taxa <- 0.1\n",
    "dur <- duratio(fluxo = fluxo, periodo = periodo, taxa = taxa)\n",
    "dur"
   ]
  },
  {
   "cell_type": "code",
   "execution_count": null,
   "metadata": {},
   "outputs": [],
   "source": []
  }
 ],
 "metadata": {
  "kernelspec": {
   "display_name": "R",
   "language": "R",
   "name": "ir"
  },
  "language_info": {
   "codemirror_mode": "r",
   "file_extension": ".r",
   "mimetype": "text/x-r-source",
   "name": "R",
   "pygments_lexer": "r",
   "version": "4.0.2"
  }
 },
 "nbformat": 4,
 "nbformat_minor": 4
}
