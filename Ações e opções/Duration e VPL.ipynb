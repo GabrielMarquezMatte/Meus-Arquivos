{
 "cells": [
  {
   "cell_type": "code",
   "execution_count": 1,
   "metadata": {},
   "outputs": [],
   "source": [
    "duratio <- function(fluxo, taxa, periodo){\n",
    "  periodo <- 1:periodo\n",
    "  duratio <- (sum((fluxo/(1+taxa)^periodo)*periodo)/sum((fluxo/(1+taxa)^periodo)))\n",
    "  return(duratio)\n",
    "}\n",
    "duratio_mod <- function(duration, nova_taxa){\n",
    "    duratio_mod <- -duration/(1+nova_taxa)\n",
    "    return(duratio_mod)\n",
    "}"
   ]
  },
  {
   "cell_type": "code",
   "execution_count": 2,
   "metadata": {},
   "outputs": [],
   "source": [
    "vpl <- function(fluxo, taxa, investimento, periodo){\n",
    "  periodo <- c(1:periodo)\n",
    "  vpl <- sum(fluxo/((1+taxa)^periodo))-investimento\n",
    "  return(vpl)\n",
    "}"
   ]
  },
  {
   "cell_type": "code",
   "execution_count": 9,
   "metadata": {},
   "outputs": [],
   "source": [
    "fluxo <- c(rep(0.1,10),1.1)\n",
    "periodo <- 11\n",
    "taxa <- 0.1\n",
    "dur <- duratio(fluxo = fluxo, periodo = periodo, taxa = taxa)"
   ]
  },
  {
   "cell_type": "code",
   "execution_count": 10,
   "metadata": {},
   "outputs": [
    {
     "data": {
      "text/html": [
       "-6.61533991268952"
      ],
      "text/latex": [
       "-6.61533991268952"
      ],
      "text/markdown": [
       "-6.61533991268952"
      ],
      "text/plain": [
       "[1] -6.61534"
      ]
     },
     "metadata": {},
     "output_type": "display_data"
    }
   ],
   "source": [
    "dur_mod <- duratio_mod(duration = dur, 0.08)\n",
    "dur_mod"
   ]
  },
  {
   "cell_type": "code",
   "execution_count": null,
   "metadata": {},
   "outputs": [],
   "source": []
  }
 ],
 "metadata": {
  "kernelspec": {
   "display_name": "R",
   "language": "R",
   "name": "ir"
  },
  "language_info": {
   "codemirror_mode": "r",
   "file_extension": ".r",
   "mimetype": "text/x-r-source",
   "name": "R",
   "pygments_lexer": "r",
   "version": "4.0.2"
  }
 },
 "nbformat": 4,
 "nbformat_minor": 4
}
