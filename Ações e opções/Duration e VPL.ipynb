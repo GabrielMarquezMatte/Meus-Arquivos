{
 "cells": [
  {
   "cell_type": "code",
   "execution_count": 1,
   "metadata": {},
   "outputs": [],
   "source": [
    "duration <- function(fluxo, taxa, periodo){\n",
    "  periodo <- 1:periodo\n",
    "  duratio <- (sum((fluxo/(1+taxa)^periodo)*periodo)/sum((fluxo/(1+taxa)^periodo)))\n",
    "  return(duratio)\n",
    "}\n",
    "duration_mod <- function(duration, nova_taxa){\n",
    "    duratio_mod <- -duration/(1+nova_taxa)\n",
    "    return(duratio_mod)\n",
    "}"
   ]
  },
  {
   "cell_type": "code",
   "execution_count": 2,
   "metadata": {},
   "outputs": [],
   "source": [
    "vpl <- function(fluxo, taxa, investimento, periodo = length(fluxo)){\n",
    "  periodo <- c(1:periodo)\n",
    "  vpl <- sum(fluxo/((1+taxa)^periodo))-investimento\n",
    "  return(vpl)\n",
    "}\n",
    "tir_mc <- function(fluxo, n_taxas = 10000, investimento, periodo = length(fluxo),\n",
    "                taxa_min = -0.99999, taxa_max = 1){\n",
    "  taxas <- seq(taxa_min,taxa_max,l = n_taxas)\n",
    "  tir1 <- sapply(taxas,vpl, investimento = investimento, \n",
    "                 fluxo = fluxo, periodo = length(fluxo))\n",
    "  taxas[which.min(abs(tir1))]\n",
    "}\n",
    "tir <- function(fluxo, investimento){\n",
    "  tir <- Re(1/polyroot(c(-investimento, fluxo))-1)\n",
    "  tir1 <- numeric(length(tir))\n",
    "  for(i in 1:length(tir1)){\n",
    "    tir1[i] <- round(vpl(fluxo, tir[i], investimento),7)\n",
    "  }\n",
    "  tir <- tir[which(tir1 == min(abs(tir1)))]\n",
    "  tir <- tir[which.max(tir)]\n",
    "  return(tir)\n",
    "}"
   ]
  },
  {
   "cell_type": "code",
   "execution_count": 3,
   "metadata": {},
   "outputs": [
    {
     "data": {
      "text/html": [
       "7.14456710570468"
      ],
      "text/latex": [
       "7.14456710570468"
      ],
      "text/markdown": [
       "7.14456710570468"
      ],
      "text/plain": [
       "[1] 7.144567"
      ]
     },
     "metadata": {},
     "output_type": "display_data"
    }
   ],
   "source": [
    "fluxo <- c(rep(0.1,10),1.1)\n",
    "periodo <- 11\n",
    "taxa <- 0.1\n",
    "dur <- duration(fluxo = fluxo, periodo = periodo, taxa = taxa)\n",
    "dur"
   ]
  },
  {
   "cell_type": "code",
   "execution_count": 4,
   "metadata": {},
   "outputs": [
    {
     "data": {
      "text/html": [
       "-6.61533991268952"
      ],
      "text/latex": [
       "-6.61533991268952"
      ],
      "text/markdown": [
       "-6.61533991268952"
      ],
      "text/plain": [
       "[1] -6.61534"
      ]
     },
     "metadata": {},
     "output_type": "display_data"
    }
   ],
   "source": [
    "dur_mod <- duration_mod(duration = dur, 0.08)\n",
    "dur_mod"
   ]
  },
  {
   "cell_type": "code",
   "execution_count": 13,
   "metadata": {},
   "outputs": [
    {
     "data": {
      "text/html": [
       "0.875644257785995"
      ],
      "text/latex": [
       "0.875644257785995"
      ],
      "text/markdown": [
       "0.875644257785995"
      ],
      "text/plain": [
       "[1] 0.8756443"
      ]
     },
     "metadata": {},
     "output_type": "display_data"
    },
    {
     "data": {
      "text/html": [
       "0"
      ],
      "text/latex": [
       "0"
      ],
      "text/markdown": [
       "0"
      ],
      "text/plain": [
       "[1] 0"
      ]
     },
     "metadata": {},
     "output_type": "display_data"
    }
   ],
   "source": [
    "investimento <- 100\n",
    "fluxo <- 100*cumprod(rnorm(20, mean = 0.9, sd = 0.1))\n",
    "taxa <- tir(fluxo, investimento)\n",
    "taxa\n",
    "round(vpl(fluxo = fluxo,taxa = taxa, investimento = investimento),10)"
   ]
  },
  {
   "cell_type": "code",
   "execution_count": 14,
   "metadata": {},
   "outputs": [
    {
     "data": {
      "text/html": [
       "0.875639378193782"
      ],
      "text/latex": [
       "0.875639378193782"
      ],
      "text/markdown": [
       "0.875639378193782"
      ],
      "text/plain": [
       "[1] 0.8756394"
      ]
     },
     "metadata": {},
     "output_type": "display_data"
    }
   ],
   "source": [
    "taxa_m <- tir_mc(fluxo = fluxo, n_taxas = 100000, investimento = investimento)\n",
    "taxa_m"
   ]
  }
 ],
 "metadata": {
  "kernelspec": {
   "display_name": "R",
   "language": "R",
   "name": "ir"
  },
  "language_info": {
   "codemirror_mode": "r",
   "file_extension": ".r",
   "mimetype": "text/x-r-source",
   "name": "R",
   "pygments_lexer": "r",
   "version": "4.0.2"
  }
 },
 "nbformat": 4,
 "nbformat_minor": 4
}
