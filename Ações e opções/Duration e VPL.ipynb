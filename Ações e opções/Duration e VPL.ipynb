{
 "cells": [
  {
   "cell_type": "code",
   "execution_count": 1,
   "metadata": {},
   "outputs": [],
   "source": [
    "duration <- function(fluxo, taxa, periodo = length(fluxo)){\n",
    "  periodo <- 1:periodo\n",
    "  duratio <- (sum((fluxo/(1+taxa)^periodo)*periodo)/sum((fluxo/(1+taxa)^periodo)))\n",
    "  return(duratio)\n",
    "}\n",
    "duration_mod <- function(duration, nova_taxa){\n",
    "    duratio_mod <- -duration/(1+nova_taxa)\n",
    "    return(duratio_mod)\n",
    "}"
   ]
  },
  {
   "cell_type": "code",
   "execution_count": 2,
   "metadata": {},
   "outputs": [],
   "source": [
    "vpl <- function(fluxo, taxa, investimento, periodo = length(fluxo)){\n",
    "  periodo <- c(1:periodo)\n",
    "  vpl <- sum(fluxo/((1+taxa)^periodo))-investimento\n",
    "  return(vpl)\n",
    "}\n",
    "tir_mc <- function(fluxo, n_taxas = 10000, investimento, periodo = length(fluxo),\n",
    "                taxa_min = -0.99999, taxa_max = 1){\n",
    "  taxas <- seq(taxa_min,taxa_max,l = n_taxas)\n",
    "  tir1 <- sapply(taxas,vpl, investimento = investimento, \n",
    "                 fluxo = fluxo, periodo = length(fluxo))\n",
    "  taxas[which.min(abs(tir1))]\n",
    "}\n",
    "tir <- function(fluxo, investimento){\n",
    "  vpl <- function(fluxo, taxa, investimento, periodo = length(fluxo)){\n",
    "    periodo <- c(1:periodo)\n",
    "    vpl <- sum(fluxo/((1+taxa)^periodo))-investimento\n",
    "    return(vpl)\n",
    "  }\n",
    "  tir <- Re(1/polyroot(c(-investimento, fluxo))-1)\n",
    "  tir1 <- numeric(length(tir))\n",
    "  for(i in 1:length(tir1)){\n",
    "    tir1[i] <- round(vpl(fluxo, tir[i], investimento),7)\n",
    "  }\n",
    "  tir <- tir[which(abs(tir1) == min(abs(tir1)))]\n",
    "  tir <- tir[which.max(tir)]\n",
    "  erro <- vpl(fluxo,tir,investimento)\n",
    "  lista <- list(Rate = tir, Error = erro)\n",
    "  return(lista)\n",
    "}"
   ]
  },
  {
   "cell_type": "code",
   "execution_count": 3,
   "metadata": {},
   "outputs": [],
   "source": [
    "#Coeficiente de prestação\n",
    "coef_pre <- function(r,n,x,p_est = NULL){\n",
    "  if(is.null(p_est)){\n",
    "    r/(1-(1+r)^(-n))*x\n",
    "  }else{\n",
    "    r/(1-(1+r)^(-n))*x-p_est\n",
    "  }\n",
    "}\n",
    "r_presta <- function(n,x,p_est){\n",
    "  f <- c(rep(p_est,n),-x)\n",
    "  t <- Re(polyroot(f))-1\n",
    "  coefi <- round(coef_pre(t,n,x)-p_est,6)\n",
    "  mini <- which(coefi == min(abs(coefi)))\n",
    "  t <- t[mini]\n",
    "  t <- t[which.max(t)]\n",
    "  coe <- coef_pre(t,n,x)\n",
    "  lista <- list(Rate = t, Error = abs(coe)/p_est-1)\n",
    "  lista\n",
    "}"
   ]
  },
  {
   "cell_type": "code",
   "execution_count": 4,
   "metadata": {},
   "outputs": [
    {
     "data": {
      "text/html": [
       "7.14456710570468"
      ],
      "text/latex": [
       "7.14456710570468"
      ],
      "text/markdown": [
       "7.14456710570468"
      ],
      "text/plain": [
       "[1] 7.144567"
      ]
     },
     "metadata": {},
     "output_type": "display_data"
    }
   ],
   "source": [
    "fluxo <- c(rep(0.1,10),1.1)\n",
    "periodo <- 11\n",
    "taxa <- 0.1\n",
    "dur <- duration(fluxo = fluxo, periodo = periodo, taxa = taxa)\n",
    "dur"
   ]
  },
  {
   "cell_type": "code",
   "execution_count": 5,
   "metadata": {},
   "outputs": [
    {
     "data": {
      "text/html": [
       "-6.61533991268952"
      ],
      "text/latex": [
       "-6.61533991268952"
      ],
      "text/markdown": [
       "-6.61533991268952"
      ],
      "text/plain": [
       "[1] -6.61534"
      ]
     },
     "metadata": {},
     "output_type": "display_data"
    }
   ],
   "source": [
    "dur_mod <- duration_mod(duration = dur, 0.08)\n",
    "dur_mod"
   ]
  },
  {
   "cell_type": "code",
   "execution_count": 7,
   "metadata": {},
   "outputs": [
    {
     "data": {
      "text/html": [
       "<dl>\n",
       "\t<dt>$Rate</dt>\n",
       "\t\t<dd>0.743379571587508</dd>\n",
       "\t<dt>$Error</dt>\n",
       "\t\t<dd>1.4210854715202e-14</dd>\n",
       "</dl>\n"
      ],
      "text/latex": [
       "\\begin{description}\n",
       "\\item[\\$Rate] 0.743379571587508\n",
       "\\item[\\$Error] 1.4210854715202e-14\n",
       "\\end{description}\n"
      ],
      "text/markdown": [
       "$Rate\n",
       ":   0.743379571587508\n",
       "$Error\n",
       ":   1.4210854715202e-14\n",
       "\n",
       "\n"
      ],
      "text/plain": [
       "$Rate\n",
       "[1] 0.7433796\n",
       "\n",
       "$Error\n",
       "[1] 1.421085e-14\n"
      ]
     },
     "metadata": {},
     "output_type": "display_data"
    },
    {
     "data": {
      "text/html": [
       "0"
      ],
      "text/latex": [
       "0"
      ],
      "text/markdown": [
       "0"
      ],
      "text/plain": [
       "[1] 0"
      ]
     },
     "metadata": {},
     "output_type": "display_data"
    }
   ],
   "source": [
    "investimento <- 100\n",
    "fluxo <- 100*cumprod(rnorm(20, mean = 0.9, sd = 0.1))\n",
    "taxa <- tir(fluxo, investimento)\n",
    "taxa\n",
    "round(vpl(fluxo = fluxo,taxa = taxa$Rate, investimento = investimento),10)"
   ]
  },
  {
   "cell_type": "code",
   "execution_count": 14,
   "metadata": {},
   "outputs": [
    {
     "data": {
      "text/html": [
       "0.743379026489026"
      ],
      "text/latex": [
       "0.743379026489026"
      ],
      "text/markdown": [
       "0.743379026489026"
      ],
      "text/plain": [
       "[1] 0.743379"
      ]
     },
     "metadata": {},
     "output_type": "display_data"
    }
   ],
   "source": [
    "taxa_m <- tir_mc(fluxo = fluxo, n_taxas = 100000, investimento = investimento)\n",
    "taxa_m"
   ]
  },
  {
   "cell_type": "code",
   "execution_count": 16,
   "metadata": {},
   "outputs": [
    {
     "data": {
      "text/html": [
       "6.63199698180961e-05"
      ],
      "text/latex": [
       "6.63199698180961e-05"
      ],
      "text/markdown": [
       "6.63199698180961e-05"
      ],
      "text/plain": [
       "[1] 6.631997e-05"
      ]
     },
     "metadata": {},
     "output_type": "display_data"
    }
   ],
   "source": [
    "vpl(fluxo = fluxo,taxa = taxa_m,investimento = investimento)"
   ]
  }
 ],
 "metadata": {
  "kernelspec": {
   "display_name": "R",
   "language": "R",
   "name": "ir"
  },
  "language_info": {
   "codemirror_mode": "r",
   "file_extension": ".r",
   "mimetype": "text/x-r-source",
   "name": "R",
   "pygments_lexer": "r",
   "version": "4.0.3"
  }
 },
 "nbformat": 4,
 "nbformat_minor": 4
}
