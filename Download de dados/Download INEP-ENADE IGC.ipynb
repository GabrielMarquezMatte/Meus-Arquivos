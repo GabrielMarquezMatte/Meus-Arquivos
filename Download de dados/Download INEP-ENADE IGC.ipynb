{
 "cells": [
  {
   "cell_type": "code",
   "execution_count": null,
   "metadata": {},
   "outputs": [],
   "source": [
    "ler_enade <- function(url){\n",
    "  filename <- \"Gabriel André/Estudo R/portal_IGC_edicao.xlsx\"\n",
    "  file <- download.file(url = url, destfile = filename, mode = \"wb\")\n",
    "  enade <- readxl::read_xlsx(path = filename)\n",
    "  file.remove(filename)\n",
    "  return(View(enade))\n",
    "}"
   ]
  }
 ],
 "metadata": {
  "kernelspec": {
   "display_name": "R",
   "language": "R",
   "name": "ir"
  },
  "language_info": {
   "codemirror_mode": "r",
   "file_extension": ".r",
   "mimetype": "text/x-r-source",
   "name": "R",
   "pygments_lexer": "r",
   "version": "3.6.1"
  }
 },
 "nbformat": 4,
 "nbformat_minor": 4
}
