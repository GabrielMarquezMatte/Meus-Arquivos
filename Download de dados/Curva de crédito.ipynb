{
 "cells": [
  {
   "cell_type": "code",
   "execution_count": 5,
   "metadata": {},
   "outputs": [],
   "source": [
    "ler_anbima_curva_credito <- function(data, plot = F){\n",
    "  stopifnot(is(data, \"Date\"), length(data)==1)\n",
    "  pacotes <- c(\"httr\", \"xml2\", \"XML\", \"ggthemes\", \"tidyverse\")\n",
    "  for(i in pacotes){\n",
    "    suppressPackageStartupMessages(library(i, character.only = T))\n",
    "  }\n",
    "  url <- \"https://www.anbima.com.br/informacoes/curvas-debentures/CD-down.asp\"\n",
    "  tipo <- \"form\"\n",
    "  idioma <- \"PT\"\n",
    "  saida <- \"csv\"\n",
    "  r <- POST(url = url, encode = tipo, body = list(Dt_ref = format(data, \"%d/%m/%Y\"),\n",
    "                                                  Idioma = idioma,\n",
    "                                                  saida = saida))\n",
    "  txt <- content(r, encoding = \"UTF-8\")\n",
    "  txt <- rawToChar(txt)\n",
    "  dados <- read.csv2(text = txt, header = T, stringsAsFactors = F, skip = 1)\n",
    "  dados$Data <- data\n",
    "  dados[,c(2:4)] <- dados[,c(2:4)]/100\n",
    "  dados <- dados%>%\n",
    "    gather(key = \"Rating\", value = \"Spread\", -c(Data, Vertices))\n",
    "  if(isFALSE(plot)){\n",
    "    return(dados) \n",
    "  }else{\n",
    "    ggplot(dados, aes(x = Vertices))+\n",
    "      geom_line(aes(y = AAA, colour = \"AAA\"))+\n",
    "      geom_line(aes(y = AA, colour = \"AA\"))+\n",
    "      geom_line(aes(y = A, colour = \"A\"))+\n",
    "      scale_colour_manual(\"Rating\", values = c(\"AAA\" = \"red\",\n",
    "                                               \"AA\" = \"blue\",\n",
    "                                               \"A\" = \"green\"))+\n",
    "      labs(x = \"Anos\", y = \"Spread\", title = \"Curva de crédito\",\n",
    "           subtitle = format(data, \"%d/%m/%Y\"), caption = \"Fonte:Anbima \\n \n",
    "           Elaboração: Gabriel Matte\")+\n",
    "      scale_y_continuous(labels = scales::percent)+\n",
    "      theme_economist()\n",
    "  }\n",
    "}"
   ]
  },
  {
   "cell_type": "code",
   "execution_count": 6,
   "metadata": {},
   "outputs": [],
   "source": [
    "ler_multi <- function(dates){\n",
    "  a <- replicate(length(dates), list())\n",
    "  for(i in 1:length(a)){\n",
    "    a[[i]] <- ler_anbima_curva_credito(dates[i], F)\n",
    "  }\n",
    "  b <- a[[1]]\n",
    "  for(i in 2:length(a)){\n",
    "    b <- rbind(b,a[[i]])\n",
    "  }\n",
    "  b <- b %>%\n",
    "    gather(key = \"Rating\", value = \"Spread\", -c(Data, Vertices))\n",
    "  return(b)\n",
    "}"
   ]
  },
  {
   "cell_type": "code",
   "execution_count": 7,
   "metadata": {},
   "outputs": [
    {
     "data": {
      "image/png": "[encoded data removed]",
      "text/plain": [
       "plot without title"
      ]
     },
     "metadata": {
      "image/png": {
       "height": 420,
       "width": 420
      }
     },
     "output_type": "display_data"
    }
   ],
   "source": [
    "a <- ler_anbima_curva_credito(as.Date(\"2020-10-30\"))\n",
    "ggplot(a, aes(x = Vertices, y = Spread, col = Rating))+\n",
    "  geom_line(size = 1)+\n",
    "  labs(x = \"Anos\", y = \"Spread\",\n",
    "       title = \"Curva de Crédito\",\n",
    "       subtitle = \"2020-10-30\",\n",
    "       caption = \"Fonte:Anbima \\n Elaboração: Gabriel Matte\")+\n",
    "  scale_y_continuous(labels = scales::percent)"
   ]
  },
  {
   "cell_type": "code",
   "execution_count": null,
   "metadata": {},
   "outputs": [],
   "source": []
  }
 ],
 "metadata": {
  "kernelspec": {
   "display_name": "R",
   "language": "R",
   "name": "ir"
  },
  "language_info": {
   "codemirror_mode": "r",
   "file_extension": ".r",
   "mimetype": "text/x-r-source",
   "name": "R",
   "pygments_lexer": "r",
   "version": "4.0.2"
  }
 },
 "nbformat": 4,
 "nbformat_minor": 4
}
