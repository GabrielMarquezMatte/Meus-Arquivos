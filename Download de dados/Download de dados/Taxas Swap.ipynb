{
 "cells": [
  {
   "cell_type": "code",
   "execution_count": 1,
   "metadata": {},
   "outputs": [],
   "source": [
    "ler_BMF_taxaswap <- function(data){\n",
    "  stopifnot(is(data, \"Date\"), length(data) == 1)\n",
    "  url <- format(data, \"ftp://ftp.bmf.com.br/TaxasSwap/TS%y%m%d.ex_\")\n",
    "  filename <- format(data, \"Gabriel André/Estudo R/TS%y%m%d.exe\")\n",
    "  download.file(url = url, destfile = filename, mode = \"wb\")\n",
    "  files <- unzip(filename, exdir = \"Gabriel André/Estudo R\")\n",
    "  excel <- read.csv2(\"Gabriel André/Estudo R/layout_taxaswap.csv\",\n",
    "                     stringsAsFactors = FALSE)\n",
    "  dados <- read.fwf(files, widths = excel$tamanho, col.names = excel$campo,\n",
    "                    header = FALSE, strip.white = TRUE,\n",
    "                    stringsAsFactors = FALSE)\n",
    "  dados$VL_TAXA <- dados$VL_TAXA/10^7\n",
    "  dados$VL_TAXA <- ifelse(dados$SINAL_VL_TAXA == '-',-dados$VL_TAXA,\n",
    "                          dados$VL_TAXA)\n",
    "  dados$SINAL_VL_TAXA <- NULL\n",
    "  dados$DT_ARQUIVO <- as.Date(as.character(dados$DT_ARQUIVO), \"%Y%m%d\")\n",
    "  return(View(dados))\n",
    "}"
   ]
  },
  {
   "cell_type": "code",
   "execution_count": null,
   "metadata": {},
   "outputs": [],
   "source": []
  }
 ],
 "metadata": {
  "kernelspec": {
   "display_name": "R",
   "language": "R",
   "name": "ir"
  },
  "language_info": {
   "codemirror_mode": "r",
   "file_extension": ".r",
   "mimetype": "text/x-r-source",
   "name": "R",
   "pygments_lexer": "r",
   "version": "3.6.1"
  }
 },
 "nbformat": 4,
 "nbformat_minor": 4
}
