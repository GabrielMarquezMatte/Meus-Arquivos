{
 "cells": [
  {
   "cell_type": "code",
   "execution_count": 1,
   "metadata": {},
   "outputs": [],
   "source": [
    "ler_anbima_ettj <- function(data){\n",
    "  library(httr)\n",
    "  library(XML)\n",
    "  stopifnot(is(data, \"Date\"), length(data) == 1)\n",
    "  url <- \"https://www.anbima.com.br/informacoes/est-termo/CZ-down.asp\"\n",
    "  idioma <- \"PT\" \n",
    "  data <- as.Date(\"2020-06-05\")\n",
    "  saida <- \"xml\"\n",
    "  tipo <- \"form\"\n",
    "  r <- POST(url = url,\n",
    "            body = list(Idioma = idioma,\n",
    "                        Dt_Ref = format(data,\"%d/%m/%Y\"),\n",
    "                        saida = saida),\n",
    "            encode = tipo)\n",
    "  txt <- content(r, as = \"text\", encoding = \"UTF-8\")\n",
    "  doc <- xmlParseString(txt)\n",
    "  root <- xmlRoot(doc)\n",
    "  par <- xmlElementsByTagName(root, name = \"PARAMETRO\", recursive = T)\n",
    "  dados <- as.data.frame(rbind(xmlAttrs(par[[1]]),xmlAttrs(par[[2]])),\n",
    "                         stringsAsFactors = F)\n",
    "  for(i in 2:ncol(dados)){\n",
    "    dados[,i] <- as.numeric(gsub(',','.',dados[,i]))\n",
    "  }\n",
    "  str_data <- xmlValue(xmlElementsByTagName(root,\n",
    "                                            \"DATA_REFERENCIA\",\n",
    "                                            recursive = T)[[1]])\n",
    "  data <- as.Date(str_data, \"%d/%m/%Y\")\n",
    "  dados$Data <- data\n",
    "  return(dados)\n",
    "}"
   ]
  },
  {
   "cell_type": "code",
   "execution_count": 2,
   "metadata": {},
   "outputs": [],
   "source": [
    "svenson <- function(par, t){\n",
    "  b1 = par[1]\n",
    "  b2 = par[2]\n",
    "  b3 = par[3]\n",
    "  b4 = par[4]\n",
    "  L1 = par[5]\n",
    "  L2 = par[6]\n",
    "  \n",
    "  b1+\n",
    "    b2*((1-exp(-L1*t))/(L1*t))+\n",
    "    b3*(((1-exp(-L1*t))/(L1*t))-exp(-L1*t))+\n",
    "    b4*(((1-exp(-L2*t))/(L2*t))-exp(-L2*t))\n",
    "}"
   ]
  },
  {
   "cell_type": "code",
   "execution_count": null,
   "metadata": {},
   "outputs": [],
   "source": []
  }
 ],
 "metadata": {
  "kernelspec": {
   "display_name": "R",
   "language": "R",
   "name": "ir"
  },
  "language_info": {
   "codemirror_mode": "r",
   "file_extension": ".r",
   "mimetype": "text/x-r-source",
   "name": "R",
   "pygments_lexer": "r",
   "version": "3.6.1"
  }
 },
 "nbformat": 4,
 "nbformat_minor": 4
}
