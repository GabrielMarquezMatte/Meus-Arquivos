{
 "cells": [
  {
   "cell_type": "code",
   "execution_count": 1,
   "metadata": {},
   "outputs": [],
   "source": [
    "ler_BACEN_negocios <- function(dt){\n",
    "  stopifnot(is(dt, \"Date\"), length(dt) == 1)\n",
    "  url <- format(dt,\n",
    "                \"https://www4.bcb.gov.br/pom/demab/negociacoes/download/NegE%Y%m.ZIP\")\n",
    "  filename <- format(dt, \"Gabriel André/Estudo R/NegE%Y%m.ZIP\")\n",
    "  download.file(url = url, destfile = filename, mode = \"wb\")\n",
    "  files <- unzip(zipfile = filename, exdir = \"Gabriel André/Estudo R\")\n",
    "  dados <- read.csv2(format(dt,\"Gabriel André/Estudo R/Excel/NegE%Y%m.csv\"), stringsAsFactors = FALSE)\n",
    "  file.remove(filename)\n",
    "  file.remove(files)\n",
    "  \n",
    "  dados$DATA.MOV <- as.Date(dados$DATA.MOV, \"%d/%m/%Y\")\n",
    "  dados$EMISSAO <- as.Date(dados$EMISSAO, \"%d/%m/%Y\")\n",
    "  dados$VENCIMENTO <- as.Date(dados$VENCIMENTO, \"%d/%m/%Y\")\n",
    "  dados <- dados[dados$DATA.MOV == dt,]\n",
    "  View(dados)\n",
    "}"
   ]
  },
  {
   "cell_type": "code",
   "execution_count": null,
   "metadata": {},
   "outputs": [],
   "source": []
  }
 ],
 "metadata": {
  "kernelspec": {
   "display_name": "R",
   "language": "R",
   "name": "ir"
  },
  "language_info": {
   "codemirror_mode": "r",
   "file_extension": ".r",
   "mimetype": "text/x-r-source",
   "name": "R",
   "pygments_lexer": "r",
   "version": "3.6.1"
  }
 },
 "nbformat": 4,
 "nbformat_minor": 4
}
