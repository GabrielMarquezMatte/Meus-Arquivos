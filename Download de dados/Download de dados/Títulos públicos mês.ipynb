{
 "cells": [
  {
   "cell_type": "code",
   "execution_count": 1,
   "metadata": {},
   "outputs": [],
   "source": [
    "dt <- as.Date(\"14/07/2018\")\n",
    "\n",
    "ler_BACEN_negocios <- function(dt){\n",
    "  stopifnot(is(dt, \"Date\"), length(dt) == 1)\n",
    "  url <- format(dt,\n",
    "                \"https://www4.bcb.gov.br/pom/demab/negociacoes/download/NegE%Y%m.ZIP\")\n",
    "  filename <- format(dt, \"Gabriel André/NegE%Y%m.ZIP\")\n",
    "  download.file(url = url, destfile = filename, mode = \"wb\")\n",
    "  \n",
    "  files <- unzip(zipfile = filename, exdir = \"Gabriel André\")\n",
    "  dados <- read.csv2(\"Gabriel André/NegE%Y%m.csv\", stringsAsFactors = FALSE)\n",
    "  file.remove(filename)\n",
    "  file.remove(files)\n",
    "  \n",
    "  dados$DATA.MOV <- as.Date(dados$DATA.MOV, \"%d/%m/%Y\")\n",
    "  dados$EMISSAO <- as.Date(dados$EMISSAO, \"%d/%m/%Y\")\n",
    "  dados$VENCIMENTO <- as.Date(dados$VENCIMENTO, \"%d/%m/%Y\")\n",
    "  dados <- dados[dados$DATA.MOV == dt,]\n",
    "  View(dados)\n",
    "}"
   ]
  },
  {
   "cell_type": "code",
   "execution_count": 2,
   "metadata": {},
   "outputs": [
    {
     "ename": "ERROR",
     "evalue": "Error in download.file(url = url, destfile = filename, mode = \"wb\"): não foi possível abrir o arquivo de destino 'Gabriel André/NegE201807.ZIP', motivo 'No such file or directory'\n",
     "output_type": "error",
     "traceback": [
      "Error in download.file(url = url, destfile = filename, mode = \"wb\"): não foi possível abrir o arquivo de destino 'Gabriel André/NegE201807.ZIP', motivo 'No such file or directory'\nTraceback:\n",
      "1. ler_BACEN_negocios(as.Date(\"2018-07-18\"))",
      "2. download.file(url = url, destfile = filename, mode = \"wb\")   # at line 8 of file <text>"
     ]
    }
   ],
   "source": [
    "ler_BACEN_negocios(as.Date(\"2018-07-18\"))"
   ]
  },
  {
   "cell_type": "code",
   "execution_count": null,
   "metadata": {},
   "outputs": [],
   "source": []
  }
 ],
 "metadata": {
  "kernelspec": {
   "display_name": "R",
   "language": "R",
   "name": "ir"
  },
  "language_info": {
   "codemirror_mode": "r",
   "file_extension": ".r",
   "mimetype": "text/x-r-source",
   "name": "R",
   "pygments_lexer": "r",
   "version": "3.6.1"
  }
 },
 "nbformat": 4,
 "nbformat_minor": 4
}
