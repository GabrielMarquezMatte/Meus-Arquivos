{
 "cells": [
  {
   "cell_type": "code",
   "execution_count": 2,
   "metadata": {},
   "outputs": [],
   "source": [
    "ler_debentures_secundario <- function(ativo){\n",
    "  stopifnot(is.character(ativo),length(ativo) == 1)\n",
    "  url <- paste0(\"http://www.debentures.com.br/exploreosnd/consultaadados/mercadosecundario/precosdenegociacao_e.asp?ativo=\",ativo,\"&dt_ini=19700101&dt_fim=20291231\")\n",
    "  dados <- read.table(url, skip = 2, header = T, stringsAsFactors = F, sep = \"\\t\",\n",
    "                      dec = \",\")\n",
    "  dados$Data <- as.Date(dados$Data, \"%d/%m/%Y\")\n",
    "  dados$PU.Máximo <- as.numeric(gsub(',','.',\n",
    "                                     gsub('.','',dados$PU.Máximo, fixed = T), fixed = T))\n",
    "  dados$PU.Médio <- as.numeric(gsub(',','.',\n",
    "                                    gsub('.','',dados$PU.Médio, fixed = T), fixed = T))\n",
    "  dados$PU.Mínimo <- as.numeric(gsub(',','.',\n",
    "                                     gsub('.','',dados$PU.Mínimo, fixed = T), fixed = T))\n",
    "  colnames(dados) <- c(\"Data\",\"Emissor\",\n",
    "                       \"Codigo\",\"ISIN\",\n",
    "                       \"Quantidade\",\"Negocios\",\n",
    "                       \"PU_Mínimo\",\"PU_Médio\",\n",
    "                       \"PU_Máximo\",\"Percentual_Curva\")\n",
    "  return(View(dados))\n",
    "}"
   ]
  },
  {
   "cell_type": "code",
   "execution_count": 2,
   "metadata": {},
   "outputs": [],
   "source": [
    "grafico_debentures_secundario <- function(ativo){\n",
    "  stopifnot(is.character(ativo),length(ativo) == 1)\n",
    "  library(ggplot2)\n",
    "  library(ggthemes)\n",
    "  url <- paste0(\"http://www.debentures.com.br/exploreosnd/consultaadados/mercadosecundario/precosdenegociacao_e.asp?ativo=\",ativo,\"&dt_ini=19700101&dt_fim=20291231\")\n",
    "  dados <- read.table(url, skip = 2, header = T, stringsAsFactors = F, sep = \"\\t\",\n",
    "                      dec = \",\")\n",
    "  dados$Data <- as.Date(dados$Data, \"%d/%m/%Y\")\n",
    "  dados$PU.Máximo <- as.numeric(gsub(',','.',\n",
    "                                     gsub('.','',dados$PU.Máximo, fixed = T), fixed = T))\n",
    "  dados$PU.Médio <- as.numeric(gsub(',','.',\n",
    "                                    gsub('.','',dados$PU.Médio, fixed = T), fixed = T))\n",
    "  dados$PU.Mínimo <- as.numeric(gsub(',','.',\n",
    "                                     gsub('.','',dados$PU.Mínimo, fixed = T), fixed = T))\n",
    "  colnames(dados) <- c(\"Data\",\"Emissor\",\n",
    "                       \"Codigo\",\"ISIN\",\n",
    "                       \"Quantidade\",\"Negocios\",\n",
    "                       \"PU_Mínimo\",\"PU_Médio\",\n",
    "                       \"PU_Máximo\",\"Percentual_Curva\")\n",
    "  ggplot(dados, aes(x = Data))+\n",
    "    geom_line(aes(y = PU_Médio), colour = \"red\", size = 0.5)+\n",
    "    labs(x = \"\", y = \"Preço médio R$\", title = paste(\"Preço médio de\", ativo),\n",
    "         caption = \"Fonte:debentures.com.br\")+\n",
    "    theme_economist()\n",
    "}"
   ]
  },
  {
   "cell_type": "code",
   "execution_count": 3,
   "metadata": {},
   "outputs": [
    {
     "name": "stderr",
     "output_type": "stream",
     "text": [
      "Warning message:\n",
      "\"package 'ggplot2' was built under R version 3.6.3\"Warning message:\n",
      "\"package 'ggthemes' was built under R version 3.6.3\""
     ]
    },
    {
     "data": {
      "image/png": "[encoded data removed]",
      "text/plain": [
       "plot without title"
      ]
     },
     "metadata": {},
     "output_type": "display_data"
    }
   ],
   "source": [
    "grafico_debentures_secundario(\"PETR15\")"
   ]
  }
 ],
 "metadata": {
  "kernelspec": {
   "display_name": "R",
   "language": "R",
   "name": "ir"
  },
  "language_info": {
   "codemirror_mode": "r",
   "file_extension": ".r",
   "mimetype": "text/x-r-source",
   "name": "R",
   "pygments_lexer": "r",
   "version": "3.6.1"
  }
 },
 "nbformat": 4,
 "nbformat_minor": 4
}
