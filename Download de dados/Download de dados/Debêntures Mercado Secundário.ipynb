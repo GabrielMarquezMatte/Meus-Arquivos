{
 "cells": [
  {
   "cell_type": "code",
   "execution_count": 2,
   "metadata": {},
   "outputs": [],
   "source": [
    "ler_debentures_secundario <- function(ativo){\n",
    "  stopifnot(is.character(ativo),length(ativo) == 1)\n",
    "  url <- paste0(\"http://www.debentures.com.br/exploreosnd/consultaadados/mercadosecundario/precosdenegociacao_e.asp?ativo=\",ativo,\"&dt_ini=19700101&dt_fim=20291231\")\n",
    "  dados <- read.table(url, skip = 2, header = T, stringsAsFactors = F, sep = \"\\t\",\n",
    "                      dec = \",\")\n",
    "  dados$Data <- as.Date(dados$Data, \"%d/%m/%Y\")\n",
    "  dados$PU.Máximo <- as.numeric(gsub(',','.',\n",
    "                                     gsub('.','',dados$PU.Máximo, fixed = T), fixed = T))\n",
    "  dados$PU.Médio <- as.numeric(gsub(',','.',\n",
    "                                    gsub('.','',dados$PU.Médio, fixed = T), fixed = T))\n",
    "  dados$PU.Mínimo <- as.numeric(gsub(',','.',\n",
    "                                     gsub('.','',dados$PU.Mínimo, fixed = T), fixed = T))\n",
    "  colnames(dados) <- c(\"Data\",\"Emissor\",\n",
    "                       \"Codigo\",\"ISIN\",\n",
    "                       \"Quantidade\",\"Negocios\",\n",
    "                       \"PU_Mínimo\",\"PU_Médio\",\n",
    "                       \"PU_Máximo\",\"Percentual_Curva\")\n",
    "  return(View(dados))\n",
    "}"
   ]
  },
  {
   "cell_type": "code",
   "execution_count": null,
   "metadata": {},
   "outputs": [],
   "source": []
  }
 ],
 "metadata": {
  "kernelspec": {
   "display_name": "R",
   "language": "R",
   "name": "ir"
  },
  "language_info": {
   "codemirror_mode": "r",
   "file_extension": ".r",
   "mimetype": "text/x-r-source",
   "name": "R",
   "pygments_lexer": "r",
   "version": "3.6.1"
  }
 },
 "nbformat": 4,
 "nbformat_minor": 4
}
