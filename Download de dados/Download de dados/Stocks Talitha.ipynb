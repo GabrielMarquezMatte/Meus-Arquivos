{
 "cells": [
  {
   "cell_type": "code",
   "execution_count": 1,
   "metadata": {},
   "outputs": [
    {
     "name": "stderr",
     "output_type": "stream",
     "text": [
      "Warning message:\n",
      "\"package 'rvest' was built under R version 3.6.3\"Loading required package: xml2\n",
      "Warning message:\n",
      "\"package 'xml2' was built under R version 3.6.3\"Warning message:\n",
      "\"package 'readr' was built under R version 3.6.3\"\n",
      "Attaching package: 'readr'\n",
      "\n",
      "The following object is masked from 'package:rvest':\n",
      "\n",
      "    guess_encoding\n",
      "\n",
      "Warning message:\n",
      "\"package 'readxl' was built under R version 3.6.3\""
     ]
    },
    {
     "ename": "ERROR",
     "evalue": "Error in download.file(url, filename, mode = \"wb\"): não foi possível abrir o arquivo de destino 'Gabriel André/Estudo R/stock.csv', motivo 'No such file or directory'\n",
     "output_type": "error",
     "traceback": [
      "Error in download.file(url, filename, mode = \"wb\"): não foi possível abrir o arquivo de destino 'Gabriel André/Estudo R/stock.csv', motivo 'No such file or directory'\nTraceback:\n",
      "1. download.file(url, filename, mode = \"wb\")"
     ]
    }
   ],
   "source": [
    "library(rvest)\n",
    "library(readr)\n",
    "library(readxl)\n",
    "url <- 'https://raw.githubusercontent.com/talithafs/mpgse/master/stock.csv'\n",
    "filename <- \"Gabriel André/Estudo R/stock.csv\"\n",
    "download.file(url, filename, mode = \"wb\")\n",
    "data <- read_csv(filename)\n",
    "file.remove(filename)\n",
    "View(data)\n",
    "a <- ggplot(data, aes(seq(1,36,1), log(value)))+\n",
    "  geom_line()+\n",
    "  geom_smooth(formula = y ~ x, method = \"lm\")\n",
    "regressao <- lm(seq(1,36,1) ~ log(data$value))\n",
    "summary(regressao)"
   ]
  }
 ],
 "metadata": {
  "kernelspec": {
   "display_name": "R",
   "language": "R",
   "name": "ir"
  },
  "language_info": {
   "codemirror_mode": "r",
   "file_extension": ".r",
   "mimetype": "text/x-r-source",
   "name": "R",
   "pygments_lexer": "r",
   "version": "3.6.1"
  }
 },
 "nbformat": 4,
 "nbformat_minor": 4
}
