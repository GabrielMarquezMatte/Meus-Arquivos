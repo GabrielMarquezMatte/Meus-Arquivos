{
 "cells": [
  {
   "cell_type": "code",
   "execution_count": 9,
   "metadata": {},
   "outputs": [],
   "source": [
    "ler.projecoes.igp.anbima = function(){\n",
    "    library(stringr)\n",
    "  pattern = paste0(\n",
    "    \"<td [^>]*>(\\\\w+ de \\\\d+)</td>\", # mes de coleta\n",
    "    \"<td [^>]*>(\\\\d{2}/\\\\d{2}/\\\\d{2,4})</td>\", # data de projecao\n",
    "    \"<td [^>]*><strong>([\\\\d,-]*)</strong></td>\", # projecao\n",
    "    \"<td [^>]*>(\\\\d{2}/\\\\d{2}/\\\\d{2,4})</td>\")\n",
    "  url <- \"https://www.anbima.com.br/pt_br/informar/estatisticas/precos-e-indices/projecao-de-inflacao-gp-m.htm\"\n",
    "  txt = try(readLines(url, warn = F))\n",
    "  if(is(txt, \"try-error\")) stop(\"erro ao ler projecoes IGP ANBIMA\")\n",
    "  \n",
    "  s = paste(txt, collapse = \"\\n\")\n",
    "  s = str_replace_all(s, \"(</?strong>)\\\\s*\\\\1\", \"\\\\1\")\n",
    "  \n",
    "  s = str_replace_all(s, \"</?p>\", \"\")\n",
    "  \n",
    "  m = str_match_all(string = s, pattern = pattern)[[1]]\n",
    "  \n",
    "  dados = m[,-1]\n",
    "  colnames(dados) = c(\"mes.coleta\", \"data\", \"projecao\", \"validade\")\n",
    "  dados = as.data.frame(dados, stringsAsFactors = F)\n",
    "  dados$identificador = c(\"IGPM 1\", \"IGPM 2\", \"IGPM 3\", \"IPCA 1\", \"IPCA 2\")\n",
    "  \n",
    "  dados$data = as.Date(dados$data, \"%d/%m/%y\")\n",
    "  dados$validade = as.Date(dados$validade, \"%d/%m/%y\")\n",
    "  \n",
    "  dados$projecao = suppressWarnings(as.numeric(gsub(\",\", \".\", dados$projecao)))\n",
    "    return(dados)\n",
    "}"
   ]
  },
  {
   "cell_type": "code",
   "execution_count": 10,
   "metadata": {},
   "outputs": [
    {
     "data": {
      "text/html": [
       "<table>\n",
       "<thead><tr><th scope=col>mes.coleta</th><th scope=col>data</th><th scope=col>projecao</th><th scope=col>validade</th><th scope=col>identificador</th></tr></thead>\n",
       "<tbody>\n",
       "\t<tr><td>Maio de 2020 </td><td>2020-05-28   </td><td> 0.70        </td><td>2020-06-02   </td><td>IGPM 1       </td></tr>\n",
       "\t<tr><td>Junho de 2020</td><td>2020-06-09   </td><td> 1.20        </td><td>2020-06-10   </td><td>IGPM 2       </td></tr>\n",
       "\t<tr><td>Junho de 2020</td><td>2020-06-18   </td><td>   NA        </td><td>2020-06-19   </td><td>IGPM 3       </td></tr>\n",
       "\t<tr><td>Maio de 2020 </td><td>2020-05-08   </td><td>-0.37        </td><td>2020-05-18   </td><td>IPCA 1       </td></tr>\n",
       "\t<tr><td>Maio de 2020 </td><td>2020-05-26   </td><td>-0.45        </td><td>2020-05-27   </td><td>IPCA 2       </td></tr>\n",
       "</tbody>\n",
       "</table>\n"
      ],
      "text/latex": [
       "\\begin{tabular}{r|lllll}\n",
       " mes.coleta & data & projecao & validade & identificador\\\\\n",
       "\\hline\n",
       "\t Maio de 2020  & 2020-05-28    &  0.70         & 2020-06-02    & IGPM 1       \\\\\n",
       "\t Junho de 2020 & 2020-06-09    &  1.20         & 2020-06-10    & IGPM 2       \\\\\n",
       "\t Junho de 2020 & 2020-06-18    &    NA         & 2020-06-19    & IGPM 3       \\\\\n",
       "\t Maio de 2020  & 2020-05-08    & -0.37         & 2020-05-18    & IPCA 1       \\\\\n",
       "\t Maio de 2020  & 2020-05-26    & -0.45         & 2020-05-27    & IPCA 2       \\\\\n",
       "\\end{tabular}\n"
      ],
      "text/markdown": [
       "\n",
       "| mes.coleta | data | projecao | validade | identificador |\n",
       "|---|---|---|---|---|\n",
       "| Maio de 2020  | 2020-05-28    |  0.70         | 2020-06-02    | IGPM 1        |\n",
       "| Junho de 2020 | 2020-06-09    |  1.20         | 2020-06-10    | IGPM 2        |\n",
       "| Junho de 2020 | 2020-06-18    |    NA         | 2020-06-19    | IGPM 3        |\n",
       "| Maio de 2020  | 2020-05-08    | -0.37         | 2020-05-18    | IPCA 1        |\n",
       "| Maio de 2020  | 2020-05-26    | -0.45         | 2020-05-27    | IPCA 2        |\n",
       "\n"
      ],
      "text/plain": [
       "  mes.coleta    data       projecao validade   identificador\n",
       "1 Maio de 2020  2020-05-28  0.70    2020-06-02 IGPM 1       \n",
       "2 Junho de 2020 2020-06-09  1.20    2020-06-10 IGPM 2       \n",
       "3 Junho de 2020 2020-06-18    NA    2020-06-19 IGPM 3       \n",
       "4 Maio de 2020  2020-05-08 -0.37    2020-05-18 IPCA 1       \n",
       "5 Maio de 2020  2020-05-26 -0.45    2020-05-27 IPCA 2       "
      ]
     },
     "metadata": {},
     "output_type": "display_data"
    }
   ],
   "source": [
    "ler.projecoes.igp.anbima()"
   ]
  },
  {
   "cell_type": "code",
   "execution_count": null,
   "metadata": {},
   "outputs": [],
   "source": []
  }
 ],
 "metadata": {
  "kernelspec": {
   "display_name": "R",
   "language": "R",
   "name": "ir"
  },
  "language_info": {
   "codemirror_mode": "r",
   "file_extension": ".r",
   "mimetype": "text/x-r-source",
   "name": "R",
   "pygments_lexer": "r",
   "version": "3.6.1"
  }
 },
 "nbformat": 4,
 "nbformat_minor": 4
}
