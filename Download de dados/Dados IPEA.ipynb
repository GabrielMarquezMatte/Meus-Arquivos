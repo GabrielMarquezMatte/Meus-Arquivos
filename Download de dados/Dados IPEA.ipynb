{
 "cells": [
  {
   "cell_type": "code",
   "execution_count": 1,
   "metadata": {},
   "outputs": [],
   "source": [
    "ler_ipea <- function(id_serie){\n",
    "  stopifnot(is.integer(id_serie), length(id_serie) == 1)\n",
    "  url <- paste0(\"http://www.ipeadata.gov.br/ExibeSerie.aspx?oper=exportCSVBr&\",\n",
    "                \"serid\",id_serie,\"=\", id_serie)\n",
    "  dados <- read.csv2(url, stringsAsFactors = F,\n",
    "                     col.names = c(\"Data\", \"Valor\", \"Dummy\"))\n",
    "  dados$Dummy <- NULL\n",
    "  return(View(dados))\n",
    "}"
   ]
  }
 ],
 "metadata": {
  "kernelspec": {
   "display_name": "R",
   "language": "R",
   "name": "ir"
  },
  "language_info": {
   "codemirror_mode": "r",
   "file_extension": ".r",
   "mimetype": "text/x-r-source",
   "name": "R",
   "pygments_lexer": "r",
   "version": "3.6.1"
  }
 },
 "nbformat": 4,
 "nbformat_minor": 4
}
