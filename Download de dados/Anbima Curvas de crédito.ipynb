{
 "cells": [
  {
   "cell_type": "code",
   "execution_count": 1,
   "metadata": {},
   "outputs": [],
   "source": [
    "ler_anbima_curva_credito <- function(data){\n",
    "  stopifnot(is(data, \"Date\"), length(data)==1)\n",
    "  library(httr)\n",
    "  library(readr)\n",
    "  url <- \"https://www.anbima.com.br/informacoes/curvas-debentures/CD-down.asp\"\n",
    "  data <- as.Date(\"2020-06-08\")\n",
    "  tipo <- \"form\"\n",
    "  idioma <- \"PT\"\n",
    "  saida <- \"csv\"\n",
    "  r <- POST(url = url, encode = tipo, body = list(Dt_ref = format(data, \"%d/%m/%Y\"),\n",
    "                                                  Idioma = idioma,\n",
    "                                                  saida = saida))\n",
    "  txt <- content(r, encoding = \"UTF-8\")\n",
    "  txt <- rawToChar(txt)\n",
    "  dados <- read.csv2(text = txt, header = T, stringsAsFactors = F, skip = 1)\n",
    "  dados$Data <- data\n",
    "  return(View(dados))\n",
    "}"
   ]
  },
  {
   "cell_type": "code",
   "execution_count": 3,
   "metadata": {},
   "outputs": [],
   "source": [
    "grafico_anbima_curva_credito <- function(data){\n",
    "  stopifnot(is(data, \"Date\"), length(data)==1)\n",
    "  library(httr)\n",
    "  library(readr)\n",
    "  library(ggplot2)\n",
    "  library(ggthemes)\n",
    "  url <- \"https://www.anbima.com.br/informacoes/curvas-debentures/CD-down.asp\"\n",
    "  tipo <- \"form\"\n",
    "  idioma <- \"PT\"\n",
    "  saida <- \"csv\"\n",
    "  r <- POST(url = url, encode = tipo, body = list(Dt_ref = format(data, \"%d/%m/%Y\"),\n",
    "                                                  Idioma = idioma,\n",
    "                                                  saida = saida))\n",
    "  txt <- content(r, encoding = \"UTF-8\")\n",
    "  txt <- rawToChar(txt)\n",
    "  dados <- read.csv2(text = txt, header = T, stringsAsFactors = F, skip = 1)\n",
    "  dados$Data <- data\n",
    "  dados <- data.frame(dados)\n",
    "  ggplot(dados, aes(x = Vertices))+\n",
    "    geom_line(aes(y = AAA, colour = \"AAA\"))+\n",
    "    geom_line(aes(y = AA, colour = \"AA\"))+\n",
    "    geom_line(aes(y = A, colour = \"A\"))+\n",
    "    scale_colour_manual(\"Rating\", values = c(\"AAA\" = \"red\",\n",
    "                                             \"AA\" = \"blue\",\n",
    "                                             \"A\" = \"green\"))+\n",
    "    labs(x = \"Anos\", y = \"Spread %\", title = \"Curva de crédito\",\n",
    "         subtitle = format(data, \"%d/%m/%Y\"), caption = \"Fonte:Anbima\")+\n",
    "    theme_economist()\n",
    "}"
   ]
  },
  {
   "cell_type": "code",
   "execution_count": 4,
   "metadata": {},
   "outputs": [
    {
     "data": {
      "image/png": "[encoded data removed]",
      "text/plain": [
       "plot without title"
      ]
     },
     "metadata": {},
     "output_type": "display_data"
    }
   ],
   "source": [
    "grafico_anbima_curva_credito(as.Date(\"2020-06-12\"))"
   ]
  },
  {
   "cell_type": "code",
   "execution_count": null,
   "metadata": {},
   "outputs": [],
   "source": []
  }
 ],
 "metadata": {
  "kernelspec": {
   "display_name": "R",
   "language": "R",
   "name": "ir"
  },
  "language_info": {
   "codemirror_mode": "r",
   "file_extension": ".r",
   "mimetype": "text/x-r-source",
   "name": "R",
   "pygments_lexer": "r",
   "version": "3.6.1"
  }
 },
 "nbformat": 4,
 "nbformat_minor": 4
}
