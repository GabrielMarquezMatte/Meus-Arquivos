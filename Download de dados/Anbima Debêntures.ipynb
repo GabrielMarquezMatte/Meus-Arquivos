{
 "cells": [
  {
   "cell_type": "code",
   "execution_count": null,
   "metadata": {},
   "outputs": [],
   "source": [
    "ler_debentures <- function(data){\n",
    "  stopifnot(is(data, \"Date\"), length(data) == 1)\n",
    "  url <- format(data,\n",
    "                \"https://www.anbima.com.br/informacoes/merc-sec-debentures/arqs/db%y%m%d.txt\")\n",
    "  dados <- read.table(file = url, header = TRUE,\n",
    "                      skip = 2, sep = \"@\", stringsAsFactors = F,\n",
    "                      na.strings = c(\"N/D\", \"--\"), dec = \",\", fill = TRUE)\n",
    "  dados$Repac....Venc. <- as.Date(dados$Repac....Venc., \"%d/%m/%Y\")\n",
    "  dados$Duration <- dados$Duration/252\n",
    "  dados[\"Duration.Mod\"] <- dados$Duration/(1+(dados$Taxa.Indicativa)/100)\n",
    "  dados[\"VaR.em.%.para.1%.de.mudança.juros\"] <- -dados$Duration.Mod*1\n",
    "  return(View(dados))\n",
    "}"
   ]
  }
 ],
 "metadata": {
  "kernelspec": {
   "display_name": "R",
   "language": "R",
   "name": "ir"
  },
  "language_info": {
   "codemirror_mode": "r",
   "file_extension": ".r",
   "mimetype": "text/x-r-source",
   "name": "R",
   "pygments_lexer": "r",
   "version": "4.0.2"
  }
 },
 "nbformat": 4,
 "nbformat_minor": 4
}
