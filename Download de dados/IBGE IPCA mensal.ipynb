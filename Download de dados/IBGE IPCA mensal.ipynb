{
 "cells": [
  {
   "cell_type": "code",
   "execution_count": 1,
   "metadata": {},
   "outputs": [],
   "source": [
    "#Função para ler os dados do IBGE sobre a Inflação Mensal\n",
    "ler_ibge_ipca_subitem <- function(data, plot = NULL, top_n = NULL){\n",
    "  pacotes <- c(\"readxl\", \"dplyr\", \"tibble\", \"ggplot2\", \"ggthemes\")\n",
    "  instalados <- installed.packages()\n",
    "  faltam <- pacotes[!(pacotes %in% instalados[,1])]\n",
    "  if(length(faltam) > 0){\n",
    "    install.packages(faltam)\n",
    "    for(i in 1:length(faltam)){\n",
    "      message(paste(faltam[i], \"instalado\"))\n",
    "    }\n",
    "  } else {\n",
    "    if(length(faltam) == 0){\n",
    "      for(i in pacotes){\n",
    "        library(i, character.only = T)\n",
    "      }\n",
    "    }\n",
    "  }\n",
    "  stopifnot(is(data, \"Date\"), length(data) == 1)\n",
    "  if(data >= format(Sys.Date(), \"%Y-01-01\")){\n",
    "    url <- format(\n",
    "      data,\n",
    "      \"ftp://ftp.ibge.gov.br/Precos_Indices_de_Precos_ao_Consumidor/IPCA/Resultados_por_Subitem/ipca_%Y%mSubitem.zip\")\n",
    "  } else{\n",
    "    url <- format(\n",
    "      data,\n",
    "      \"ftp://ftp.ibge.gov.br/Precos_Indices_de_Precos_ao_Consumidor/IPCA/Resultados_por_Subitem/%Y/ipca_%Y%mSubitem.zip\"\n",
    "    )\n",
    "  }\n",
    "  filename <- format(data, paste0(getwd(), \"/ipca_%Y%mSubitem.zip\"))\n",
    "  file <- download.file(url = url, destfile = filename, mode = \"wb\")\n",
    "  files <- unzip(zipfile = filename, exdir = getwd())\n",
    "  dados <- read_excel(path = files, sheet = 1, skip = 4, col_names = T)\n",
    "  dados <- data.frame(dados)\n",
    "  dados <- dados[-1,]\n",
    "  file.remove(files)\n",
    "  for(i in 2:ncol(dados)){\n",
    "    dados[,i] <- suppressWarnings(as.numeric(dados[,i]))\n",
    "  }\n",
    "  if(is.null(plot)|isFALSE(plot)){\n",
    "    return(View(dados))\n",
    "  }else{\n",
    "    if(isTRUE(plot)&is.null(top_n)){\n",
    "      dados %>%\n",
    "        ungroup() %>%\n",
    "        top_n(10, NACIONAL) %>%\n",
    "        mutate(`...1` = reorder(`...1`, NACIONAL)) %>%\n",
    "        ggplot()+\n",
    "        geom_col(aes(x = `...1`, y = NACIONAL))+\n",
    "        coord_flip()+\n",
    "        labs(x = \"\", y = \"%\", title = \"Produtos que mais subiram\",\n",
    "             subtitle = format(data, \"%B de %Y\"), caption = \"Fonte:IBGE\")+\n",
    "        theme_economist()\n",
    "    } else{\n",
    "      if(isTRUE(plot)&!is.null(top_n)){\n",
    "        return(dados %>%\n",
    "                 ungroup() %>%\n",
    "                 top_n(top_n, NACIONAL) %>%\n",
    "                 mutate(`...1` = reorder(`...1`, NACIONAL)) %>%\n",
    "                 ggplot()+\n",
    "                 geom_col(aes(x = `...1`, y = NACIONAL))+\n",
    "                 coord_flip()+\n",
    "                 labs(x = \"\", y = \"%\", title = if(top_n > 0){\n",
    "                   print(\"Produtos que mais subiram\")\n",
    "                 } else{\n",
    "                   print(\"Produtos que mais caíram\")\n",
    "                 },\n",
    "                 subtitle = format(data, \"%B de %Y\"), caption = \"Fonte:IBGE\")+\n",
    "                 theme_economist())\n",
    "      }\n",
    "    }\n",
    "  }\n",
    "}"
   ]
  },
  {
   "cell_type": "code",
   "execution_count": 5,
   "metadata": {},
   "outputs": [
    {
     "name": "stderr",
     "output_type": "stream",
     "text": [
      "New names:\n",
      "* `` -> ...1\n",
      "\n"
     ]
    },
    {
     "name": "stdout",
     "output_type": "stream",
     "text": [
      "[1] \"Produtos que mais caíram\"\n"
     ]
    },
    {
     "data": {
      "image/png": "[encoded data removed]",
      "text/plain": [
       "plot without title"
      ]
     },
     "metadata": {
      "image/png": {
       "height": 420,
       "width": 420
      }
     },
     "output_type": "display_data"
    }
   ],
   "source": [
    "ler_ibge_ipca_subitem(as.Date(\"2020-01-01\"), plot = T, top_n = -10)"
   ]
  },
  {
   "cell_type": "code",
   "execution_count": null,
   "metadata": {},
   "outputs": [],
   "source": []
  }
 ],
 "metadata": {
  "kernelspec": {
   "display_name": "R",
   "language": "R",
   "name": "ir"
  },
  "language_info": {
   "codemirror_mode": "r",
   "file_extension": ".r",
   "mimetype": "text/x-r-source",
   "name": "R",
   "pygments_lexer": "r",
   "version": "4.0.2"
  }
 },
 "nbformat": 4,
 "nbformat_minor": 4
}
