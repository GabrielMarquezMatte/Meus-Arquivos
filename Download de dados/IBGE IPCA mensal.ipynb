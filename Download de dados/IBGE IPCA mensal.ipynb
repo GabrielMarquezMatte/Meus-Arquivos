{
 "cells": [
  {
   "cell_type": "code",
   "execution_count": 2,
   "metadata": {},
   "outputs": [],
   "source": [
    "ler_ibge_ipca_subitem <- function(data, plot = NULL, top_n = NULL){\n",
    "  options(warn = -1)\n",
    "  pacotes <- c(\"readxl\", \"dplyr\", \"tibble\", \"ggplot2\", \"ggthemes\")\n",
    "  instalados <- installed.packages()\n",
    "  faltam <- pacotes[!(pacotes %in% instalados[,1])]\n",
    "  if(length(faltam) > 0){\n",
    "    install.packages(faltam)\n",
    "    for(i in 1:length(faltam)){\n",
    "      message(paste(faltam[i], \"instalado\"))\n",
    "    }\n",
    "  } else {\n",
    "    if(length(faltam) == 0){\n",
    "      for(i in pacotes){\n",
    "        suppressPackageStartupMessages(library(i, character.only = T))\n",
    "      }\n",
    "    }\n",
    "  }\n",
    "  stopifnot(is(data, \"Date\"), length(data) == 1)\n",
    "  if(data >= format(Sys.Date(), \"%Y-01-01\")){\n",
    "    url <- format(\n",
    "      data,\n",
    "      \"ftp://ftp.ibge.gov.br/Precos_Indices_de_Precos_ao_Consumidor/IPCA/Resultados_por_Subitem/ipca_%Y%mSubitem.zip\")\n",
    "  } else{\n",
    "    url <- format(\n",
    "      data,\n",
    "      \"ftp://ftp.ibge.gov.br/Precos_Indices_de_Precos_ao_Consumidor/IPCA/Resultados_por_Subitem/%Y/ipca_%Y%mSubitem.zip\"\n",
    "    )\n",
    "  }\n",
    "  filename <- format(data, paste0(getwd(), \"/ipca_%Y%mSubitem.zip\"))\n",
    "  dados <- 0\n",
    "  try({file <- download.file(url = url, destfile = filename, mode = \"wb\")\n",
    "  files <- unzip(zipfile = filename, exdir = getwd())\n",
    "  dados <- readxl::read_excel(path = files, sheet = 1, skip = 4, col_names = T)\n",
    "  dados <- data.frame(dados)\n",
    "  dados <- dados[-1,]\n",
    "  file.remove(files)\n",
    "  file.remove(filename)\n",
    "  for(i in 2:ncol(dados)){\n",
    "    dados[,i] <- suppressWarnings(as.numeric(dados[,i]))\n",
    "  }\n",
    "  if(is.null(plot)|isFALSE(plot)){\n",
    "    return((dados))\n",
    "  }else{\n",
    "    if(isTRUE(plot)&is.null(top_n)){\n",
    "      dados %>%\n",
    "        ungroup() %>%\n",
    "        top_n(10, NACIONAL) %>%\n",
    "        mutate(`...1` = reorder(`...1`, NACIONAL)) %>%\n",
    "        ggplot()+\n",
    "        geom_col(aes(x = `...1`, y = NACIONAL))+\n",
    "        coord_flip()+\n",
    "        labs(x = \"\", y = \"%\", title = \"Produtos que mais subiram\",\n",
    "             subtitle = format(data, \"%B de %Y\"), caption = \"Fonte:IBGE\")+\n",
    "        theme_economist()\n",
    "    } else{\n",
    "      if(isTRUE(plot)&!is.null(top_n)){\n",
    "        return(dados %>%\n",
    "                 ungroup() %>%\n",
    "                 top_n(top_n, NACIONAL) %>%\n",
    "                 mutate(`...1` = reorder(`...1`, NACIONAL)) %>%\n",
    "                 ggplot()+\n",
    "                 geom_col(aes(x = `...1`, y = NACIONAL))+\n",
    "                 coord_flip()+\n",
    "                 labs(x = \"\", y = \"%\", title = if(top_n > 0){\n",
    "                   print(\"Produtos que mais subiram\")\n",
    "                 } else{\n",
    "                   print(\"Produtos que mais caíram\")\n",
    "                 },\n",
    "                 subtitle = format(data, \"%B de %Y\"), caption = \"Fonte:IBGE\")+\n",
    "                 theme_economist())\n",
    "      }\n",
    "    }\n",
    "  }\n",
    "  })\n",
    "  if(dados == 0){\n",
    "    message(\"\\nFalha no dowload\")\n",
    "  }else{\n",
    "    message(\"\\nDownload Concluido\")\n",
    "  }\n",
    "}"
   ]
  },
  {
   "cell_type": "code",
   "execution_count": 5,
   "metadata": {},
   "outputs": [
    {
     "name": "stderr",
     "output_type": "stream",
     "text": [
      "New names:\n",
      "* `` -> ...1\n",
      "\n"
     ]
    }
   ],
   "source": [
    "#Função para coletar diversos meses de dados\n",
    "multiplo_ipca <- function(datas){\n",
    "  require(tidyverse)\n",
    "  tent <- pmap(list(data = datas), ler_ibge_ipca_subitem)\n",
    "  return(tent)\n",
    "}"
   ]
  },
  {
   "cell_type": "code",
   "execution_count": 6,
   "metadata": {},
   "outputs": [
    {
     "data": {
      "image/png": "[encoded data removed]",
      "text/plain": [
       "plot without title"
      ]
     },
     "metadata": {
      "image/png": {
       "height": 420,
       "width": 420
      }
     },
     "output_type": "display_data"
    }
   ],
   "source": [
    "#Função para coleta de dados do ipca\n",
    "coletando_dados <- function(lista, elemento = \"ALIMENTAÇÃO E BEBIDAS\",\n",
    "                            estado = \"SP\"){\n",
    "  require(stringi)\n",
    "  require(stringr)\n",
    "  elemento <- str_to_lower(elemento)\n",
    "  elemento <- stringi::stri_trans_general(elemento, \"Latin-ASCII\")\n",
    "  estado <- str_to_lower(estado)\n",
    "  alimentos <- matrix(0,nrow = length(lista), ncol = length(estado))\n",
    "  for(i in 1:nrow(alimentos)){\n",
    "    if(!is.null(lista[[i]])){\n",
    "      nomes <- lista[[i]][,1]\n",
    "      nomes <- str_to_lower(nomes)\n",
    "      nomes <- stringi::stri_trans_general(nomes, \"Latin-ASCII\")\n",
    "      nomes <- gsub(\"\\\\d\",\" \",nomes, fixed = F)\n",
    "      nomes <- gsub(\"-\",\" \", nomes, fixed = T)\n",
    "      t <- str_detect(nomes,elemento)\n",
    "      colunas <- colnames(lista[[i]]) %>% str_to_lower()\n",
    "      ali <- 0\n",
    "      try(ali <- lista[[i]][t,which(colnames(lista[[i]]) %in% estado)] %>%\n",
    "        as.matrix())\n",
    "      if(nrow(ali) == 0|ncol(ali) == 0){\n",
    "        alimentos[i,] <- NA\n",
    "      }else if(nrow(ali) == 1){\n",
    "        alimentos[i,] <- ali[1,]\n",
    "      }else{\n",
    "        alimentos[i,] <- NA\n",
    "      }\n",
    "    }else{\n",
    "      alimentos[i,] <- NA\n",
    "    }\n",
    "  }\n",
    "  colnames(alimentos) <- estado\n",
    "  return(alimentos)\n",
    "}"
   ]
  },
  {
   "cell_type": "code",
   "execution_count": null,
   "metadata": {},
   "outputs": [],
   "source": []
  }
 ],
 "metadata": {
  "kernelspec": {
   "display_name": "R",
   "language": "R",
   "name": "ir"
  },
  "language_info": {
   "codemirror_mode": "r",
   "file_extension": ".r",
   "mimetype": "text/x-r-source",
   "name": "R",
   "pygments_lexer": "r",
   "version": "4.0.2"
  }
 },
 "nbformat": 4,
 "nbformat_minor": 4
}
