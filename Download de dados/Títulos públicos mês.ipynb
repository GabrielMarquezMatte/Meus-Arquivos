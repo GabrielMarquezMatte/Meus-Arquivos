{
 "cells": [
  {
   "cell_type": "code",
   "execution_count": 2,
   "metadata": {},
   "outputs": [],
   "source": [
    "ler_BACEN_negocios <- function(dt){\n",
    "  stopifnot(is(dt, \"Date\"), length(dt) == 1)\n",
    "  url <- format(dt,\n",
    "                \"https://www4.bcb.gov.br/pom/demab/negociacoes/download/NegE%Y%m.ZIP\")\n",
    "  filename <- format(dt, paste0(getwd(),\"/NegE%Y%m.ZIP\"))\n",
    "  download.file(url = url, destfile = filename, mode = \"wb\")\n",
    "  files <- unzip(zipfile = filename, exdir = getwd())\n",
    "  dados <- read.csv2(format(dt,paste0(getwd(),\"/NegE%Y%m.csv\")), stringsAsFactors = FALSE)\n",
    "  file.remove(filename)\n",
    "  file.remove(files)\n",
    "  \n",
    "  dados$DATA.MOV <- as.Date(dados$DATA.MOV, \"%d/%m/%Y\")\n",
    "  dados$EMISSAO <- as.Date(dados$EMISSAO, \"%d/%m/%Y\")\n",
    "  dados$VENCIMENTO <- as.Date(dados$VENCIMENTO, \"%d/%m/%Y\")\n",
    "  dados <- dados[dados$DATA.MOV == dt,]\n",
    "  View(dados)\n",
    "}"
   ]
  },
  {
   "cell_type": "code",
   "execution_count": 3,
   "metadata": {},
   "outputs": [
    {
     "ename": "ERROR",
     "evalue": "Error in View(dados): 'View()' not yet supported in the Jupyter R kernel\n",
     "output_type": "error",
     "traceback": [
      "Error in View(dados): 'View()' not yet supported in the Jupyter R kernel\nTraceback:\n",
      "1. ler_BACEN_negocios(as.Date(\"2020-08-14\"))",
      "2. View(dados)   # at line 16 of file <text>",
      "3. stop(sQuote(\"View()\"), \" not yet supported in the Jupyter R kernel\")"
     ]
    }
   ],
   "source": [
    "ler_BACEN_negocios(as.Date(\"2020-08-14\"))"
   ]
  },
  {
   "cell_type": "code",
   "execution_count": null,
   "metadata": {},
   "outputs": [],
   "source": []
  }
 ],
 "metadata": {
  "kernelspec": {
   "display_name": "R",
   "language": "R",
   "name": "ir"
  },
  "language_info": {
   "codemirror_mode": "r",
   "file_extension": ".r",
   "mimetype": "text/x-r-source",
   "name": "R",
   "pygments_lexer": "r",
   "version": "4.0.2"
  }
 },
 "nbformat": 4,
 "nbformat_minor": 4
}
