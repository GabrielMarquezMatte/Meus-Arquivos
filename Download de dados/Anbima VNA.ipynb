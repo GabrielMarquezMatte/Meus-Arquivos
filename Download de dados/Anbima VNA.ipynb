{
 "cells": [
  {
   "cell_type": "code",
   "execution_count": 1,
   "metadata": {},
   "outputs": [],
   "source": [
    "ler_anbima_VNA <- function(data){\n",
    "  stopifnot(is(data, \"Date\"), length(data) == 1)\n",
    "  library(httr)\n",
    "  library(readr)\n",
    "  url <- 'https://www.anbima.com.br/informacoes/vna/vna-down.asp'\n",
    "  data - as.Date(\"2020-06-08\")\n",
    "  tipo <- \"form\"\n",
    "  idioma <- \"PT\"\n",
    "  saida <- \"csv\"\n",
    "  r <- POST(url = url, encode = tipo, body = list(Data = format(data, \"%d%m%Y\"),\n",
    "                                                  Idioma = idioma,\n",
    "                                                  saida = saida))\n",
    "  txt <- content(r,as = \"raw\",encoding = \"UTF-8\")\n",
    "  txt <- rawToChar(txt)\n",
    "  dados <- read.csv2(text = txt, header = T, stringsAsFactors = F, skip = 7)\n",
    "  colnames(dados) <- c(\"Titulo\", \"Codigo\", \"VNA\", \"Indice\", \"Ref\", \"Valido_de\")\n",
    "  dados$Valido_de <- as.Date(dados$Valido_de, \"%d/%m/%Y\")\n",
    "  dados$VNA <- as.numeric(gsub(',','.',\n",
    "                               gsub('.','', dados$VNA, fixed = T), fixed = T))\n",
    "  dados$Data <- data\n",
    "  return(View(dados))\n",
    "}"
   ]
  },
  {
   "cell_type": "code",
   "execution_count": 4,
   "metadata": {},
   "outputs": [
    {
     "ename": "ERROR",
     "evalue": "Error in read.table(file = file, header = header, sep = sep, quote = quote, : no lines available in input\n",
     "output_type": "error",
     "traceback": [
      "Error in read.table(file = file, header = header, sep = sep, quote = quote, : no lines available in input\nTraceback:\n",
      "1. ler_anbima_VNA(as.Date(\"2020-01-02\"))",
      "2. read.csv2(text = txt, header = T, stringsAsFactors = F, skip = 7)   # at line 15 of file <text>",
      "3. read.table(file = file, header = header, sep = sep, quote = quote, \n .     dec = dec, fill = fill, comment.char = comment.char, ...)",
      "4. stop(\"no lines available in input\")"
     ]
    }
   ],
   "source": [
    "ler_anbima_VNA(as.Date(\"2020-01-02\"))"
   ]
  },
  {
   "cell_type": "code",
   "execution_count": null,
   "metadata": {},
   "outputs": [],
   "source": []
  }
 ],
 "metadata": {
  "kernelspec": {
   "display_name": "R",
   "language": "R",
   "name": "ir"
  },
  "language_info": {
   "codemirror_mode": "r",
   "file_extension": ".r",
   "mimetype": "text/x-r-source",
   "name": "R",
   "pygments_lexer": "r",
   "version": "4.0.2"
  }
 },
 "nbformat": 4,
 "nbformat_minor": 4
}
