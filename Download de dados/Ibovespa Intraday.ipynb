{
 "cells": [
  {
   "cell_type": "code",
   "execution_count": 2,
   "metadata": {},
   "outputs": [],
   "source": [
    "setwd('C:/Users/x/Documents')"
   ]
  },
  {
   "cell_type": "code",
   "execution_count": 11,
   "metadata": {},
   "outputs": [
    {
     "name": "stderr",
     "output_type": "stream",
     "text": [
      "\n",
      "Attaching package: 'lubridate'\n",
      "\n",
      "\n",
      "The following objects are masked from 'package:base':\n",
      "\n",
      "    date, intersect, setdiff, union\n",
      "\n",
      "\n"
     ]
    }
   ],
   "source": [
    "#Atualizar os dados todo dia útil as 17h\n",
    "library(tidyverse)\n",
    "library(XML)\n",
    "library(httr)\n",
    "library(lubridate)\n",
    "library(readr)\n",
    "url <- \"http://cotacoes.economia.uol.com.br/bolsas/cotacoes-diarias.html?indice=.bvsp&size=1000\"\n",
    "tabela <- sapply(url, readHTMLTable)\n",
    "d_tot <- tabela[[2]][,c(1,2)]\n",
    "colnames(d_tot) <- c(\"Hora\", \"Cotacao\")\n",
    "d_tot$Cotacao <- gsub(\".\",\"\",d_tot$Cotacao,fixed = T)\n",
    "d_tot$Cotacao <- gsub(\",\",\".\",d_tot$Cotacao, fixed = T)\n",
    "d_tot$Cotacao <- as.numeric(d_tot$Cotacao)\n",
    "d_tot$Hora <- as_datetime(d_tot$Hora, format = \"%d/%m/%Y %H:%M\")"
   ]
  },
  {
   "cell_type": "code",
   "execution_count": 14,
   "metadata": {},
   "outputs": [],
   "source": [
    "library(bizdays)\n",
    "calendario <- create.calendar(\"ANBIMA\", holidaysANBIMA, weekdays = c(\"saturday\",\"sunday\"))\n",
    "horas <- 10:17\n",
    "minutos <- 0\n",
    "dias <- seq(as.Date(\"2020-08-26\"), as.Date(\"2020-10-30\"),\"1 day\")\n",
    "dias <- dias[is.bizday(dias, \"ANBIMA\")]\n",
    "horarios <- expand.grid(Dias = dias, Horas = horas, Minutos = minutos)\n",
    "per <- paste0(horarios$Dias,\" \",horarios$Horas,\":\",horarios$Minutos)\n",
    "per <- as_datetime(per, format = \"%Y-%m-%d %H:%M\")"
   ]
  },
  {
   "cell_type": "code",
   "execution_count": null,
   "metadata": {},
   "outputs": [],
   "source": [
    "excel <- read_csv2(\"Gabriel André/Excel/Ibovespa 09-2020.csv\")\n",
    "excel$Hora <- excel$Hora %>%\n",
    "  format(\"%Y-%m-%d %H:%M\")\n",
    "excel$Hora <- as_datetime(excel$Hora, format = \"%Y-%m-%d %H:%M\")\n",
    "excel1 <- excel[(excel$Hora %in% per),]\n",
    "excel1 <- excel1[nrow(excel1):1,]"
   ]
  },
  {
   "cell_type": "code",
   "execution_count": null,
   "metadata": {},
   "outputs": [],
   "source": []
  }
 ],
 "metadata": {
  "kernelspec": {
   "display_name": "R",
   "language": "R",
   "name": "ir"
  },
  "language_info": {
   "codemirror_mode": "r",
   "file_extension": ".r",
   "mimetype": "text/x-r-source",
   "name": "R",
   "pygments_lexer": "r",
   "version": "4.0.2"
  }
 },
 "nbformat": 4,
 "nbformat_minor": 4
}
