{
 "cells": [
  {
   "cell_type": "code",
   "execution_count": 2,
   "metadata": {},
   "outputs": [],
   "source": [
    "ler_anbima_titulos <- function(data){\n",
    "  stopifnot(is(data,\"Date\"), length(data) == 1)\n",
    "  url <- format(data,\n",
    "                \"https://www.anbima.com.br/informacoes/merc-sec/arqs/ms%y%m%d.txt\")\n",
    "  dados <- read.table(url, sep = \"@\", header = TRUE,\n",
    "                      skip = 2, dec = ',', stringsAsFactors = F,\n",
    "                      na.strings = '--')\n",
    "  dados$Data.Referencia <- as.character(dados$Data.Referencia)\n",
    "  dados$Data.Referencia <- as.Date(dados$Data.Referencia, \"%Y%m%d\")\n",
    "  dados$Data.Base.Emissao <- as.character(dados$Data.Base.Emissao)\n",
    "  dados$Data.Base.Emissao <- as.Date(dados$Data.Base.Emissao, \"%Y%m%d\")\n",
    "  dados$Data.Vencimento <- as.character(dados$Data.Vencimento)\n",
    "  dados$Data.Vencimento <- as.Date(dados$Data.Vencimento, \"%Y%m%d\")\n",
    "  return(show(dados))\n",
    "}"
   ]
  },
  {
   "cell_type": "code",
   "execution_count": 3,
   "metadata": {},
   "outputs": [
    {
     "name": "stderr",
     "output_type": "stream",
     "text": [
      "Warning message in file(file, \"rt\"):\n",
      "\"cannot open URL 'https://www.anbima.com.br/informacoes/merc-sec/arqs/ms200102.txt': HTTP status was '404 Not Found'\"\n"
     ]
    },
    {
     "ename": "ERROR",
     "evalue": "Error in file(file, \"rt\"): não é possível abrir a conexão\n",
     "output_type": "error",
     "traceback": [
      "Error in file(file, \"rt\"): não é possível abrir a conexão\nTraceback:\n",
      "1. ler_anbima_titulos(as.Date(\"2020-01-02\"))",
      "2. read.table(url, sep = \"@\", header = TRUE, skip = 2, dec = \",\", \n .     stringsAsFactors = F, na.strings = \"--\")   # at line 5-7 of file <text>",
      "3. file(file, \"rt\")"
     ]
    }
   ],
   "source": [
    "ler_anbima_titulos(as.Date(\"2020-01-02\"))"
   ]
  },
  {
   "cell_type": "code",
   "execution_count": null,
   "metadata": {},
   "outputs": [],
   "source": []
  }
 ],
 "metadata": {
  "kernelspec": {
   "display_name": "R",
   "language": "R",
   "name": "ir"
  },
  "language_info": {
   "codemirror_mode": "r",
   "file_extension": ".r",
   "mimetype": "text/x-r-source",
   "name": "R",
   "pygments_lexer": "r",
   "version": "4.0.2"
  }
 },
 "nbformat": 4,
 "nbformat_minor": 4
}
