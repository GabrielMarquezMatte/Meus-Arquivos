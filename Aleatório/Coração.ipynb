{
 "cells": [
  {
   "cell_type": "code",
   "execution_count": 1,
   "metadata": {},
   "outputs": [],
   "source": [
    "suppressPackageStartupMessages({library(tidyverse)\n",
    "library(gganimate)\n",
    "})"
   ]
  },
  {
   "cell_type": "code",
   "execution_count": 2,
   "metadata": {},
   "outputs": [
    {
     "data": {
      "image/png": "[encoded data removed]",
      "text/plain": [
       "Plot with title \"Feliz dia dos namorados\""
      ]
     },
     "metadata": {
      "image/png": {
       "height": 420,
       "width": 420
      }
     },
     "output_type": "display_data"
    }
   ],
   "source": [
    "dat <- data.frame(t = seq(0,2*pi,0.1))\n",
    "xhrt <- function(t){\n",
    "  16*sin(t)^3\n",
    "}\n",
    "yhrt <- function(t){\n",
    "  13*cos(t)-5*cos(2*t)-2*cos(3*t)-cos(4*t)\n",
    "}\n",
    "dat$y <- yhrt(dat$t)\n",
    "dat$x <- xhrt(dat$t)\n",
    "with(dat, plot(x,y,type = \"l\"))\n",
    "with(dat,polygon(x,y,col = \"red\"))"
   ]
  },
  {
   "cell_type": "code",
   "execution_count": 3,
   "metadata": {},
   "outputs": [],
   "source": [
    "seque <- seq(0,2*pi, 0.1)\n",
    "mat_x <- matrix(nrow = length(seque), ncol = 8)\n",
    "mat_y <- matrix(nrow = length(seque), ncol = 8)\n",
    "for(i in 1:ncol(mat_x)){\n",
    "  mat_x[,i] <- seque\n",
    "  mat_y[,i] <- seque\n",
    "}\n",
    "mat_x <- apply(mat_x,2,xhrt)\n",
    "mat_y <- apply(mat_y,2,yhrt)\n",
    "for(i in seq(1,ncol(mat_x),2)){\n",
    "  mat_x[,i] <- mat_x[,i]*.7\n",
    "  mat_y[,i] <- mat_y[,i]*.7\n",
    "}"
   ]
  },
  {
   "cell_type": "code",
   "execution_count": 4,
   "metadata": {},
   "outputs": [],
   "source": [
    "mat_x <- as.data.frame(mat_x)\n",
    "mat_y <- as.data.frame(mat_y)\n",
    "mat_x <- mat_x %>%\n",
    "  gather(key = \"sim\", value = \"x\")\n",
    "mat_y <- mat_y %>%\n",
    "  gather(key = \"sim\", value = \"y\")\n",
    "mat_tot <- cbind(mat_x,mat_y$y)\n",
    "colnames(mat_tot) <- c(\"sim\",\"x\",\"y\")"
   ]
  },
  {
   "cell_type": "code",
   "execution_count": null,
   "metadata": {},
   "outputs": [],
   "source": [
    "plot <- ggplot(mat_tot, aes(x = x, y = y))+\n",
    "  geom_polygon(fill = \"red\", col = \"black\")+\n",
    "  transition_states(sim)\n",
    "suppressMessages(anim <- animate(plot, duration = 2))"
   ]
  }
 ],
 "metadata": {
  "kernelspec": {
   "display_name": "R",
   "language": "R",
   "name": "ir"
  },
  "language_info": {
   "codemirror_mode": "r",
   "file_extension": ".r",
   "mimetype": "text/x-r-source",
   "name": "R",
   "pygments_lexer": "r",
   "version": "4.0.3"
  }
 },
 "nbformat": 4,
 "nbformat_minor": 4
}
