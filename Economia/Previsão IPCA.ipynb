{
 "cells": [
  {
   "cell_type": "code",
   "execution_count": 1,
   "metadata": {},
   "outputs": [],
   "source": [
    "setwd(\"C:/Users/User/Documents\")\n",
    "source(\"Meus Arquivos/Códigos/Arima.R\")"
   ]
  },
  {
   "cell_type": "code",
   "execution_count": 2,
   "metadata": {},
   "outputs": [
    {
     "name": "stderr",
     "output_type": "stream",
     "text": [
      "Warning message:\n",
      "\"package 'vars' was built under R version 4.0.3\"\n",
      "Warning message:\n",
      "\"package 'strucchange' was built under R version 4.0.3\"\n",
      "Warning message:\n",
      "\"package 'sandwich' was built under R version 4.0.3\"\n"
     ]
    }
   ],
   "source": [
    "pacotes <- c(\"tidyverse\",\"rbcb\",\"forecast\",\"ggthemes\",\"vars\",\"lubridate\")\n",
    "for(i in pacotes){\n",
    "    suppressPackageStartupMessages(library(i, character.only = T))\n",
    "}"
   ]
  },
  {
   "cell_type": "code",
   "execution_count": 3,
   "metadata": {},
   "outputs": [],
   "source": [
    "#Série temporal do BCB do IPCA\n",
    "inicio <- as.Date(\"1996-01-01\")\n",
    "inf <- get_series(c(IPCA = 433), as = \"ts\", start_date = inicio)\n",
    "year <- lubridate::year(inicio)\n",
    "month <- lubridate::month(inicio)\n",
    "#Monta as matrizes para colocar os dados das previsões\n",
    "fore <- matrix(0, nrow = length(inf)-25)\n",
    "fore_s <- matrix(0, nrow = length(inf)-25)\n",
    "fore_i <- matrix(0, nrow = length(inf)-25)"
   ]
  },
  {
   "cell_type": "code",
   "execution_count": 4,
   "metadata": {},
   "outputs": [],
   "source": [
    "#Loop gerador das previsões de 1 período\n",
    "for(i in 25:length(inf)){\n",
    "  inf_ar <- Arima(ts(inf[1:i], start = c(year,month), frequency = 12),\n",
    "                  seasonal = c(1,0,0), order = c(1,0,0))\n",
    "  forec <- forecast(inf_ar, h = 1)\n",
    "  fore[i-24] <- forec$mean\n",
    "  fore_s[i-24] <- forec$upper[,2]\n",
    "  fore_i[i-24] <- forec$lower[,2]\n",
    "}"
   ]
  },
  {
   "cell_type": "code",
   "execution_count": 5,
   "metadata": {},
   "outputs": [],
   "source": [
    "#Armazena os dados das previsões\n",
    "data <- data.frame(Data = seq(inicio+2*365, as.Date(\"2020-10-01\"),\"1 month\"),\n",
    "                   Mean = fore,\n",
    "                   Upper = fore_s,\n",
    "                   Lower = fore_i,\n",
    "                   Real = inf[25:length(inf)])"
   ]
  },
  {
   "cell_type": "code",
   "execution_count": 6,
   "metadata": {},
   "outputs": [
    {
     "data": {
      "image/png": "[encoded data removed]",
      "text/plain": [
       "plot without title"
      ]
     },
     "metadata": {
      "image/png": {
       "height": 420,
       "width": 420
      }
     },
     "output_type": "display_data"
    }
   ],
   "source": [
    "#Plota o gráfico\n",
    "data %>%\n",
    "  ggplot(aes(x = Data))+\n",
    "  geom_line(aes(y = Mean/100, col = \"Média Previsão\"), size = 0.7)+\n",
    "  geom_line(aes(y = Real/100, col = \"Real\"), size = 0.7)+\n",
    "  geom_ribbon(aes(ymin = Lower/100, ymax = Upper/100, fill = \"95%\"), alpha = 0.4)+\n",
    "  scale_colour_manual(\"\", values = c(\"red\",\"blue\"))+\n",
    "  theme_economist()+\n",
    "  scale_y_continuous(labels = scales::percent)+\n",
    "  labs(x = \"\", y = \"\", title = \"Previsão do IPCA por modelo SARIMA\",\n",
    "       subtitle = \"SARIMA (1 0 0)(1 0 0)[12]\")+\n",
    "  scale_fill_manual(\"\",values = \"darkgrey\")"
   ]
  },
  {
   "cell_type": "code",
   "execution_count": 7,
   "metadata": {},
   "outputs": [
    {
     "data": {
      "text/html": [
       "<table>\n",
       "<caption>A data.frame: 1 × 5</caption>\n",
       "<thead>\n",
       "\t<tr><th></th><th scope=col>Data</th><th scope=col>Mean</th><th scope=col>Upper</th><th scope=col>Lower</th><th scope=col>Real</th></tr>\n",
       "\t<tr><th></th><th scope=col>&lt;date&gt;</th><th scope=col>&lt;dbl&gt;</th><th scope=col>&lt;dbl&gt;</th><th scope=col>&lt;dbl&gt;</th><th scope=col>&lt;dbl&gt;</th></tr>\n",
       "</thead>\n",
       "<tbody>\n",
       "\t<tr><th scope=row>274</th><td>2020-10-01</td><td>0.7793821</td><td>1.373608</td><td>0.185156</td><td>0.86</td></tr>\n",
       "</tbody>\n",
       "</table>\n"
      ],
      "text/latex": [
       "A data.frame: 1 × 5\n",
       "\\begin{tabular}{r|lllll}\n",
       "  & Data & Mean & Upper & Lower & Real\\\\\n",
       "  & <date> & <dbl> & <dbl> & <dbl> & <dbl>\\\\\n",
       "\\hline\n",
       "\t274 & 2020-10-01 & 0.7793821 & 1.373608 & 0.185156 & 0.86\\\\\n",
       "\\end{tabular}\n"
      ],
      "text/markdown": [
       "\n",
       "A data.frame: 1 × 5\n",
       "\n",
       "| <!--/--> | Data &lt;date&gt; | Mean &lt;dbl&gt; | Upper &lt;dbl&gt; | Lower &lt;dbl&gt; | Real &lt;dbl&gt; |\n",
       "|---|---|---|---|---|---|\n",
       "| 274 | 2020-10-01 | 0.7793821 | 1.373608 | 0.185156 | 0.86 |\n",
       "\n"
      ],
      "text/plain": [
       "    Data       Mean      Upper    Lower    Real\n",
       "274 2020-10-01 0.7793821 1.373608 0.185156 0.86"
      ]
     },
     "metadata": {},
     "output_type": "display_data"
    }
   ],
   "source": [
    "tail(data,1)"
   ]
  },
  {
   "cell_type": "code",
   "execution_count": 10,
   "metadata": {},
   "outputs": [
    {
     "name": "stderr",
     "output_type": "stream",
     "text": [
      "`summarise()` regrouping output by 'ano' (override with `.groups` argument)\n",
      "\n"
     ]
    }
   ],
   "source": [
    "#Combinando modelos#\n",
    "\n",
    "#Coletando e tratando os dados\n",
    "ipca <- get_series(c(IPCA = 433), start_date = \"2000-01-01\") %>% #IPCA\n",
    "  mutate(ano = year(date),mes = month(date))\n",
    "dolar <- get_series(c(Dólar = 1), start_date = \"2000-01-01\") %>% #Dólar\n",
    "  mutate(ano = year(date),mes = month(date)) %>%\n",
    "  group_by(ano, mes) %>%\n",
    "  summarise(Dólar = first(Dólar))\n",
    "desemprego <- get_series(c(Desemprego = 24369)) %>% #Desemprego\n",
    "  mutate(ano = year(date),mes = month(date))"
   ]
  },
  {
   "cell_type": "code",
   "execution_count": 11,
   "metadata": {},
   "outputs": [],
   "source": [
    "#Série com desemprego\n",
    "tot <- left_join(desemprego, dolar, by = c(\"ano\" = \"ano\", \"mes\" = \"mes\"))\n",
    "tot <- left_join(tot,ipca, by = c(\"ano\" = \"ano\", \"mes\" = \"mes\"))\n",
    "ano <- xts::last(tot$ano)\n",
    "mes <- xts::last(tot$mes)\n",
    "tot <- tot %>%\n",
    "  summarise(date = date.x, Desemprego = Desemprego/100, Dólar, IPCA = IPCA/100)\n",
    "tot$Dólar <- c(0,diff(tot$Dólar)) #Variação Dólar \n",
    "tot$Desemprego <- c(0,diff(tot$Desemprego)) #Variação Desemprego\n",
    "tot_ts <- ts(tot[,-1], end = c(ano,mes), frequency = 12) #Série temporal"
   ]
  },
  {
   "cell_type": "code",
   "execution_count": 12,
   "metadata": {},
   "outputs": [],
   "source": [
    "#Série sem desemprego\n",
    "tot1 <- left_join(ipca,dolar, by = c(\"ano\",\"mes\")) %>%\n",
    "  summarise(date, IPCA = IPCA/100, Dólar = c(0,diff(Dólar)/Dólar[2:length(Dólar)-1]))\n",
    "ano_ipc <- xts::last(year(tot1$date))\n",
    "mes_ipc <- xts::last(month(tot1$date))\n",
    "tot1_ts <- ts(tot1[,-1], end = c(ano_ipc,mes_ipc),frequency = 12)"
   ]
  },
  {
   "cell_type": "code",
   "execution_count": 13,
   "metadata": {},
   "outputs": [],
   "source": [
    "#Modelo Sarima\n",
    "ipca_ts <- ts(tot1$IPCA,end = c(ano,mes), frequency = 12)\n",
    "bic <- auto.arima(ipca_ts, stationary = T)"
   ]
  },
  {
   "cell_type": "code",
   "execution_count": 14,
   "metadata": {},
   "outputs": [],
   "source": [
    "#Modelo VAR\n",
    "dummies <- seasonaldummy(ipca_ts)\n",
    "var <- VAR(tot1_ts, type = \"both\", exogen = dummies)"
   ]
  },
  {
   "cell_type": "code",
   "execution_count": 15,
   "metadata": {},
   "outputs": [],
   "source": [
    "#Redes neurais\n",
    "neural <- nnetar(ipca_ts)"
   ]
  },
  {
   "cell_type": "code",
   "execution_count": 16,
   "metadata": {},
   "outputs": [],
   "source": [
    "#Previsões\n",
    "n_forecast <- 5\n",
    "fore_bic <- forecast(bic, h = n_forecast)\n",
    "fore_neural <- forecast(neural, h = n_forecast, PI = T)\n",
    "fore_var <- predict(var, n.ahead = n_forecast,\n",
    "                    dumvar = head(dummies,n_forecast))"
   ]
  },
  {
   "cell_type": "code",
   "execution_count": 45,
   "metadata": {},
   "outputs": [
    {
     "data": {
      "text/html": [
       "0.389732892065352"
      ],
      "text/latex": [
       "0.389732892065352"
      ],
      "text/markdown": [
       "0.389732892065352"
      ],
      "text/plain": [
       "[1] 0.3897329"
      ]
     },
     "metadata": {},
     "output_type": "display_data"
    },
    {
     "data": {
      "text/html": [
       "0.434170531698113"
      ],
      "text/latex": [
       "0.434170531698113"
      ],
      "text/markdown": [
       "0.434170531698113"
      ],
      "text/plain": [
       "[1] 0.4341705"
      ]
     },
     "metadata": {},
     "output_type": "display_data"
    },
    {
     "data": {
      "text/html": [
       "0.176096576236535"
      ],
      "text/latex": [
       "0.176096576236535"
      ],
      "text/markdown": [
       "0.176096576236535"
      ],
      "text/plain": [
       "[1] 0.1760966"
      ]
     },
     "metadata": {},
     "output_type": "display_data"
    },
    {
     "name": "stderr",
     "output_type": "stream",
     "text": [
      "Warning message in `+.default`(peso_ar * bic$fitted + peso_neural * neural$fitted, :\n",
      "\"comprimento do objeto maior não é múltiplo do comprimento do objeto menor\"\n"
     ]
    }
   ],
   "source": [
    "#Pesos dos modelos\n",
    "erro_bic <- accuracy(bic)[2]^2\n",
    "erro_neural <- accuracy(neural)[2]^2\n",
    "erro_var <- sum(var$varresult$IPCA$residuals^2)/nrow(tot_ts)\n",
    "peso_ar <- (1/erro_bic)/(1/erro_bic+1/erro_neural+1/erro_var)\n",
    "peso_neural <- (1/erro_neural)/(1/erro_bic+1/erro_neural+1/erro_var)\n",
    "peso_var <- (1/erro_var)/(1/erro_bic+1/erro_neural+1/erro_var)\n",
    "peso_ar\n",
    "peso_neural\n",
    "peso_var\n",
    "fitted <- peso_ar*bic$fitted+peso_neural*neural$fitted+\n",
    "  peso_var*var$varresult$IPCA$fitted.values\n",
    "erro <- sum((fitted-ipca_ts)^2, na.rm = T)/length(ipca_ts)"
   ]
  },
  {
   "cell_type": "code",
   "execution_count": 46,
   "metadata": {},
   "outputs": [
    {
     "data": {
      "text/html": [
       "<strong>Erro ARIMA:</strong> 8.41877471450562e-06"
      ],
      "text/latex": [
       "\\textbf{Erro ARIMA:} 8.41877471450562e-06"
      ],
      "text/markdown": [
       "**Erro ARIMA:** 8.41877471450562e-06"
      ],
      "text/plain": [
       "  Erro ARIMA \n",
       "8.418775e-06 "
      ]
     },
     "metadata": {},
     "output_type": "display_data"
    },
    {
     "data": {
      "text/html": [
       "<strong>Erro Neural:</strong> 7.55710758235505e-06"
      ],
      "text/latex": [
       "\\textbf{Erro Neural:} 7.55710758235505e-06"
      ],
      "text/markdown": [
       "**Erro Neural:** 7.55710758235505e-06"
      ],
      "text/plain": [
       " Erro Neural \n",
       "7.557108e-06 "
      ]
     },
     "metadata": {},
     "output_type": "display_data"
    },
    {
     "data": {
      "text/html": [
       "<strong>Erro VAR:</strong> 1.86322385548471e-05"
      ],
      "text/latex": [
       "\\textbf{Erro VAR:} 1.86322385548471e-05"
      ],
      "text/markdown": [
       "**Erro VAR:** 1.86322385548471e-05"
      ],
      "text/plain": [
       "    Erro VAR \n",
       "1.863224e-05 "
      ]
     },
     "metadata": {},
     "output_type": "display_data"
    },
    {
     "data": {
      "text/html": [
       "<strong>Erro combinado:</strong> 5.67494465341645e-06"
      ],
      "text/latex": [
       "\\textbf{Erro combinado:} 5.67494465341645e-06"
      ],
      "text/markdown": [
       "**Erro combinado:** 5.67494465341645e-06"
      ],
      "text/plain": [
       "Erro combinado \n",
       "  5.674945e-06 "
      ]
     },
     "metadata": {},
     "output_type": "display_data"
    }
   ],
   "source": [
    "names(erro_bic) <- \"Erro ARIMA\"\n",
    "names(erro_neural) <- \"Erro Neural\"\n",
    "names(erro_var) <- \"Erro VAR\"\n",
    "names(erro) <- \"Erro combinado\"\n",
    "erro_bic\n",
    "erro_neural\n",
    "erro_var\n",
    "erro"
   ]
  },
  {
   "cell_type": "code",
   "execution_count": 55,
   "metadata": {},
   "outputs": [
    {
     "name": "stderr",
     "output_type": "stream",
     "text": [
      "Warning message:\n",
      "\"Removed 12 row(s) containing missing values (geom_path).\"\n"
     ]
    },
    {
     "data": {
      "image/png": "[encoded data removed]",
      "text/plain": [
       "plot without title"
      ]
     },
     "metadata": {
      "image/png": {
       "height": 420,
       "width": 420
      }
     },
     "output_type": "display_data"
    }
   ],
   "source": [
    "autoplot(ipca_ts)+\n",
    "    autolayer(fitted, size = 1)+\n",
    "    scale_y_continuous(labels = scales::percent)+\n",
    "    labs(x = \"\", y = \"\", title = \"Combinação de modelos - fit\")+\n",
    "    scale_color_manual(\"\", values = \"red\")"
   ]
  },
  {
   "cell_type": "code",
   "execution_count": 48,
   "metadata": {},
   "outputs": [
    {
     "data": {
      "text/html": [
       "1"
      ],
      "text/latex": [
       "1"
      ],
      "text/markdown": [
       "1"
      ],
      "text/plain": [
       "[1] 1"
      ]
     },
     "metadata": {},
     "output_type": "display_data"
    }
   ],
   "source": [
    "peso_ar+peso_neural+peso_var"
   ]
  },
  {
   "cell_type": "code",
   "execution_count": 49,
   "metadata": {},
   "outputs": [
    {
     "data": {
      "text/html": [
       "<table>\n",
       "<caption>A Time Series: 5 × 3</caption>\n",
       "<thead>\n",
       "\t<tr><th></th><th scope=col>fore_lower</th><th scope=col>fore_mean</th><th scope=col>fore_upper</th></tr>\n",
       "</thead>\n",
       "<tbody>\n",
       "\t<tr><th scope=row>Sep 2020</th><td> 0.0010014536</td><td>0.005653187</td><td>0.01127090</td></tr>\n",
       "\t<tr><th scope=row>Oct 2020</th><td>-0.0001295359</td><td>0.005027984</td><td>0.01186080</td></tr>\n",
       "\t<tr><th scope=row>Nov 2020</th><td> 0.0005038225</td><td>0.005611050</td><td>0.01282560</td></tr>\n",
       "\t<tr><th scope=row>Dec 2020</th><td>-0.0001239962</td><td>0.004808668</td><td>0.01195017</td></tr>\n",
       "\t<tr><th scope=row>Jan 2021</th><td>-0.0002220869</td><td>0.004339758</td><td>0.01152783</td></tr>\n",
       "</tbody>\n",
       "</table>\n"
      ],
      "text/latex": [
       "A Time Series: 5 × 3\n",
       "\\begin{tabular}{r|lll}\n",
       "  & fore\\_lower & fore\\_mean & fore\\_upper\\\\\n",
       "\\hline\n",
       "\tSep 2020 &  0.0010014536 & 0.005653187 & 0.01127090\\\\\n",
       "\tOct 2020 & -0.0001295359 & 0.005027984 & 0.01186080\\\\\n",
       "\tNov 2020 &  0.0005038225 & 0.005611050 & 0.01282560\\\\\n",
       "\tDec 2020 & -0.0001239962 & 0.004808668 & 0.01195017\\\\\n",
       "\tJan 2021 & -0.0002220869 & 0.004339758 & 0.01152783\\\\\n",
       "\\end{tabular}\n"
      ],
      "text/markdown": [
       "\n",
       "A Time Series: 5 × 3\n",
       "\n",
       "| <!--/--> | fore_lower | fore_mean | fore_upper |\n",
       "|---|---|---|---|\n",
       "| Sep 2020 |  0.0010014536 | 0.005653187 | 0.01127090 |\n",
       "| Oct 2020 | -0.0001295359 | 0.005027984 | 0.01186080 |\n",
       "| Nov 2020 |  0.0005038225 | 0.005611050 | 0.01282560 |\n",
       "| Dec 2020 | -0.0001239962 | 0.004808668 | 0.01195017 |\n",
       "| Jan 2021 | -0.0002220869 | 0.004339758 | 0.01152783 |\n",
       "\n"
      ],
      "text/plain": [
       "         fore_lower    fore_mean   fore_upper\n",
       "Sep 2020  0.0010014536 0.005653187 0.01127090\n",
       "Oct 2020 -0.0001295359 0.005027984 0.01186080\n",
       "Nov 2020  0.0005038225 0.005611050 0.01282560\n",
       "Dec 2020 -0.0001239962 0.004808668 0.01195017\n",
       "Jan 2021 -0.0002220869 0.004339758 0.01152783"
      ]
     },
     "metadata": {},
     "output_type": "display_data"
    }
   ],
   "source": [
    "fore_mean <- fore_bic$mean*peso_ar+\n",
    "  fore_neural$mean*peso_neural+\n",
    "  fore_var$fcst$IPCA[,1]*peso_var\n",
    "fore_upper <- fore_neural$upper[,2]*peso_neural+\n",
    "  fore_var$fcst$IPCA[,3]*peso_var+\n",
    "  fore_bic$upper[,2]*peso_ar\n",
    "fore_lower <- fore_neural$lower[,2]*peso_neural+\n",
    "  fore_var$fcst$IPCA[,4]*peso_var+\n",
    "  fore_bic$lower[,2]*peso_ar\n",
    "fore_tot <- cbind(fore_lower,fore_mean,fore_upper)\n",
    "fore_tot"
   ]
  },
  {
   "cell_type": "code",
   "execution_count": 51,
   "metadata": {},
   "outputs": [
    {
     "name": "stderr",
     "output_type": "stream",
     "text": [
      "For a multivariate timeseries, specify a seriesname for each timeseries. Defaulting to column names.\n",
      "\n"
     ]
    },
    {
     "data": {
      "image/png": "[encoded data removed]",
      "text/plain": [
       "plot without title"
      ]
     },
     "metadata": {
      "image/png": {
       "height": 420,
       "width": 420
      }
     },
     "output_type": "display_data"
    }
   ],
   "source": [
    "media_var <- ts(fore_var$fcst$IPCA[,1], start = c(ano,mes+1), frequency = 12)\n",
    "autoplot(tail(ipca_ts,20), size = 1)+\n",
    "    autolayer(fore_tot, size = 1)+\n",
    "    scale_color_manual(\"\",values = c(\"red\",\"blue\",\"green\"))+\n",
    "    scale_y_continuous(labels = scales::percent)+\n",
    "    labs(x = \"\", y = \"\", title = \"Combinação de modelos - previsão\")"
   ]
  },
  {
   "cell_type": "code",
   "execution_count": 24,
   "metadata": {},
   "outputs": [
    {
     "data": {
      "image/png": "[encoded data removed]",
      "text/plain": [
       "Plot with title \"Forecast of series Dólar\""
      ]
     },
     "metadata": {
      "image/png": {
       "height": 420,
       "width": 420
      }
     },
     "output_type": "display_data"
    }
   ],
   "source": [
    "plot(fore_var)"
   ]
  },
  {
   "cell_type": "code",
   "execution_count": 25,
   "metadata": {},
   "outputs": [
    {
     "data": {
      "image/png": "[encoded data removed]",
      "text/plain": [
       "plot without title"
      ]
     },
     "metadata": {
      "image/png": {
       "height": 420,
       "width": 420
      }
     },
     "output_type": "display_data"
    }
   ],
   "source": [
    "autoplot(fore_neural)"
   ]
  },
  {
   "cell_type": "code",
   "execution_count": 26,
   "metadata": {},
   "outputs": [
    {
     "data": {
      "image/png": "[encoded data removed]",
      "text/plain": [
       "plot without title"
      ]
     },
     "metadata": {
      "image/png": {
       "height": 420,
       "width": 420
      }
     },
     "output_type": "display_data"
    }
   ],
   "source": [
    "autoplot(fore_bic)"
   ]
  },
  {
   "cell_type": "code",
   "execution_count": null,
   "metadata": {},
   "outputs": [],
   "source": []
  }
 ],
 "metadata": {
  "kernelspec": {
   "display_name": "R",
   "language": "R",
   "name": "ir"
  },
  "language_info": {
   "codemirror_mode": "r",
   "file_extension": ".r",
   "mimetype": "text/x-r-source",
   "name": "R",
   "pygments_lexer": "r",
   "version": "4.0.2"
  }
 },
 "nbformat": 4,
 "nbformat_minor": 4
}
