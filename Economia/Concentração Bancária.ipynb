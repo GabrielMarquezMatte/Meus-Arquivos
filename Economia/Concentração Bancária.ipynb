{
 "cells": [
  {
   "cell_type": "code",
   "execution_count": 1,
   "metadata": {},
   "outputs": [
    {
     "name": "stderr",
     "output_type": "stream",
     "text": [
      "Warning message:\n",
      "\"package 'fredr' was built under R version 3.6.3\"Warning message:\n",
      "\"package 'ggthemes' was built under R version 3.6.3\"Warning message:\n",
      "\"package 'ggplot2' was built under R version 3.6.3\""
     ]
    }
   ],
   "source": [
    "library(fredr)\n",
    "library(ggthemes)\n",
    "library(ggplot2)"
   ]
  },
  {
   "cell_type": "code",
   "execution_count": 4,
   "metadata": {},
   "outputs": [],
   "source": [
    "fredr_set_key(\"a1e53d11bf4cb319624da39b894a79e6\")\n",
    "c_eua <- fredr(\"DDOI06USA156NWDB\")\n",
    "c_brasil <- fredr(\"DDOI06BRA156NWDB\")\n",
    "c_ale <- fredr(\"DDOI06DEA156NWDB\")\n",
    "c_chin <- fredr(\"DDOI06CNA156NWDB\")\n",
    "c_jap <-fredr(\"DDOI06JPA156NWDB\")\n",
    "c_tot <- data.frame(Data = c_eua$date,Concentração_EUA = c_eua$value,\n",
    "                    Concentração_Brasil = c_brasil$value,\n",
    "                    Concentração_Alemanha = c_ale$value,\n",
    "                    Concentração_China = c_chin$value,\n",
    "                    Concentração_Japão = c_jap$value)"
   ]
  },
  {
   "cell_type": "code",
   "execution_count": 8,
   "metadata": {},
   "outputs": [
    {
     "data": {
      "image/png": "[encoded data removed]",
      "text/plain": [
       "plot without title"
      ]
     },
     "metadata": {},
     "output_type": "display_data"
    }
   ],
   "source": [
    "ggplot(c_tot, aes(Data))+\n",
    "  geom_line(aes(y = Concentração_Brasil, col = \"Concentração Brasil\"))+\n",
    "  geom_line(aes(y = Concentração_EUA, col = \"Concentração EUA\"))+\n",
    "  geom_line(aes(y = Concentração_Alemanha, col = \"Concentração Alemanha\"))+\n",
    "  geom_line(aes(y = Concentração_China, col = \"Concentração China\"))+\n",
    "  labs(x = \"\", y = \"%\", title = \"Concentração de ativos dos 5 maiores bancos\",\n",
    "       subtitle = \"% do total de ativos dos bancos\", caption = \"Fonte:FED\")+\n",
    "  geom_rect(xmin = as.Date(\"2001-01-01\"),\n",
    "            xmax = as.Date(\"2001-12-31\"),\n",
    "            ymin = -Inf, ymax = Inf,\n",
    "            alpha = 0.01)+\n",
    "  geom_rect(xmin = as.Date(\"2008-01-01\"),\n",
    "            xmax = as.Date(\"2009-09-01\"),\n",
    "            ymin = -Inf, ymax = Inf,\n",
    "            alpha = 0.01)+\n",
    "  theme_test()+\n",
    "  scale_colour_manual(\"\", values = c(\"Concentração Brasil\" = \"red\",\n",
    "                                     \"Concentração EUA\" = \"blue\",\n",
    "                                     \"Concentração Alemanha\" = \"orange\",\n",
    "                                     \"Concentração China\" = \"green\"))"
   ]
  },
  {
   "cell_type": "code",
   "execution_count": null,
   "metadata": {},
   "outputs": [],
   "source": []
  }
 ],
 "metadata": {
  "kernelspec": {
   "display_name": "R",
   "language": "R",
   "name": "ir"
  },
  "language_info": {
   "codemirror_mode": "r",
   "file_extension": ".r",
   "mimetype": "text/x-r-source",
   "name": "R",
   "pygments_lexer": "r",
   "version": "4.0.1"
  }
 },
 "nbformat": 4,
 "nbformat_minor": 4
}
