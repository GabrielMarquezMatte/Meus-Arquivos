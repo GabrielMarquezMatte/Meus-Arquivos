{
 "cells": [
  {
   "cell_type": "code",
   "execution_count": 2,
   "metadata": {},
   "outputs": [
    {
     "name": "stderr",
     "output_type": "stream",
     "text": [
      "Using ',' as decimal and '.' as grouping mark. Use read_delim() for more control.\n"
     ]
    },
    {
     "ename": "ERROR",
     "evalue": "Error: 'Gabriel André/Estudo R/data.csv' does not exist in current working directory ('C:/Users/x/Documents/Gabriel André/Jupyter/Meus Códigos/Economia').\n",
     "output_type": "error",
     "traceback": [
      "Error: 'Gabriel André/Estudo R/data.csv' does not exist in current working directory ('C:/Users/x/Documents/Gabriel André/Jupyter/Meus Códigos/Economia').\nTraceback:\n",
      "1. read_csv2(filename, col_types = list(col_date(format = \"%d/%m/%Y\"), \n .     col_double(), col_double()))",
      "2. read_delimited(file, tokenizer, col_names = col_names, col_types = col_types, \n .     locale = locale, skip = skip, skip_empty_rows = skip_empty_rows, \n .     comment = comment, n_max = n_max, guess_max = guess_max, \n .     progress = progress)",
      "3. standardise_path(file)",
      "4. check_path(path)",
      "5. stop(\"'\", path, \"' does not exist\", if (!is_absolute_path(path)) paste0(\" in current working directory ('\", \n .     getwd(), \"')\"), \".\", call. = FALSE)"
     ]
    }
   ],
   "source": [
    "library(readr)\n",
    "library(readxl)\n",
    "library(tidyverse)\n",
    "library(scales)\n",
    "library(grid)\n",
    "library(ggplot2)\n",
    "filename <- \"Gabriel André/Estudo R/data.csv\"\n",
    "dados <- read_csv2(filename, col_types = list(col_date(format = \"%d/%m/%Y\"),\n",
    "                                              col_double(),\n",
    "                                              col_double()))\n",
    "ggplot(dados, aes(x = date))+\n",
    "  geom_line(aes(y = ic_br, colour = \"IC-BR(Commodities)\"), size = 0.8)+\n",
    "  geom_line(aes(y = cambio*50, colour = \"Câmbio\"), size = 0.8)+\n",
    "  scale_y_continuous(sec.axis = sec_axis(~./50, name = \"Câmbio\"))+\n",
    "  scale_colour_manual(\"Legenda\", values = c(\"Câmbio\" = \"red\",\n",
    "                                            \"IC-BR(Commodities)\" = \"darkblue\"))+\n",
    "  labs(x = \"\", y = \"Valor\", title = \"IC-BR vs Câmbio\",\n",
    "       subtitle = \"Índice de commodities do BCB e USD/BRL\",\n",
    "       caption = \"Fonte:BCB\")+\n",
    "  theme_economist()\n",
    "ggplot(dados, aes(x = ic_br, y = cambio))+\n",
    "  geom_point(size = 0.8)+\n",
    "  geom_smooth(formula = y ~ x, method = \"loess\")+\n",
    "  theme_economist()"
   ]
  }
 ],
 "metadata": {
  "kernelspec": {
   "display_name": "R",
   "language": "R",
   "name": "ir"
  },
  "language_info": {
   "codemirror_mode": "r",
   "file_extension": ".r",
   "mimetype": "text/x-r-source",
   "name": "R",
   "pygments_lexer": "r",
   "version": "3.6.1"
  }
 },
 "nbformat": 4,
 "nbformat_minor": 4
}
