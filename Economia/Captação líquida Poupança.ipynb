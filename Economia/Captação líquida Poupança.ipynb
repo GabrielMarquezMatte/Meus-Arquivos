{
 "cells": [
  {
   "cell_type": "code",
   "execution_count": null,
   "metadata": {},
   "outputs": [],
   "source": [
    "library(rbcb)\n",
    "library(ggplot2)\n",
    "library(ggthemes)\n",
    "options(scipen = 999)\n",
    "start_date <- as.Date(\"2018-01-01\")\n",
    "end_date <- as.Date(\"2018-12-31\")\n",
    "captacao_liquida <- get_series(c(24), start_date = start_date,\n",
    "                               end_date = end_date, as = \"data.frame\")\n",
    "captacao_liquida$end_date <- NULL\n",
    "colnames(captacao_liquida) <- c(\"Data\", \"Valor\")\n",
    "captacao_liquida$Valor <- captacao_liquida$Valor/1000\n",
    "captacao_liquida$Valor <- cumsum(captacao_liquida$Valor)\n",
    "total <- captacao_liquida$Valor[length(captacao_liquida)]\n",
    "ggplot(captacao_liquida, aes(x = Data))+\n",
    "  geom_line(aes(y = Valor), colour = \"blue\")+\n",
    "  labs(x = \"\", y = \"Milhões de R$\",\n",
    "       title = format(start_date,\"Captação da poupança em %Y\"),\n",
    "       subtitle = print(paste0(\"Captação total em milhares de reais = R$\", total)))+\n",
    "  theme_economist()"
   ]
  },
  {
   "cell_type": "code",
   "execution_count": null,
   "metadata": {},
   "outputs": [],
   "source": []
  }
 ],
 "metadata": {
  "kernelspec": {
   "display_name": "R",
   "language": "R",
   "name": "ir"
  },
  "language_info": {
   "codemirror_mode": "r",
   "file_extension": ".r",
   "mimetype": "text/x-r-source",
   "name": "R",
   "pygments_lexer": "r",
   "version": "3.6.1"
  }
 },
 "nbformat": 4,
 "nbformat_minor": 4
}
