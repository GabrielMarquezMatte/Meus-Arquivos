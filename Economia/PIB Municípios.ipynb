{
 "cells": [
  {
   "cell_type": "code",
   "execution_count": 1,
   "metadata": {},
   "outputs": [],
   "source": [
    "suppressPackageStartupMessages({library(tidyverse)\n",
    "library(ribge)})"
   ]
  },
  {
   "cell_type": "code",
   "execution_count": null,
   "metadata": {},
   "outputs": [],
   "source": [
    "anos <- 2016:2017\n",
    "pib <- replicate(length(anos), list())\n",
    "for(i in 1:length(pib)){\n",
    "  pib[[i]] <- pib_municipios(anos[i])\n",
    "}\n",
    "pib1 <- rbind(pib[[1]],pib[[2]])\n",
    "files <- c(\"PIB dos Munic¡pios - base de dados 2010-2017.xls\",\n",
    "           \"base_de_dados_2010_2017_xls.zip\",\n",
    "           \"base_1999_2012_xlsx.zip\",\n",
    "           \"IA59_BR_PERC.csv\",\n",
    "           \"IA55_BR_PERC.csv\",\n",
    "           \"SCN54_BR_PERC.csv\",\n",
    "           \"PIB dos Munic¡pios 1999-2012 Base Dados.xlsx\")\n",
    "for(i in files){\n",
    "  file.remove(i)\n",
    "}"
   ]
  },
  {
   "cell_type": "code",
   "execution_count": null,
   "metadata": {},
   "outputs": [],
   "source": [
    "#PIB estadual\n",
    "pib_estado <- pib1 %>%\n",
    "  group_by(ano,codigo_uf, nome_uf) %>%\n",
    "  summarise(codigo_regiao = mean(codigo_regiao),\n",
    "            pib_total = sum(pib_total),\n",
    "            vab_agropecuaria = sum(vab_agropecuaria)/pib_total,\n",
    "            vab_industria = sum(vab_industria)/pib_total,\n",
    "            vab_servicos_exclusivo = sum(vab_servicos_exclusivo)/pib_total,\n",
    "            vab_adm_publica = sum(vab_adm_publica)/pib_total,\n",
    "            vab_total = sum(vab_total)/pib_total,\n",
    "            impostos = sum(impostos)/pib_total,\n",
    "            pib_per_capita = mean(pib_per_capita),\n",
    "            impostos_per_capita = pib_per_capita/pib_total*impostos)"
   ]
  },
  {
   "cell_type": "code",
   "execution_count": null,
   "metadata": {},
   "outputs": [],
   "source": [
    "#PIB Regional\n",
    "pib_regiao <- pib_estado %>%\n",
    "  group_by(ano,codigo_regiao) %>%\n",
    "  summarise(pib_total = sum(pib_total),\n",
    "            vab_agropecuaria = mean(vab_agropecuaria),\n",
    "            vab_industria = mean(vab_industria),\n",
    "            vab_servicos_exclusivo = mean(vab_servicos_exclusivo),\n",
    "            vab_adm_publica = mean(vab_adm_publica),\n",
    "            vab_total = mean(vab_total),\n",
    "            impostos = mean(impostos),\n",
    "            pib_per_capita = mean(pib_per_capita),\n",
    "            impostos_per_capita = pib_per_capita/pib_total*impostos)"
   ]
  },
  {
   "cell_type": "code",
   "execution_count": null,
   "metadata": {},
   "outputs": [],
   "source": [
    "pib_regiao_a <- pib_regiao %>%\n",
    "  gather(key = \"key\", value = \"value\", \n",
    "         -c(ano,pib_total,pib_per_capita,codigo_regiao,vab_total))\n",
    "for(i in 1:nrow(pib_regiao_a)){\n",
    "  if(pib_regiao_a$codigo_regiao[i] == 1){\n",
    "    pib_regiao_a$codigo_regiao[i] <- \"Norte\"\n",
    "  }else if(pib_regiao_a$codigo_regiao[i] == 2){\n",
    "    pib_regiao_a$codigo_regiao[i] <- \"Nordeste\"\n",
    "  }else if(pib_regiao_a$codigo_regiao[i] == 3){\n",
    "    pib_regiao_a$codigo_regiao[i] <- \"Sudeste\"\n",
    "  }else if(pib_regiao_a$codigo_regiao[i] == 4){\n",
    "    pib_regiao_a$codigo_regiao[i] <- \"Sul\"\n",
    "  }else if(pib_regiao_a$codigo_regiao[i] == 5){\n",
    "    pib_regiao_a$codigo_regiao[i] <- \"Centro-Oeste\"\n",
    "  }\n",
    "}"
   ]
  },
  {
   "cell_type": "code",
   "execution_count": null,
   "metadata": {},
   "outputs": [],
   "source": [
    "ggplot(pib_regiao_a, aes(x = ano, y = value, fill = key))+\n",
    "  geom_col(position = \"dodge\")+\n",
    "  facet_wrap(~codigo_regiao, ncol = 2, scales = \"free\")"
   ]
  }
 ],
 "metadata": {
  "kernelspec": {
   "display_name": "R",
   "language": "R",
   "name": "ir"
  },
  "language_info": {
   "codemirror_mode": "r",
   "file_extension": ".r",
   "mimetype": "text/x-r-source",
   "name": "R",
   "pygments_lexer": "r",
   "version": "4.0.2"
  }
 },
 "nbformat": 4,
 "nbformat_minor": 4
}
