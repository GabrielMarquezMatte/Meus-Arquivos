{
 "cells": [
  {
   "cell_type": "code",
   "execution_count": 1,
   "metadata": {},
   "outputs": [],
   "source": [
    "pacotes <- c(\"tidyverse\",\"GetTDData\")\n",
    "for(i in pacotes){\n",
    "    suppressPackageStartupMessages({\n",
    "        library(i, character.only = T)\n",
    "    })\n",
    "}"
   ]
  },
  {
   "cell_type": "code",
   "execution_count": 2,
   "metadata": {},
   "outputs": [],
   "source": [
    "curva <- get.yield.curve()"
   ]
  },
  {
   "cell_type": "code",
   "execution_count": 5,
   "metadata": {},
   "outputs": [
    {
     "data": {
      "text/html": [
       "<table>\n",
       "<caption>A data.frame: 6 × 5</caption>\n",
       "<thead>\n",
       "\t<tr><th></th><th scope=col>n.biz.days</th><th scope=col>type</th><th scope=col>value</th><th scope=col>ref.date</th><th scope=col>current.date</th></tr>\n",
       "\t<tr><th></th><th scope=col>&lt;dbl&gt;</th><th scope=col>&lt;chr&gt;</th><th scope=col>&lt;dbl&gt;</th><th scope=col>&lt;date&gt;</th><th scope=col>&lt;date&gt;</th></tr>\n",
       "</thead>\n",
       "<tbody>\n",
       "\t<tr><th scope=row>1</th><td>252</td><td>real_return</td><td>-1.5812</td><td>2021-07-02</td><td>2020-10-23</td></tr>\n",
       "\t<tr><th scope=row>2</th><td>378</td><td>real_return</td><td>-0.3378</td><td>2021-11-05</td><td>2020-10-23</td></tr>\n",
       "\t<tr><th scope=row>3</th><td>504</td><td>real_return</td><td> 0.5280</td><td>2022-03-11</td><td>2020-10-23</td></tr>\n",
       "\t<tr><th scope=row>4</th><td>630</td><td>real_return</td><td> 1.1258</td><td>2022-07-15</td><td>2020-10-23</td></tr>\n",
       "\t<tr><th scope=row>5</th><td>756</td><td>real_return</td><td> 1.5650</td><td>2022-11-18</td><td>2020-10-23</td></tr>\n",
       "\t<tr><th scope=row>6</th><td>882</td><td>real_return</td><td> 1.9085</td><td>2023-03-24</td><td>2020-10-23</td></tr>\n",
       "</tbody>\n",
       "</table>\n"
      ],
      "text/latex": [
       "A data.frame: 6 × 5\n",
       "\\begin{tabular}{r|lllll}\n",
       "  & n.biz.days & type & value & ref.date & current.date\\\\\n",
       "  & <dbl> & <chr> & <dbl> & <date> & <date>\\\\\n",
       "\\hline\n",
       "\t1 & 252 & real\\_return & -1.5812 & 2021-07-02 & 2020-10-23\\\\\n",
       "\t2 & 378 & real\\_return & -0.3378 & 2021-11-05 & 2020-10-23\\\\\n",
       "\t3 & 504 & real\\_return &  0.5280 & 2022-03-11 & 2020-10-23\\\\\n",
       "\t4 & 630 & real\\_return &  1.1258 & 2022-07-15 & 2020-10-23\\\\\n",
       "\t5 & 756 & real\\_return &  1.5650 & 2022-11-18 & 2020-10-23\\\\\n",
       "\t6 & 882 & real\\_return &  1.9085 & 2023-03-24 & 2020-10-23\\\\\n",
       "\\end{tabular}\n"
      ],
      "text/markdown": [
       "\n",
       "A data.frame: 6 × 5\n",
       "\n",
       "| <!--/--> | n.biz.days &lt;dbl&gt; | type &lt;chr&gt; | value &lt;dbl&gt; | ref.date &lt;date&gt; | current.date &lt;date&gt; |\n",
       "|---|---|---|---|---|---|\n",
       "| 1 | 252 | real_return | -1.5812 | 2021-07-02 | 2020-10-23 |\n",
       "| 2 | 378 | real_return | -0.3378 | 2021-11-05 | 2020-10-23 |\n",
       "| 3 | 504 | real_return |  0.5280 | 2022-03-11 | 2020-10-23 |\n",
       "| 4 | 630 | real_return |  1.1258 | 2022-07-15 | 2020-10-23 |\n",
       "| 5 | 756 | real_return |  1.5650 | 2022-11-18 | 2020-10-23 |\n",
       "| 6 | 882 | real_return |  1.9085 | 2023-03-24 | 2020-10-23 |\n",
       "\n"
      ],
      "text/plain": [
       "  n.biz.days type        value   ref.date   current.date\n",
       "1 252        real_return -1.5812 2021-07-02 2020-10-23  \n",
       "2 378        real_return -0.3378 2021-11-05 2020-10-23  \n",
       "3 504        real_return  0.5280 2022-03-11 2020-10-23  \n",
       "4 630        real_return  1.1258 2022-07-15 2020-10-23  \n",
       "5 756        real_return  1.5650 2022-11-18 2020-10-23  \n",
       "6 882        real_return  1.9085 2023-03-24 2020-10-23  "
      ]
     },
     "metadata": {},
     "output_type": "display_data"
    }
   ],
   "source": [
    "head(curva)"
   ]
  },
  {
   "cell_type": "code",
   "execution_count": 7,
   "metadata": {},
   "outputs": [
    {
     "data": {
      "image/png": "[encoded data removed]",
      "text/plain": [
       "plot without title"
      ]
     },
     "metadata": {
      "image/png": {
       "height": 420,
       "width": 420
      }
     },
     "output_type": "display_data"
    }
   ],
   "source": [
    "tipo <- \"nominal_return\"\n",
    "curva %>%\n",
    "   filter(type == tipo) %>%\n",
    "   ggplot(aes(x = ref.date, y = value/100))+\n",
    "   geom_line(size = 1)+\n",
    "   scale_y_continuous(labels = scales::percent)+\n",
    "   labs(x = \"\", y = \"\", title = paste(\"Curva de juros:\",tipo), subtitle = paste(curva$current.date))"
   ]
  },
  {
   "cell_type": "code",
   "execution_count": null,
   "metadata": {},
   "outputs": [],
   "source": [
    "get_bonds <- function(lista, inicio = \"01/01/2016\",\n",
    "                      fim = format(Sys.Date(), \"%d/%m/%Y\")){\n",
    "  suppressPackageStartupMessages({require(reticulate)\n",
    "    require(tidyverse)})\n",
    "  invest <- import(\"investpy\", as = \"invest\")\n",
    "  if(length(lista) > 1){\n",
    "    listt <- replicate(length(lista), list())\n",
    "    for(i in 1:length(lista)){\n",
    "      data <- invest$get_bond_historical_data(lista[i], inicio, fim)\n",
    "      dates <- rownames(data)\n",
    "      rownames(data) <- NULL\n",
    "      data <- cbind(dates, data)\n",
    "      listt[[i]] <- data[,c(1,5)]\n",
    "      colnames(listt[[i]]) <- c(\"Date\", lista[i])\n",
    "    }\n",
    "    data1 <- left_join(listt[[1]], listt[[2]], by = c(\"Date\" = \"Date\"))\n",
    "    for(i in 3:length(lista)){\n",
    "      data1 <- left_join(data1, listt[[i]], by = c(\"Date\" = \"Date\"))\n",
    "    }\n",
    "    data1 <- data1 %>%\n",
    "      gather(key = \"bond\", value = \"rate\", -Date)\n",
    "    for(i in 1:nrow(data1)){\n",
    "      if(grepl(\"3M\", data1$bond[i])){\n",
    "        data1$matur[i] <- 90\n",
    "      }else if(grepl(\"6M\", data1$bond[i])){\n",
    "        data1$matur[i] <- 30*6\n",
    "      }else if(grepl(\"9M\", data1$bond[i])){\n",
    "        data1$matur[i] <- 30*9\n",
    "      }else if(grepl(\"1Y\", data1$bond[i])){\n",
    "        data1$matur[i] <- 365\n",
    "      }else if(grepl(\"2Y\", data1$bond[i])){\n",
    "        data1$matur[i] <- 365*2\n",
    "      }else if(grepl(\"3Y\", data1$bond[i])){\n",
    "        data1$matur[i] <- 365*3\n",
    "      }else if(grepl(\"5Y\", data1$bond[i])){\n",
    "        data1$matur[i] <- 365*5\n",
    "      }else if(grepl(\"8Y\", data1$bond[i])){\n",
    "        data1$matur[i] <- 365*8\n",
    "      }else if(grepl(\"10Y\", data1$bond[i])){\n",
    "        data1$matur[i] <- 365*10\n",
    "      }\n",
    "    }\n",
    "    data1$Date <- as.Date(data1$Date)\n",
    "    data1$rate <- data1$rate/100\n",
    "    data1$rate <- zoo::na.fill(data1$rate,\"extend\")\n",
    "    return(data1)\n",
    "  }else{\n",
    "    data <- invest$get_bond_historical_data(lista, inicio, fim)\n",
    "    dates <- rownames(data)\n",
    "    rownames(data) <- NULL\n",
    "    data <- cbind(dates, data)\n",
    "    colnames(data) <- c(\"Date\",colnames(data)[-1])\n",
    "    return(data)\n",
    "  }\n",
    "}"
   ]
  }
 ],
 "metadata": {
  "kernelspec": {
   "display_name": "R",
   "language": "R",
   "name": "ir"
  },
  "language_info": {
   "codemirror_mode": "r",
   "file_extension": ".r",
   "mimetype": "text/x-r-source",
   "name": "R",
   "pygments_lexer": "r",
   "version": "4.0.2"
  }
 },
 "nbformat": 4,
 "nbformat_minor": 4
}
