{
 "cells": [
  {
   "cell_type": "code",
   "execution_count": 36,
   "metadata": {},
   "outputs": [
    {
     "data": {
      "image/png": "[encoded data removed]",
      "text/plain": [
       "Plot with title \"Pagamento de um financiamento\""
      ]
     },
     "metadata": {},
     "output_type": "display_data"
    }
   ],
   "source": [
    "v_financiado <- round(10000,2)\n",
    "juros <- 0.01\n",
    "periodo <- 200L\n",
    "parcelas <- round(v_financiado*(juros/(1-(1+juros)^(-periodo))),2)\n",
    "tot <- rbind(v_financiado, juros, periodo, parcelas)\n",
    "rownames(tot) <- c(\"Financiamento\", \"Juros\",\n",
    "                   \"Nº Parcelas\", \"Valor_Parcelas\")\n",
    "per <- c(1:periodo)\n",
    "pag <- matrix(ncol = 1, nrow = length(periodo), data = 0)\n",
    "for(i in per){\n",
    "  pag[i] <- parcelas*i\n",
    "}\n",
    "juros_tot <- round(((pag[length(per)]/v_financiado)-1)*100,2)\n",
    "v <- v_financiado*(1+juros)^(1:periodo)\n",
    "plot(per,pag, type = \"l\", xlab = \"Período\",\n",
    "     ylab = \"Pagamento total\", main = \"Pagamento de um financiamento\",\n",
    "     sub = paste0(\"Juros totais Parcelado = \",juros_tot,\"%\"), col = \"blue\",\n",
    "     ylim = c(min(pag),max(v)))\n",
    "points(x = length(per), y = max(pag), col = \"blue\", pch = 16)\n",
    "text(x = 0.9*length(per), y = max(pag),\n",
    "     labels = paste0(\"R$\",pag[length(per)]))\n",
    "lines(v, col = \"red\")\n",
    "points(x = length(per), y = max(v), col = \"red\", pch = 16)\n",
    "text(x = 0.9*periodo, y = max(v),\n",
    "     labels = paste0(\"R$\",round(max(v),2)))"
   ]
  },
  {
   "cell_type": "code",
   "execution_count": 30,
   "metadata": {},
   "outputs": [
    {
     "data": {
      "text/html": [
       "<table>\n",
       "<tbody>\n",
       "\t<tr><th scope=row>Financiamento</th><td>10000.00</td></tr>\n",
       "\t<tr><th scope=row>Juros</th><td>    1.00</td></tr>\n",
       "\t<tr><th scope=row>Nº Parcelas</th><td>    5.00</td></tr>\n",
       "\t<tr><th scope=row>Valor_Parcelas</th><td>10322.58</td></tr>\n",
       "</tbody>\n",
       "</table>\n"
      ],
      "text/latex": [
       "\\begin{tabular}{r|l}\n",
       "\tFinanciamento & 10000.00\\\\\n",
       "\tJuros &     1.00\\\\\n",
       "\tNº Parcelas &     5.00\\\\\n",
       "\tValor\\_Parcelas & 10322.58\\\\\n",
       "\\end{tabular}\n"
      ],
      "text/markdown": [
       "\n",
       "| Financiamento | 10000.00 |\n",
       "| Juros |     1.00 |\n",
       "| Nº Parcelas |     5.00 |\n",
       "| Valor_Parcelas | 10322.58 |\n",
       "\n"
      ],
      "text/plain": [
       "               [,1]    \n",
       "Financiamento  10000.00\n",
       "Juros              1.00\n",
       "Nº Parcelas        5.00\n",
       "Valor_Parcelas 10322.58"
      ]
     },
     "metadata": {},
     "output_type": "display_data"
    },
    {
     "data": {
      "text/html": [
       "<table>\n",
       "<thead><tr><th scope=col>Pagamento acumulado parcelas</th><th scope=col>Valor sem pagamento de parcelas</th></tr></thead>\n",
       "<tbody>\n",
       "\t<tr><td>10322.58</td><td> 20000  </td></tr>\n",
       "\t<tr><td>20645.16</td><td> 40000  </td></tr>\n",
       "\t<tr><td>30967.74</td><td> 80000  </td></tr>\n",
       "\t<tr><td>41290.32</td><td>160000  </td></tr>\n",
       "\t<tr><td>51612.90</td><td>320000  </td></tr>\n",
       "</tbody>\n",
       "</table>\n"
      ],
      "text/latex": [
       "\\begin{tabular}{ll}\n",
       " Pagamento acumulado parcelas & Valor sem pagamento de parcelas\\\\\n",
       "\\hline\n",
       "\t 10322.58 &  20000  \\\\\n",
       "\t 20645.16 &  40000  \\\\\n",
       "\t 30967.74 &  80000  \\\\\n",
       "\t 41290.32 & 160000  \\\\\n",
       "\t 51612.90 & 320000  \\\\\n",
       "\\end{tabular}\n"
      ],
      "text/markdown": [
       "\n",
       "| Pagamento acumulado parcelas | Valor sem pagamento de parcelas |\n",
       "|---|---|\n",
       "| 10322.58 |  20000   |\n",
       "| 20645.16 |  40000   |\n",
       "| 30967.74 |  80000   |\n",
       "| 41290.32 | 160000   |\n",
       "| 51612.90 | 320000   |\n",
       "\n"
      ],
      "text/plain": [
       "     Pagamento acumulado parcelas Valor sem pagamento de parcelas\n",
       "[1,] 10322.58                      20000                         \n",
       "[2,] 20645.16                      40000                         \n",
       "[3,] 30967.74                      80000                         \n",
       "[4,] 41290.32                     160000                         \n",
       "[5,] 51612.90                     320000                         "
      ]
     },
     "metadata": {},
     "output_type": "display_data"
    }
   ],
   "source": [
    "tot\n",
    "paga <- cbind(pag,v)\n",
    "colnames(paga) <- c(\"Pagamento acumulado parcelas\", \"Valor sem pagamento de parcelas\")\n",
    "paga"
   ]
  },
  {
   "cell_type": "code",
   "execution_count": null,
   "metadata": {},
   "outputs": [],
   "source": []
  }
 ],
 "metadata": {
  "kernelspec": {
   "display_name": "R",
   "language": "R",
   "name": "ir"
  },
  "language_info": {
   "codemirror_mode": "r",
   "file_extension": ".r",
   "mimetype": "text/x-r-source",
   "name": "R",
   "pygments_lexer": "r",
   "version": "3.6.1"
  }
 },
 "nbformat": 4,
 "nbformat_minor": 4
}
