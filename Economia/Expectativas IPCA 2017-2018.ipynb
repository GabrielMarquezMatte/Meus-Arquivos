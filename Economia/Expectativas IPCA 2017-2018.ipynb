{
 "cells": [
  {
   "cell_type": "code",
   "execution_count": null,
   "metadata": {},
   "outputs": [],
   "source": [
    "library(rbcb)\n",
    "expectativas_2017 <- get_annual_market_expectations(\"IPCA\",\n",
    "                                                    start_date = as.Date(\"2017-01-01\"),\n",
    "                                                    end_date = as.Date(\"2018-01-02\"))\n",
    "expectativas_2017 <- data.frame(expectativas_2017)\n",
    "sequencia <- seq(5,2495,10)\n",
    "expectativas_2017 <- expectativas_2017[sequencia,]\n",
    "data_2017 <- as.Date(expectativas_2017$date)\n",
    "expectativas_2018 <- get_annual_market_expectations(\"IPCA\",\n",
    "                                                    start_date = as.Date(\"2018-01-01\"),\n",
    "                                                    end_date = as.Date(\"2018-12-31\"))\n",
    "expectativas_2018 <- data.frame(expectativas_2018)\n",
    "sequencia <- seq(4,2494,10)\n",
    "expectativas_2018 <- expectativas_2018[sequencia,]\n",
    "data_2018 <- as.Date(expectativas_2018$date)\n",
    "conjunto_dados <- cbind(expectativas_2017$median, expectativas_2018$median)\n",
    "matplot(conjunto_dados, type = \"l\", col = 1:length(conjunto_dados), xlab = \"Período\",\n",
    "        ylab = \"Expectativa para inflação 2017-2018\")\n",
    "text(x = 80, y = 4.7, \"2018 em vermelho e 2017 em preto\")"
   ]
  },
  {
   "cell_type": "code",
   "execution_count": null,
   "metadata": {},
   "outputs": [],
   "source": []
  }
 ],
 "metadata": {
  "kernelspec": {
   "display_name": "R",
   "language": "R",
   "name": "ir"
  },
  "language_info": {
   "codemirror_mode": "r",
   "file_extension": ".r",
   "mimetype": "text/x-r-source",
   "name": "R",
   "pygments_lexer": "r",
   "version": "3.6.1"
  }
 },
 "nbformat": 4,
 "nbformat_minor": 4
}
