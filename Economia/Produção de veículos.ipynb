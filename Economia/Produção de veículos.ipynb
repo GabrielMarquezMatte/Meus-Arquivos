{
 "cells": [
  {
   "cell_type": "code",
   "execution_count": 5,
   "metadata": {},
   "outputs": [
    {
     "name": "stderr",
     "output_type": "stream",
     "text": [
      "\n",
      "Attaching package: 'dplyr'\n",
      "\n",
      "\n",
      "The following objects are masked from 'package:data.table':\n",
      "\n",
      "    between, first, last\n",
      "\n",
      "\n",
      "The following objects are masked from 'package:stats':\n",
      "\n",
      "    filter, lag\n",
      "\n",
      "\n",
      "The following objects are masked from 'package:base':\n",
      "\n",
      "    intersect, setdiff, setequal, union\n",
      "\n",
      "\n"
     ]
    },
    {
     "ename": "ERROR",
     "evalue": "Error in download.file(url = url, destfile = filename, mode = \"wb\"): não foi possível abrir o arquivo de destino 'Gabriel André/Estudo R/Veiculos.xslm', motivo 'No such file or directory'\n",
     "output_type": "error",
     "traceback": [
      "Error in download.file(url = url, destfile = filename, mode = \"wb\"): não foi possível abrir o arquivo de destino 'Gabriel André/Estudo R/Veiculos.xslm', motivo 'No such file or directory'\nTraceback:\n",
      "1. download.file(url = url, destfile = filename, mode = \"wb\")"
     ]
    }
   ],
   "source": [
    "library(ggplot2)\n",
    "library(readxl)\n",
    "library(dplyr)\n",
    "url <- \"http://www.anfavea.com.br/docs/SeriesTemporais_Autoveiculos.xlsm\"\n",
    "filename <- \"Gabriel André/Estudo R/Veiculos.xslm\"\n",
    "download.file(url = url, destfile = filename, mode = \"wb\")\n",
    "data <- read_excel(\"Gabriel André/Estudo R/Veiculos.xslm\", skip = 4)\n",
    "file.remove(\"Gabriel André/Estudo R/Veiculos.xslm\")\n",
    "data <- data[,-seq(7,26,1)]\n",
    "colnames(data) <- c(\"Data\", \"Licenciamento_Tot\",\"Licenciamento_Nac\",\n",
    "                    \"Licenciamento_Import\",\n",
    "                    \"Produção\", \"Exportação\")\n",
    "data[,\"%_produção_exportada\"] <- (data$Exportação/data$Produção)*100\n",
    "data[,\"Crescimento_Producao\"] <- matrix(0,nrow = nrow(data), ncol = 1)\n",
    "for(i in 13:nrow(data)){\n",
    "  data$Crescimento_Producao[i] <- (data$Produção[i]/data$Produção[i-12]-1)\n",
    "}"
   ]
  },
  {
   "cell_type": "code",
   "execution_count": null,
   "metadata": {},
   "outputs": [],
   "source": []
  }
 ],
 "metadata": {
  "kernelspec": {
   "display_name": "R",
   "language": "R",
   "name": "ir"
  },
  "language_info": {
   "codemirror_mode": "r",
   "file_extension": ".r",
   "mimetype": "text/x-r-source",
   "name": "R",
   "pygments_lexer": "r",
   "version": "4.0.1"
  }
 },
 "nbformat": 4,
 "nbformat_minor": 4
}
