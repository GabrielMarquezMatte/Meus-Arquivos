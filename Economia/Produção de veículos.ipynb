{
 "cells": [
  {
   "cell_type": "code",
   "execution_count": 2,
   "metadata": {},
   "outputs": [],
   "source": [
    "options(warn = -1, scipen = 999)\n",
    "pacotes <- c(\"tidyverse\",\"forecast\")\n",
    "for(i in pacotes){\n",
    "    suppressPackageStartupMessages({\n",
    "        library(i, character.only = T)\n",
    "    })\n",
    "}"
   ]
  },
  {
   "cell_type": "code",
   "execution_count": 3,
   "metadata": {},
   "outputs": [
    {
     "name": "stderr",
     "output_type": "stream",
     "text": [
      "New names:\n",
      "* `` -> ...1\n",
      "* `Licenciamento Total` -> `Licenciamento Total...2`\n",
      "* `Licenciamento Nacionais` -> `Licenciamento Nacionais...3`\n",
      "* `Licenciamento Importados` -> `Licenciamento Importados...4`\n",
      "* Produção -> Produção...5\n",
      "* ...\n",
      "\n"
     ]
    },
    {
     "data": {
      "text/html": [
       "TRUE"
      ],
      "text/latex": [
       "TRUE"
      ],
      "text/markdown": [
       "TRUE"
      ],
      "text/plain": [
       "[1] TRUE"
      ]
     },
     "metadata": {},
     "output_type": "display_data"
    }
   ],
   "source": [
    "url <- \"http://www.anfavea.com.br/docs/SeriesTemporais_Autoveiculos.xlsm\"\n",
    "filename <- paste0(getwd(),\"/Veiculos.xslm\")\n",
    "download.file(url = url, destfile = filename, mode = \"wb\")\n",
    "data <- read_excel(filename, skip = 4)\n",
    "file.remove(filename)\n",
    "data <- data[,-seq(7,26,1)]\n",
    "colnames(data) <- c(\"Data\", \"Licenciamento_Tot\",\"Licenciamento_Nac\",\n",
    "                    \"Licenciamento_Import\",\n",
    "                    \"Produção\", \"Exportação\")\n",
    "data[,\"%_produção_exportada\"] <- (data$Exportação/data$Produção)*100\n",
    "data[,\"Crescimento_Producao\"] <- matrix(0,nrow = nrow(data), ncol = 1)\n",
    "for(i in 13:nrow(data)){\n",
    "  data$Crescimento_Producao[i] <- (data$Produção[i]/data$Produção[i-12]-1)\n",
    "}"
   ]
  },
  {
   "cell_type": "code",
   "execution_count": 4,
   "metadata": {},
   "outputs": [
    {
     "name": "stdout",
     "output_type": "stream",
     "text": [
      "Series: producao_ts \n",
      "ARIMA(2,1,3)(0,0,2)[12] \n",
      "\n",
      "Coefficients:\n",
      "          ar1     ar2      ma1      ma2     ma3    sma1    sma2\n",
      "      -0.0465  0.6944  -0.3249  -0.8490  0.2505  0.3243  0.1623\n",
      "s.e.   0.0901  0.0659   0.1003   0.0563  0.0625  0.0416  0.0461\n",
      "\n",
      "sigma^2 estimated as 342333480:  log likelihood=-8565.75\n",
      "AIC=17147.5   AICc=17147.69   BIC=17184.59\n",
      "\n",
      "Training set error measures:\n",
      "                   ME  RMSE      MAE       MPE    MAPE     MASE          ACF1\n",
      "Training set 637.3092 18405 10932.63 -14.86576 25.2138 0.582944 -0.0008904549\n"
     ]
    }
   ],
   "source": [
    "data <- data %>%\n",
    "  filter(Data <= \"2020-07-01\")\n",
    "producao_ts <- ts(data$Produção, end = c(2020,07), frequency = 12)\n",
    "prod_ar <- auto.arima(producao_ts)\n",
    "summary(prod_ar)\n",
    "prod_seas <- seasadj(decompose(producao_ts))\n",
    "mat <- data.frame(Real = producao_ts, Seasonal = prod_seas)\n",
    "mat_ts <- ts(mat, end = c(2020,07), frequency = 12)"
   ]
  },
  {
   "cell_type": "code",
   "execution_count": 7,
   "metadata": {},
   "outputs": [
    {
     "data": {
      "image/png": "[encoded data removed]",
      "text/plain": [
       "plot without title"
      ]
     },
     "metadata": {
      "image/png": {
       "height": 420,
       "width": 420
      }
     },
     "output_type": "display_data"
    }
   ],
   "source": [
    "autoplot(mat_ts)"
   ]
  },
  {
   "cell_type": "code",
   "execution_count": null,
   "metadata": {},
   "outputs": [],
   "source": []
  }
 ],
 "metadata": {
  "kernelspec": {
   "display_name": "R",
   "language": "R",
   "name": "ir"
  },
  "language_info": {
   "codemirror_mode": "r",
   "file_extension": ".r",
   "mimetype": "text/x-r-source",
   "name": "R",
   "pygments_lexer": "r",
   "version": "4.0.2"
  }
 },
 "nbformat": 4,
 "nbformat_minor": 4
}
