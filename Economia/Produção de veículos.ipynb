{
 "cells": [
  {
   "cell_type": "code",
   "execution_count": 1,
   "metadata": {},
   "outputs": [
    {
     "name": "stderr",
     "output_type": "stream",
     "text": [
      "Warning message:\n",
      "\"package 'ggplot2' was built under R version 3.6.3\"Warning message:\n",
      "\"package 'readxl' was built under R version 3.6.3\""
     ]
    },
    {
     "ename": "ERROR",
     "evalue": "Error in download.file(url = url, destfile = filename, mode = \"wb\"): não foi possível abrir o arquivo de destino 'Gabriel André/Estudo R/Veiculos.xslm', motivo 'No such file or directory'\n",
     "output_type": "error",
     "traceback": [
      "Error in download.file(url = url, destfile = filename, mode = \"wb\"): não foi possível abrir o arquivo de destino 'Gabriel André/Estudo R/Veiculos.xslm', motivo 'No such file or directory'\nTraceback:\n",
      "1. download.file(url = url, destfile = filename, mode = \"wb\")"
     ]
    }
   ],
   "source": [
    "library(ggplot2)\n",
    "library(readxl)\n",
    "url <- \"http://www.anfavea.com.br/docs/SeriesTemporais_Autoveiculos.xlsm\"\n",
    "filename <- \"Gabriel André/Estudo R/Veiculos.xslm\"\n",
    "download.file(url = url, destfile = filename, mode = \"wb\")\n",
    "data <- read_excel(\"Gabriel André/Estudo R/Veiculos.xslm\", skip = 4)\n",
    "file.remove(\"Gabriel André/Estudo R/Veiculos.xslm\")\n",
    "data <- data[-seq(762,768,1),]\n",
    "data <- data[,-seq(7,26,1)]\n",
    "colnames(data) <- c(\"Data\", \"Licenciamento_Tot\",\"Licenciamento_Nac\",\n",
    "                    \"Licenciamento_Import\",\n",
    "                    \"Produção\", \"Exportação\")\n",
    "data[,\"%_produção_exportada\"] <- (data$Exportação/data$Produção)*100\n",
    "ggplot(data, aes(x = Data))+\n",
    "  geom_line(aes(y = Produção/1000), colour = \"blue\")+\n",
    "  labs(x = '', y = \"Produção total\", title = \"Produção Nacional mensal de Veículos\",\n",
    "       caption = \"Fonte:ANFAVEA\", subtitle = \"Em milhares de veículos\")\n",
    "View(data)"
   ]
  },
  {
   "cell_type": "code",
   "execution_count": null,
   "metadata": {},
   "outputs": [],
   "source": []
  }
 ],
 "metadata": {
  "kernelspec": {
   "display_name": "R",
   "language": "R",
   "name": "ir"
  },
  "language_info": {
   "codemirror_mode": "r",
   "file_extension": ".r",
   "mimetype": "text/x-r-source",
   "name": "R",
   "pygments_lexer": "r",
   "version": "3.6.1"
  }
 },
 "nbformat": 4,
 "nbformat_minor": 4
}
