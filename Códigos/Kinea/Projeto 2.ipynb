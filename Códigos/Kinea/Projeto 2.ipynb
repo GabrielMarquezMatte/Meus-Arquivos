{
 "cells": [
  {
   "cell_type": "code",
   "execution_count": 1,
   "id": "2737b665",
   "metadata": {},
   "outputs": [],
   "source": [
    "#Importando as bibliotecas\n",
    "import pandas as pd\n",
    "import os\n",
    "import datetime as dt\n",
    "import numpy as np\n",
    "import regex as re\n",
    "import numpy as np\n",
    "from dateutil.relativedelta import relativedelta"
   ]
  },
  {
   "cell_type": "code",
   "execution_count": 2,
   "id": "42a7499d",
   "metadata": {},
   "outputs": [],
   "source": [
    "os.chdir(\"C:/Users/User/OneDrive/Documentos/Kinea\")"
   ]
  },
  {
   "cell_type": "code",
   "execution_count": 3,
   "id": "df5eaecb",
   "metadata": {},
   "outputs": [],
   "source": [
    "#Leitura dos arquivos\n",
    "colunas = [\"Cod.\",\"ID Salesforce\",\"Imóvel\",\"Locação\",\"Valor_1_ano\"]\n",
    "excel_antigo = pd.read_excel(\"Projeções Novas Locações_Anterior.xlsx\",engine='openpyxl')\n",
    "excel_novo = pd.read_excel(\"Projeções Novas Locações_Atual.xlsx\",engine='openpyxl')\n",
    "excel_antigo = excel_antigo.rename(columns = {excel_antigo.columns[10]:\"Valor_1_ano_antigo\"},inplace=False)\n",
    "excel_novo = excel_novo.rename(columns = {excel_novo.columns[10]:\"Valor_1_ano\"},inplace=False)\n",
    "excel_novo[\"Valor_1_ano\"] = excel_novo[\"Valor_1_ano\"]*excel_novo[\"Área \"] #Calculando o valor total do pagamento do imóvel\n",
    "excel_novo = excel_novo[colunas]\n",
    "excel_antigo[\"Valor_1_ano_antigo\"] = excel_antigo[\"Valor_1_ano_antigo\"]*excel_antigo[\"Área \"] #Calculando o valor total do pagamento do imóvel\n",
    "excel_antigo = excel_antigo[[\"Cod.\",\"ID Salesforce\",\"Imóvel\",\"Locação\",\"Valor_1_ano_antigo\"]]"
   ]
  },
  {
   "cell_type": "code",
   "execution_count": 4,
   "id": "4ba4b1fd",
   "metadata": {},
   "outputs": [],
   "source": [
    "#Juntando os dois arquivos\n",
    "excel_junto = pd.merge(excel_novo,excel_antigo,how = \"left\",copy=True,left_on = [\"Cod.\",\"ID Salesforce\",\"Imóvel\"],right_on = [\"Cod.\",\"ID Salesforce\",\"Imóvel\"])\n",
    "excel_junto = excel_junto.rename(columns = {\"Locação_y\":\"Locação_antigo\",\"Locação_x\":\"Locação_novo\"})\n",
    "z = []\n",
    "for i in range(excel_junto.shape[0]):\n",
    "    if all(pd.isna(excel_junto.iloc[i,])):\n",
    "        z.append(i)\n",
    "excel_junto = excel_junto.drop(z) #Retirando todas as linhas que tenham somente NAs\n",
    "excel_junto[\"diferenca_data\"] = excel_junto[\"Locação_novo\"]-excel_junto[\"Locação_antigo\"] #Diferença de datas de locação"
   ]
  },
  {
   "cell_type": "code",
   "execution_count": 5,
   "id": "160c5096",
   "metadata": {},
   "outputs": [],
   "source": [
    "#Sequência de datas para o arquivo separado\n",
    "min_antigo = min(excel_junto[\"Locação_antigo\"])\n",
    "min_novo = min(excel_junto[\"Locação_novo\"])\n",
    "max_antigo = max(excel_junto[\"Locação_antigo\"])\n",
    "max_novo = max(excel_junto[\"Locação_novo\"])\n",
    "max_tot = max([max_antigo,max_novo])\n",
    "min_tot = min([min_antigo,min_novo])\n",
    "datas = []\n",
    "current = min_tot\n",
    "while current <= max_tot:\n",
    "    datas.append(current)\n",
    "    current += relativedelta(months = 1)\n",
    "for i in range(len(datas)):\n",
    "    datas[i] = datas[i].strftime(\"%m/%Y\")"
   ]
  },
  {
   "cell_type": "code",
   "execution_count": 6,
   "id": "a38ee11b",
   "metadata": {},
   "outputs": [],
   "source": [
    "#Formatando as datas para %m/%Y\n",
    "array = list(excel_junto[\"Locação_novo\"].apply(str))\n",
    "array1 = list(excel_junto[\"Locação_antigo\"].apply(str))\n",
    "for i in range(len(array)):\n",
    "    array[i] = dt.datetime.strptime(array[i],\"%Y-%m-%d %H:%M:%S\")\n",
    "    array[i] = array[i].strftime(\"%m/%Y\")\n",
    "    if not array1[i] == \"NaT\":\n",
    "        array1[i] = dt.datetime.strptime(array1[i],\"%Y-%m-%d %H:%M:%S\")\n",
    "        array1[i] = array1[i].strftime(\"%m/%Y\")\n",
    "excel_junto[\"Locação_novo\"] = array\n",
    "excel_junto[\"Locação_antigo\"] = array1"
   ]
  },
  {
   "cell_type": "code",
   "execution_count": 7,
   "id": "6bf1403f",
   "metadata": {},
   "outputs": [],
   "source": [
    "#Função para retornar a classificação entre diferenças de datas\n",
    "def diferenca(time):\n",
    "    time = list(time)\n",
    "    na = pd.isna(time)\n",
    "    v = []\n",
    "    for i in range(len(time)):\n",
    "        if na[i]:\n",
    "            v.append(\"Novo\")\n",
    "        else:\n",
    "            dife = time[i]/dt.timedelta(days = 30)\n",
    "            if dife < 0:\n",
    "                v.append(\"Adiantou\")\n",
    "            elif dife > 0:\n",
    "                v.append(\"Postergou\")\n",
    "            elif dife == 0:\n",
    "                v.append(\"Igual\")\n",
    "    return(v)"
   ]
  },
  {
   "cell_type": "code",
   "execution_count": 8,
   "id": "d8c88f82",
   "metadata": {},
   "outputs": [],
   "source": [
    "excel_junto[\"diferenca_data\"] = diferenca(excel_junto[\"diferenca_data\"]) #Classificação de diferenças de datas\n",
    "excel_junto[\"diferenca_valor\"] = excel_junto[\"Valor_1_ano\"]-excel_junto[\"Valor_1_ano_antigo\"] #Diferença de valores"
   ]
  },
  {
   "cell_type": "code",
   "execution_count": 9,
   "id": "f13ba246",
   "metadata": {},
   "outputs": [],
   "source": [
    "#Separando os dados\n",
    "excel_separado = excel_junto.pivot(index = [\"Cod.\",\"ID Salesforce\",\"Imóvel\",\"diferenca_data\",\"Locação_novo\",\"Valor_1_ano\",\"diferenca_valor\"],columns = \"Locação_antigo\",values = \"Valor_1_ano_antigo\").reset_index()\n",
    "excel_separado.drop(columns = [\"NaT\"])\n",
    "excel_separado = excel_separado.pivot(index = [\"Cod.\",\"ID Salesforce\",\"Imóvel\",\"diferenca_data\",\"diferenca_valor\"],columns = \"Locação_novo\",values=\"Valor_1_ano\").reset_index()"
   ]
  },
  {
   "cell_type": "code",
   "execution_count": 10,
   "id": "02fa4c61",
   "metadata": {},
   "outputs": [],
   "source": [
    "#Criando colunas para todos as datas entre a menor e a maior data de locação\n",
    "excel_separado1 = excel_separado.iloc[0:,0:5]\n",
    "nomes = excel_separado.columns[3:]\n",
    "for i in datas:\n",
    "    if i in nomes:\n",
    "        excel_separado1 = pd.concat([excel_separado1,excel_separado[i]],axis = 1)\n",
    "    else:\n",
    "        excel_separado1[i] = np.NaN"
   ]
  },
  {
   "cell_type": "code",
   "execution_count": 11,
   "id": "5fcb6f90",
   "metadata": {},
   "outputs": [],
   "source": [
    "#Inserindo os valores antigos e atuais nas colunas\n",
    "for i in range(excel_separado1.shape[0]):\n",
    "    cod = excel_separado1[\"Cod.\"][i]\n",
    "    if pd.isna(cod):\n",
    "        df = excel_junto[pd.isna(excel_junto[\"Cod.\"])]\n",
    "    else:\n",
    "        df = excel_junto[excel_junto[\"Cod.\"] == cod]\n",
    "    diferenca = df[\"diferenca_data\"]\n",
    "    if not (diferenca.values in [\"Igual\",\"Novo\"]):\n",
    "        loc_antigo = np.where([j == df[\"Locação_antigo\"].values[0] for j in excel_separado1.columns]) #Índice da coluna de valores antigos\n",
    "        val_antigo = df[\"Valor_1_ano_antigo\"].values #Valores antigos\n",
    "        loc_novo = np.where([j == df[\"Locação_novo\"].values[0] for j in excel_separado1.columns]) #Índice da coluna de valores atuais\n",
    "        loc_antigo = loc_antigo[0][0]\n",
    "        loc_novo = loc_novo[0][0]\n",
    "        val_novo = df[\"Valor_1_ano\"].values #Valores novos\n",
    "        excel_separado1.iloc[i,loc_antigo] = val_antigo[0]\n",
    "        excel_separado1.iloc[i,loc_novo] = val_novo[0]"
   ]
  },
  {
   "cell_type": "code",
   "execution_count": null,
   "id": "534b0c73",
   "metadata": {},
   "outputs": [],
   "source": []
  }
 ],
 "metadata": {
  "kernelspec": {
   "display_name": "Python 3",
   "language": "python",
   "name": "python3"
  },
  "language_info": {
   "codemirror_mode": {
    "name": "ipython",
    "version": 3
   },
   "file_extension": ".py",
   "mimetype": "text/x-python",
   "name": "python",
   "nbconvert_exporter": "python",
   "pygments_lexer": "ipython3",
   "version": "3.8.8"
  }
 },
 "nbformat": 4,
 "nbformat_minor": 5
}
