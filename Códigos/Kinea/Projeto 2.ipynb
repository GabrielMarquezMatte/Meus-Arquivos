{
 "cells": [
  {
   "cell_type": "code",
   "execution_count": 1,
   "id": "7f9f6ed5",
   "metadata": {},
   "outputs": [],
   "source": [
    "#Importando as bibliotecas\n",
    "import pandas as pd\n",
    "import os\n",
    "import datetime as dt\n",
    "import numpy as np\n",
    "import numpy as np\n",
    "from dateutil.relativedelta import relativedelta\n",
    "import requests\n",
    "from simple_salesforce import Salesforce\n",
    "from datetime import datetime, timedelta, date"
   ]
  },
  {
   "cell_type": "code",
   "execution_count": 2,
   "id": "fb49b09f",
   "metadata": {},
   "outputs": [],
   "source": [
    "def ImovelSF(sf):\n",
    "    imoveis = sf.query_all(\"SELECT Id, Name FROM Imovel__c\")[\"records\"]\n",
    "    df_imoveis = pd.DataFrame(imoveis, index=None).drop(columns='attributes')\n",
    "    df_imoveis = df_imoveis.rename(columns={'Name':'Conjunto'})\n",
    "    return df_imoveis"
   ]
  },
  {
   "cell_type": "code",
   "execution_count": 11,
   "id": "bec6b30f",
   "metadata": {},
   "outputs": [],
   "source": [
    "def conexao_sfc():\n",
    "    session = requests.Session()\n",
    "    session.verify = False\n",
    "\n",
    "    sf = Salesforce(\n",
    "        username='username',\n",
    "        password='password',\n",
    "        security_token='security_token',\n",
    "        client_id=\"client_id\",\n",
    "        instance='instance',\n",
    "        session_id='',\n",
    "        session=session\n",
    "    )\n",
    "    return sf"
   ]
  },
  {
   "cell_type": "code",
   "execution_count": 12,
   "id": "b97c385b",
   "metadata": {},
   "outputs": [],
   "source": [
    "def last_day_of_month(any_day):\n",
    "    # this will never fail\n",
    "    # get close to the end of the month for any day, and add 4 days 'over'\n",
    "    next_month = any_day.replace(day=28) + relativedelta(days=4)\n",
    "    # subtract the number of remaining 'overage' days to get last day of current month, or said programattically said, the previous day of the first of next month\n",
    "    return (next_month - relativedelta(days=next_month.day))"
   ]
  },
  {
   "cell_type": "code",
   "execution_count": 13,
   "id": "ac0bb4b6",
   "metadata": {},
   "outputs": [],
   "source": [
    "def selectPremissa(sf, where):\n",
    "    result = sf.query_all(\"SELECT Id, Fase__c, Mes_referencia__c, Name FROM Premissas_comerciais__c {}\".format(where) )[\"records\"]\n",
    "    df = pd.DataFrame(result, index=None).drop(columns='attributes')\n",
    "    return df"
   ]
  },
  {
   "cell_type": "code",
   "execution_count": 14,
   "id": "91aa164c",
   "metadata": {},
   "outputs": [],
   "source": [
    "def selectDetalhePremissaSF(sf, df_premissa):\n",
    "    idPremissa = df_premissa.iloc[0]['Id']\n",
    "    result = sf.query_all(\"SELECT Id, Name, Premissas_comerciais__c, Carencia__c, Conjunto__c, Data_de_locacao__c, Descricao__c, Indice__c, Responsavel__c, Valor_por_m2_1_ano__c, Valor_por_m2_2_ano__c, Valor_por_m2_3_ano__c, Valor_por_m2_4_ano__c, Valor_por_m2_5_ano__c, Status_imovel__c, Previsao_saida__c FROM detalhes_das_premissas__c WHERE Premissas_comerciais__c = '{id}'\".format(id=idPremissa))[\"records\"]\n",
    "    df = pd.DataFrame(result, index=None).drop(columns='attributes')\n",
    "    return df"
   ]
  },
  {
   "cell_type": "code",
   "execution_count": 15,
   "id": "4c4b6f0e",
   "metadata": {},
   "outputs": [],
   "source": [
    "def selecionaPremissaAnterior(sf, df_premissa, df_detalhes):\n",
    "    #df = pd.merge(df_detalhes, df_premissa, how=\"inner\", left_on=\"Premissas_comerciais__c\", right_on=\"Id\")\n",
    "    dataAnt = df_premissa.iloc[0]['Mes_referencia__c']\n",
    "    dataAnt = datetime.strptime(dataAnt, \"%Y-%m-%d\").date() - relativedelta(months = 1)\n",
    "    df_premissaAnt = selectPremissa(sf, 'WHERE Mes_referencia__c >= {dataini} and Mes_referencia__c <= {datafim}'.format(dataini=dataAnt.replace(day=1), datafim=last_day_of_month(dataAnt)))\n",
    "    df_detalheAnt = selectDetalhePremissaSF(sf, df_premissaAnt)\n",
    "    return df_premissaAnt, df_detalheAnt"
   ]
  },
  {
   "cell_type": "code",
   "execution_count": 16,
   "id": "6bdd6bb9",
   "metadata": {},
   "outputs": [],
   "source": [
    "def relacionaPremissa(df_detalhes, df_detalheAnt):\n",
    "    df = pd.merge(df_detalhes, df_detalheAnt, how=\"left\", left_on=\"Conjunto__c\", right_on=\"Conjunto__c\")\n",
    "    df_junto = df.rename(columns={\"Data_de_locacao__c_y\":\"Locação_antigo\", \"Data_de_locacao__c_x\":\"Locação_novo\"})\n",
    "\n",
    "    #Diferença de datas de locação \n",
    "    df_junto[\"Locação_novo\"] = pd.to_datetime(df_junto['Locação_novo'], format=\"%Y-%m-%d\", cache=False)\n",
    "    df_junto[\"Locação_antigo\"] = pd.to_datetime(df_junto['Locação_antigo'], format=\"%Y-%m-%d\", cache=False)\n",
    "    df_junto[\"diferenca_data\"] = df_junto[\"Locação_novo\"]-df_junto[\"Locação_antigo\"] \n",
    "\n",
    "    # Sequência de datas para o arquivo separado\n",
    "    min_antigo = min(df_junto[\"Locação_antigo\"])\n",
    "    min_novo = min(df_junto[\"Locação_novo\"])\n",
    "    max_antigo = max(df_junto[\"Locação_antigo\"])\n",
    "    max_novo = max(df_junto[\"Locação_novo\"])\n",
    "    max_tot = max([max_antigo,max_novo])\n",
    "    min_tot = min([min_antigo,min_novo])\n",
    "    \n",
    "    print(df_junto)"
   ]
  },
  {
   "cell_type": "code",
   "execution_count": 17,
   "id": "b1b1903a",
   "metadata": {},
   "outputs": [],
   "source": [
    "#Função para retornar a classificação entre diferenças de datas\n",
    "def diferenca(time):\n",
    "    time = list(time)\n",
    "    na = pd.isna(time)\n",
    "    v = []\n",
    "    for i in range(len(time)):\n",
    "        if na[i]:\n",
    "            v.append(\"Novo\")\n",
    "        else:\n",
    "            dife = time[i]/dt.timedelta(days = 30)\n",
    "            if dife < 0:\n",
    "                v.append(\"Adiantou\")\n",
    "            elif dife > 0:\n",
    "                v.append(\"Postergou\")\n",
    "            elif dife == 0:\n",
    "                v.append(\"Igual\")\n",
    "    return(v)"
   ]
  },
  {
   "cell_type": "code",
   "execution_count": 18,
   "id": "3314d5d3",
   "metadata": {},
   "outputs": [
    {
     "name": "stderr",
     "output_type": "stream",
     "text": [
      "C:\\Users\\User\\anaconda3\\lib\\site-packages\\urllib3\\connectionpool.py:1013: InsecureRequestWarning: Unverified HTTPS request is being made to host 'login.salesforce.com'. Adding certificate verification is strongly advised. See: https://urllib3.readthedocs.io/en/latest/advanced-usage.html#ssl-warnings\n",
      "  warnings.warn(\n",
      "C:\\Users\\User\\anaconda3\\lib\\site-packages\\urllib3\\connectionpool.py:1013: InsecureRequestWarning: Unverified HTTPS request is being made to host 'kinea.my.salesforce.com'. Adding certificate verification is strongly advised. See: https://urllib3.readthedocs.io/en/latest/advanced-usage.html#ssl-warnings\n",
      "  warnings.warn(\n",
      "C:\\Users\\User\\anaconda3\\lib\\site-packages\\urllib3\\connectionpool.py:1013: InsecureRequestWarning: Unverified HTTPS request is being made to host 'kinea.my.salesforce.com'. Adding certificate verification is strongly advised. See: https://urllib3.readthedocs.io/en/latest/advanced-usage.html#ssl-warnings\n",
      "  warnings.warn(\n",
      "C:\\Users\\User\\anaconda3\\lib\\site-packages\\urllib3\\connectionpool.py:1013: InsecureRequestWarning: Unverified HTTPS request is being made to host 'kinea.my.salesforce.com'. Adding certificate verification is strongly advised. See: https://urllib3.readthedocs.io/en/latest/advanced-usage.html#ssl-warnings\n",
      "  warnings.warn(\n",
      "C:\\Users\\User\\anaconda3\\lib\\site-packages\\urllib3\\connectionpool.py:1013: InsecureRequestWarning: Unverified HTTPS request is being made to host 'kinea.my.salesforce.com'. Adding certificate verification is strongly advised. See: https://urllib3.readthedocs.io/en/latest/advanced-usage.html#ssl-warnings\n",
      "  warnings.warn(\n",
      "C:\\Users\\User\\anaconda3\\lib\\site-packages\\urllib3\\connectionpool.py:1013: InsecureRequestWarning: Unverified HTTPS request is being made to host 'kinea.my.salesforce.com'. Adding certificate verification is strongly advised. See: https://urllib3.readthedocs.io/en/latest/advanced-usage.html#ssl-warnings\n",
      "  warnings.warn(\n"
     ]
    }
   ],
   "source": [
    "#Gerando a conexão e obtendo os dados necessários\n",
    "sf = conexao_sfc()\n",
    "df_premissa = selectPremissa(sf, \"WHERE Fase__c = 'Geração de relatório'\")\n",
    "df_detalhes = selectDetalhePremissaSF(sf, df_premissa)\n",
    "conjuntos = ImovelSF(sf)\n",
    "df_premissaAnt, df_detalheAnt = selecionaPremissaAnterior(sf, df_premissa, df_detalhes)"
   ]
  },
  {
   "cell_type": "code",
   "execution_count": 19,
   "id": "c8d0600a",
   "metadata": {},
   "outputs": [
    {
     "name": "stderr",
     "output_type": "stream",
     "text": [
      "C:\\Users\\User\\anaconda3\\lib\\site-packages\\urllib3\\connectionpool.py:1013: InsecureRequestWarning: Unverified HTTPS request is being made to host 'kinea.my.salesforce.com'. Adding certificate verification is strongly advised. See: https://urllib3.readthedocs.io/en/latest/advanced-usage.html#ssl-warnings\n",
      "  warnings.warn(\n"
     ]
    }
   ],
   "source": [
    "#Obtendo os dados das áreas locáveis atuais dos imóveis\n",
    "areas = pd.DataFrame(sf.query_all(\"SELECT Id,area_locavel__c from Imovel__c\")[\"records\"],index = None)\n",
    "areas.drop(columns = \"attributes\",inplace = True)\n",
    "areas.rename(columns = {\"area_locavel__c\":\"Area_locavel__c\",\"Id\":\"ID Salesforce\"},inplace = True)"
   ]
  },
  {
   "cell_type": "code",
   "execution_count": 20,
   "id": "35c34f22",
   "metadata": {},
   "outputs": [],
   "source": [
    "#Relacionando os conjuntos do data.frame atual\n",
    "df_detalhes1 = pd.merge(df_detalhes,conjuntos,how = \"left\",left_on = \"Conjunto__c\",right_on = \"Id\")\n",
    "df_detalhes1.drop(columns=[\"Id_y\",\"Id_x\"],inplace = True)\n",
    "df_detalhes1.rename(columns = {\"Conjunto__c\":\"ID Salesforce\",\"Conjunto\":\"Conjunto__c\"},inplace = True)\n",
    "df_detalhes1 = pd.merge(df_detalhes1,areas,how = \"left\",on = \"ID Salesforce\")\n",
    "#Relacionando os conjuntos do data.frame anterior\n",
    "df_detalheAnt1 = pd.merge(df_detalheAnt,conjuntos,how = \"left\",left_on = \"Conjunto__c\",right_on = \"Id\")\n",
    "df_detalheAnt1.drop(columns=[\"Id_y\"],inplace = True)\n",
    "df_detalheAnt1.rename(columns = {\"Conjunto__c\":\"ID Salesforce\",\"Conjunto\":\"Conjunto__c\"},inplace = True)"
   ]
  },
  {
   "cell_type": "code",
   "execution_count": 21,
   "id": "e2874cdb",
   "metadata": {},
   "outputs": [],
   "source": [
    "#Selecionando as colunas necessárias\n",
    "colunas = [\"ID Salesforce\",\"Conjunto__c\",\"Descricao__c\",\"Data_de_locacao__c\",\"Valor_por_m2_1_ano__c\"]\n",
    "excel_antigo = df_detalheAnt1[colunas]\n",
    "excel_antigo = excel_antigo.rename(columns = {\"Valor_por_m2_1_ano__c\":\"Valor_por_m2_1_ano_antigo__c\",\n",
    "                               \"Data_de_locacao__c\":\"Data_de_locacao_antigo__c\"})\n",
    "colunas.append(\"Area_locavel__c\")\n",
    "colunas.append(\"Carencia__c\")\n",
    "excel_novo = df_detalhes1[colunas]\n",
    "colunas = colunas[0:3]"
   ]
  },
  {
   "cell_type": "code",
   "execution_count": 22,
   "id": "a65d46e7",
   "metadata": {},
   "outputs": [],
   "source": [
    "#Juntando os dois arquivos\n",
    "excel_junto = pd.merge(excel_novo,excel_antigo,how = \"left\",copy=True,on = colunas)\n",
    "z = []\n",
    "for i in range(excel_junto.shape[0]):\n",
    "    if all(pd.isna(excel_junto.iloc[i,])):\n",
    "        z.append(i)\n",
    "excel_junto = excel_junto.drop(z) #Retirando todas as linhas que tenham somente NAs\n",
    "excel_junto[\"Data_de_locacao__c\"] = [dt.datetime.strptime(i,\"%Y-%m-%d\") for i in excel_junto[\"Data_de_locacao__c\"]]\n",
    "excel_junto[\"Data_de_locacao_antigo__c\"] = [dt.datetime.strptime(i,\"%Y-%m-%d\") for i in excel_junto[\"Data_de_locacao_antigo__c\"]]\n",
    "excel_junto[\"diferenca_data\"] = excel_junto[\"Data_de_locacao__c\"]-excel_junto[\"Data_de_locacao_antigo__c\"] #Diferença de datas de locação"
   ]
  },
  {
   "cell_type": "code",
   "execution_count": 23,
   "id": "3a1e6201",
   "metadata": {},
   "outputs": [],
   "source": [
    "#Sequência de datas para o arquivo separado\n",
    "min_antigo = min(excel_junto[\"Data_de_locacao_antigo__c\"])\n",
    "min_novo = min(excel_junto[\"Data_de_locacao__c\"])\n",
    "max_antigo = max(excel_junto[\"Data_de_locacao_antigo__c\"])\n",
    "max_novo = max(excel_junto[\"Data_de_locacao__c\"])\n",
    "max_tot = max([max_antigo,max_novo])\n",
    "min_tot = min([min_antigo,min_novo])\n",
    "datas = []\n",
    "current = min_tot\n",
    "while current <= max_tot:\n",
    "    datas.append(current)\n",
    "    current += relativedelta(months = 1)\n",
    "for i in range(len(datas)):\n",
    "    datas[i] = datas[i].strftime(\"%m/%Y\")"
   ]
  },
  {
   "cell_type": "code",
   "execution_count": 24,
   "id": "95bcf2fd",
   "metadata": {},
   "outputs": [],
   "source": [
    "#Criando outra coluna para ordenar o data.frame final\n",
    "excel_junto[\"Locacao\"] = excel_junto[\"Data_de_locacao__c\"]  #Mudança\n",
    "#Formatando as datas para %m/%Y\n",
    "array = list(excel_junto[\"Data_de_locacao__c\"].apply(str))\n",
    "array1 = list(excel_junto[\"Data_de_locacao_antigo__c\"].apply(str))\n",
    "for i in range(len(array)):\n",
    "    array[i] = dt.datetime.strptime(array[i],\"%Y-%m-%d %H:%M:%S\")\n",
    "    array[i] = array[i].strftime(\"%m/%Y\")\n",
    "    if not array1[i] == \"NaT\":\n",
    "        array1[i] = dt.datetime.strptime(array1[i],\"%Y-%m-%d %H:%M:%S\")\n",
    "        array1[i] = array1[i].strftime(\"%m/%Y\")\n",
    "excel_junto[\"Data_de_locacao__c\"] = array\n",
    "excel_junto[\"Data_de_locacao_antigo__c\"] = array1\n",
    "excel_junto[\"diferenca_data\"] = diferenca(excel_junto[\"diferenca_data\"]) #Classificação de diferenças de datas\n",
    "excel_junto[\"diferenca_valor\"] = excel_junto[\"Valor_por_m2_1_ano__c\"]-excel_junto[\"Valor_por_m2_1_ano_antigo__c\"] #Diferença de valores"
   ]
  },
  {
   "cell_type": "code",
   "execution_count": 25,
   "id": "885e9b86",
   "metadata": {},
   "outputs": [],
   "source": [
    "#Separando os dados, colocando os valores por m2 nas colunas das datas\n",
    "excel_separado = excel_junto.pivot(index = [\"ID Salesforce\",\"Conjunto__c\",\"Descricao__c\",\n",
    "                                            \"Locacao\",\"Carencia__c\",\"Data_de_locacao__c\",\n",
    "                                            \"Area_locavel__c\",\"Valor_por_m2_1_ano__c\",\"diferenca_data\",\"diferenca_valor\"],\n",
    "                                   columns = \"Data_de_locacao_antigo__c\",values = \"Valor_por_m2_1_ano_antigo__c\").reset_index() #Mudança\n",
    "if any(excel_separado.columns == \"NaT\"):\n",
    "    excel_separado.drop(columns = [\"NaT\"])\n",
    "excel_separado = excel_separado.pivot(index = [\"ID Salesforce\",\"Conjunto__c\",\"Descricao__c\",\n",
    "                                               \"Locacao\",\"Carencia__c\",\"Area_locavel__c\",\n",
    "                                               \"diferenca_data\",\"diferenca_valor\"],\n",
    "                                      columns = \"Data_de_locacao__c\",values=\"Valor_por_m2_1_ano__c\").reset_index() #Mudança"
   ]
  },
  {
   "cell_type": "code",
   "execution_count": 32,
   "id": "f0440c52",
   "metadata": {},
   "outputs": [],
   "source": [
    "#Criando colunas para todos as datas entre a menor e a maior data de locação\n",
    "excel_separado1 = excel_separado.iloc[0:,0:7] #Mudança\n",
    "nomes = excel_separado.columns[3:]\n",
    "for i in datas:\n",
    "    if i in nomes:\n",
    "        excel_separado1 = pd.concat([excel_separado1,excel_separado[i]],axis = 1)\n",
    "    else:\n",
    "        excel_separado1[i] = np.NaN"
   ]
  },
  {
   "cell_type": "code",
   "execution_count": 33,
   "id": "6777a380",
   "metadata": {},
   "outputs": [],
   "source": [
    "#Inserindo os valores antigos e atuais nas colunas\n",
    "for i in range(excel_separado1.shape[0]):\n",
    "    cod = excel_separado1[\"ID Salesforce\"][i]\n",
    "    #Pegando os dados de valores antigos e atuais dos imóveis\n",
    "    if pd.isna(cod):\n",
    "        df = excel_junto[pd.isna(excel_junto[\"ID Salesforce\"])]\n",
    "    else:\n",
    "        df = excel_junto[excel_junto[\"ID Salesforce\"] == cod]\n",
    "    diferenca = df[\"diferenca_data\"]\n",
    "    #Inserindo os valores nas respectivas colunas caso haja diferenças entre as datas\n",
    "    if not (diferenca.values in [\"Igual\",\"Novo\"]):\n",
    "        loc_antigo = np.where([j == df[\"Data_de_locacao_antigo__c\"].values[0] for j in excel_separado1.columns]) #Índice da coluna de valores antigos\n",
    "        val_antigo = df[\"Valor_por_m2_1_ano_antigo__c\"].values #Valores antigos\n",
    "        loc_novo = np.where([j == df[\"Data_de_locacao__c\"].values[0] for j in excel_separado1.columns]) #Índice da coluna de valores atuais\n",
    "        loc_antigo = loc_antigo[0][0]\n",
    "        loc_novo = loc_novo[0][0]\n",
    "        val_novo = df[\"Valor_por_m2_1_ano__c\"].values #Valores novos\n",
    "        excel_separado1.iloc[i,loc_antigo] = val_antigo[0]\n",
    "        excel_separado1.iloc[i,loc_novo] = val_novo[0]"
   ]
  },
  {
   "cell_type": "code",
   "execution_count": 34,
   "id": "085987d4",
   "metadata": {},
   "outputs": [],
   "source": [
    "#Renomeando as colunas e ordenando o data.frame pela data de locação atual e imóvel\n",
    "excel_separado1 = excel_separado1.rename(columns = {\"Conjunto__c\":\"Conjunto\",\"Descricao__c\":\"Descricao\",\n",
    "                                                    \"diferenca_data\":\"Status\",\"diferenca_valor\":\"Diferenca valor\",\n",
    "                                                    \"Area_locavel__c\":\"Area locavel\",\n",
    "                                                    \"Carencia__c\":\"Carencia\"})\n",
    "excel_separado1 = excel_separado1.sort_values([\"Locacao\",\"Descricao\"]) #Mudança\n",
    "excel_separado1.drop(columns = \"Locacao\",inplace = True) #Mudança"
   ]
  }
 ],
 "metadata": {
  "kernelspec": {
   "display_name": "Python 3",
   "language": "python",
   "name": "python3"
  },
  "language_info": {
   "codemirror_mode": {
    "name": "ipython",
    "version": 3
   },
   "file_extension": ".py",
   "mimetype": "text/x-python",
   "name": "python",
   "nbconvert_exporter": "python",
   "pygments_lexer": "ipython3",
   "version": "3.8.8"
  }
 },
 "nbformat": 4,
 "nbformat_minor": 5
}
