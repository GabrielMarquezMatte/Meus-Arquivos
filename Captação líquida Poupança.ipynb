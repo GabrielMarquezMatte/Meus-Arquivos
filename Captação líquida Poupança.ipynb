{
 "cells": [
  {
   "cell_type": "code",
   "execution_count": null,
   "metadata": {},
   "outputs": [],
   "source": [
    "library(rbcb)\n",
    "start_date <- as.Date(\"2020-01-01\")\n",
    "end_date <- as.Date(\"2020-05-31\")\n",
    "captacao_liquida <- get_series(c(24), start_date = start_date,\n",
    "                               end_date = end_date)\n",
    "captacao_liquida <- data.frame(captacao_liquida)\n",
    "captacao_liquida <- captacao_liquida[,-3]\n",
    "total <- round(sum(captacao_liquida$X24), 2)\n",
    "plot(captacao_liquida$date, captacao_liquida$X24,\n",
    "     type = \"l\", xlab = \"Data\", ylab = \"Valor\",\n",
    "     main = format(start_date,\"Captação líquida diária da poupança em %Y\"),\n",
    "     sub = print(paste0(\"Captação total em milhares de reais = R$\", total)),\n",
    "     col = \"blue\")\n",
    "abline(h = mean(captacao_liquida$X24), col = \"red\", lwd = 1)\n",
    "View(captacao_liquida)"
   ]
  },
  {
   "cell_type": "code",
   "execution_count": null,
   "metadata": {},
   "outputs": [],
   "source": []
  }
 ],
 "metadata": {
  "kernelspec": {
   "display_name": "R",
   "language": "R",
   "name": "ir"
  },
  "language_info": {
   "codemirror_mode": "r",
   "file_extension": ".r",
   "mimetype": "text/x-r-source",
   "name": "R",
   "pygments_lexer": "r",
   "version": "3.6.1"
  }
 },
 "nbformat": 4,
 "nbformat_minor": 4
}
