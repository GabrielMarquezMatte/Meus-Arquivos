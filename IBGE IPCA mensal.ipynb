{
 "cells": [
  {
   "cell_type": "code",
   "execution_count": 2,
   "metadata": {},
   "outputs": [],
   "source": [
    "library(readxl)"
   ]
  },
  {
   "cell_type": "code",
   "execution_count": 2,
   "metadata": {},
   "outputs": [],
   "source": [
    "ler_ibge_ipca_subitem <- function(data){\n",
    "  stopifnot(is(data, \"Date\"), length(data) == 1)\n",
    "  if(data >= \"2020-01-01\"){\n",
    "    url <- format(\n",
    "      data,\n",
    "      \"ftp://ftp.ibge.gov.br/Precos_Indices_de_Precos_ao_Consumidor/IPCA/Resultados_por_Subitem/ipca_%Y%mSubitem.zip\")\n",
    "  } else{\n",
    "    url <- format(\n",
    "      data,\n",
    "      \"ftp://ftp.ibge.gov.br/Precos_Indices_de_Precos_ao_Consumidor/IPCA/Resultados_por_Subitem/%Y/ipca_%Y%mSubitem.zip\"\n",
    "    )\n",
    "  }\n",
    "  filename <- format(data, \"Gabriel André/Estudo R/ipca_%Y%mSubitem.zip\")\n",
    "  file <- download.file(url = url, destfile = filename, mode = \"wb\")\n",
    "  files <- unzip(zipfile = filename, exdir = \"Gabriel André/Estudo R\")\n",
    "  dados <- read_excel(path = files, sheet = 1, skip = 4, col_names = T)\n",
    "  dados <- data.frame(dados)\n",
    "  dados <- dados[-1,]\n",
    "  file.remove(files)\n",
    "  for(i in 2:ncol(dados)){\n",
    "    dados[,i] <- suppressWarnings(as.numeric(dados[,i]))\n",
    "  }\n",
    "  return(View(dados))\n",
    "  \n",
    "}"
   ]
  }
 ],
 "metadata": {
  "kernelspec": {
   "display_name": "R",
   "language": "R",
   "name": "ir"
  },
  "language_info": {
   "codemirror_mode": "r",
   "file_extension": ".r",
   "mimetype": "text/x-r-source",
   "name": "R",
   "pygments_lexer": "r",
   "version": "3.6.1"
  }
 },
 "nbformat": 4,
 "nbformat_minor": 4
}
