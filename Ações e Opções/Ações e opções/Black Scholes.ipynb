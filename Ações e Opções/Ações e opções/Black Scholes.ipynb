{
 "cells": [
  {
   "cell_type": "code",
   "execution_count": 12,
   "metadata": {},
   "outputs": [],
   "source": [
    "S <- 4.45\n",
    "K <- 4\n",
    "r <- 0.14192\n",
    "T <- 7/365\n",
    "desv <- 0.8768\n",
    "d1 <- (log(S/K)+(r+(desv^2)/2)*T)/(desv*sqrt(T))\n",
    "d2 <- d1 - desv*sqrt(T)"
   ]
  },
  {
   "cell_type": "code",
   "execution_count": 13,
   "metadata": {},
   "outputs": [
    {
     "data": {
      "text/html": [
       "'R$0.512'"
      ],
      "text/latex": [
       "'R\\$0.512'"
      ],
      "text/markdown": [
       "'R$0.512'"
      ],
      "text/plain": [
       "[1] \"R$0.512\""
      ]
     },
     "metadata": {},
     "output_type": "display_data"
    },
    {
     "data": {
      "text/html": [
       "'R$0.051'"
      ],
      "text/latex": [
       "'R\\$0.051'"
      ],
      "text/markdown": [
       "'R$0.051'"
      ],
      "text/plain": [
       "[1] \"R$0.051\""
      ]
     },
     "metadata": {},
     "output_type": "display_data"
    }
   ],
   "source": [
    "Call <- round(S*pnorm(d1) - K*exp(-r*T)*pnorm(d2), 3)\n",
    "Put <- round(K*exp(-r*T)*pnorm(-d2) - S*pnorm(-d1), 3)\n",
    "names(Call) <- c(\"Preço Call\")\n",
    "names(Put) <- c(\"Preço Put\")\n",
    "paste0(\"R$\",Call)\n",
    "paste0(\"R$\",Put)"
   ]
  },
  {
   "cell_type": "code",
   "execution_count": 29,
   "metadata": {},
   "outputs": [],
   "source": [
    "delta_call <- pnorm(d1)\n",
    "delta_put <- pnorm(d1)-1\n",
    "theta_call <- ((-S*dnorm(d1)*desv)/2*sqrt(T))-r*K*exp(-r*T)*pnorm(d2)\n",
    "theta_put <- ((-S*dnorm(d1)*desv)/2*sqrt(T))+r*K*exp(-r*T)*pnorm(-d2)\n",
    "gama <- (dnorm(d1)/(S*desv*sqrt(T)))\n",
    "vega <- S*sqrt(T)*dnorm(d1)\n",
    "ro_call <- K*T*exp(-r*T)*pnorm(d2)\n",
    "ro_put <- -K*T*exp(-r*T)*pnorm(-d2)\n",
    "gregas <- cbind(delta_call, delta_put, theta_call, theta_put, gama, vega,\n",
    "               ro_call, ro_put)\n",
    "colnames(gregas) <- c(\"Delta Call\", \"Delta Put\", \"Theta Call\", \"Theta Put\", \"Gama\", \"Vega\", \"Rô Call\",\n",
    "                     \"Rô Put\")"
   ]
  },
  {
   "cell_type": "code",
   "execution_count": 30,
   "metadata": {},
   "outputs": [
    {
     "data": {
      "text/html": [
       "<table>\n",
       "<thead><tr><th scope=col>Delta Call</th><th scope=col>Delta Put</th><th scope=col>Theta Call</th><th scope=col>Theta Put</th><th scope=col>Gama</th><th scope=col>Vega</th><th scope=col>Rô Call</th><th scope=col>Rô Put</th></tr></thead>\n",
       "<tbody>\n",
       "\t<tr><td>0.7161178  </td><td>-0.2838822 </td><td>-0.5558237 </td><td>0.003604576</td><td>0.2703822  </td><td>0.4843636  </td><td>0.249706   </td><td>-0.1569935 </td></tr>\n",
       "</tbody>\n",
       "</table>\n"
      ],
      "text/latex": [
       "\\begin{tabular}{llllllll}\n",
       " Delta Call & Delta Put & Theta Call & Theta Put & Gama & Vega & Rô Call & Rô Put\\\\\n",
       "\\hline\n",
       "\t 0.7161178   & -0.2838822  & -0.5558237  & 0.003604576 & 0.2703822   & 0.4843636   & 0.249706    & -0.1569935 \\\\\n",
       "\\end{tabular}\n"
      ],
      "text/markdown": [
       "\n",
       "| Delta Call | Delta Put | Theta Call | Theta Put | Gama | Vega | Rô Call | Rô Put |\n",
       "|---|---|---|---|---|---|---|---|\n",
       "| 0.7161178   | -0.2838822  | -0.5558237  | 0.003604576 | 0.2703822   | 0.4843636   | 0.249706    | -0.1569935  |\n",
       "\n"
      ],
      "text/plain": [
       "     Delta Call Delta Put  Theta Call Theta Put   Gama      Vega      Rô Call \n",
       "[1,] 0.7161178  -0.2838822 -0.5558237 0.003604576 0.2703822 0.4843636 0.249706\n",
       "     Rô Put    \n",
       "[1,] -0.1569935"
      ]
     },
     "metadata": {},
     "output_type": "display_data"
    }
   ],
   "source": [
    "gregas"
   ]
  },
  {
   "cell_type": "code",
   "execution_count": null,
   "metadata": {},
   "outputs": [],
   "source": []
  }
 ],
 "metadata": {
  "kernelspec": {
   "display_name": "R",
   "language": "R",
   "name": "ir"
  },
  "language_info": {
   "codemirror_mode": "r",
   "file_extension": ".r",
   "mimetype": "text/x-r-source",
   "name": "R",
   "pygments_lexer": "r",
   "version": "3.6.1"
  }
 },
 "nbformat": 4,
 "nbformat_minor": 4
}
