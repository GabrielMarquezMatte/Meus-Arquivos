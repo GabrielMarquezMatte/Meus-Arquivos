{
 "cells": [
  {
   "cell_type": "code",
   "execution_count": 1,
   "metadata": {},
   "outputs": [
    {
     "name": "stderr",
     "output_type": "stream",
     "text": [
      "Warning message:\n",
      "\"package 'quantmod' was built under R version 3.6.3\"Loading required package: xts\n",
      "Warning message:\n",
      "\"package 'xts' was built under R version 3.6.3\"Loading required package: zoo\n",
      "Warning message:\n",
      "\"package 'zoo' was built under R version 3.6.3\"\n",
      "Attaching package: 'zoo'\n",
      "\n",
      "The following objects are masked from 'package:base':\n",
      "\n",
      "    as.Date, as.Date.numeric\n",
      "\n",
      "Loading required package: TTR\n",
      "Warning message:\n",
      "\"package 'TTR' was built under R version 3.6.3\"Registered S3 method overwritten by 'quantmod':\n",
      "  method            from\n",
      "  as.zoo.data.frame zoo \n",
      "Version 0.4-0 included new data defaults. See ?getSymbols.\n",
      "Warning message:\n",
      "\"package 'ggplot2' was built under R version 3.6.3\"'getSymbols' currently uses auto.assign=TRUE by default, but will\n",
      "use auto.assign=FALSE in 0.5-0. You will still be able to use\n",
      "'loadSymbols' to automatically load data. getOption(\"getSymbols.env\")\n",
      "and getOption(\"getSymbols.auto.assign\") will still be checked for\n",
      "alternate defaults.\n",
      "\n",
      "This message is shown once per session and may be disabled by setting \n",
      "options(\"getSymbols.warning4.0\"=FALSE). See ?getSymbols for details.\n",
      "\n",
      "Warning message:\n",
      "\"PETR4.SA contains missing values. Some functions will not work if objects contain missing values in the middle of the series. Consider using na.omit(), na.approx(), na.fill(), etc to remove or replace them.\"Warning message:\n",
      "\"Removed 41 rows containing non-finite values (stat_bin).\"Warning message:\n",
      "\"Removed 41 rows containing non-finite values (stat_density).\"Warning message:\n",
      "\"Removed 20 rows containing missing values (geom_bar).\""
     ]
    },
    {
     "data": {
      "image/png": "[encoded data removed]",
      "text/plain": [
       "plot without title"
      ]
     },
     "metadata": {},
     "output_type": "display_data"
    }
   ],
   "source": [
    "library(quantmod)\n",
    "library(ggplot2)\n",
    "petr <- getSymbols(\"PETR4.SA\", src = \"yahoo\", from = \"1998-02-01\", to = \"2020-06-12\",\n",
    "                   auto.assign = T)\n",
    "petr <- na.omit(PETR4.SA)\n",
    "var <- (diff(petr$PETR4.SA.Close,1)/petr$PETR4.SA.Close[2:5027])*100\n",
    "var <- data.frame(VAR = var)\n",
    "ggplot(var,aes(`PETR4.SA.Close`, after_stat(density)))+\n",
    "  geom_histogram(binwidth = 1, fill = \"blue\",\n",
    "                 colour = \"black\", breaks = c(-20:20))+\n",
    "  labs(x = \"Variação Diária %\", y = \"Densidade\", title = \"Variação diária PETR4\",\n",
    "        caption = \"Fonte:Yahoo Finance\",\n",
    "       subtitle = paste(\"Média =\",round(mean(var$PETR4.SA.Close),3),\"%\"))+\n",
    "  geom_vline(xintercept = mean(var$PETR4.SA.Close), colour = \"red\")+\n",
    "  geom_density()+\n",
    "  xlim(c(-10,10))"
   ]
  },
  {
   "cell_type": "code",
   "execution_count": 3,
   "metadata": {},
   "outputs": [
    {
     "name": "stdout",
     "output_type": "stream",
     "text": [
      "[1] 2.77342\n"
     ]
    }
   ],
   "source": [
    "sd <- sd(var$PETR4.SA.Close)\n",
    "print(sd)"
   ]
  }
 ],
 "metadata": {
  "kernelspec": {
   "display_name": "R",
   "language": "R",
   "name": "ir"
  },
  "language_info": {
   "codemirror_mode": "r",
   "file_extension": ".r",
   "mimetype": "text/x-r-source",
   "name": "R",
   "pygments_lexer": "r",
   "version": "3.6.1"
  }
 },
 "nbformat": 4,
 "nbformat_minor": 4
}
