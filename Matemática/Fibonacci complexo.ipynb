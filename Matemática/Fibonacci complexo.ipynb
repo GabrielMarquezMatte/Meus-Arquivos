{
 "cells": [
  {
   "cell_type": "code",
   "execution_count": 1,
   "metadata": {},
   "outputs": [],
   "source": [
    "suppressPackageStartupMessages(library(tidyverse))"
   ]
  },
  {
   "cell_type": "code",
   "execution_count": 28,
   "metadata": {},
   "outputs": [],
   "source": [
    "fibonacci_complex <- function(n_lim = 5, n_iter = 10000, n_real = 11){\n",
    "  phi <- (1+sqrt(5))/2\n",
    "  num <- seq(0,n_lim,l = n_iter)\n",
    "  fib <- (phi^num-((-1+0i)/phi)^num)/sqrt(5)\n",
    "  real <- Re(fib)\n",
    "  imag <- Im(fib)\n",
    "  f <- numeric(n_real)\n",
    "  f[1] <- 0\n",
    "  f[2] <- 1\n",
    "  if(any(num < 0)){\n",
    "    for(i in 3:length(f)){\n",
    "      f[i] <- f[i-1]+f[i-2]\n",
    "    }\n",
    "    for(i in 1:length(f)){\n",
    "      f[i] <- f[i]*(-1)^i\n",
    "    }\n",
    "  }else{\n",
    "    for(i in 3:length(f)){\n",
    "      f[i] <- f[i-1]+f[i-2]\n",
    "    }\n",
    "  }\n",
    "  data <- data.frame(Imag = imag, Real = real)\n",
    "  lista <- list(fib_comp = data, fib = f)\n",
    "  return(lista)\n",
    "}"
   ]
  },
  {
   "cell_type": "code",
   "execution_count": 53,
   "metadata": {},
   "outputs": [],
   "source": [
    "n_lim <- -10\n",
    "n_iter <- 10000\n",
    "n_real <- 20\n",
    "fib <- fibonacci_complex(n_lim = n_lim, n_iter = n_iter, n_real = n_real)\n",
    "f <- fib$fib"
   ]
  },
  {
   "cell_type": "code",
   "execution_count": 54,
   "metadata": {},
   "outputs": [
    {
     "name": "stderr",
     "output_type": "stream",
     "text": [
      "Warning message:\n",
      "\"Removed 9 rows containing missing values (geom_vline).\"\n",
      "Warning message:\n",
      "\"Removed 9 rows containing missing values (geom_point).\"\n"
     ]
    },
    {
     "data": {
      "image/png": "[encoded data removed]",
      "text/plain": [
       "plot without title"
      ]
     },
     "metadata": {
      "image/png": {
       "height": 420,
       "width": 420
      }
     },
     "output_type": "display_data"
    }
   ],
   "source": [
    "data <- fib$fib_comp\n",
    "expressao <- expression(frac(phi^n-(frac(-1,phi))^n,sqrt(5)))\n",
    "if(n_lim < 0){\n",
    "  expre1 <- expression(n <= 0)\n",
    "}else{\n",
    "  expre1 <- expression(n >= 0)\n",
    "}\n",
    "fibo <- data.frame(f, z = 0)\n",
    "ggplot()+\n",
    "  geom_path(aes(x = Real, y = Imag),data = data)+\n",
    "  geom_hline(yintercept = 0, lty = 2)+\n",
    "  geom_vline(xintercept = f, lty = 2)+\n",
    "  geom_point(aes(x = f, y = z), col = \"red\", data = fibo)+\n",
    "  xlim(min(data$Real), max(data$Real))+\n",
    "  labs(x = \"Real\", y = \"Imaginário\", caption = expre1)+\n",
    "  ggtitle(\"Sequência de Fibonacci Complexa\", subtitle = expressao)+\n",
    "  scale_y_continuous(limits = c(min(data$Imag), max(data$Imag)))"
   ]
  },
  {
   "cell_type": "code",
   "execution_count": null,
   "metadata": {},
   "outputs": [],
   "source": []
  }
 ],
 "metadata": {
  "kernelspec": {
   "display_name": "R",
   "language": "R",
   "name": "ir"
  },
  "language_info": {
   "codemirror_mode": "r",
   "file_extension": ".r",
   "mimetype": "text/x-r-source",
   "name": "R",
   "pygments_lexer": "r",
   "version": "4.0.2"
  }
 },
 "nbformat": 4,
 "nbformat_minor": 4
}
