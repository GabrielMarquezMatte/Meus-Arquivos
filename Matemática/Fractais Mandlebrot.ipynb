{
 "cells": [
  {
   "cell_type": "code",
   "execution_count": 5,
   "metadata": {},
   "outputs": [],
   "source": [
    "options(max.print = 10)"
   ]
  },
  {
   "cell_type": "code",
   "execution_count": 7,
   "metadata": {},
   "outputs": [],
   "source": [
    "mandelbrot_naive <- function(xmin=-2, xmax=2, nx=500,\n",
    "                             ymin=-1.5, ymax=1.5, ny=500,\n",
    "                             n=100, showplot=TRUE,\n",
    "                             cols=colorRampPalette(c(\"blue\",\"yellow\",\n",
    "                                                     \"red\",\"black\"))(11)){\n",
    "  \n",
    "  # variables\n",
    "  x <- seq(xmin, xmax, length.out=nx)\n",
    "  y <- seq(ymin, ymax, length.out=ny)\n",
    "  c <- outer(x,y*1i,FUN=\"+\")\n",
    "  z <- matrix(0.0, nrow=length(x), ncol=length(y))\n",
    "  k <- matrix(0.0, nrow=length(x), ncol=length(y))\n",
    "  \n",
    "  for (rep in 1:n) { \n",
    "    for (i in 1:nx) { \n",
    "      for (j in 1:ny) { \n",
    "        if(Mod(z[i,j]) < 2) {\n",
    "          z[i,j] <- z[i,j]^2 + c[i,j]\n",
    "          k[i,j] <- k[i,j] + 1\n",
    "        }\n",
    "      }\n",
    "    }\n",
    "  }\n",
    "  \n",
    "  if (showplot==TRUE){\n",
    "    image(x,y,k,col=cols,xlab=\"Re(c)\",ylab=\"Im(c)\")\n",
    "  }else{\n",
    "    return(k)\n",
    "    }\n",
    "}"
   ]
  },
  {
   "cell_type": "code",
   "execution_count": 8,
   "metadata": {},
   "outputs": [],
   "source": [
    "mandelbrot_vectorized <- function(xmin=-2, xmax=2, nx=500,\n",
    "                                  ymin=-1.5, ymax=1.5, ny=500,\n",
    "                                  n=100, showplot=TRUE,\n",
    "                                  cols=colorRampPalette(c(\"blue\",\"yellow\",\n",
    "                                                          \"red\",\"black\"))(11)){\n",
    "  \n",
    "  # variables\n",
    "  x <- seq(xmin, xmax, length.out=nx)\n",
    "  y <- seq(ymin, ymax, length.out=ny)\n",
    "  c <- outer(x,y*1i,FUN=\"+\")\n",
    "  z <- matrix(0.0, nrow=length(x), ncol=length(y))\n",
    "  k <- matrix(0.0, nrow=length(x), ncol=length(y))\n",
    "  \n",
    "  for (rep in 1:n){ \n",
    "    index <- which(Mod(z) < 2)\n",
    "    z[index] <- z[index]^2 + c[index]\n",
    "    k[index] <- k[index] + 1\n",
    "  }\n",
    "  if (showplot==TRUE){\n",
    "    image(x,y,k,col=cols, xlab=\"Re(c)\", ylab=\"Im(c)\")\n",
    "  }else{\n",
    "    return(k)\n",
    "    }\n",
    "}"
   ]
  },
  {
   "cell_type": "code",
   "execution_count": 9,
   "metadata": {},
   "outputs": [],
   "source": [
    "compare_runtimes <- function(){\n",
    "  system.time(mandelbrot_naive(showplot=F))\n",
    "  system.time(mandelbrot_vectorized(showplot=F))\n",
    "}"
   ]
  },
  {
   "cell_type": "code",
   "execution_count": 15,
   "metadata": {},
   "outputs": [
    {
     "data": {
      "image/png": "[encoded data removed]",
      "text/plain": [
       "plot without title"
      ]
     },
     "metadata": {
      "image/png": {
       "height": 420,
       "width": 420
      }
     },
     "output_type": "display_data"
    }
   ],
   "source": [
    "mandelbrot_vectorized(n = 300, ny = 800, nx = 800,\n",
    "                      xmin = -1, xmax = 1, ymin = -0.5,\n",
    "                      ymax = 0.5)"
   ]
  },
  {
   "cell_type": "code",
   "execution_count": null,
   "metadata": {},
   "outputs": [],
   "source": []
  }
 ],
 "metadata": {
  "kernelspec": {
   "display_name": "R",
   "language": "R",
   "name": "ir"
  },
  "language_info": {
   "codemirror_mode": "r",
   "file_extension": ".r",
   "mimetype": "text/x-r-source",
   "name": "R",
   "pygments_lexer": "r",
   "version": "4.0.2"
  }
 },
 "nbformat": 4,
 "nbformat_minor": 4
}
