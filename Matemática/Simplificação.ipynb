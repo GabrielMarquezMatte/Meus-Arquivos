{
 "cells": [
  {
   "cell_type": "code",
   "execution_count": 2,
   "metadata": {},
   "outputs": [],
   "source": [
    "#Coeficiente de variação\n",
    "cv <- function(x){\n",
    "  coef <- (sd(x)/mean(x))*100\n",
    "  return(coef)\n",
    "}"
   ]
  },
  {
   "cell_type": "code",
   "execution_count": 3,
   "metadata": {},
   "outputs": [],
   "source": [
    "#Simplificando raízes\n",
    "simplificar <- function(x, raiz = 2){\n",
    "  funcao <- function(x, valor){\n",
    "    if(valor %% x == 0){\n",
    "      TRUE\n",
    "    }else{\n",
    "      F\n",
    "    }\n",
    "  }\n",
    "  é.inteiro <- function(x){\n",
    "    if(x == round(x)){\n",
    "      T\n",
    "    }else{\n",
    "      F\n",
    "    }\n",
    "  }\n",
    "  suppressPackageStartupMessages(require(tidyverse))\n",
    "  é.inteiro <- Vectorize(é.inteiro)\n",
    "  funcao <- Vectorize(funcao)\n",
    "  y <- 1:x\n",
    "  f <- funcao(y,x)\n",
    "  y <- y[f]\n",
    "  y <- y[é.inteiro(y^(1/raiz))]\n",
    "  l <- dplyr::last(y)^(1/raiz)\n",
    "  i <- x/dplyr::last(y)\n",
    "  if(l == 1){\n",
    "    expressao <- bquote(sqrt(.(x),.(raiz))==sqrt(.(x),.(raiz)))\n",
    "    expressao <- as.expression(expressao)\n",
    "    plot(expressao)\n",
    "  }else{\n",
    "    if(i == 1){\n",
    "      expressao <- bquote(sqrt(.(x),.(raiz)) == .(l))\n",
    "      expressao <- as.expression(expressao)\n",
    "      plot(expressao)\n",
    "    }else{\n",
    "      expressao <- bquote(sqrt(.(x),.(raiz)) == .(l)*sqrt(.(i),.(raiz)))\n",
    "      expressao <- as.expression(expressao)\n",
    "      plot(expressao)\n",
    "    }\n",
    "  }\n",
    "}"
   ]
  },
  {
   "cell_type": "code",
   "execution_count": 4,
   "metadata": {},
   "outputs": [
    {
     "ename": "ERROR",
     "evalue": "Error in xy.coords(x, y, xlabel, ylabel, log): invalid first argument\n",
     "output_type": "error",
     "traceback": [
      "Error in xy.coords(x, y, xlabel, ylabel, log): invalid first argument\nTraceback:\n",
      "1. simplificar(8, 2)",
      "2. plot(expressao)   # at line 38 of file <text>",
      "3. plot.default(expressao)",
      "4. xy.coords(x, y, xlabel, ylabel, log)",
      "5. stop(\"invalid first argument\")"
     ]
    }
   ],
   "source": [
    "simplificar(8,2)"
   ]
  },
  {
   "cell_type": "code",
   "execution_count": null,
   "metadata": {},
   "outputs": [],
   "source": []
  }
 ],
 "metadata": {
  "kernelspec": {
   "display_name": "R",
   "language": "R",
   "name": "ir"
  },
  "language_info": {
   "codemirror_mode": "r",
   "file_extension": ".r",
   "mimetype": "text/x-r-source",
   "name": "R",
   "pygments_lexer": "r",
   "version": "4.0.2"
  }
 },
 "nbformat": 4,
 "nbformat_minor": 4
}
